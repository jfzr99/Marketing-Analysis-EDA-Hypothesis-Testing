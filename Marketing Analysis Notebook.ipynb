{
  "nbformat": 4,
  "nbformat_minor": 0,
  "metadata": {
    "colab": {
      "provenance": [],
      "toc_visible": true
    },
    "kernelspec": {
      "name": "python3",
      "display_name": "Python 3"
    },
    "language_info": {
      "name": "python"
    }
  },
  "cells": [
    {
      "cell_type": "code",
      "execution_count": null,
      "metadata": {
        "colab": {
          "base_uri": "https://localhost:8080/"
        },
        "id": "E7Bogo8ZNUXs",
        "outputId": "04ff9468-1331-4ba9-e52f-6911990d40a3"
      },
      "outputs": [
        {
          "output_type": "stream",
          "name": "stdout",
          "text": [
            "Mounted at /content/drive\n"
          ]
        }
      ],
      "source": [
        "from google.colab import drive\n",
        "drive.mount('/content/drive')"
      ]
    },
    {
      "cell_type": "code",
      "source": [
        "import pandas as pd\n",
        "from numpy import isnan\n",
        "import pandas as pd\n",
        "import numpy as np\n",
        "from sklearn.impute import KNNImputer\n",
        "import seaborn as sns\n",
        "import matplotlib.pyplot as plt\n",
        "from sklearn.linear_model import LinearRegression\n",
        "import plotly.graph_objs as go\n",
        "import plotly.express as px\n",
        "from scipy.stats import shapiro\n",
        "from scipy.stats import chi2_contingency\n",
        "from scipy.stats import chi2\n",
        "import scipy.stats as stats\n",
        "from numpy import median\n",
        "from numpy import std\n",
        "from IPython.display import Image\n",
        "import os"
      ],
      "metadata": {
        "id": "Ee-aGGhfOqUR"
      },
      "execution_count": null,
      "outputs": []
    },
    {
      "cell_type": "code",
      "source": [
        "data = pd.read_csv(\"/content/drive/MyDrive/Project/Maketing Campaign/marketing_campaign.csv\", delimiter = \";\")"
      ],
      "metadata": {
        "id": "dMrlwzj9OlmU"
      },
      "execution_count": null,
      "outputs": []
    },
    {
      "cell_type": "markdown",
      "source": [
        "#Data preprocessing"
      ],
      "metadata": {
        "id": "jfXyC3-4O-ah"
      }
    },
    {
      "cell_type": "markdown",
      "source": [
        "## Types of Data and Data Integrity"
      ],
      "metadata": {
        "id": "O8-6jmlAPFN0"
      }
    },
    {
      "cell_type": "code",
      "source": [
        "print(data.info())"
      ],
      "metadata": {
        "colab": {
          "base_uri": "https://localhost:8080/"
        },
        "id": "AhtF_UoQPAdA",
        "outputId": "2ad771d2-452c-4b71-a8aa-7aff4ce2aa60"
      },
      "execution_count": null,
      "outputs": [
        {
          "output_type": "stream",
          "name": "stdout",
          "text": [
            "<class 'pandas.core.frame.DataFrame'>\n",
            "RangeIndex: 2240 entries, 0 to 2239\n",
            "Data columns (total 29 columns):\n",
            " #   Column               Non-Null Count  Dtype  \n",
            "---  ------               --------------  -----  \n",
            " 0   ID                   2240 non-null   int64  \n",
            " 1   Year_Birth           2240 non-null   int64  \n",
            " 2   Education            2240 non-null   object \n",
            " 3   Marital_Status       2240 non-null   object \n",
            " 4   Income               2216 non-null   float64\n",
            " 5   Kidhome              2240 non-null   int64  \n",
            " 6   Teenhome             2240 non-null   int64  \n",
            " 7   Dt_Customer          2240 non-null   object \n",
            " 8   Recency              2240 non-null   int64  \n",
            " 9   MntWines             2240 non-null   int64  \n",
            " 10  MntFruits            2240 non-null   int64  \n",
            " 11  MntMeatProducts      2240 non-null   int64  \n",
            " 12  MntFishProducts      2240 non-null   int64  \n",
            " 13  MntSweetProducts     2240 non-null   int64  \n",
            " 14  MntGoldProds         2240 non-null   int64  \n",
            " 15  NumDealsPurchases    2240 non-null   int64  \n",
            " 16  NumWebPurchases      2240 non-null   int64  \n",
            " 17  NumCatalogPurchases  2240 non-null   int64  \n",
            " 18  NumStorePurchases    2240 non-null   int64  \n",
            " 19  NumWebVisitsMonth    2240 non-null   int64  \n",
            " 20  AcceptedCmp3         2240 non-null   int64  \n",
            " 21  AcceptedCmp4         2240 non-null   int64  \n",
            " 22  AcceptedCmp5         2240 non-null   int64  \n",
            " 23  AcceptedCmp1         2240 non-null   int64  \n",
            " 24  AcceptedCmp2         2240 non-null   int64  \n",
            " 25  Complain             2240 non-null   int64  \n",
            " 26  Z_CostContact        2240 non-null   int64  \n",
            " 27  Z_Revenue            2240 non-null   int64  \n",
            " 28  Response             2240 non-null   int64  \n",
            "dtypes: float64(1), int64(25), object(3)\n",
            "memory usage: 507.6+ KB\n",
            "None\n"
          ]
        }
      ]
    },
    {
      "cell_type": "markdown",
      "source": [
        "We can inform from this data :\n",
        "1. Have 3 categorical variables and 26 numerical variables\n",
        "2. The income has missing values"
      ],
      "metadata": {
        "id": "5e_bVAyPQfh2"
      }
    },
    {
      "cell_type": "markdown",
      "source": [
        "## Feature Engineering"
      ],
      "metadata": {
        "id": "ixSiV94kRCLt"
      }
    },
    {
      "cell_type": "markdown",
      "source": [
        "We can select few columns/variables that are relevant and useful for this analysis purpose.\n",
        "*   Variable **Age** will be created from Current year (2024) substracted **Year_Birth**\n",
        "*   Variable **Spending** total the amount of spending from 6 product categories\n",
        "* Variable **Marital_Situation** for categorizing in binary term either someone is in relationship or alone\n",
        "* Variable **Has_Child** a binary category to differ the group between individual who has 1 or more child or not have child at all\n",
        "* Variable **Educational_years** as the total number of years of education the individual achieved according to its diploma\n",
        "\n",
        "We will also use Variable Income and remove the rest.\n",
        "\n",
        "\n",
        "\n"
      ],
      "metadata": {
        "id": "I6MViRl9RHjb"
      }
    },
    {
      "cell_type": "code",
      "source": [
        "data[\"Marital_Status\"].unique().tolist()"
      ],
      "metadata": {
        "colab": {
          "base_uri": "https://localhost:8080/"
        },
        "id": "yZkVdHaFToFd",
        "outputId": "371a3d83-0afa-408a-87a5-ebb8d9bfb138"
      },
      "execution_count": null,
      "outputs": [
        {
          "output_type": "execute_result",
          "data": {
            "text/plain": [
              "['Single',\n",
              " 'Together',\n",
              " 'Married',\n",
              " 'Divorced',\n",
              " 'Widow',\n",
              " 'Alone',\n",
              " 'Absurd',\n",
              " 'YOLO']"
            ]
          },
          "metadata": {},
          "execution_count": 8
        }
      ]
    },
    {
      "cell_type": "code",
      "source": [
        "data[\"Kidhome\"].unique().tolist()"
      ],
      "metadata": {
        "colab": {
          "base_uri": "https://localhost:8080/"
        },
        "id": "IRWjndtqUyOT",
        "outputId": "8732aa4d-ad06-4312-fd1f-9f16263d3b3d"
      },
      "execution_count": null,
      "outputs": [
        {
          "output_type": "execute_result",
          "data": {
            "text/plain": [
              "[0, 1, 2]"
            ]
          },
          "metadata": {},
          "execution_count": 9
        }
      ]
    },
    {
      "cell_type": "code",
      "source": [
        "data[\"Dt_Customer\"].max()"
      ],
      "metadata": {
        "colab": {
          "base_uri": "https://localhost:8080/",
          "height": 35
        },
        "id": "3IGn-5aktSlA",
        "outputId": "b17d20d8-80f8-4dca-debc-c013ec4b7854"
      },
      "execution_count": null,
      "outputs": [
        {
          "output_type": "execute_result",
          "data": {
            "text/plain": [
              "'2014-06-29'"
            ],
            "application/vnd.google.colaboratory.intrinsic+json": {
              "type": "string"
            }
          },
          "metadata": {},
          "execution_count": 10
        }
      ]
    },
    {
      "cell_type": "markdown",
      "source": [
        "Since the latest date from this dataset is 2014, we gonna use 2014 as point current year for this marketing analysis"
      ],
      "metadata": {
        "id": "JhZh1I_Ytiu3"
      }
    },
    {
      "cell_type": "code",
      "source": [
        "data[\"Age\"] = 2014 - data[\"Year_Birth\"]\n",
        "data[\"Spending\"] = data['MntWines']+data['MntFruits']+data['MntMeatProducts']+data['MntFishProducts']+data['MntSweetProducts']+data['MntGoldProds']\n",
        "data[\"Marital_Situation\"] = data[\"Marital_Status\"].replace(\n",
        "  {'Single': 'Alone',\n",
        " 'Together' : 'In relationship',\n",
        " 'Married' :'In relationship',\n",
        " 'Divorced':'Alone',\n",
        " 'Widow':'Alone',\n",
        " 'Alone':'Alone',\n",
        " 'Absurd':'Alone',\n",
        " 'YOLO':'Alone'})\n",
        "data[\"Has_child\"] = np.where(data.Kidhome+data.Teenhome>0, 'Yes', 'No')\n",
        "data[\"Educational_years\"] = data['Education'].replace({'Basic':5,'2n Cycle':8,'Graduation':12,'Master':18,'PhD':21})\n",
        "data=data[['Age','Income','Spending','Marital_Situation','Has_child','Education','Educational_years']]"
      ],
      "metadata": {
        "id": "FaeyCOhGSzu2"
      },
      "execution_count": null,
      "outputs": []
    },
    {
      "cell_type": "markdown",
      "source": [
        "##Statistical Summary"
      ],
      "metadata": {
        "id": "nvGu1YxNWLKV"
      }
    },
    {
      "cell_type": "code",
      "source": [
        "pd.options.display.float_format = \"{:.2f}\".format\n",
        "data.describe()"
      ],
      "metadata": {
        "colab": {
          "base_uri": "https://localhost:8080/",
          "height": 300
        },
        "id": "ChQAWrjPRZW9",
        "outputId": "a35ad512-2573-4f5e-ea6f-200ad8b7f065"
      },
      "execution_count": null,
      "outputs": [
        {
          "output_type": "execute_result",
          "data": {
            "text/plain": [
              "          Age    Income  Spending  Educational_years\n",
              "count 2240.00   2216.00   2240.00            2240.00\n",
              "mean    45.19  52247.25    605.80              14.41\n",
              "std     11.98  25173.08    602.25               4.51\n",
              "min     18.00   1730.00      5.00               5.00\n",
              "25%     37.00  35303.00     68.75              12.00\n",
              "50%     44.00  51381.50    396.00              12.00\n",
              "75%     55.00  68522.00   1045.50              18.00\n",
              "max    121.00 666666.00   2525.00              21.00"
            ],
            "text/html": [
              "\n",
              "  <div id=\"df-b5753c76-bc8f-4e4e-b3fd-5c8da9f6099c\" class=\"colab-df-container\">\n",
              "    <div>\n",
              "<style scoped>\n",
              "    .dataframe tbody tr th:only-of-type {\n",
              "        vertical-align: middle;\n",
              "    }\n",
              "\n",
              "    .dataframe tbody tr th {\n",
              "        vertical-align: top;\n",
              "    }\n",
              "\n",
              "    .dataframe thead th {\n",
              "        text-align: right;\n",
              "    }\n",
              "</style>\n",
              "<table border=\"1\" class=\"dataframe\">\n",
              "  <thead>\n",
              "    <tr style=\"text-align: right;\">\n",
              "      <th></th>\n",
              "      <th>Age</th>\n",
              "      <th>Income</th>\n",
              "      <th>Spending</th>\n",
              "      <th>Educational_years</th>\n",
              "    </tr>\n",
              "  </thead>\n",
              "  <tbody>\n",
              "    <tr>\n",
              "      <th>count</th>\n",
              "      <td>2240.00</td>\n",
              "      <td>2216.00</td>\n",
              "      <td>2240.00</td>\n",
              "      <td>2240.00</td>\n",
              "    </tr>\n",
              "    <tr>\n",
              "      <th>mean</th>\n",
              "      <td>45.19</td>\n",
              "      <td>52247.25</td>\n",
              "      <td>605.80</td>\n",
              "      <td>14.41</td>\n",
              "    </tr>\n",
              "    <tr>\n",
              "      <th>std</th>\n",
              "      <td>11.98</td>\n",
              "      <td>25173.08</td>\n",
              "      <td>602.25</td>\n",
              "      <td>4.51</td>\n",
              "    </tr>\n",
              "    <tr>\n",
              "      <th>min</th>\n",
              "      <td>18.00</td>\n",
              "      <td>1730.00</td>\n",
              "      <td>5.00</td>\n",
              "      <td>5.00</td>\n",
              "    </tr>\n",
              "    <tr>\n",
              "      <th>25%</th>\n",
              "      <td>37.00</td>\n",
              "      <td>35303.00</td>\n",
              "      <td>68.75</td>\n",
              "      <td>12.00</td>\n",
              "    </tr>\n",
              "    <tr>\n",
              "      <th>50%</th>\n",
              "      <td>44.00</td>\n",
              "      <td>51381.50</td>\n",
              "      <td>396.00</td>\n",
              "      <td>12.00</td>\n",
              "    </tr>\n",
              "    <tr>\n",
              "      <th>75%</th>\n",
              "      <td>55.00</td>\n",
              "      <td>68522.00</td>\n",
              "      <td>1045.50</td>\n",
              "      <td>18.00</td>\n",
              "    </tr>\n",
              "    <tr>\n",
              "      <th>max</th>\n",
              "      <td>121.00</td>\n",
              "      <td>666666.00</td>\n",
              "      <td>2525.00</td>\n",
              "      <td>21.00</td>\n",
              "    </tr>\n",
              "  </tbody>\n",
              "</table>\n",
              "</div>\n",
              "    <div class=\"colab-df-buttons\">\n",
              "\n",
              "  <div class=\"colab-df-container\">\n",
              "    <button class=\"colab-df-convert\" onclick=\"convertToInteractive('df-b5753c76-bc8f-4e4e-b3fd-5c8da9f6099c')\"\n",
              "            title=\"Convert this dataframe to an interactive table.\"\n",
              "            style=\"display:none;\">\n",
              "\n",
              "  <svg xmlns=\"http://www.w3.org/2000/svg\" height=\"24px\" viewBox=\"0 -960 960 960\">\n",
              "    <path d=\"M120-120v-720h720v720H120Zm60-500h600v-160H180v160Zm220 220h160v-160H400v160Zm0 220h160v-160H400v160ZM180-400h160v-160H180v160Zm440 0h160v-160H620v160ZM180-180h160v-160H180v160Zm440 0h160v-160H620v160Z\"/>\n",
              "  </svg>\n",
              "    </button>\n",
              "\n",
              "  <style>\n",
              "    .colab-df-container {\n",
              "      display:flex;\n",
              "      gap: 12px;\n",
              "    }\n",
              "\n",
              "    .colab-df-convert {\n",
              "      background-color: #E8F0FE;\n",
              "      border: none;\n",
              "      border-radius: 50%;\n",
              "      cursor: pointer;\n",
              "      display: none;\n",
              "      fill: #1967D2;\n",
              "      height: 32px;\n",
              "      padding: 0 0 0 0;\n",
              "      width: 32px;\n",
              "    }\n",
              "\n",
              "    .colab-df-convert:hover {\n",
              "      background-color: #E2EBFA;\n",
              "      box-shadow: 0px 1px 2px rgba(60, 64, 67, 0.3), 0px 1px 3px 1px rgba(60, 64, 67, 0.15);\n",
              "      fill: #174EA6;\n",
              "    }\n",
              "\n",
              "    .colab-df-buttons div {\n",
              "      margin-bottom: 4px;\n",
              "    }\n",
              "\n",
              "    [theme=dark] .colab-df-convert {\n",
              "      background-color: #3B4455;\n",
              "      fill: #D2E3FC;\n",
              "    }\n",
              "\n",
              "    [theme=dark] .colab-df-convert:hover {\n",
              "      background-color: #434B5C;\n",
              "      box-shadow: 0px 1px 3px 1px rgba(0, 0, 0, 0.15);\n",
              "      filter: drop-shadow(0px 1px 2px rgba(0, 0, 0, 0.3));\n",
              "      fill: #FFFFFF;\n",
              "    }\n",
              "  </style>\n",
              "\n",
              "    <script>\n",
              "      const buttonEl =\n",
              "        document.querySelector('#df-b5753c76-bc8f-4e4e-b3fd-5c8da9f6099c button.colab-df-convert');\n",
              "      buttonEl.style.display =\n",
              "        google.colab.kernel.accessAllowed ? 'block' : 'none';\n",
              "\n",
              "      async function convertToInteractive(key) {\n",
              "        const element = document.querySelector('#df-b5753c76-bc8f-4e4e-b3fd-5c8da9f6099c');\n",
              "        const dataTable =\n",
              "          await google.colab.kernel.invokeFunction('convertToInteractive',\n",
              "                                                    [key], {});\n",
              "        if (!dataTable) return;\n",
              "\n",
              "        const docLinkHtml = 'Like what you see? Visit the ' +\n",
              "          '<a target=\"_blank\" href=https://colab.research.google.com/notebooks/data_table.ipynb>data table notebook</a>'\n",
              "          + ' to learn more about interactive tables.';\n",
              "        element.innerHTML = '';\n",
              "        dataTable['output_type'] = 'display_data';\n",
              "        await google.colab.output.renderOutput(dataTable, element);\n",
              "        const docLink = document.createElement('div');\n",
              "        docLink.innerHTML = docLinkHtml;\n",
              "        element.appendChild(docLink);\n",
              "      }\n",
              "    </script>\n",
              "  </div>\n",
              "\n",
              "\n",
              "<div id=\"df-e7f85036-74e1-492b-af57-2a29fe59d2c7\">\n",
              "  <button class=\"colab-df-quickchart\" onclick=\"quickchart('df-e7f85036-74e1-492b-af57-2a29fe59d2c7')\"\n",
              "            title=\"Suggest charts\"\n",
              "            style=\"display:none;\">\n",
              "\n",
              "<svg xmlns=\"http://www.w3.org/2000/svg\" height=\"24px\"viewBox=\"0 0 24 24\"\n",
              "     width=\"24px\">\n",
              "    <g>\n",
              "        <path d=\"M19 3H5c-1.1 0-2 .9-2 2v14c0 1.1.9 2 2 2h14c1.1 0 2-.9 2-2V5c0-1.1-.9-2-2-2zM9 17H7v-7h2v7zm4 0h-2V7h2v10zm4 0h-2v-4h2v4z\"/>\n",
              "    </g>\n",
              "</svg>\n",
              "  </button>\n",
              "\n",
              "<style>\n",
              "  .colab-df-quickchart {\n",
              "      --bg-color: #E8F0FE;\n",
              "      --fill-color: #1967D2;\n",
              "      --hover-bg-color: #E2EBFA;\n",
              "      --hover-fill-color: #174EA6;\n",
              "      --disabled-fill-color: #AAA;\n",
              "      --disabled-bg-color: #DDD;\n",
              "  }\n",
              "\n",
              "  [theme=dark] .colab-df-quickchart {\n",
              "      --bg-color: #3B4455;\n",
              "      --fill-color: #D2E3FC;\n",
              "      --hover-bg-color: #434B5C;\n",
              "      --hover-fill-color: #FFFFFF;\n",
              "      --disabled-bg-color: #3B4455;\n",
              "      --disabled-fill-color: #666;\n",
              "  }\n",
              "\n",
              "  .colab-df-quickchart {\n",
              "    background-color: var(--bg-color);\n",
              "    border: none;\n",
              "    border-radius: 50%;\n",
              "    cursor: pointer;\n",
              "    display: none;\n",
              "    fill: var(--fill-color);\n",
              "    height: 32px;\n",
              "    padding: 0;\n",
              "    width: 32px;\n",
              "  }\n",
              "\n",
              "  .colab-df-quickchart:hover {\n",
              "    background-color: var(--hover-bg-color);\n",
              "    box-shadow: 0 1px 2px rgba(60, 64, 67, 0.3), 0 1px 3px 1px rgba(60, 64, 67, 0.15);\n",
              "    fill: var(--button-hover-fill-color);\n",
              "  }\n",
              "\n",
              "  .colab-df-quickchart-complete:disabled,\n",
              "  .colab-df-quickchart-complete:disabled:hover {\n",
              "    background-color: var(--disabled-bg-color);\n",
              "    fill: var(--disabled-fill-color);\n",
              "    box-shadow: none;\n",
              "  }\n",
              "\n",
              "  .colab-df-spinner {\n",
              "    border: 2px solid var(--fill-color);\n",
              "    border-color: transparent;\n",
              "    border-bottom-color: var(--fill-color);\n",
              "    animation:\n",
              "      spin 1s steps(1) infinite;\n",
              "  }\n",
              "\n",
              "  @keyframes spin {\n",
              "    0% {\n",
              "      border-color: transparent;\n",
              "      border-bottom-color: var(--fill-color);\n",
              "      border-left-color: var(--fill-color);\n",
              "    }\n",
              "    20% {\n",
              "      border-color: transparent;\n",
              "      border-left-color: var(--fill-color);\n",
              "      border-top-color: var(--fill-color);\n",
              "    }\n",
              "    30% {\n",
              "      border-color: transparent;\n",
              "      border-left-color: var(--fill-color);\n",
              "      border-top-color: var(--fill-color);\n",
              "      border-right-color: var(--fill-color);\n",
              "    }\n",
              "    40% {\n",
              "      border-color: transparent;\n",
              "      border-right-color: var(--fill-color);\n",
              "      border-top-color: var(--fill-color);\n",
              "    }\n",
              "    60% {\n",
              "      border-color: transparent;\n",
              "      border-right-color: var(--fill-color);\n",
              "    }\n",
              "    80% {\n",
              "      border-color: transparent;\n",
              "      border-right-color: var(--fill-color);\n",
              "      border-bottom-color: var(--fill-color);\n",
              "    }\n",
              "    90% {\n",
              "      border-color: transparent;\n",
              "      border-bottom-color: var(--fill-color);\n",
              "    }\n",
              "  }\n",
              "</style>\n",
              "\n",
              "  <script>\n",
              "    async function quickchart(key) {\n",
              "      const quickchartButtonEl =\n",
              "        document.querySelector('#' + key + ' button');\n",
              "      quickchartButtonEl.disabled = true;  // To prevent multiple clicks.\n",
              "      quickchartButtonEl.classList.add('colab-df-spinner');\n",
              "      try {\n",
              "        const charts = await google.colab.kernel.invokeFunction(\n",
              "            'suggestCharts', [key], {});\n",
              "      } catch (error) {\n",
              "        console.error('Error during call to suggestCharts:', error);\n",
              "      }\n",
              "      quickchartButtonEl.classList.remove('colab-df-spinner');\n",
              "      quickchartButtonEl.classList.add('colab-df-quickchart-complete');\n",
              "    }\n",
              "    (() => {\n",
              "      let quickchartButtonEl =\n",
              "        document.querySelector('#df-e7f85036-74e1-492b-af57-2a29fe59d2c7 button');\n",
              "      quickchartButtonEl.style.display =\n",
              "        google.colab.kernel.accessAllowed ? 'block' : 'none';\n",
              "    })();\n",
              "  </script>\n",
              "</div>\n",
              "\n",
              "    </div>\n",
              "  </div>\n"
            ],
            "application/vnd.google.colaboratory.intrinsic+json": {
              "type": "dataframe",
              "summary": "{\n  \"name\": \"data\",\n  \"rows\": 8,\n  \"fields\": [\n    {\n      \"column\": \"Age\",\n      \"properties\": {\n        \"dtype\": \"number\",\n        \"std\": 775.8928961778608,\n        \"min\": 11.984069456885829,\n        \"max\": 2240.0,\n        \"num_unique_values\": 8,\n        \"samples\": [\n          45.19419642857143,\n          44.0,\n          2240.0\n        ],\n        \"semantic_type\": \"\",\n        \"description\": \"\"\n      }\n    },\n    {\n      \"column\": \"Income\",\n      \"properties\": {\n        \"dtype\": \"number\",\n        \"std\": 225013.17277492964,\n        \"min\": 1730.0,\n        \"max\": 666666.0,\n        \"num_unique_values\": 8,\n        \"samples\": [\n          52247.25135379061,\n          51381.5,\n          2216.0\n        ],\n        \"semantic_type\": \"\",\n        \"description\": \"\"\n      }\n    },\n    {\n      \"column\": \"Spending\",\n      \"properties\": {\n        \"dtype\": \"number\",\n        \"std\": 953.80692554166,\n        \"min\": 5.0,\n        \"max\": 2525.0,\n        \"num_unique_values\": 8,\n        \"samples\": [\n          605.7982142857143,\n          396.0,\n          2240.0\n        ],\n        \"semantic_type\": \"\",\n        \"description\": \"\"\n      }\n    },\n    {\n      \"column\": \"Educational_years\",\n      \"properties\": {\n        \"dtype\": \"number\",\n        \"std\": 787.5899024774421,\n        \"min\": 4.510067642336939,\n        \"max\": 2240.0,\n        \"num_unique_values\": 7,\n        \"samples\": [\n          2240.0,\n          14.4125,\n          18.0\n        ],\n        \"semantic_type\": \"\",\n        \"description\": \"\"\n      }\n    }\n  ]\n}"
            }
          },
          "metadata": {},
          "execution_count": 12
        }
      ]
    },
    {
      "cell_type": "markdown",
      "source": [
        "* The average age of the customers is approximately 45\n",
        "years, with the youngest being 18 years old and the oldest reaching an exceptionally rare age of 121 years.\n",
        "\n",
        "* The average income is 52K, with a median income of 51K, indicating a distribution that may be right-skewed. This is further supported by the fact that the maximum income is as high as 666K while the 75th percentile is at 68K.\n",
        "\n",
        "* Average spending over the last two years is 606, with a median spending amount of 396. The spending data is also right-skewed, as the maximum spending amount is 2K, significantly higher than the 75th percentile of 1,045.5.\n",
        "\n",
        "* The average number of years of education among the customers is 14.4 years, corresponding to a Bachelor's degree. The range of educational years varies from 5 years (below high school level) to a maximum of 21 years (likely indicating advanced degrees)."
      ],
      "metadata": {
        "id": "xe0Ai5haWjdR"
      }
    },
    {
      "cell_type": "code",
      "source": [
        "df = pd.DataFrame(data=data, columns=['Age','Income','Spending','Educational_years'])\n",
        "nd = pd.melt(df, value_vars =df )\n",
        "n1 = sns.FacetGrid (nd, col='variable', col_wrap=4, sharex=False, sharey = False)\n",
        "n1 = n1.map(sns.distplot, 'value')\n",
        "n1"
      ],
      "metadata": {
        "colab": {
          "base_uri": "https://localhost:8080/",
          "height": 1000
        },
        "id": "JJQMVO7-REcZ",
        "outputId": "36ccb28a-dba7-452d-aaf7-7ba9e8e45a88"
      },
      "execution_count": null,
      "outputs": [
        {
          "output_type": "stream",
          "name": "stderr",
          "text": [
            "/usr/local/lib/python3.10/dist-packages/seaborn/axisgrid.py:854: UserWarning: \n",
            "\n",
            "`distplot` is a deprecated function and will be removed in seaborn v0.14.0.\n",
            "\n",
            "Please adapt your code to use either `displot` (a figure-level function with\n",
            "similar flexibility) or `histplot` (an axes-level function for histograms).\n",
            "\n",
            "For a guide to updating your code to use the new functions, please see\n",
            "https://gist.github.com/mwaskom/de44147ed2974457ad6372750bbe5751\n",
            "\n",
            "  func(*plot_args, **plot_kwargs)\n",
            "/usr/local/lib/python3.10/dist-packages/seaborn/axisgrid.py:854: UserWarning: \n",
            "\n",
            "`distplot` is a deprecated function and will be removed in seaborn v0.14.0.\n",
            "\n",
            "Please adapt your code to use either `displot` (a figure-level function with\n",
            "similar flexibility) or `histplot` (an axes-level function for histograms).\n",
            "\n",
            "For a guide to updating your code to use the new functions, please see\n",
            "https://gist.github.com/mwaskom/de44147ed2974457ad6372750bbe5751\n",
            "\n",
            "  func(*plot_args, **plot_kwargs)\n",
            "/usr/local/lib/python3.10/dist-packages/seaborn/axisgrid.py:854: UserWarning: \n",
            "\n",
            "`distplot` is a deprecated function and will be removed in seaborn v0.14.0.\n",
            "\n",
            "Please adapt your code to use either `displot` (a figure-level function with\n",
            "similar flexibility) or `histplot` (an axes-level function for histograms).\n",
            "\n",
            "For a guide to updating your code to use the new functions, please see\n",
            "https://gist.github.com/mwaskom/de44147ed2974457ad6372750bbe5751\n",
            "\n",
            "  func(*plot_args, **plot_kwargs)\n",
            "/usr/local/lib/python3.10/dist-packages/seaborn/axisgrid.py:854: UserWarning: \n",
            "\n",
            "`distplot` is a deprecated function and will be removed in seaborn v0.14.0.\n",
            "\n",
            "Please adapt your code to use either `displot` (a figure-level function with\n",
            "similar flexibility) or `histplot` (an axes-level function for histograms).\n",
            "\n",
            "For a guide to updating your code to use the new functions, please see\n",
            "https://gist.github.com/mwaskom/de44147ed2974457ad6372750bbe5751\n",
            "\n",
            "  func(*plot_args, **plot_kwargs)\n"
          ]
        },
        {
          "output_type": "execute_result",
          "data": {
            "text/plain": [
              "<seaborn.axisgrid.FacetGrid at 0x7c05c861fc40>"
            ]
          },
          "metadata": {},
          "execution_count": 13
        },
        {
          "output_type": "display_data",
          "data": {
            "text/plain": [
              "<Figure size 1200x300 with 4 Axes>"
            ],
            "image/png": "[encoded data removed]"
          },
          "metadata": {}
        }
      ]
    },
    {
      "cell_type": "markdown",
      "source": [
        "## Handling Outliers"
      ],
      "metadata": {
        "id": "pFKsFg7zpAS6"
      }
    },
    {
      "cell_type": "markdown",
      "source": [
        "Identified the outliers using IQR (Q3-Q1)\n",
        "\n",
        "*   Value that 1.5 times greater/lower than the IQR we categorized it as Mild Outlier\n",
        "*   Else, value that 3 timers greater/lower than the IQR, we categorized it as Extreme Outlier (which result to be removed later)\n",
        "\n"
      ],
      "metadata": {
        "id": "w94XYGMdpGdF"
      }
    },
    {
      "cell_type": "code",
      "source": [
        "fig = px.box(df.melt(), y=\"value\", facet_col=\"variable\",facet_col_wrap=2, boxmode=\"overlay\", color=\"variable\",height=1000, width=900)\n",
        "fig.update_yaxes(matches=None)\n",
        "\n",
        "for i in range(len(fig[\"data\"])):\n",
        "    yaxis_name = 'yaxis' if i == 0 else f'yaxis{i + 1}'\n",
        "    fig.layout[yaxis_name].showticklabels = True\n",
        "\n",
        "fig.update_layout(showlegend=False)\n",
        "fig.update_xaxes(showline=True, linewidth=2, linecolor='grey')\n",
        "fig.update_yaxes(showline=True, linewidth=2, linecolor='grey')\n",
        "\n",
        "fig.show()"
      ],
      "metadata": {
        "colab": {
          "base_uri": "https://localhost:8080/",
          "height": 1000
        },
        "id": "anjkyC2GZ_Wx",
        "outputId": "e93d9705-1d5b-4547-b64a-d2885f90de41"
      },
      "execution_count": null,
      "outputs": [
        {
          "output_type": "display_data",
          "data": {
            "text/html": [
              "<html>\n",
              "<head><meta charset=\"utf-8\" /></head>\n",
              "<body>\n",
              "    <div>            <script src=\"https://cdnjs.cloudflare.com/ajax/libs/mathjax/2.7.5/MathJax.js?config=TeX-AMS-MML_SVG\"></script><script type=\"text/javascript\">if (window.MathJax && window.MathJax.Hub && window.MathJax.Hub.Config) {window.MathJax.Hub.Config({SVG: {font: \"STIX-Web\"}});}</script>                <script type=\"text/javascript\">window.PlotlyConfig = {MathJaxConfig: 'local'};</script>\n",
              "        <script charset=\"utf-8\" src=\"https://cdn.plot.ly/plotly-2.24.1.min.js\"></script>                <div id=\"87a0ecfc-08f2-47af-a3b0-c6c5f7747567\" class=\"plotly-graph-div\" style=\"height:1000px; width:900px;\"></div>            <script type=\"text/javascript\">                                    window.PLOTLYENV=window.PLOTLYENV || {};                                    if (document.getElementById(\"87a0ecfc-08f2-47af-a3b0-c6c5f7747567\")) {                    Plotly.newPlot(                        \"87a0ecfc-08f2-47af-a3b0-c6c5f7747567\",                        [{\"alignmentgroup\":\"True\",\"hovertemplate\":\"variable=Age\\u003cbr\\u003evalue=%{y}\\u003cextra\\u003e\\u003c\\u002fextra\\u003e\",\"legendgroup\":\"Age\",\"marker\":{\"color\":\"#636efa\"},\"name\":\"Age\",\"notched\":false,\"offsetgroup\":\"Age\",\"orientation\":\"v\",\"showlegend\":true,\"x0\":\" \",\"xaxis\":\"x3\",\"y\":[57.0,60.0,49.0,30.0,33.0,47.0,43.0,29.0,40.0,64.0,31.0,38.0,55.0,62.0,27.0,68.0,34.0,68.0,65.0,29.0,32.0,35.0,65.0,60.0,63.0,45.0,38.0,28.0,25.0,49.0,25.0,51.0,44.0,62.0,68.0,63.0,44.0,38.0,41.0,71.0,34.0,29.0,57.0,55.0,39.0,38.0,18.0,46.0,63.0,60.0,57.0,50.0,37.0,37.0,36.0,59.0,48.0,26.0,32.0,46.0,32.0,39.0,62.0,63.0,66.0,43.0,47.0,35.0,56.0,44.0,60.0,41.0,55.0,39.0,62.0,37.0,42.0,38.0,38.0,49.0,29.0,45.0,41.0,51.0,27.0,54.0,44.0,57.0,41.0,47.0,57.0,57.0,41.0,42.0,44.0,31.0,54.0,42.0,63.0,31.0,54.0,55.0,35.0,69.0,55.0,35.0,50.0,45.0,36.0,54.0,35.0,23.0,51.0,23.0,34.0,52.0,44.0,36.0,47.0,45.0,61.0,47.0,29.0,38.0,31.0,49.0,30.0,61.0,53.0,58.0,62.0,56.0,45.0,51.0,50.0,47.0,38.0,55.0,41.0,49.0,22.0,38.0,52.0,40.0,26.0,38.0,39.0,33.0,41.0,48.0,61.0,45.0,42.0,26.0,62.0,65.0,56.0,36.0,37.0,59.0,56.0,69.0,30.0,39.0,41.0,48.0,61.0,55.0,26.0,57.0,49.0,32.0,44.0,55.0,47.0,39.0,66.0,44.0,55.0,63.0,38.0,26.0,68.0,30.0,53.0,31.0,44.0,48.0,38.0,50.0,36.0,25.0,114.0,26.0,41.0,37.0,34.0,60.0,60.0,41.0,62.0,46.0,36.0,37.0,49.0,30.0,26.0,51.0,48.0,60.0,58.0,60.0,46.0,40.0,29.0,37.0,36.0,66.0,60.0,34.0,26.0,45.0,44.0,34.0,52.0,36.0,38.0,62.0,42.0,28.0,48.0,52.0,43.0,63.0,49.0,39.0,32.0,56.0,41.0,121.0,46.0,56.0,43.0,24.0,56.0,50.0,42.0,61.0,26.0,45.0,39.0,29.0,40.0,56.0,47.0,40.0,53.0,50.0,50.0,57.0,35.0,46.0,44.0,36.0,62.0,48.0,51.0,44.0,44.0,44.0,61.0,31.0,39.0,54.0,51.0,51.0,58.0,33.0,28.0,46.0,33.0,38.0,68.0,40.0,39.0,40.0,62.0,58.0,48.0,65.0,30.0,45.0,34.0,43.0,49.0,62.0,26.0,28.0,32.0,49.0,56.0,58.0,36.0,26.0,30.0,53.0,48.0,67.0,50.0,22.0,38.0,47.0,25.0,38.0,48.0,58.0,42.0,29.0,63.0,44.0,43.0,40.0,49.0,53.0,61.0,57.0,38.0,30.0,64.0,28.0,31.0,25.0,58.0,43.0,31.0,54.0,46.0,42.0,49.0,115.0,26.0,28.0,45.0,64.0,41.0,62.0,49.0,44.0,43.0,38.0,57.0,28.0,48.0,40.0,38.0,36.0,59.0,45.0,71.0,66.0,57.0,45.0,36.0,36.0,47.0,45.0,54.0,38.0,52.0,39.0,30.0,39.0,44.0,48.0,42.0,39.0,44.0,25.0,53.0,45.0,45.0,29.0,60.0,41.0,33.0,43.0,46.0,54.0,65.0,46.0,35.0,35.0,21.0,68.0,46.0,23.0,43.0,30.0,27.0,34.0,58.0,49.0,40.0,54.0,59.0,49.0,42.0,43.0,40.0,51.0,32.0,38.0,59.0,27.0,52.0,71.0,39.0,20.0,33.0,43.0,41.0,31.0,32.0,40.0,73.0,61.0,28.0,25.0,25.0,46.0,53.0,25.0,47.0,50.0,44.0,58.0,48.0,65.0,43.0,28.0,25.0,66.0,68.0,25.0,40.0,55.0,42.0,50.0,38.0,61.0,59.0,45.0,43.0,34.0,38.0,42.0,48.0,30.0,62.0,32.0,50.0,65.0,56.0,51.0,39.0,45.0,59.0,44.0,63.0,43.0,39.0,34.0,33.0,36.0,26.0,58.0,42.0,37.0,42.0,37.0,41.0,42.0,40.0,39.0,54.0,50.0,38.0,40.0,45.0,62.0,56.0,38.0,59.0,50.0,70.0,52.0,36.0,43.0,65.0,70.0,64.0,53.0,24.0,29.0,58.0,61.0,38.0,25.0,22.0,55.0,33.0,35.0,50.0,55.0,68.0,39.0,53.0,24.0,55.0,70.0,49.0,27.0,23.0,61.0,27.0,28.0,56.0,37.0,50.0,54.0,39.0,45.0,37.0,52.0,32.0,63.0,47.0,47.0,62.0,33.0,37.0,45.0,30.0,32.0,38.0,24.0,50.0,34.0,46.0,41.0,51.0,25.0,43.0,51.0,65.0,62.0,36.0,32.0,44.0,55.0,36.0,34.0,43.0,44.0,51.0,64.0,52.0,63.0,35.0,44.0,40.0,46.0,36.0,44.0,33.0,37.0,46.0,44.0,48.0,58.0,40.0,63.0,47.0,63.0,31.0,43.0,59.0,53.0,59.0,55.0,30.0,39.0,49.0,37.0,42.0,39.0,45.0,45.0,36.0,33.0,53.0,54.0,59.0,66.0,48.0,28.0,41.0,58.0,39.0,49.0,45.0,70.0,41.0,47.0,45.0,40.0,49.0,38.0,36.0,54.0,53.0,43.0,65.0,36.0,59.0,38.0,39.0,54.0,37.0,37.0,44.0,56.0,44.0,54.0,41.0,52.0,62.0,52.0,64.0,43.0,54.0,66.0,55.0,50.0,67.0,43.0,44.0,44.0,37.0,56.0,54.0,29.0,40.0,64.0,59.0,39.0,61.0,56.0,67.0,48.0,51.0,29.0,39.0,34.0,58.0,55.0,40.0,27.0,46.0,43.0,50.0,52.0,44.0,34.0,39.0,40.0,51.0,35.0,29.0,34.0,51.0,47.0,32.0,59.0,47.0,38.0,42.0,32.0,25.0,45.0,54.0,44.0,56.0,62.0,65.0,53.0,19.0,65.0,53.0,54.0,41.0,36.0,36.0,26.0,46.0,28.0,44.0,63.0,66.0,43.0,28.0,49.0,39.0,61.0,32.0,39.0,54.0,36.0,44.0,56.0,49.0,60.0,30.0,49.0,38.0,48.0,59.0,38.0,49.0,23.0,65.0,61.0,36.0,66.0,41.0,65.0,41.0,62.0,25.0,45.0,61.0,58.0,64.0,36.0,50.0,62.0,39.0,19.0,44.0,60.0,42.0,56.0,39.0,45.0,35.0,36.0,42.0,50.0,35.0,55.0,33.0,47.0,26.0,36.0,62.0,59.0,37.0,27.0,49.0,58.0,35.0,63.0,49.0,42.0,57.0,61.0,49.0,56.0,59.0,43.0,40.0,38.0,44.0,42.0,42.0,28.0,54.0,46.0,36.0,38.0,69.0,57.0,64.0,36.0,53.0,52.0,60.0,49.0,41.0,46.0,44.0,58.0,63.0,70.0,56.0,38.0,43.0,57.0,42.0,42.0,33.0,42.0,39.0,59.0,28.0,44.0,38.0,60.0,42.0,36.0,34.0,42.0,53.0,51.0,55.0,55.0,60.0,52.0,56.0,30.0,38.0,22.0,47.0,34.0,47.0,58.0,42.0,34.0,34.0,37.0,64.0,40.0,26.0,33.0,54.0,44.0,23.0,58.0,51.0,34.0,40.0,60.0,57.0,48.0,40.0,35.0,41.0,29.0,48.0,25.0,45.0,45.0,27.0,25.0,39.0,41.0,48.0,28.0,36.0,35.0,31.0,55.0,38.0,33.0,36.0,61.0,43.0,31.0,58.0,36.0,42.0,39.0,39.0,33.0,42.0,44.0,61.0,55.0,52.0,36.0,41.0,49.0,31.0,23.0,71.0,42.0,58.0,56.0,40.0,28.0,56.0,44.0,47.0,41.0,45.0,37.0,53.0,43.0,40.0,28.0,48.0,22.0,51.0,42.0,20.0,60.0,54.0,32.0,60.0,60.0,59.0,21.0,45.0,66.0,28.0,35.0,36.0,32.0,21.0,38.0,40.0,25.0,63.0,25.0,62.0,43.0,43.0,44.0,43.0,39.0,62.0,52.0,31.0,61.0,28.0,27.0,32.0,35.0,37.0,39.0,35.0,38.0,41.0,43.0,38.0,38.0,49.0,62.0,41.0,57.0,47.0,52.0,45.0,39.0,34.0,55.0,41.0,41.0,40.0,34.0,26.0,46.0,26.0,55.0,43.0,52.0,55.0,49.0,62.0,60.0,54.0,49.0,35.0,36.0,64.0,40.0,36.0,45.0,38.0,58.0,60.0,42.0,33.0,25.0,60.0,19.0,36.0,57.0,41.0,58.0,58.0,27.0,33.0,27.0,60.0,60.0,61.0,62.0,46.0,51.0,35.0,38.0,36.0,46.0,43.0,63.0,49.0,45.0,41.0,38.0,41.0,40.0,61.0,48.0,36.0,47.0,36.0,27.0,56.0,50.0,43.0,43.0,45.0,37.0,41.0,34.0,56.0,42.0,43.0,61.0,55.0,60.0,23.0,52.0,28.0,49.0,48.0,54.0,30.0,48.0,49.0,48.0,65.0,44.0,31.0,29.0,40.0,63.0,62.0,27.0,65.0,56.0,27.0,41.0,50.0,53.0,22.0,49.0,58.0,36.0,43.0,48.0,59.0,61.0,56.0,53.0,33.0,38.0,46.0,36.0,49.0,43.0,58.0,32.0,44.0,37.0,44.0,56.0,31.0,56.0,41.0,40.0,55.0,42.0,49.0,35.0,56.0,28.0,32.0,35.0,39.0,35.0,28.0,44.0,42.0,54.0,62.0,44.0,40.0,49.0,60.0,31.0,41.0,54.0,30.0,43.0,31.0,31.0,48.0,36.0,46.0,35.0,41.0,35.0,60.0,52.0,48.0,37.0,29.0,62.0,63.0,47.0,36.0,38.0,29.0,40.0,46.0,52.0,25.0,53.0,61.0,25.0,36.0,52.0,69.0,40.0,33.0,58.0,60.0,28.0,71.0,50.0,35.0,40.0,54.0,51.0,38.0,40.0,53.0,63.0,49.0,58.0,49.0,20.0,40.0,42.0,46.0,46.0,66.0,45.0,18.0,40.0,24.0,57.0,35.0,54.0,62.0,33.0,33.0,23.0,64.0,57.0,53.0,56.0,43.0,29.0,49.0,62.0,52.0,40.0,44.0,45.0,54.0,62.0,45.0,46.0,49.0,45.0,42.0,53.0,37.0,55.0,56.0,35.0,57.0,58.0,49.0,24.0,57.0,49.0,57.0,59.0,42.0,45.0,42.0,39.0,49.0,51.0,23.0,51.0,28.0,41.0,57.0,33.0,56.0,55.0,59.0,28.0,39.0,59.0,43.0,28.0,36.0,31.0,38.0,43.0,58.0,42.0,25.0,62.0,30.0,47.0,52.0,67.0,36.0,43.0,22.0,46.0,41.0,39.0,49.0,62.0,47.0,42.0,51.0,44.0,59.0,39.0,38.0,45.0,41.0,31.0,32.0,54.0,62.0,39.0,51.0,44.0,66.0,56.0,70.0,51.0,42.0,48.0,46.0,43.0,39.0,50.0,36.0,39.0,31.0,43.0,57.0,63.0,63.0,44.0,42.0,45.0,42.0,43.0,58.0,43.0,41.0,37.0,51.0,60.0,36.0,48.0,68.0,36.0,43.0,61.0,29.0,44.0,35.0,48.0,38.0,49.0,32.0,42.0,54.0,58.0,49.0,59.0,25.0,52.0,49.0,41.0,42.0,30.0,54.0,56.0,46.0,37.0,40.0,52.0,32.0,39.0,32.0,69.0,35.0,45.0,52.0,66.0,36.0,39.0,32.0,31.0,62.0,32.0,52.0,37.0,65.0,24.0,32.0,39.0,55.0,31.0,38.0,52.0,58.0,21.0,27.0,49.0,32.0,52.0,36.0,68.0,51.0,43.0,46.0,22.0,40.0,64.0,37.0,56.0,38.0,41.0,46.0,56.0,39.0,54.0,49.0,54.0,45.0,54.0,39.0,29.0,43.0,44.0,59.0,58.0,56.0,50.0,41.0,66.0,42.0,38.0,34.0,35.0,42.0,41.0,42.0,39.0,42.0,58.0,40.0,42.0,46.0,45.0,53.0,42.0,61.0,57.0,44.0,47.0,63.0,61.0,64.0,61.0,37.0,42.0,45.0,70.0,24.0,35.0,48.0,66.0,42.0,41.0,42.0,42.0,48.0,45.0,55.0,44.0,40.0,42.0,56.0,42.0,31.0,41.0,29.0,41.0,47.0,35.0,53.0,28.0,50.0,31.0,62.0,65.0,35.0,66.0,68.0,56.0,43.0,57.0,32.0,41.0,42.0,49.0,61.0,47.0,49.0,45.0,43.0,42.0,44.0,40.0,64.0,55.0,59.0,36.0,28.0,51.0,61.0,62.0,64.0,44.0,44.0,37.0,48.0,45.0,56.0,60.0,58.0,44.0,27.0,53.0,35.0,54.0,33.0,34.0,38.0,38.0,44.0,68.0,59.0,42.0,43.0,64.0,26.0,36.0,24.0,55.0,37.0,45.0,55.0,26.0,39.0,41.0,37.0,41.0,59.0,40.0,42.0,39.0,43.0,56.0,26.0,39.0,49.0,28.0,37.0,34.0,52.0,36.0,42.0,44.0,31.0,43.0,38.0,41.0,41.0,38.0,66.0,56.0,27.0,54.0,39.0,56.0,39.0,39.0,26.0,26.0,25.0,55.0,43.0,47.0,25.0,53.0,36.0,61.0,50.0,28.0,27.0,51.0,57.0,39.0,63.0,49.0,58.0,52.0,40.0,47.0,52.0,38.0,53.0,38.0,31.0,38.0,26.0,60.0,29.0,62.0,50.0,60.0,64.0,57.0,68.0,60.0,23.0,28.0,37.0,54.0,32.0,67.0,22.0,38.0,58.0,67.0,64.0,48.0,27.0,41.0,62.0,49.0,34.0,27.0,52.0,59.0,26.0,49.0,47.0,41.0,54.0,30.0,43.0,39.0,49.0,58.0,59.0,54.0,53.0,51.0,37.0,24.0,41.0,50.0,26.0,36.0,24.0,39.0,37.0,30.0,31.0,27.0,49.0,58.0,49.0,43.0,32.0,55.0,51.0,62.0,43.0,51.0,32.0,38.0,67.0,45.0,55.0,36.0,66.0,59.0,60.0,69.0,45.0,38.0,45.0,50.0,33.0,35.0,33.0,54.0,40.0,33.0,47.0,64.0,32.0,53.0,51.0,37.0,67.0,36.0,60.0,60.0,42.0,33.0,56.0,46.0,38.0,48.0,25.0,29.0,47.0,55.0,44.0,47.0,29.0,63.0,28.0,59.0,44.0,23.0,39.0,35.0,38.0,34.0,36.0,43.0,59.0,31.0,62.0,45.0,34.0,46.0,43.0,25.0,63.0,27.0,29.0,33.0,24.0,62.0,43.0,31.0,57.0,63.0,38.0,59.0,25.0,41.0,41.0,30.0,58.0,49.0,36.0,41.0,28.0,55.0,36.0,48.0,22.0,30.0,58.0,37.0,40.0,38.0,35.0,31.0,23.0,52.0,32.0,35.0,59.0,49.0,53.0,63.0,50.0,55.0,59.0,48.0,56.0,60.0,47.0,51.0,55.0,43.0,50.0,31.0,69.0,67.0,45.0,62.0,67.0,68.0,45.0,65.0,53.0,40.0,34.0,65.0,43.0,35.0,46.0,43.0,59.0,42.0,50.0,35.0,39.0,37.0,28.0,58.0,34.0,32.0,53.0,39.0,40.0,68.0,29.0,62.0,47.0,59.0,29.0,37.0,41.0,30.0,35.0,38.0,46.0,55.0,43.0,47.0,41.0,31.0,35.0,35.0,64.0,51.0,52.0,38.0,62.0,54.0,59.0,37.0,50.0,33.0,38.0,40.0,63.0,48.0,63.0,56.0,48.0,50.0,58.0,40.0,48.0,51.0,45.0,22.0,60.0,31.0,32.0,63.0,58.0,53.0,52.0,43.0,43.0,46.0,36.0,45.0,49.0,28.0,56.0,39.0,27.0,55.0,52.0,40.0,37.0,36.0,44.0,57.0,59.0,60.0,32.0,61.0,46.0,57.0,49.0,39.0,51.0,24.0,48.0,26.0,19.0,39.0,36.0,53.0,30.0,43.0,63.0,38.0,42.0,29.0,48.0,39.0,35.0,43.0,32.0,41.0,46.0,30.0,43.0,37.0,47.0,50.0,42.0,66.0,62.0,27.0,55.0,56.0,63.0,39.0,30.0,45.0,46.0,45.0,29.0,30.0,57.0,43.0,39.0,32.0,26.0,25.0,29.0,46.0,40.0,65.0,36.0,60.0,69.0,64.0,50.0,31.0,27.0,43.0,46.0,60.0,43.0,28.0,55.0,34.0,54.0,44.0,43.0,47.0,51.0,46.0,24.0,33.0,38.0,49.0,37.0,42.0,58.0,71.0,55.0,37.0,45.0,44.0,57.0,49.0,40.0,67.0,32.0,46.0,63.0,39.0,58.0,65.0,55.0,41.0,30.0,64.0,37.0,30.0,38.0,63.0,32.0,40.0,46.0,60.0,74.0,38.0,63.0,38.0,50.0,64.0,38.0,58.0,24.0,64.0,49.0,52.0,36.0,62.0,48.0,67.0,42.0,51.0,65.0,36.0,48.0,31.0,43.0,39.0,43.0,45.0,51.0,46.0,35.0,30.0,30.0,40.0,63.0,52.0,39.0,57.0,36.0,23.0,28.0,58.0,51.0,43.0,67.0,56.0,54.0,34.0,39.0,39.0,41.0,34.0,44.0,47.0,44.0,48.0,42.0,37.0,44.0,50.0,55.0,48.0,56.0,28.0,37.0,33.0,56.0,39.0,31.0,47.0,63.0,42.0,36.0,32.0,58.0,62.0,49.0,35.0,49.0,61.0,65.0,29.0,67.0,59.0,38.0,39.0,30.0,64.0,37.0,63.0,30.0,32.0,23.0,44.0,33.0,35.0,43.0,44.0,55.0,41.0,44.0,67.0,63.0,39.0,55.0,59.0,61.0,49.0,41.0,38.0,64.0,45.0,45.0,33.0,32.0,36.0,40.0,63.0,66.0,62.0,30.0,35.0,65.0,58.0,45.0,27.0,31.0,44.0,37.0,54.0,43.0,60.0,41.0,59.0,54.0,26.0,71.0,45.0,22.0,55.0,34.0,43.0,40.0,45.0,38.0,21.0,65.0,64.0,39.0,58.0,38.0,39.0,38.0,65.0,30.0,40.0,42.0,28.0,52.0,44.0,65.0,53.0,59.0,33.0,61.0,40.0,60.0,45.0,33.0,62.0,52.0,43.0,38.0,38.0,34.0,58.0,57.0,42.0,48.0,28.0,49.0,40.0,38.0,38.0,65.0,34.0,57.0,49.0,45.0,44.0,60.0,48.0,40.0,43.0,46.0,57.0,41.0,57.0,43.0,54.0,41.0,52.0,56.0,42.0,38.0,45.0,38.0,31.0,50.0,39.0,59.0,49.0,50.0,34.0,57.0,65.0,22.0,40.0,60.0,24.0,30.0,33.0,49.0,44.0,39.0,63.0,59.0,39.0,47.0,41.0,43.0,59.0,40.0,42.0,50.0,36.0,57.0,54.0,42.0,58.0,57.0,42.0,31.0,43.0,67.0,57.0,57.0,62.0,40.0,41.0,60.0,39.0,24.0,45.0,41.0,36.0,24.0,46.0,34.0,60.0,51.0,51.0,59.0,33.0,64.0,19.0,38.0,60.0,31.0,66.0,36.0,29.0,35.0,32.0,35.0,51.0,44.0,46.0,35.0,52.0,36.0,42.0,30.0,44.0,28.0,37.0,40.0,47.0,68.0,33.0,58.0,60.0],\"y0\":\" \",\"yaxis\":\"y3\",\"type\":\"box\"},{\"alignmentgroup\":\"True\",\"hovertemplate\":\"variable=Income\\u003cbr\\u003evalue=%{y}\\u003cextra\\u003e\\u003c\\u002fextra\\u003e\",\"legendgroup\":\"Income\",\"marker\":{\"color\":\"#EF553B\"},\"name\":\"Income\",\"notched\":false,\"offsetgroup\":\"Income\",\"orientation\":\"v\",\"showlegend\":true,\"x0\":\" \",\"xaxis\":\"x4\",\"y\":[58138.0,46344.0,71613.0,26646.0,58293.0,62513.0,55635.0,33454.0,30351.0,5648.0,null,7500.0,63033.0,59354.0,17323.0,82800.0,41850.0,37760.0,76995.0,33812.0,37040.0,2447.0,58607.0,65324.0,40689.0,18589.0,53359.0,null,38360.0,84618.0,10979.0,38620.0,40548.0,46610.0,68657.0,49389.0,67353.0,23718.0,42429.0,48948.0,80011.0,20559.0,21994.0,null,7500.0,79941.0,7500.0,41728.0,null,72550.0,65486.0,79143.0,35790.0,82582.0,66373.0,82384.0,70287.0,27938.0,null,55954.0,75777.0,66653.0,61823.0,67680.0,70666.0,25721.0,32474.0,88194.0,69096.0,74854.0,66991.0,null,65031.0,60631.0,28332.0,40246.0,75251.0,75825.0,26326.0,56046.0,29760.0,26304.0,23559.0,38620.0,81361.0,29440.0,36138.0,50388.0,79593.0,54178.0,null,null,null,42394.0,23626.0,30096.0,47916.0,51813.0,78497.0,50150.0,47823.0,34554.0,85693.0,65846.0,87195.0,24594.0,49096.0,52413.0,38557.0,89058.0,77298.0,68126.0,57288.0,86037.0,43974.0,50785.0,90765.0,36550.0,30753.0,21918.0,56129.0,32557.0,19510.0,30992.0,101970.0,71488.0,79607.0,54348.0,null,77376.0,62998.0,61331.0,73448.0,null,41551.0,62981.0,9548.0,33762.0,35860.0,36921.0,92859.0,65104.0,86111.0,68352.0,41883.0,59809.0,23957.0,38547.0,35688.0,49605.0,59354.0,65747.0,46344.0,34176.0,61010.0,69372.0,49967.0,60199.0,55375.0,80317.0,30523.0,70356.0,23228.0,74165.0,157243.0,43482.0,62551.0,52332.0,66951.0,26091.0,33456.0,28718.0,50447.0,53537.0,52074.0,80427.0,83837.0,38853.0,38285.0,78497.0,51650.0,16248.0,66835.0,30477.0,28249.0,25271.0,32303.0,61286.0,74068.0,45759.0,24882.0,66973.0,36640.0,38872.0,51148.0,31353.0,69661.0,80067.0,86718.0,46854.0,69142.0,75922.0,63693.0,102160.0,40637.0,18890.0,29604.0,48721.0,44794.0,64497.0,46097.0,77972.0,44377.0,46014.0,70951.0,41443.0,52195.0,83790.0,44551.0,69508.0,45204.0,72460.0,77622.0,30732.0,63887.0,42011.0,51369.0,51537.0,79930.0,34320.0,37070.0,81975.0,38590.0,15033.0,62745.0,22212.0,23661.0,79761.0,7500.0,60182.0,73455.0,64961.0,22804.0,73687.0,61074.0,31686.0,80134.0,75027.0,67546.0,65176.0,31160.0,29938.0,102692.0,26490.0,75702.0,30899.0,63342.0,45989.0,18701.0,40737.0,15287.0,69674.0,44159.0,37717.0,43776.0,38179.0,80124.0,38097.0,72940.0,22070.0,69267.0,31788.0,61905.0,29315.0,33378.0,66313.0,60714.0,77882.0,69867.0,63841.0,24480.0,51369.0,37760.0,65640.0,44319.0,30631.0,75278.0,50898.0,79946.0,35416.0,32414.0,38361.0,82497.0,16626.0,29672.0,55951.0,35388.0,42386.0,68627.0,57912.0,35246.0,58821.0,46377.0,39747.0,23976.0,80950.0,27038.0,77457.0,64100.0,42670.0,12571.0,22574.0,null,70893.0,54198.0,28839.0,40321.0,66503.0,30833.0,null,64795.0,34421.0,47025.0,64325.0,40464.0,62187.0,14849.0,27255.0,54432.0,29999.0,24072.0,33996.0,66334.0,35178.0,22010.0,62204.0,75693.0,30675.0,83003.0,83532.0,68655.0,41411.0,55212.0,59292.0,27190.0,82623.0,44300.0,84835.0,30372.0,33181.0,71113.0,71952.0,69759.0,72099.0,60000.0,38643.0,50737.0,68462.0,65073.0,46681.0,78618.0,62187.0,28442.0,37717.0,51479.0,54803.0,79530.0,31615.0,72025.0,52614.0,35684.0,48178.0,29548.0,63810.0,38578.0,46098.0,22585.0,30279.0,66426.0,30822.0,33581.0,19986.0,27421.0,35688.0,36143.0,10245.0,43795.0,63381.0,38823.0,83664.0,90300.0,62499.0,74293.0,51012.0,70777.0,68682.0,43824.0,15345.0,23442.0,14515.0,31395.0,75276.0,42373.0,30507.0,55521.0,48006.0,27213.0,65808.0,30351.0,50437.0,23616.0,53858.0,66465.0,46923.0,75072.0,75865.0,19789.0,80134.0,91065.0,49505.0,37401.0,30096.0,18492.0,82584.0,93027.0,48686.0,92910.0,75433.0,10404.0,61314.0,84865.0,42387.0,67309.0,75236.0,30015.0,50943.0,67272.0,51529.0,32011.0,7500.0,28691.0,56223.0,18100.0,30279.0,20130.0,23295.0,42618.0,81246.0,24027.0,55707.0,57959.0,56796.0,36230.0,70829.0,65991.0,38988.0,89572.0,42207.0,50300.0,66664.0,60597.0,70165.0,50520.0,80124.0,33183.0,66582.0,75261.0,31880.0,53790.0,49269.0,61456.0,37406.0,56937.0,38415.0,20518.0,62503.0,41644.0,55842.0,62010.0,41124.0,38961.0,37760.0,32233.0,43057.0,83151.0,78825.0,65104.0,60093.0,14045.0,28457.0,78952.0,46310.0,76005.0,58308.0,55614.0,59432.0,55563.0,78642.0,67911.0,65275.0,27203.0,48330.0,24279.0,64355.0,50943.0,53653.0,65665.0,81217.0,34935.0,61250.0,39665.0,60152.0,48920.0,89120.0,44124.0,81169.0,36443.0,26095.0,71367.0,80184.0,30630.0,73454.0,42691.0,70503.0,25545.0,32880.0,77863.0,50353.0,61839.0,49154.0,47682.0,72679.0,57954.0,65316.0,28567.0,47352.0,44931.0,76982.0,57247.0,22944.0,25315.0,43638.0,42710.0,84169.0,54058.0,24683.0,85620.0,47850.0,19514.0,27159.0,39548.0,21474.0,60504.0,22419.0,81698.0,43462.0,54880.0,79908.0,15315.0,87771.0,33039.0,81741.0,71499.0,62466.0,48799.0,52157.0,66565.0,29298.0,47691.0,38200.0,44989.0,38443.0,38593.0,64413.0,36959.0,61996.0,51287.0,13260.0,47472.0,54603.0,45207.0,40689.0,47821.0,27450.0,39453.0,26850.0,79800.0,61794.0,53863.0,24221.0,39684.0,92163.0,69882.0,33178.0,59973.0,17459.0,23910.0,42169.0,26224.0,31089.0,30081.0,62807.0,72906.0,61467.0,49618.0,21888.0,42429.0,26150.0,30801.0,81168.0,26877.0,45006.0,18978.0,22574.0,48240.0,45837.0,35791.0,162397.0,54162.0,30522.0,54456.0,31632.0,72298.0,36975.0,72635.0,13624.0,84196.0,70971.0,34487.0,28769.0,69084.0,65488.0,62466.0,32218.0,83917.0,46102.0,84574.0,56181.0,63120.0,73691.0,63381.0,76140.0,62859.0,45906.0,77632.0,46463.0,105471.0,55282.0,78710.0,66886.0,98777.0,29103.0,67445.0,50616.0,49431.0,153924.0,61278.0,26490.0,73059.0,46734.0,56253.0,19986.0,58330.0,25965.0,14661.0,18690.0,45068.0,21063.0,29187.0,54690.0,59304.0,59247.0,66731.0,77353.0,52614.0,26751.0,81300.0,70337.0,36145.0,65295.0,68118.0,68743.0,41039.0,38946.0,65777.0,66476.0,86857.0,160803.0,77845.0,69476.0,50611.0,61209.0,42315.0,13084.0,47570.0,61923.0,34824.0,26518.0,45938.0,78468.0,78901.0,71427.0,71022.0,90247.0,41335.0,71952.0,35682.0,43185.0,66375.0,35178.0,25252.0,55250.0,33249.0,58398.0,50272.0,76618.0,87305.0,25851.0,58710.0,45160.0,74806.0,59111.0,18988.0,72190.0,7500.0,44794.0,80395.0,75012.0,56962.0,89891.0,35946.0,53593.0,66373.0,45072.0,89694.0,72025.0,67432.0,70545.0,17487.0,62882.0,64108.0,34941.0,48767.0,38702.0,82224.0,83844.0,17003.0,71163.0,33697.0,63564.0,83443.0,51518.0,58330.0,80952.0,75507.0,63855.0,62220.0,58512.0,40662.0,38829.0,35523.0,79146.0,78285.0,31626.0,75127.0,48726.0,74985.0,67430.0,46891.0,62058.0,72063.0,78939.0,42720.0,33622.0,6835.0,41452.0,40760.0,74250.0,51124.0,72258.0,71466.0,36283.0,20587.0,30467.0,31590.0,20425.0,17144.0,42564.0,43783.0,40780.0,62847.0,82017.0,16813.0,51267.0,46524.0,45183.0,70421.0,60161.0,73926.0,19329.0,61872.0,46984.0,34838.0,82716.0,48192.0,49681.0,56850.0,55267.0,59666.0,72504.0,26872.0,21359.0,73170.0,52750.0,91820.0,65968.0,30772.0,22507.0,65685.0,25804.0,76412.0,22063.0,57091.0,22419.0,87771.0,78353.0,93404.0,37859.0,80995.0,16529.0,55412.0,48789.0,56575.0,25130.0,35441.0,71391.0,49494.0,81702.0,45889.0,56628.0,34026.0,40049.0,34176.0,19419.0,82504.0,81205.0,61618.0,55284.0,49980.0,15072.0,49166.0,65324.0,82347.0,30843.0,46374.0,60474.0,38576.0,55357.0,37758.0,85710.0,23228.0,44602.0,7500.0,38683.0,49514.0,57906.0,43456.0,19485.0,53172.0,30545.0,70123.0,62450.0,21675.0,42395.0,61346.0,80812.0,42835.0,39922.0,86424.0,17117.0,24762.0,35797.0,36627.0,51111.0,86857.0,82072.0,46231.0,42243.0,51195.0,68092.0,31814.0,51390.0,76630.0,26868.0,48948.0,55260.0,64090.0,78331.0,37087.0,21846.0,81320.0,54137.0,66825.0,57100.0,58917.0,85072.0,86429.0,45684.0,47889.0,45921.0,78420.0,75114.0,52278.0,35641.0,95529.0,62820.0,73113.0,84169.0,42607.0,74637.0,46015.0,72354.0,39858.0,34469.0,83033.0,24401.0,77583.0,74116.0,74293.0,68397.0,79632.0,46107.0,64950.0,25443.0,75127.0,32892.0,71796.0,67536.0,55239.0,60554.0,64831.0,56067.0,82025.0,94384.0,14906.0,51563.0,57937.0,68274.0,39771.0,67893.0,27922.0,52190.0,44051.0,42767.0,46106.0,16927.0,59754.0,53700.0,59041.0,54237.0,70647.0,52597.0,41021.0,40233.0,50183.0,54753.0,92955.0,33471.0,34596.0,44010.0,84219.0,40706.0,15716.0,59052.0,80573.0,83715.0,82576.0,56962.0,35704.0,53103.0,46779.0,4861.0,33462.0,63693.0,80763.0,65352.0,82170.0,75759.0,79689.0,35340.0,85683.0,24884.0,42021.0,64449.0,64587.0,34824.0,75437.0,26091.0,52845.0,46086.0,78028.0,95169.0,56337.0,22434.0,36930.0,36130.0,65569.0,83844.0,19514.0,36736.0,77568.0,49187.0,30168.0,34053.0,38196.0,59412.0,70924.0,54165.0,32300.0,20180.0,34961.0,28440.0,64504.0,33564.0,17345.0,56320.0,28647.0,15038.0,32173.0,68316.0,74538.0,91700.0,68695.0,31056.0,79593.0,28071.0,37334.0,46423.0,37126.0,47703.0,61180.0,38998.0,8028.0,76081.0,34728.0,33168.0,33585.0,77037.0,35196.0,44529.0,70924.0,28764.0,69098.0,25959.0,27100.0,70596.0,42557.0,53312.0,72228.0,67605.0,62845.0,65196.0,42000.0,35860.0,65526.0,16860.0,83528.0,64176.0,22304.0,67023.0,32892.0,70713.0,59925.0,39722.0,46610.0,88347.0,87171.0,26907.0,50014.0,41014.0,66294.0,36715.0,79456.0,40479.0,75345.0,54233.0,24163.0,84460.0,43776.0,71691.0,85844.0,39190.0,71367.0,38578.0,57236.0,61825.0,79803.0,80910.0,27590.0,56775.0,83829.0,54210.0,38508.0,53187.0,30023.0,76045.0,50870.0,15315.0,65463.0,66480.0,76773.0,81698.0,54466.0,98777.0,16269.0,71819.0,33569.0,36262.0,22634.0,47025.0,70566.0,31605.0,52034.0,48526.0,46734.0,39552.0,86358.0,46931.0,16581.0,63998.0,67381.0,25930.0,42693.0,85606.0,72903.0,49669.0,36778.0,85696.0,10979.0,49678.0,56129.0,37155.0,21282.0,33419.0,63285.0,21255.0,42162.0,54450.0,57744.0,26576.0,57513.0,68142.0,7500.0,83145.0,54197.0,23091.0,46049.0,56715.0,79410.0,57304.0,44375.0,54450.0,59594.0,80685.0,40344.0,62710.0,48985.0,35322.0,77142.0,81657.0,14421.0,20130.0,74214.0,66726.0,23724.0,47353.0,33444.0,54386.0,28510.0,90638.0,48070.0,43140.0,54959.0,15056.0,26954.0,22327.0,44393.0,62000.0,31497.0,45894.0,78579.0,67369.0,58401.0,62307.0,43641.0,63841.0,46891.0,70091.0,78075.0,59184.0,54809.0,58113.0,51412.0,15287.0,66636.0,50965.0,84618.0,18351.0,40451.0,36317.0,42213.0,65748.0,77044.0,74918.0,56721.0,42160.0,61559.0,33629.0,68682.0,34377.0,8940.0,26228.0,77297.0,40211.0,33438.0,75032.0,61284.0,22518.0,54730.0,38452.0,44421.0,38197.0,41986.0,28427.0,37395.0,64722.0,55249.0,84906.0,28691.0,44213.0,25707.0,59062.0,76624.0,66000.0,27683.0,1730.0,7500.0,40521.0,20427.0,65106.0,69969.0,67433.0,77766.0,74716.0,68118.0,55158.0,62972.0,74190.0,39356.0,76653.0,35860.0,90687.0,73450.0,31454.0,47139.0,83829.0,53378.0,19656.0,45579.0,85485.0,55956.0,64191.0,38808.0,57183.0,23748.0,66303.0,37368.0,40800.0,71847.0,46149.0,78687.0,49118.0,37633.0,39767.0,26997.0,33986.0,57091.0,46831.0,83151.0,52531.0,15759.0,22804.0,43050.0,42997.0,48918.0,60033.0,34043.0,57811.0,78569.0,7500.0,157733.0,94384.0,23148.0,44267.0,71626.0,60894.0,50200.0,81051.0,65169.0,59868.0,65695.0,64857.0,45143.0,74805.0,59060.0,27238.0,47009.0,46094.0,40321.0,37235.0,81843.0,46692.0,77382.0,37774.0,18393.0,72828.0,24711.0,45503.0,6560.0,71604.0,27244.0,48752.0,71434.0,90842.0,88097.0,51948.0,71853.0,35876.0,40049.0,39660.0,50127.0,43263.0,62845.0,18929.0,24367.0,33249.0,26887.0,50150.0,62061.0,85696.0,76542.0,70515.0,18227.0,69139.0,69109.0,69627.0,38136.0,62159.0,80695.0,33316.0,58554.0,17256.0,53034.0,52203.0,59601.0,75154.0,47025.0,37971.0,41335.0,67267.0,57338.0,50523.0,35791.0,50611.0,56242.0,48904.0,56243.0,21355.0,57420.0,null,46390.0,54342.0,null,null,20895.0,92344.0,null,26907.0,44964.0,75507.0,53761.0,22682.0,38887.0,41658.0,29791.0,63915.0,39996.0,26759.0,63841.0,51039.0,60544.0,65685.0,37716.0,36864.0,44511.0,36947.0,47352.0,67087.0,57045.0,36957.0,69389.0,80134.0,43142.0,80589.0,34412.0,57537.0,22634.0,51315.0,36026.0,24639.0,34578.0,65704.0,63810.0,54132.0,18690.0,28164.0,34596.0,43269.0,38741.0,31907.0,27100.0,31163.0,92533.0,34853.0,70844.0,31086.0,60544.0,20491.0,42523.0,39922.0,33402.0,36408.0,21645.0,78427.0,82657.0,51876.0,78041.0,52852.0,70038.0,69401.0,46053.0,77343.0,73892.0,40304.0,32727.0,68695.0,43300.0,26290.0,93790.0,38410.0,64866.0,57957.0,46015.0,16531.0,28072.0,49476.0,50725.0,83844.0,41145.0,67419.0,23162.0,34380.0,34704.0,94871.0,65148.0,39898.0,64857.0,59892.0,41020.0,57072.0,60474.0,62807.0,19414.0,19107.0,75484.0,70379.0,79419.0,64014.0,76998.0,49854.0,60585.0,42873.0,87679.0,57867.0,35765.0,65492.0,32952.0,53374.0,71706.0,68487.0,53253.0,31163.0,42014.0,54108.0,49667.0,63206.0,57136.0,46772.0,78931.0,53977.0,84219.0,46098.0,73538.0,79529.0,20981.0,51766.0,55759.0,33039.0,37787.0,27242.0,87188.0,69930.0,37697.0,37401.0,3502.0,58597.0,82032.0,28087.0,74004.0,19740.0,57036.0,53083.0,69283.0,46098.0,23331.0,23331.0,9255.0,67786.0,71969.0,59235.0,31928.0,74881.0,65819.0,51411.0,51983.0,42386.0,30390.0,30983.0,66033.0,37284.0,57530.0,76800.0,63943.0,76081.0,67445.0,37054.0,47175.0,31859.0,27215.0,70179.0,39922.0,49681.0,24645.0,79865.0,44322.0,47958.0,63972.0,75315.0,55517.0,75283.0,82800.0,38998.0,90638.0,27161.0,42014.0,38201.0,45203.0,81574.0,34935.0,60482.0,34633.0,78093.0,82460.0,45903.0,81361.0,35860.0,40442.0,61482.0,34968.0,75794.0,31497.0,74268.0,13724.0,45143.0,52569.0,48432.0,17144.0,36108.0,76445.0,36663.0,53843.0,90226.0,70638.0,44512.0,27116.0,54072.0,71855.0,51250.0,60432.0,65526.0,68655.0,12393.0,64509.0,33955.0,31353.0,55434.0,28359.0,57100.0,69139.0,52973.0,51717.0,18793.0,66664.0,50664.0,54414.0,54549.0,47111.0,41003.0,19444.0,36301.0,73059.0,42731.0,52854.0,22775.0,46681.0,59821.0,50002.0,69755.0,44078.0,30560.0,35924.0,64140.0,56386.0,24594.0,75774.0,39228.0,58494.0,58684.0,57136.0,56551.0,22448.0,82014.0,34213.0,157146.0,25358.0,35544.0,36634.0,62670.0,50334.0,72066.0,50729.0,34916.0,64892.0,43602.0,33996.0,41473.0,63246.0,36732.0,69084.0,77766.0,37929.0,86610.0,80141.0,72635.0,69016.0,20193.0,27573.0,15862.0,49544.0,33228.0,70440.0,38232.0,22554.0,23536.0,49413.0,42231.0,78789.0,56534.0,58350.0,81217.0,49090.0,61787.0,18169.0,24336.0,18222.0,62335.0,42033.0,86580.0,41437.0,73705.0,61064.0,38452.0,18358.0,55012.0,9722.0,38175.0,58656.0,52117.0,64813.0,54222.0,83512.0,77520.0,41154.0,80398.0,18746.0,35196.0,60230.0,22108.0,44392.0,55424.0,17688.0,92491.0,90273.0,82571.0,38513.0,16653.0,42586.0,23529.0,74881.0,71107.0,46910.0,18690.0,37244.0,82427.0,75342.0,70044.0,79146.0,77437.0,54984.0,42403.0,55761.0,37292.0,45576.0,70321.0,58086.0,81795.0,28389.0,66835.0,69901.0,80360.0,63342.0,44989.0,31859.0,51569.0,30372.0,16014.0,41120.0,39763.0,38725.0,77981.0,62905.0,13533.0,59481.0,72117.0,21955.0,67131.0,36802.0,71853.0,28249.0,47808.0,25509.0,51012.0,70596.0,85431.0,42664.0,42586.0,29760.0,28973.0,39435.0,65370.0,20194.0,42473.0,64590.0,71232.0,34600.0,46904.0,49094.0,36075.0,60839.0,77298.0,34026.0,48918.0,82122.0,37697.0,34074.0,28520.0,62535.0,36273.0,63404.0,75774.0,78416.0,75702.0,59385.0,37070.0,44689.0,53977.0,7144.0,18701.0,90369.0,63159.0,37758.0,46757.0,79734.0,63207.0,72071.0,21840.0,58582.0,72282.0,50387.0,32583.0,62568.0,44635.0,33316.0,63967.0,52513.0,25293.0,54111.0,78394.0,80739.0,22669.0,29236.0,44911.0,54693.0,48186.0,54809.0,41580.0,80336.0,47743.0,62972.0,57333.0,32313.0,84953.0,27071.0,68148.0,65735.0,86836.0,4023.0,30093.0,57705.0,25008.0,83257.0,22280.0,72159.0,64260.0,82733.0,74290.0,58217.0,21024.0,70116.0,54006.0,69063.0,11448.0,61825.0,70886.0,69109.0,60208.0,32889.0,34738.0,30538.0,82326.0,26642.0,69932.0,44503.0,60200.0,49638.0,23830.0,33051.0,72905.0,69702.0,70300.0,70643.0,30396.0,50616.0,62772.0,30298.0,52413.0,44155.0,86979.0,76532.0,42081.0,67546.0,88420.0,31158.0,61671.0,69719.0,49160.0,24882.0,90933.0,113734.0,59292.0,45759.0,22148.0,73395.0,29819.0,45688.0,62820.0,60491.0,33235.0,35701.0,31535.0,92556.0,67384.0,80573.0,77870.0,52278.0,57107.0,18929.0,36038.0,20180.0,34230.0,31878.0,70932.0,91249.0,77598.0,80982.0,22701.0,55212.0,70617.0,64849.0,62694.0,61917.0,67472.0,21059.0,29543.0,75903.0,34984.0,54998.0,54356.0,34242.0,25410.0,73356.0,28320.0,23763.0,72570.0,34529.0,70792.0,63211.0,83891.0,36065.0,39898.0,51141.0,56939.0,80872.0,72335.0,61798.0,76842.0,29478.0,46998.0,96843.0,56551.0,70053.0,71670.0,44359.0,40887.0,48877.0,74485.0,64474.0,77226.0,72643.0,85738.0,55686.0,39062.0,34600.0,40794.0,54690.0,4428.0,32632.0,38236.0,36781.0,31385.0,24570.0,25509.0,94642.0,58646.0,53201.0,21994.0,57113.0,51373.0,23477.0,58116.0,72968.0,39791.0,91712.0,94472.0,13672.0,96547.0,79205.0,56559.0,32644.0,67506.0,24206.0,28420.0,22979.0,33279.0,46423.0,30368.0,63684.0,41638.0,68805.0,65814.0,71964.0,39146.0,96876.0,34445.0,68281.0,37284.0,36790.0,27943.0,22263.0,30261.0,28587.0,43815.0,48195.0,77027.0,71322.0,32765.0,29672.0,23272.0,49912.0,7500.0,68117.0,67225.0,17649.0,55914.0,40059.0,60905.0,75330.0,60689.0,38680.0,61416.0,49767.0,83273.0,29009.0,45057.0,37150.0,43020.0,53154.0,65308.0,76467.0,81044.0,32871.0,55801.0,76320.0,36927.0,48794.0,23478.0,71128.0,70179.0,59462.0,null,38361.0,null,70038.0,42554.0,67445.0,67046.0,42192.0,77610.0,31761.0,34350.0,54591.0,71866.0,25293.0,42000.0,69520.0,64713.0,27889.0,22123.0,null,null,27803.0,null,51651.0,68487.0,null,56796.0,87000.0,79823.0,30828.0,34109.0,53367.0,22390.0,71322.0,79244.0,49912.0,48699.0,80144.0,54252.0,81929.0,76068.0,53204.0,67911.0,14796.0,78128.0,14188.0,20425.0,58646.0,72967.0,48150.0,82332.0,58275.0,44953.0,34587.0,43018.0,45736.0,66476.0,27733.0,69805.0,72217.0,25818.0,37509.0,25176.0,43586.0,53230.0,50116.0,84906.0,61286.0,82333.0,65220.0,33590.0,30992.0,72309.0,156924.0,16005.0,65487.0,58692.0,40590.0,20587.0,62637.0,29435.0,19346.0,35788.0,36997.0,23539.0,65333.0,78499.0,29732.0,41275.0,63516.0,42769.0,49572.0,69209.0,17148.0,40590.0,30560.0,32146.0,41713.0,34176.0,58482.0,59686.0,60896.0,62994.0,47320.0,74859.0,15253.0,31560.0,72071.0,91172.0,90000.0,41967.0,69263.0,65706.0,60934.0,71965.0,65210.0,79174.0,81380.0,48432.0,52914.0,38946.0,26067.0,44325.0,42523.0,26487.0,53233.0,67716.0,76234.0,84117.0,65487.0,25224.0,89616.0,40851.0,27469.0,82347.0,73803.0,8820.0,43322.0,55593.0,50501.0,37085.0,16185.0,57731.0,48432.0,73807.0,18929.0,35893.0,61014.0,32144.0,14918.0,45146.0,41769.0,88325.0,38054.0,80617.0,5305.0,36807.0,28427.0,82032.0,22775.0,40101.0,58025.0,75777.0,7500.0,33562.0,57642.0,58554.0,63777.0,57967.0,null,24434.0,11012.0,44802.0,26816.0,666666.0,34421.0,61223.0,64014.0,56981.0,69245.0,52869.0],\"y0\":\" \",\"yaxis\":\"y4\",\"type\":\"box\"},{\"alignmentgroup\":\"True\",\"hovertemplate\":\"variable=Spending\\u003cbr\\u003evalue=%{y}\\u003cextra\\u003e\\u003c\\u002fextra\\u003e\",\"legendgroup\":\"Spending\",\"marker\":{\"color\":\"#00cc96\"},\"name\":\"Spending\",\"notched\":false,\"offsetgroup\":\"Spending\",\"orientation\":\"v\",\"showlegend\":true,\"x0\":\" \",\"xaxis\":\"x\",\"y\":[1617.0,27.0,776.0,53.0,422.0,716.0,590.0,169.0,46.0,49.0,19.0,61.0,1102.0,310.0,46.0,1315.0,96.0,317.0,1782.0,133.0,316.0,1730.0,972.0,544.0,444.0,75.0,257.0,637.0,131.0,1672.0,30.0,318.0,120.0,302.0,1196.0,65.0,913.0,81.0,67.0,902.0,1395.0,53.0,22.0,186.0,31.0,984.0,122.0,55.0,124.0,1319.0,507.0,1693.0,72.0,1617.0,606.0,1957.0,1093.0,29.0,46.0,518.0,1438.0,612.0,884.0,606.0,1076.0,34.0,11.0,1274.0,653.0,1562.0,1253.0,109.0,863.0,661.0,65.0,13.0,1890.0,2209.0,18.0,692.0,165.0,16.0,79.0,318.0,778.0,56.0,151.0,372.0,1366.0,194.0,603.0,18.0,985.0,32.0,43.0,45.0,606.0,63.0,978.0,410.0,72.0,55.0,1169.0,1120.0,1097.0,29.0,187.0,910.0,145.0,850.0,969.0,1820.0,608.0,730.0,551.0,114.0,1724.0,577.0,81.0,33.0,660.0,80.0,30.0,43.0,1135.0,559.0,1923.0,90.0,404.0,661.0,463.0,632.0,725.0,725.0,279.0,1482.0,29.0,106.0,49.0,38.0,2077.0,1053.0,1385.0,871.0,312.0,877.0,68.0,22.0,211.0,127.0,459.0,460.0,429.0,89.0,1021.0,1381.0,306.0,18.0,162.0,1231.0,13.0,1706.0,121.0,1293.0,1608.0,88.0,421.0,259.0,1117.0,89.0,36.0,57.0,148.0,93.0,119.0,1835.0,1318.0,45.0,10.0,978.0,191.0,57.0,1033.0,66.0,43.0,50.0,39.0,608.0,1581.0,68.0,80.0,1282.0,65.0,91.0,315.0,31.0,834.0,1600.0,1270.0,263.0,535.0,1295.0,1150.0,1240.0,38.0,35.0,53.0,293.0,65.0,1804.0,241.0,1101.0,264.0,541.0,1198.0,482.0,17.0,1615.0,285.0,1135.0,114.0,1047.0,714.0,185.0,1245.0,189.0,576.0,1103.0,1753.0,17.0,433.0,1588.0,22.0,19.0,1117.0,69.0,23.0,605.0,57.0,22.0,2088.0,1009.0,26.0,1627.0,1102.0,17.0,1690.0,1390.0,2126.0,1531.0,64.0,26.0,1112.0,210.0,1148.0,33.0,1101.0,322.0,44.0,17.0,31.0,845.0,275.0,25.0,275.0,90.0,1495.0,184.0,981.0,67.0,1635.0,60.0,231.0,48.0,99.0,770.0,957.0,818.0,925.0,908.0,102.0,576.0,317.0,461.0,37.0,70.0,930.0,859.0,1478.0,390.0,52.0,137.0,1919.0,68.0,25.0,1374.0,32.0,100.0,825.0,916.0,62.0,728.0,90.0,273.0,66.0,1213.0,107.0,1157.0,546.0,241.0,53.0,37.0,1611.0,1508.0,235.0,32.0,102.0,401.0,28.0,1052.0,680.0,30.0,20.0,1307.0,630.0,1283.0,65.0,37.0,38.0,160.0,23.0,71.0,1161.0,59.0,33.0,946.0,1442.0,62.0,1674.0,1853.0,1538.0,139.0,1182.0,507.0,18.0,940.0,42.0,1190.0,44.0,16.0,835.0,1443.0,1029.0,1188.0,1277.0,49.0,99.0,1670.0,900.0,425.0,2153.0,636.0,57.0,25.0,494.0,693.0,1348.0,51.0,1932.0,990.0,30.0,254.0,29.0,1371.0,73.0,120.0,81.0,37.0,1377.0,51.0,17.0,22.0,324.0,211.0,19.0,41.0,492.0,1005.0,114.0,1173.0,1738.0,222.0,1127.0,209.0,787.0,1598.0,186.0,47.0,27.0,96.0,64.0,1040.0,163.0,343.0,446.0,41.0,70.0,272.0,46.0,490.0,79.0,915.0,1485.0,369.0,1073.0,1242.0,78.0,1378.0,1474.0,751.0,48.0,45.0,10.0,1435.0,2119.0,20.0,1795.0,1188.0,43.0,1008.0,1688.0,684.0,1082.0,1068.0,57.0,46.0,733.0,467.0,122.0,36.0,34.0,156.0,14.0,37.0,34.0,20.0,192.0,1379.0,48.0,428.0,868.0,1001.0,59.0,431.0,971.0,348.0,2059.0,265.0,270.0,1289.0,893.0,926.0,135.0,1495.0,120.0,1288.0,1743.0,15.0,542.0,890.0,1388.0,17.0,906.0,44.0,25.0,973.0,31.0,518.0,530.0,506.0,70.0,54.0,296.0,266.0,747.0,895.0,1053.0,735.0,20.0,205.0,2092.0,309.0,1722.0,900.0,682.0,663.0,43.0,1816.0,976.0,746.0,64.0,32.0,263.0,1445.0,46.0,1210.0,945.0,1157.0,137.0,730.0,216.0,943.0,347.0,1924.0,397.0,2089.0,138.0,42.0,777.0,1902.0,52.0,1651.0,358.0,1727.0,210.0,42.0,1291.0,442.0,1895.0,411.0,521.0,1168.0,493.0,260.0,46.0,319.0,96.0,1062.0,232.0,76.0,54.0,201.0,406.0,1919.0,662.0,41.0,1600.0,134.0,69.0,21.0,54.0,91.0,526.0,162.0,1008.0,240.0,795.0,1772.0,64.0,1957.0,78.0,1572.0,795.0,889.0,331.0,265.0,1065.0,11.0,21.0,17.0,369.0,38.0,177.0,279.0,62.0,1230.0,182.0,49.0,75.0,227.0,215.0,444.0,47.0,143.0,55.0,63.0,1867.0,611.0,473.0,55.0,81.0,2086.0,1478.0,49.0,382.0,69.0,67.0,30.0,63.0,79.0,42.0,819.0,1151.0,594.0,129.0,213.0,67.0,28.0,45.0,1193.0,268.0,266.0,37.0,37.0,882.0,373.0,35.0,107.0,42.0,326.0,404.0,95.0,939.0,33.0,981.0,36.0,1237.0,1825.0,103.0,191.0,1586.0,963.0,889.0,93.0,1587.0,16.0,1375.0,393.0,1477.0,1179.0,1005.0,1348.0,1307.0,486.0,2252.0,235.0,1724.0,235.0,1092.0,599.0,2008.0,48.0,1174.0,67.0,365.0,6.0,165.0,210.0,1095.0,223.0,597.0,22.0,1064.0,74.0,26.0,60.0,20.0,59.0,34.0,198.0,1048.0,574.0,1029.0,670.0,990.0,11.0,1241.0,576.0,172.0,664.0,928.0,2074.0,467.0,257.0,1146.0,689.0,2114.0,1717.0,1346.0,1044.0,493.0,957.0,270.0,29.0,121.0,126.0,23.0,57.0,636.0,1004.0,734.0,614.0,1453.0,1621.0,187.0,1443.0,57.0,637.0,948.0,59.0,18.0,903.0,112.0,596.0,233.0,1511.0,1152.0,48.0,1185.0,21.0,965.0,869.0,16.0,1947.0,71.0,65.0,1380.0,1027.0,411.0,836.0,11.0,480.0,606.0,284.0,1472.0,1677.0,1335.0,334.0,18.0,1338.0,1099.0,97.0,63.0,109.0,902.0,1574.0,38.0,960.0,28.0,1215.0,1497.0,449.0,1064.0,1757.0,1440.0,1006.0,1226.0,1171.0,92.0,99.0,66.0,564.0,1427.0,86.0,833.0,242.0,1869.0,1364.0,183.0,450.0,758.0,1507.0,654.0,81.0,137.0,16.0,93.0,1158.0,43.0,1525.0,1230.0,29.0,25.0,24.0,38.0,57.0,47.0,813.0,629.0,377.0,1612.0,729.0,50.0,270.0,177.0,315.0,767.0,1071.0,1580.0,60.0,573.0,41.0,170.0,1167.0,1526.0,458.0,63.0,405.0,1027.0,1478.0,72.0,48.0,726.0,860.0,1497.0,495.0,20.0,570.0,769.0,55.0,1808.0,55.0,577.0,162.0,1957.0,1576.0,1616.0,36.0,1482.0,22.0,63.0,680.0,542.0,50.0,39.0,1043.0,385.0,1633.0,46.0,761.0,76.0,290.0,89.0,70.0,1066.0,2009.0,1345.0,764.0,195.0,53.0,368.0,544.0,1853.0,35.0,446.0,1180.0,41.0,727.0,40.0,1062.0,40.0,292.0,15.0,341.0,369.0,401.0,393.0,10.0,486.0,69.0,1727.0,995.0,45.0,182.0,989.0,1677.0,595.0,156.0,1226.0,128.0,86.0,68.0,16.0,55.0,2114.0,2018.0,263.0,55.0,564.0,1281.0,83.0,353.0,1003.0,14.0,902.0,1139.0,797.0,1638.0,401.0,84.0,928.0,203.0,858.0,409.0,282.0,1423.0,1449.0,28.0,67.0,199.0,1453.0,1253.0,1198.0,178.0,1990.0,976.0,1001.0,1919.0,350.0,1650.0,46.0,1228.0,95.0,62.0,1761.0,467.0,1149.0,2052.0,1127.0,1416.0,1113.0,125.0,966.0,32.0,833.0,46.0,960.0,1829.0,779.0,811.0,1120.0,725.0,1187.0,2302.0,66.0,1250.0,683.0,305.0,50.0,995.0,41.0,77.0,171.0,131.0,54.0,53.0,475.0,694.0,96.0,361.0,1079.0,578.0,64.0,149.0,231.0,728.0,1778.0,93.0,23.0,662.0,1198.0,81.0,92.0,491.0,1564.0,926.0,1910.0,411.0,94.0,1085.0,23.0,6.0,54.0,1150.0,1415.0,405.0,1908.0,2486.0,1315.0,45.0,1789.0,19.0,573.0,805.0,108.0,23.0,1493.0,89.0,936.0,343.0,528.0,1901.0,724.0,58.0,297.0,488.0,859.0,1574.0,69.0,17.0,2194.0,116.0,279.0,103.0,44.0,406.0,1363.0,236.0,39.0,137.0,79.0,63.0,1314.0,71.0,58.0,702.0,94.0,80.0,22.0,1211.0,1461.0,1968.0,1091.0,55.0,1366.0,313.0,62.0,92.0,72.0,655.0,704.0,54.0,178.0,1033.0,36.0,122.0,122.0,1123.0,497.0,691.0,1363.0,12.0,2440.0,56.0,37.0,968.0,270.0,278.0,1250.0,938.0,1178.0,1155.0,653.0,49.0,506.0,38.0,1650.0,1826.0,18.0,906.0,46.0,1477.0,766.0,47.0,467.0,2116.0,1298.0,22.0,396.0,20.0,967.0,357.0,1401.0,15.0,2087.0,981.0,17.0,523.0,23.0,1192.0,1958.0,133.0,777.0,73.0,121.0,424.0,868.0,756.0,12.0,937.0,1862.0,367.0,443.0,267.0,61.0,1323.0,63.0,64.0,562.0,312.0,1156.0,1104.0,16.0,2008.0,44.0,1574.0,63.0,426.0,96.0,635.0,757.0,125.0,332.0,135.0,330.0,384.0,1722.0,78.0,24.0,1168.0,957.0,15.0,57.0,1956.0,2013.0,326.0,77.0,1313.0,30.0,315.0,660.0,74.0,46.0,86.0,1103.0,61.0,145.0,684.0,411.0,27.0,1060.0,1459.0,18.0,1833.0,237.0,48.0,515.0,1020.0,1370.0,1026.0,301.0,684.0,499.0,1004.0,218.0,606.0,75.0,106.0,990.0,1097.0,16.0,34.0,1711.0,438.0,75.0,225.0,18.0,470.0,91.0,2525.0,504.0,235.0,1232.0,88.0,17.0,24.0,60.0,1020.0,155.0,51.0,1812.0,1461.0,96.0,160.0,139.0,908.0,183.0,1161.0,988.0,1072.0,174.0,758.0,195.0,31.0,1084.0,685.0,1672.0,43.0,49.0,133.0,363.0,545.0,1065.0,2047.0,296.0,140.0,530.0,152.0,1598.0,114.0,101.0,25.0,789.0,87.0,90.0,1215.0,811.0,61.0,405.0,72.0,189.0,40.0,63.0,52.0,39.0,805.0,130.0,1631.0,34.0,152.0,21.0,71.0,899.0,711.0,351.0,8.0,119.0,21.0,10.0,973.0,1536.0,992.0,1529.0,860.0,928.0,418.0,587.0,641.0,23.0,2279.0,49.0,1779.0,1804.0,48.0,83.0,1862.0,793.0,84.0,183.0,1383.0,999.0,825.0,246.0,610.0,76.0,1286.0,30.0,99.0,1192.0,362.0,2130.0,1229.0,38.0,485.0,434.0,44.0,496.0,78.0,2346.0,794.0,17.0,26.0,76.0,15.0,62.0,198.0,49.0,802.0,1736.0,57.0,59.0,2302.0,37.0,310.0,1305.0,832.0,401.0,1501.0,1189.0,1194.0,656.0,1540.0,311.0,820.0,274.0,57.0,448.0,44.0,102.0,61.0,1643.0,397.0,1121.0,473.0,50.0,1678.0,58.0,170.0,373.0,1196.0,101.0,316.0,1400.0,1424.0,844.0,311.0,1149.0,129.0,32.0,299.0,320.0,441.0,1178.0,85.0,24.0,112.0,30.0,410.0,800.0,1313.0,1483.0,1258.0,28.0,227.0,1555.0,861.0,103.0,634.0,1918.0,131.0,586.0,62.0,447.0,939.0,797.0,1143.0,415.0,30.0,187.0,251.0,237.0,91.0,35.0,493.0,971.0,371.0,396.0,68.0,322.0,317.0,222.0,177.0,45.0,21.0,45.0,1899.0,42.0,22.0,41.0,1440.0,325.0,95.0,42.0,72.0,20.0,789.0,15.0,59.0,908.0,417.0,289.0,769.0,188.0,354.0,727.0,146.0,319.0,794.0,454.0,152.0,797.0,1690.0,20.0,1428.0,209.0,545.0,96.0,222.0,61.0,44.0,8.0,817.0,1371.0,42.0,60.0,78.0,23.0,19.0,61.0,449.0,37.0,38.0,1131.0,34.0,294.0,48.0,289.0,30.0,125.0,156.0,70.0,22.0,65.0,1930.0,2283.0,310.0,1319.0,879.0,1244.0,690.0,209.0,1134.0,1507.0,57.0,529.0,1091.0,180.0,77.0,2349.0,534.0,556.0,637.0,46.0,44.0,47.0,795.0,586.0,1574.0,13.0,1471.0,65.0,175.0,40.0,1078.0,1115.0,134.0,1540.0,87.0,217.0,1034.0,1180.0,819.0,32.0,46.0,1159.0,860.0,1631.0,444.0,1910.0,380.0,736.0,269.0,2524.0,612.0,75.0,1045.0,55.0,1064.0,1443.0,1366.0,436.0,38.0,436.0,747.0,1396.0,928.0,642.0,1048.0,943.0,907.0,1198.0,120.0,1658.0,1638.0,73.0,275.0,854.0,78.0,106.0,106.0,1923.0,1662.0,84.0,48.0,5.0,733.0,1234.0,112.0,1658.0,55.0,1513.0,271.0,904.0,120.0,103.0,269.0,22.0,1156.0,1086.0,1128.0,72.0,964.0,1383.0,18.0,793.0,100.0,80.0,167.0,677.0,23.0,92.0,641.0,1106.0,1033.0,1174.0,25.0,240.0,20.0,102.0,1034.0,156.0,458.0,17.0,792.0,92.0,407.0,1269.0,841.0,633.0,1019.0,1315.0,54.0,2525.0,52.0,436.0,268.0,147.0,1798.0,137.0,507.0,15.0,1105.0,974.0,66.0,778.0,49.0,169.0,299.0,221.0,1682.0,155.0,892.0,58.0,311.0,95.0,424.0,47.0,339.0,1410.0,35.0,562.0,2352.0,1334.0,32.0,41.0,39.0,1141.0,710.0,401.0,506.0,1538.0,57.0,1722.0,270.0,31.0,882.0,16.0,311.0,227.0,1152.0,122.0,77.0,1289.0,561.0,211.0,233.0,1092.0,601.0,54.0,78.0,1095.0,244.0,116.0,15.0,425.0,734.0,638.0,894.0,41.0,31.0,34.0,1750.0,612.0,29.0,823.0,20.0,396.0,813.0,1179.0,138.0,55.0,1511.0,117.0,1730.0,32.0,67.0,335.0,825.0,694.0,1792.0,496.0,231.0,902.0,68.0,71.0,76.0,772.0,47.0,1586.0,1529.0,265.0,1603.0,2091.0,981.0,1533.0,82.0,244.0,36.0,404.0,71.0,1572.0,122.0,41.0,10.0,304.0,37.0,1754.0,815.0,1001.0,1157.0,688.0,1319.0,21.0,31.0,67.0,708.0,25.0,746.0,32.0,1695.0,1080.0,72.0,57.0,660.0,103.0,153.0,1220.0,279.0,745.0,264.0,2157.0,1526.0,69.0,1597.0,64.0,497.0,1067.0,31.0,211.0,877.0,11.0,2034.0,1991.0,1686.0,324.0,69.0,252.0,54.0,964.0,1327.0,68.0,60.0,55.0,1456.0,563.0,1504.0,564.0,1125.0,358.0,42.0,184.0,460.0,145.0,1376.0,792.0,1382.0,28.0,1033.0,882.0,2231.0,1101.0,369.0,48.0,467.0,44.0,38.0,81.0,167.0,45.0,664.0,622.0,48.0,461.0,1073.0,55.0,976.0,20.0,1149.0,43.0,224.0,101.0,209.0,968.0,1165.0,24.0,252.0,165.0,269.0,102.0,461.0,47.0,144.0,1338.0,917.0,318.0,253.0,502.0,119.0,1250.0,969.0,76.0,62.0,1382.0,84.0,255.0,43.0,398.0,76.0,902.0,823.0,1179.0,1921.0,185.0,433.0,34.0,907.0,416.0,44.0,1588.0,1797.0,40.0,1143.0,914.0,1502.0,1338.0,27.0,763.0,1331.0,525.0,9.0,953.0,68.0,131.0,882.0,1149.0,37.0,388.0,1428.0,1633.0,173.0,99.0,215.0,929.0,219.0,174.0,92.0,1052.0,275.0,587.0,1662.0,159.0,1024.0,35.0,1042.0,395.0,557.0,9.0,69.0,486.0,34.0,1365.0,13.0,1401.0,1574.0,1323.0,1217.0,103.0,84.0,1536.0,581.0,928.0,14.0,424.0,960.0,1555.0,656.0,55.0,20.0,367.0,2257.0,42.0,1049.0,48.0,685.0,39.0,43.0,835.0,1515.0,1039.0,1596.0,1828.0,34.0,149.0,946.0,28.0,450.0,46.0,1702.0,820.0,382.0,2126.0,2069.0,72.0,732.0,801.0,236.0,80.0,1685.0,277.0,507.0,68.0,49.0,397.0,39.0,306.0,976.0,1028.0,70.0,46.0,51.0,1263.0,1490.0,1564.0,1815.0,1198.0,416.0,85.0,47.0,137.0,21.0,70.0,909.0,1676.0,1735.0,1191.0,24.0,1182.0,1280.0,1336.0,749.0,91.0,414.0,44.0,63.0,901.0,38.0,455.0,775.0,15.0,38.0,1512.0,43.0,42.0,1089.0,162.0,1272.0,1173.0,816.0,74.0,134.0,157.0,561.0,1336.0,2092.0,463.0,1130.0,20.0,377.0,1544.0,138.0,1012.0,1766.0,45.0,161.0,144.0,1734.0,823.0,1138.0,1429.0,1371.0,982.0,44.0,318.0,434.0,198.0,359.0,576.0,88.0,63.0,27.0,193.0,101.0,2211.0,140.0,415.0,22.0,263.0,393.0,147.0,443.0,1958.0,174.0,2217.0,1691.0,25.0,809.0,895.0,484.0,413.0,331.0,25.0,13.0,115.0,16.0,92.0,52.0,1464.0,441.0,283.0,747.0,1870.0,165.0,1941.0,839.0,1655.0,23.0,66.0,37.0,21.0,22.0,78.0,79.0,265.0,1175.0,1305.0,46.0,25.0,46.0,874.0,100.0,930.0,868.0,45.0,1260.0,414.0,392.0,1109.0,639.0,79.0,1665.0,692.0,1392.0,44.0,50.0,467.0,223.0,158.0,1211.0,1575.0,1208.0,43.0,527.0,932.0,71.0,54.0,129.0,1615.0,1034.0,1088.0,721.0,137.0,47.0,1244.0,41.0,1174.0,993.0,100.0,1680.0,98.0,48.0,519.0,715.0,37.0,653.0,1455.0,602.0,26.0,102.0,97.0,207.0,176.0,450.0,433.0,1366.0,1564.0,1001.0,961.0,1518.0,56.0,22.0,400.0,26.0,350.0,1216.0,874.0,40.0,1367.0,264.0,2053.0,1376.0,45.0,976.0,51.0,1264.0,75.0,57.0,140.0,497.0,266.0,2006.0,615.0,1021.0,22.0,133.0,437.0,1013.0,57.0,1038.0,1573.0,28.0,123.0,13.0,132.0,732.0,66.0,1631.0,608.0,1822.0,1282.0,8.0,43.0,1931.0,8.0,103.0,1169.0,395.0,258.0,25.0,185.0,180.0,22.0,44.0,94.0,81.0,798.0,1334.0,38.0,61.0,300.0,88.0,54.0,1782.0,68.0,258.0,31.0,66.0,174.0,28.0,731.0,274.0,1701.0,312.0,414.0,1565.0,29.0,94.0,1338.0,1092.0,1479.0,54.0,568.0,1199.0,873.0,1213.0,731.0,2043.0,1893.0,424.0,575.0,257.0,56.0,542.0,125.0,69.0,40.0,1016.0,907.0,1566.0,1169.0,46.0,1644.0,59.0,17.0,1853.0,1528.0,35.0,141.0,546.0,500.0,61.0,106.0,704.0,424.0,849.0,85.0,199.0,1147.0,54.0,43.0,53.0,521.0,1623.0,45.0,1435.0,32.0,16.0,52.0,1234.0,15.0,415.0,470.0,1438.0,53.0,51.0,679.0,586.0,653.0,468.0,1679.0,50.0,84.0,1049.0,22.0,62.0,30.0,1341.0,444.0,1241.0,843.0,172.0],\"y0\":\" \",\"yaxis\":\"y\",\"type\":\"box\"},{\"alignmentgroup\":\"True\",\"hovertemplate\":\"variable=Educational_years\\u003cbr\\u003evalue=%{y}\\u003cextra\\u003e\\u003c\\u002fextra\\u003e\",\"legendgroup\":\"Educational_years\",\"marker\":{\"color\":\"#ab63fa\"},\"name\":\"Educational_years\",\"notched\":false,\"offsetgroup\":\"Educational_years\",\"orientation\":\"v\",\"showlegend\":true,\"x0\":\" \",\"xaxis\":\"x2\",\"y\":[12.0,12.0,12.0,12.0,21.0,18.0,12.0,21.0,21.0,21.0,12.0,5.0,12.0,18.0,12.0,21.0,12.0,12.0,18.0,8.0,12.0,12.0,21.0,21.0,12.0,12.0,12.0,12.0,12.0,21.0,18.0,18.0,12.0,21.0,18.0,18.0,21.0,8.0,12.0,21.0,12.0,18.0,12.0,21.0,18.0,12.0,8.0,12.0,12.0,21.0,12.0,18.0,12.0,12.0,12.0,18.0,12.0,12.0,12.0,21.0,18.0,12.0,12.0,21.0,12.0,12.0,12.0,8.0,12.0,12.0,18.0,8.0,12.0,21.0,12.0,12.0,18.0,12.0,8.0,12.0,12.0,12.0,8.0,18.0,12.0,12.0,18.0,12.0,12.0,12.0,21.0,12.0,18.0,18.0,21.0,12.0,12.0,12.0,8.0,21.0,8.0,21.0,12.0,21.0,12.0,5.0,12.0,12.0,12.0,18.0,12.0,21.0,18.0,12.0,21.0,12.0,12.0,8.0,8.0,12.0,18.0,18.0,18.0,12.0,12.0,8.0,12.0,18.0,21.0,21.0,12.0,18.0,12.0,12.0,21.0,21.0,5.0,21.0,21.0,21.0,18.0,18.0,12.0,21.0,12.0,12.0,12.0,12.0,8.0,18.0,18.0,12.0,8.0,12.0,21.0,12.0,12.0,12.0,12.0,12.0,18.0,21.0,12.0,21.0,21.0,12.0,12.0,12.0,12.0,12.0,12.0,12.0,12.0,21.0,12.0,21.0,21.0,21.0,12.0,8.0,21.0,8.0,18.0,18.0,5.0,12.0,21.0,12.0,12.0,21.0,5.0,21.0,8.0,12.0,12.0,12.0,18.0,12.0,12.0,21.0,12.0,12.0,12.0,21.0,21.0,18.0,12.0,18.0,12.0,12.0,12.0,12.0,21.0,18.0,12.0,12.0,8.0,18.0,18.0,12.0,8.0,12.0,21.0,21.0,12.0,12.0,12.0,12.0,21.0,21.0,12.0,8.0,12.0,12.0,21.0,8.0,18.0,21.0,12.0,8.0,12.0,12.0,12.0,12.0,12.0,21.0,12.0,12.0,21.0,18.0,18.0,12.0,12.0,8.0,12.0,21.0,21.0,12.0,12.0,21.0,12.0,21.0,18.0,21.0,18.0,18.0,12.0,21.0,12.0,12.0,12.0,18.0,21.0,12.0,12.0,21.0,12.0,18.0,21.0,18.0,5.0,12.0,12.0,21.0,18.0,12.0,12.0,18.0,12.0,18.0,8.0,12.0,12.0,12.0,12.0,18.0,8.0,18.0,12.0,21.0,12.0,8.0,21.0,12.0,12.0,18.0,12.0,12.0,18.0,18.0,12.0,12.0,12.0,18.0,12.0,18.0,12.0,12.0,12.0,12.0,12.0,12.0,21.0,21.0,12.0,12.0,21.0,12.0,21.0,21.0,12.0,21.0,21.0,18.0,12.0,12.0,12.0,12.0,12.0,21.0,12.0,12.0,21.0,21.0,5.0,12.0,12.0,12.0,12.0,18.0,12.0,12.0,21.0,12.0,21.0,12.0,12.0,21.0,18.0,21.0,12.0,21.0,12.0,21.0,12.0,12.0,12.0,12.0,12.0,21.0,8.0,12.0,18.0,12.0,21.0,18.0,12.0,12.0,21.0,12.0,21.0,12.0,12.0,8.0,18.0,12.0,18.0,12.0,12.0,21.0,12.0,18.0,12.0,21.0,18.0,21.0,12.0,12.0,12.0,8.0,8.0,12.0,12.0,12.0,21.0,12.0,21.0,21.0,21.0,12.0,8.0,12.0,21.0,12.0,12.0,21.0,8.0,12.0,12.0,18.0,21.0,12.0,18.0,18.0,21.0,12.0,12.0,12.0,8.0,12.0,21.0,12.0,8.0,12.0,12.0,18.0,12.0,18.0,21.0,8.0,12.0,21.0,12.0,12.0,8.0,12.0,18.0,12.0,12.0,21.0,12.0,12.0,18.0,8.0,12.0,12.0,8.0,18.0,12.0,8.0,12.0,12.0,21.0,12.0,12.0,21.0,21.0,12.0,12.0,21.0,12.0,12.0,21.0,12.0,12.0,12.0,21.0,18.0,21.0,12.0,18.0,18.0,12.0,12.0,18.0,21.0,18.0,12.0,12.0,8.0,21.0,12.0,12.0,18.0,21.0,18.0,12.0,21.0,21.0,12.0,12.0,18.0,5.0,21.0,18.0,12.0,12.0,12.0,12.0,12.0,21.0,12.0,12.0,18.0,21.0,18.0,12.0,12.0,12.0,18.0,12.0,18.0,12.0,12.0,12.0,12.0,21.0,18.0,12.0,21.0,8.0,12.0,18.0,12.0,12.0,18.0,12.0,12.0,8.0,18.0,8.0,12.0,21.0,21.0,12.0,8.0,12.0,12.0,12.0,18.0,8.0,12.0,21.0,12.0,18.0,12.0,21.0,12.0,8.0,12.0,12.0,12.0,18.0,8.0,21.0,21.0,12.0,18.0,12.0,12.0,12.0,21.0,8.0,21.0,18.0,21.0,12.0,12.0,21.0,18.0,21.0,12.0,8.0,18.0,12.0,8.0,12.0,18.0,12.0,12.0,21.0,18.0,18.0,12.0,21.0,18.0,12.0,18.0,8.0,12.0,12.0,12.0,12.0,21.0,18.0,18.0,12.0,12.0,5.0,12.0,18.0,18.0,5.0,12.0,21.0,12.0,18.0,21.0,12.0,18.0,21.0,12.0,12.0,8.0,8.0,12.0,12.0,12.0,21.0,12.0,21.0,21.0,8.0,8.0,12.0,12.0,12.0,12.0,18.0,12.0,12.0,21.0,21.0,12.0,18.0,21.0,12.0,18.0,18.0,12.0,18.0,12.0,12.0,21.0,12.0,12.0,12.0,8.0,21.0,21.0,12.0,12.0,12.0,5.0,18.0,12.0,21.0,5.0,21.0,8.0,21.0,18.0,12.0,12.0,21.0,12.0,21.0,12.0,8.0,21.0,12.0,12.0,8.0,12.0,12.0,21.0,21.0,21.0,21.0,21.0,21.0,12.0,18.0,5.0,18.0,18.0,12.0,21.0,12.0,12.0,12.0,12.0,12.0,18.0,18.0,12.0,21.0,12.0,21.0,18.0,12.0,18.0,12.0,12.0,12.0,21.0,8.0,12.0,12.0,12.0,18.0,12.0,21.0,12.0,12.0,12.0,12.0,18.0,18.0,12.0,21.0,21.0,12.0,21.0,12.0,12.0,12.0,18.0,5.0,12.0,21.0,18.0,21.0,8.0,12.0,12.0,8.0,12.0,12.0,8.0,21.0,21.0,12.0,12.0,12.0,8.0,21.0,12.0,18.0,21.0,8.0,12.0,18.0,21.0,12.0,12.0,12.0,12.0,8.0,18.0,12.0,21.0,12.0,12.0,21.0,12.0,21.0,21.0,18.0,12.0,21.0,12.0,12.0,12.0,12.0,5.0,18.0,21.0,18.0,12.0,18.0,21.0,12.0,12.0,12.0,18.0,21.0,8.0,12.0,12.0,18.0,12.0,12.0,21.0,12.0,18.0,18.0,12.0,12.0,12.0,12.0,12.0,12.0,18.0,21.0,21.0,12.0,12.0,12.0,8.0,21.0,12.0,12.0,12.0,12.0,8.0,12.0,12.0,21.0,12.0,21.0,12.0,21.0,8.0,12.0,12.0,18.0,12.0,8.0,12.0,12.0,12.0,12.0,12.0,8.0,12.0,8.0,18.0,12.0,12.0,12.0,21.0,8.0,21.0,21.0,12.0,18.0,12.0,12.0,8.0,12.0,18.0,12.0,8.0,8.0,21.0,18.0,18.0,12.0,12.0,21.0,12.0,12.0,8.0,18.0,12.0,18.0,12.0,18.0,8.0,12.0,12.0,12.0,8.0,21.0,21.0,21.0,12.0,12.0,18.0,12.0,18.0,12.0,5.0,21.0,21.0,12.0,12.0,21.0,12.0,12.0,12.0,12.0,12.0,12.0,12.0,12.0,12.0,12.0,21.0,21.0,12.0,21.0,18.0,12.0,12.0,18.0,21.0,8.0,21.0,21.0,12.0,18.0,21.0,12.0,18.0,12.0,8.0,12.0,21.0,21.0,12.0,21.0,5.0,12.0,21.0,12.0,21.0,12.0,21.0,8.0,21.0,12.0,12.0,5.0,21.0,8.0,12.0,12.0,8.0,21.0,21.0,18.0,21.0,18.0,21.0,12.0,12.0,12.0,21.0,12.0,21.0,18.0,21.0,12.0,12.0,12.0,12.0,21.0,12.0,12.0,21.0,8.0,8.0,18.0,12.0,18.0,18.0,12.0,12.0,8.0,12.0,18.0,12.0,12.0,21.0,21.0,12.0,8.0,21.0,12.0,8.0,18.0,12.0,12.0,12.0,12.0,12.0,12.0,12.0,21.0,21.0,8.0,12.0,21.0,12.0,18.0,12.0,12.0,21.0,12.0,21.0,12.0,18.0,18.0,18.0,8.0,12.0,12.0,12.0,12.0,21.0,21.0,18.0,12.0,21.0,12.0,5.0,21.0,8.0,12.0,12.0,12.0,8.0,12.0,12.0,21.0,18.0,21.0,12.0,12.0,12.0,12.0,12.0,12.0,18.0,18.0,21.0,12.0,12.0,8.0,21.0,21.0,8.0,18.0,12.0,12.0,21.0,12.0,12.0,18.0,12.0,21.0,21.0,21.0,12.0,12.0,8.0,12.0,12.0,21.0,12.0,12.0,12.0,12.0,12.0,21.0,8.0,18.0,21.0,12.0,12.0,12.0,12.0,18.0,12.0,12.0,21.0,12.0,21.0,21.0,21.0,12.0,21.0,21.0,12.0,12.0,8.0,18.0,12.0,12.0,8.0,12.0,12.0,12.0,21.0,21.0,8.0,8.0,12.0,12.0,8.0,21.0,18.0,21.0,12.0,21.0,18.0,5.0,8.0,12.0,21.0,18.0,12.0,12.0,12.0,12.0,12.0,5.0,8.0,18.0,12.0,12.0,12.0,12.0,8.0,21.0,21.0,18.0,12.0,18.0,12.0,8.0,21.0,12.0,18.0,12.0,12.0,21.0,12.0,21.0,12.0,12.0,12.0,18.0,21.0,12.0,12.0,12.0,12.0,12.0,12.0,12.0,12.0,21.0,12.0,8.0,12.0,12.0,12.0,5.0,8.0,21.0,18.0,5.0,18.0,18.0,12.0,12.0,18.0,12.0,12.0,21.0,5.0,12.0,12.0,12.0,21.0,21.0,8.0,18.0,18.0,12.0,12.0,18.0,18.0,8.0,18.0,21.0,8.0,12.0,12.0,18.0,12.0,18.0,18.0,21.0,12.0,21.0,12.0,12.0,12.0,12.0,12.0,12.0,12.0,12.0,21.0,21.0,12.0,5.0,12.0,8.0,12.0,21.0,21.0,21.0,12.0,18.0,18.0,12.0,21.0,12.0,12.0,21.0,12.0,18.0,12.0,12.0,12.0,5.0,21.0,12.0,18.0,21.0,12.0,5.0,12.0,21.0,12.0,21.0,12.0,21.0,12.0,12.0,21.0,8.0,12.0,12.0,12.0,21.0,21.0,18.0,12.0,12.0,12.0,21.0,12.0,21.0,8.0,12.0,18.0,12.0,18.0,18.0,12.0,18.0,12.0,12.0,12.0,12.0,8.0,21.0,18.0,5.0,12.0,21.0,8.0,18.0,12.0,12.0,12.0,8.0,21.0,21.0,18.0,21.0,12.0,12.0,12.0,18.0,12.0,8.0,12.0,12.0,12.0,12.0,21.0,12.0,12.0,21.0,18.0,18.0,8.0,8.0,21.0,12.0,8.0,12.0,12.0,18.0,18.0,12.0,12.0,5.0,18.0,12.0,21.0,18.0,21.0,12.0,12.0,12.0,12.0,18.0,12.0,12.0,18.0,12.0,12.0,12.0,18.0,18.0,12.0,5.0,12.0,8.0,21.0,12.0,21.0,21.0,12.0,12.0,12.0,12.0,12.0,12.0,21.0,12.0,18.0,12.0,5.0,12.0,8.0,8.0,18.0,12.0,12.0,18.0,12.0,12.0,8.0,18.0,21.0,21.0,12.0,12.0,12.0,18.0,18.0,18.0,8.0,12.0,8.0,12.0,12.0,21.0,8.0,12.0,12.0,18.0,12.0,21.0,8.0,21.0,18.0,12.0,12.0,18.0,21.0,12.0,12.0,12.0,12.0,18.0,21.0,18.0,18.0,12.0,21.0,21.0,12.0,18.0,12.0,12.0,12.0,5.0,12.0,12.0,12.0,21.0,8.0,12.0,21.0,12.0,12.0,21.0,21.0,8.0,12.0,18.0,8.0,12.0,12.0,12.0,8.0,12.0,8.0,12.0,12.0,12.0,18.0,12.0,18.0,12.0,12.0,8.0,12.0,21.0,8.0,12.0,12.0,12.0,21.0,21.0,12.0,12.0,12.0,12.0,21.0,18.0,12.0,21.0,12.0,18.0,18.0,12.0,12.0,21.0,12.0,8.0,12.0,12.0,21.0,12.0,12.0,18.0,21.0,18.0,21.0,12.0,12.0,8.0,12.0,8.0,18.0,18.0,21.0,12.0,18.0,21.0,21.0,12.0,12.0,12.0,12.0,12.0,21.0,12.0,12.0,18.0,8.0,12.0,18.0,21.0,18.0,18.0,8.0,21.0,12.0,12.0,18.0,12.0,12.0,8.0,12.0,12.0,12.0,18.0,12.0,21.0,12.0,12.0,21.0,12.0,12.0,21.0,12.0,21.0,12.0,8.0,8.0,21.0,18.0,8.0,8.0,12.0,21.0,21.0,18.0,12.0,18.0,12.0,21.0,12.0,18.0,8.0,12.0,12.0,8.0,18.0,8.0,12.0,12.0,12.0,18.0,18.0,12.0,12.0,21.0,12.0,18.0,12.0,12.0,12.0,12.0,18.0,12.0,21.0,21.0,21.0,12.0,18.0,18.0,12.0,21.0,12.0,21.0,12.0,18.0,12.0,18.0,12.0,18.0,12.0,21.0,18.0,12.0,12.0,12.0,21.0,12.0,5.0,18.0,21.0,21.0,18.0,12.0,12.0,21.0,18.0,18.0,18.0,12.0,12.0,21.0,12.0,8.0,18.0,21.0,12.0,8.0,12.0,12.0,12.0,12.0,12.0,12.0,12.0,18.0,21.0,12.0,8.0,12.0,12.0,21.0,21.0,21.0,12.0,8.0,21.0,21.0,21.0,12.0,21.0,21.0,12.0,12.0,12.0,18.0,18.0,21.0,12.0,5.0,8.0,18.0,18.0,12.0,12.0,21.0,12.0,12.0,12.0,12.0,21.0,18.0,18.0,21.0,8.0,12.0,21.0,12.0,12.0,12.0,21.0,8.0,21.0,21.0,21.0,21.0,21.0,12.0,18.0,8.0,12.0,8.0,12.0,5.0,21.0,12.0,12.0,12.0,21.0,21.0,12.0,12.0,18.0,12.0,12.0,12.0,12.0,18.0,21.0,8.0,12.0,12.0,8.0,21.0,21.0,18.0,12.0,18.0,12.0,21.0,5.0,21.0,18.0,12.0,12.0,21.0,12.0,18.0,12.0,12.0,5.0,12.0,12.0,12.0,12.0,21.0,12.0,21.0,12.0,21.0,21.0,18.0,12.0,5.0,18.0,12.0,21.0,12.0,12.0,12.0,8.0,12.0,12.0,12.0,12.0,21.0,12.0,12.0,21.0,12.0,21.0,12.0,5.0,18.0,12.0,21.0,21.0,12.0,8.0,21.0,12.0,5.0,12.0,18.0,21.0,12.0,8.0,8.0,12.0,12.0,8.0,12.0,21.0,12.0,5.0,18.0,21.0,21.0,12.0,21.0,12.0,12.0,12.0,21.0,21.0,8.0,5.0,21.0,12.0,12.0,12.0,12.0,12.0,12.0,8.0,12.0,12.0,21.0,8.0,12.0,12.0,18.0,12.0,18.0,12.0,8.0,12.0,12.0,18.0,12.0,12.0,12.0,21.0,12.0,12.0,21.0,12.0,21.0,18.0,12.0,12.0,21.0,8.0,12.0,12.0,21.0,12.0,18.0,18.0,12.0,8.0,12.0,21.0,12.0,18.0,18.0,12.0,12.0,21.0,12.0,12.0,12.0,21.0,12.0,8.0,21.0,21.0,18.0,18.0,18.0,18.0,21.0,21.0,12.0,21.0,12.0,8.0,12.0,21.0,12.0,21.0,18.0,18.0,18.0,21.0,12.0,21.0,8.0,12.0,12.0,12.0,12.0,18.0,12.0,18.0,8.0,21.0,12.0,12.0,21.0,12.0,8.0,18.0,12.0,21.0,12.0,21.0,21.0,21.0,18.0,21.0,12.0,21.0,21.0,12.0,12.0,21.0,18.0,12.0,12.0,12.0,12.0,5.0,21.0,21.0,21.0,21.0,12.0,18.0,12.0,12.0,12.0,21.0,12.0,12.0,18.0,8.0,12.0,18.0,12.0,21.0,12.0,12.0,21.0,12.0,21.0,8.0,8.0,12.0,18.0,12.0,18.0,21.0,12.0,12.0,18.0,21.0,21.0,18.0,18.0,12.0,8.0,21.0,21.0,18.0,12.0,21.0,12.0,12.0,12.0,18.0,12.0,12.0,18.0,12.0,12.0,21.0,12.0,12.0,21.0,21.0,21.0,12.0,12.0,12.0,21.0,18.0,21.0,12.0,12.0,12.0,12.0,12.0,12.0,12.0,18.0,12.0,12.0,12.0,12.0,8.0,12.0,8.0,21.0,12.0,18.0,12.0,21.0,12.0,18.0,12.0,12.0,12.0,12.0,12.0,12.0,21.0,18.0,18.0,12.0,12.0,8.0,12.0,21.0,21.0,8.0,12.0,21.0,12.0,12.0,18.0,12.0,12.0,12.0,21.0,21.0,12.0,12.0,12.0,5.0,12.0,8.0,12.0,12.0,12.0,12.0,12.0,18.0,12.0,18.0,21.0,18.0,12.0,12.0,18.0,8.0,21.0,12.0,12.0,12.0,12.0,12.0,12.0,12.0,12.0,12.0,12.0,12.0,12.0,18.0,12.0,12.0,12.0,12.0,12.0,8.0,12.0,12.0,12.0,18.0,12.0,12.0,12.0,21.0,12.0,18.0,12.0,21.0,21.0,12.0,12.0,12.0,12.0,21.0,12.0,12.0,12.0,12.0,12.0,21.0,12.0,12.0,18.0,5.0,12.0,18.0,12.0,12.0,12.0,12.0,18.0,12.0,8.0,12.0,12.0,18.0,18.0,5.0,12.0,12.0,18.0,21.0,12.0,12.0,18.0,12.0,18.0,21.0,8.0,21.0,5.0,5.0,18.0,12.0,18.0,12.0,12.0,21.0,12.0,18.0,18.0,18.0,8.0,21.0,18.0,12.0,18.0,8.0,12.0,8.0,12.0,12.0,12.0,21.0,21.0,12.0,12.0,18.0,21.0,5.0,18.0,12.0,12.0,12.0,18.0,18.0,12.0,12.0,12.0,12.0,12.0,12.0,21.0,18.0,21.0,21.0,18.0,12.0,12.0,12.0,18.0,8.0,8.0,18.0,21.0,12.0,21.0,12.0,12.0,8.0,5.0,21.0,12.0,18.0,12.0,12.0,12.0,8.0,12.0,12.0,12.0,21.0,18.0,21.0,12.0,12.0,12.0,21.0,12.0,5.0,8.0,12.0,18.0,21.0,18.0,5.0,18.0,12.0,12.0,8.0,12.0,18.0,12.0,12.0,12.0,12.0,5.0,12.0,21.0,12.0,12.0,12.0,12.0,12.0,5.0,12.0,8.0,12.0,18.0,8.0,12.0,12.0,12.0,21.0,12.0,18.0,12.0,18.0,8.0,18.0,21.0,12.0,12.0,12.0,8.0,12.0,12.0,18.0,12.0,12.0,12.0,12.0,21.0,12.0,18.0,21.0],\"y0\":\" \",\"yaxis\":\"y2\",\"type\":\"box\"}],                        {\"template\":{\"data\":{\"histogram2dcontour\":[{\"type\":\"histogram2dcontour\",\"colorbar\":{\"outlinewidth\":0,\"ticks\":\"\"},\"colorscale\":[[0.0,\"#0d0887\"],[0.1111111111111111,\"#46039f\"],[0.2222222222222222,\"#7201a8\"],[0.3333333333333333,\"#9c179e\"],[0.4444444444444444,\"#bd3786\"],[0.5555555555555556,\"#d8576b\"],[0.6666666666666666,\"#ed7953\"],[0.7777777777777778,\"#fb9f3a\"],[0.8888888888888888,\"#fdca26\"],[1.0,\"#f0f921\"]]}],\"choropleth\":[{\"type\":\"choropleth\",\"colorbar\":{\"outlinewidth\":0,\"ticks\":\"\"}}],\"histogram2d\":[{\"type\":\"histogram2d\",\"colorbar\":{\"outlinewidth\":0,\"ticks\":\"\"},\"colorscale\":[[0.0,\"#0d0887\"],[0.1111111111111111,\"#46039f\"],[0.2222222222222222,\"#7201a8\"],[0.3333333333333333,\"#9c179e\"],[0.4444444444444444,\"#bd3786\"],[0.5555555555555556,\"#d8576b\"],[0.6666666666666666,\"#ed7953\"],[0.7777777777777778,\"#fb9f3a\"],[0.8888888888888888,\"#fdca26\"],[1.0,\"#f0f921\"]]}],\"heatmap\":[{\"type\":\"heatmap\",\"colorbar\":{\"outlinewidth\":0,\"ticks\":\"\"},\"colorscale\":[[0.0,\"#0d0887\"],[0.1111111111111111,\"#46039f\"],[0.2222222222222222,\"#7201a8\"],[0.3333333333333333,\"#9c179e\"],[0.4444444444444444,\"#bd3786\"],[0.5555555555555556,\"#d8576b\"],[0.6666666666666666,\"#ed7953\"],[0.7777777777777778,\"#fb9f3a\"],[0.8888888888888888,\"#fdca26\"],[1.0,\"#f0f921\"]]}],\"heatmapgl\":[{\"type\":\"heatmapgl\",\"colorbar\":{\"outlinewidth\":0,\"ticks\":\"\"},\"colorscale\":[[0.0,\"#0d0887\"],[0.1111111111111111,\"#46039f\"],[0.2222222222222222,\"#7201a8\"],[0.3333333333333333,\"#9c179e\"],[0.4444444444444444,\"#bd3786\"],[0.5555555555555556,\"#d8576b\"],[0.6666666666666666,\"#ed7953\"],[0.7777777777777778,\"#fb9f3a\"],[0.8888888888888888,\"#fdca26\"],[1.0,\"#f0f921\"]]}],\"contourcarpet\":[{\"type\":\"contourcarpet\",\"colorbar\":{\"outlinewidth\":0,\"ticks\":\"\"}}],\"contour\":[{\"type\":\"contour\",\"colorbar\":{\"outlinewidth\":0,\"ticks\":\"\"},\"colorscale\":[[0.0,\"#0d0887\"],[0.1111111111111111,\"#46039f\"],[0.2222222222222222,\"#7201a8\"],[0.3333333333333333,\"#9c179e\"],[0.4444444444444444,\"#bd3786\"],[0.5555555555555556,\"#d8576b\"],[0.6666666666666666,\"#ed7953\"],[0.7777777777777778,\"#fb9f3a\"],[0.8888888888888888,\"#fdca26\"],[1.0,\"#f0f921\"]]}],\"surface\":[{\"type\":\"surface\",\"colorbar\":{\"outlinewidth\":0,\"ticks\":\"\"},\"colorscale\":[[0.0,\"#0d0887\"],[0.1111111111111111,\"#46039f\"],[0.2222222222222222,\"#7201a8\"],[0.3333333333333333,\"#9c179e\"],[0.4444444444444444,\"#bd3786\"],[0.5555555555555556,\"#d8576b\"],[0.6666666666666666,\"#ed7953\"],[0.7777777777777778,\"#fb9f3a\"],[0.8888888888888888,\"#fdca26\"],[1.0,\"#f0f921\"]]}],\"mesh3d\":[{\"type\":\"mesh3d\",\"colorbar\":{\"outlinewidth\":0,\"ticks\":\"\"}}],\"scatter\":[{\"fillpattern\":{\"fillmode\":\"overlay\",\"size\":10,\"solidity\":0.2},\"type\":\"scatter\"}],\"parcoords\":[{\"type\":\"parcoords\",\"line\":{\"colorbar\":{\"outlinewidth\":0,\"ticks\":\"\"}}}],\"scatterpolargl\":[{\"type\":\"scatterpolargl\",\"marker\":{\"colorbar\":{\"outlinewidth\":0,\"ticks\":\"\"}}}],\"bar\":[{\"error_x\":{\"color\":\"#2a3f5f\"},\"error_y\":{\"color\":\"#2a3f5f\"},\"marker\":{\"line\":{\"color\":\"#E5ECF6\",\"width\":0.5},\"pattern\":{\"fillmode\":\"overlay\",\"size\":10,\"solidity\":0.2}},\"type\":\"bar\"}],\"scattergeo\":[{\"type\":\"scattergeo\",\"marker\":{\"colorbar\":{\"outlinewidth\":0,\"ticks\":\"\"}}}],\"scatterpolar\":[{\"type\":\"scatterpolar\",\"marker\":{\"colorbar\":{\"outlinewidth\":0,\"ticks\":\"\"}}}],\"histogram\":[{\"marker\":{\"pattern\":{\"fillmode\":\"overlay\",\"size\":10,\"solidity\":0.2}},\"type\":\"histogram\"}],\"scattergl\":[{\"type\":\"scattergl\",\"marker\":{\"colorbar\":{\"outlinewidth\":0,\"ticks\":\"\"}}}],\"scatter3d\":[{\"type\":\"scatter3d\",\"line\":{\"colorbar\":{\"outlinewidth\":0,\"ticks\":\"\"}},\"marker\":{\"colorbar\":{\"outlinewidth\":0,\"ticks\":\"\"}}}],\"scattermapbox\":[{\"type\":\"scattermapbox\",\"marker\":{\"colorbar\":{\"outlinewidth\":0,\"ticks\":\"\"}}}],\"scatterternary\":[{\"type\":\"scatterternary\",\"marker\":{\"colorbar\":{\"outlinewidth\":0,\"ticks\":\"\"}}}],\"scattercarpet\":[{\"type\":\"scattercarpet\",\"marker\":{\"colorbar\":{\"outlinewidth\":0,\"ticks\":\"\"}}}],\"carpet\":[{\"aaxis\":{\"endlinecolor\":\"#2a3f5f\",\"gridcolor\":\"white\",\"linecolor\":\"white\",\"minorgridcolor\":\"white\",\"startlinecolor\":\"#2a3f5f\"},\"baxis\":{\"endlinecolor\":\"#2a3f5f\",\"gridcolor\":\"white\",\"linecolor\":\"white\",\"minorgridcolor\":\"white\",\"startlinecolor\":\"#2a3f5f\"},\"type\":\"carpet\"}],\"table\":[{\"cells\":{\"fill\":{\"color\":\"#EBF0F8\"},\"line\":{\"color\":\"white\"}},\"header\":{\"fill\":{\"color\":\"#C8D4E3\"},\"line\":{\"color\":\"white\"}},\"type\":\"table\"}],\"barpolar\":[{\"marker\":{\"line\":{\"color\":\"#E5ECF6\",\"width\":0.5},\"pattern\":{\"fillmode\":\"overlay\",\"size\":10,\"solidity\":0.2}},\"type\":\"barpolar\"}],\"pie\":[{\"automargin\":true,\"type\":\"pie\"}]},\"layout\":{\"autotypenumbers\":\"strict\",\"colorway\":[\"#636efa\",\"#EF553B\",\"#00cc96\",\"#ab63fa\",\"#FFA15A\",\"#19d3f3\",\"#FF6692\",\"#B6E880\",\"#FF97FF\",\"#FECB52\"],\"font\":{\"color\":\"#2a3f5f\"},\"hovermode\":\"closest\",\"hoverlabel\":{\"align\":\"left\"},\"paper_bgcolor\":\"white\",\"plot_bgcolor\":\"#E5ECF6\",\"polar\":{\"bgcolor\":\"#E5ECF6\",\"angularaxis\":{\"gridcolor\":\"white\",\"linecolor\":\"white\",\"ticks\":\"\"},\"radialaxis\":{\"gridcolor\":\"white\",\"linecolor\":\"white\",\"ticks\":\"\"}},\"ternary\":{\"bgcolor\":\"#E5ECF6\",\"aaxis\":{\"gridcolor\":\"white\",\"linecolor\":\"white\",\"ticks\":\"\"},\"baxis\":{\"gridcolor\":\"white\",\"linecolor\":\"white\",\"ticks\":\"\"},\"caxis\":{\"gridcolor\":\"white\",\"linecolor\":\"white\",\"ticks\":\"\"}},\"coloraxis\":{\"colorbar\":{\"outlinewidth\":0,\"ticks\":\"\"}},\"colorscale\":{\"sequential\":[[0.0,\"#0d0887\"],[0.1111111111111111,\"#46039f\"],[0.2222222222222222,\"#7201a8\"],[0.3333333333333333,\"#9c179e\"],[0.4444444444444444,\"#bd3786\"],[0.5555555555555556,\"#d8576b\"],[0.6666666666666666,\"#ed7953\"],[0.7777777777777778,\"#fb9f3a\"],[0.8888888888888888,\"#fdca26\"],[1.0,\"#f0f921\"]],\"sequentialminus\":[[0.0,\"#0d0887\"],[0.1111111111111111,\"#46039f\"],[0.2222222222222222,\"#7201a8\"],[0.3333333333333333,\"#9c179e\"],[0.4444444444444444,\"#bd3786\"],[0.5555555555555556,\"#d8576b\"],[0.6666666666666666,\"#ed7953\"],[0.7777777777777778,\"#fb9f3a\"],[0.8888888888888888,\"#fdca26\"],[1.0,\"#f0f921\"]],\"diverging\":[[0,\"#8e0152\"],[0.1,\"#c51b7d\"],[0.2,\"#de77ae\"],[0.3,\"#f1b6da\"],[0.4,\"#fde0ef\"],[0.5,\"#f7f7f7\"],[0.6,\"#e6f5d0\"],[0.7,\"#b8e186\"],[0.8,\"#7fbc41\"],[0.9,\"#4d9221\"],[1,\"#276419\"]]},\"xaxis\":{\"gridcolor\":\"white\",\"linecolor\":\"white\",\"ticks\":\"\",\"title\":{\"standoff\":15},\"zerolinecolor\":\"white\",\"automargin\":true,\"zerolinewidth\":2},\"yaxis\":{\"gridcolor\":\"white\",\"linecolor\":\"white\",\"ticks\":\"\",\"title\":{\"standoff\":15},\"zerolinecolor\":\"white\",\"automargin\":true,\"zerolinewidth\":2},\"scene\":{\"xaxis\":{\"backgroundcolor\":\"#E5ECF6\",\"gridcolor\":\"white\",\"linecolor\":\"white\",\"showbackground\":true,\"ticks\":\"\",\"zerolinecolor\":\"white\",\"gridwidth\":2},\"yaxis\":{\"backgroundcolor\":\"#E5ECF6\",\"gridcolor\":\"white\",\"linecolor\":\"white\",\"showbackground\":true,\"ticks\":\"\",\"zerolinecolor\":\"white\",\"gridwidth\":2},\"zaxis\":{\"backgroundcolor\":\"#E5ECF6\",\"gridcolor\":\"white\",\"linecolor\":\"white\",\"showbackground\":true,\"ticks\":\"\",\"zerolinecolor\":\"white\",\"gridwidth\":2}},\"shapedefaults\":{\"line\":{\"color\":\"#2a3f5f\"}},\"annotationdefaults\":{\"arrowcolor\":\"#2a3f5f\",\"arrowhead\":0,\"arrowwidth\":1},\"geo\":{\"bgcolor\":\"white\",\"landcolor\":\"#E5ECF6\",\"subunitcolor\":\"white\",\"showland\":true,\"showlakes\":true,\"lakecolor\":\"white\"},\"title\":{\"x\":0.05},\"mapbox\":{\"style\":\"light\"}}},\"xaxis\":{\"anchor\":\"y\",\"domain\":[0.0,0.49],\"showline\":true,\"linewidth\":2,\"linecolor\":\"grey\"},\"yaxis\":{\"anchor\":\"x\",\"domain\":[0.0,0.46499999999999997],\"title\":{\"text\":\"value\"},\"showticklabels\":true,\"showline\":true,\"linewidth\":2,\"linecolor\":\"grey\"},\"xaxis2\":{\"anchor\":\"y2\",\"domain\":[0.51,1.0],\"matches\":\"x\",\"showline\":true,\"linewidth\":2,\"linecolor\":\"grey\"},\"yaxis2\":{\"anchor\":\"x2\",\"domain\":[0.0,0.46499999999999997],\"showticklabels\":true,\"showline\":true,\"linewidth\":2,\"linecolor\":\"grey\"},\"xaxis3\":{\"anchor\":\"y3\",\"domain\":[0.0,0.49],\"matches\":\"x\",\"showticklabels\":false,\"showline\":true,\"linewidth\":2,\"linecolor\":\"grey\"},\"yaxis3\":{\"anchor\":\"x3\",\"domain\":[0.5349999999999999,0.9999999999999999],\"title\":{\"text\":\"value\"},\"showticklabels\":true,\"showline\":true,\"linewidth\":2,\"linecolor\":\"grey\"},\"xaxis4\":{\"anchor\":\"y4\",\"domain\":[0.51,1.0],\"matches\":\"x\",\"showticklabels\":false,\"showline\":true,\"linewidth\":2,\"linecolor\":\"grey\"},\"yaxis4\":{\"anchor\":\"x4\",\"domain\":[0.5349999999999999,0.9999999999999999],\"showticklabels\":true,\"showline\":true,\"linewidth\":2,\"linecolor\":\"grey\"},\"annotations\":[{\"font\":{},\"showarrow\":false,\"text\":\"variable=Spending\",\"x\":0.245,\"xanchor\":\"center\",\"xref\":\"paper\",\"y\":0.46499999999999997,\"yanchor\":\"bottom\",\"yref\":\"paper\"},{\"font\":{},\"showarrow\":false,\"text\":\"variable=Educational_years\",\"x\":0.755,\"xanchor\":\"center\",\"xref\":\"paper\",\"y\":0.46499999999999997,\"yanchor\":\"bottom\",\"yref\":\"paper\"},{\"font\":{},\"showarrow\":false,\"text\":\"variable=Age\",\"x\":0.245,\"xanchor\":\"center\",\"xref\":\"paper\",\"y\":0.9999999999999999,\"yanchor\":\"bottom\",\"yref\":\"paper\"},{\"font\":{},\"showarrow\":false,\"text\":\"variable=Income\",\"x\":0.755,\"xanchor\":\"center\",\"xref\":\"paper\",\"y\":0.9999999999999999,\"yanchor\":\"bottom\",\"yref\":\"paper\"}],\"legend\":{\"title\":{\"text\":\"variable\"},\"tracegroupgap\":0},\"margin\":{\"t\":60},\"boxmode\":\"overlay\",\"height\":1000,\"width\":900,\"showlegend\":false},                        {\"responsive\": true}                    ).then(function(){\n",
              "                            \n",
              "var gd = document.getElementById('87a0ecfc-08f2-47af-a3b0-c6c5f7747567');\n",
              "var x = new MutationObserver(function (mutations, observer) {{\n",
              "        var display = window.getComputedStyle(gd).display;\n",
              "        if (!display || display === 'none') {{\n",
              "            console.log([gd, 'removed!']);\n",
              "            Plotly.purge(gd);\n",
              "            observer.disconnect();\n",
              "        }}\n",
              "}});\n",
              "\n",
              "// Listen for the removal of the full notebook cells\n",
              "var notebookContainer = gd.closest('#notebook-container');\n",
              "if (notebookContainer) {{\n",
              "    x.observe(notebookContainer, {childList: true});\n",
              "}}\n",
              "\n",
              "// Listen for the clearing of the current output cell\n",
              "var outputEl = gd.closest('.output');\n",
              "if (outputEl) {{\n",
              "    x.observe(outputEl, {childList: true});\n",
              "}}\n",
              "\n",
              "                        })                };                            </script>        </div>\n",
              "</body>\n",
              "</html>"
            ]
          },
          "metadata": {}
        }
      ]
    },
    {
      "cell_type": "markdown",
      "source": [
        "* Variable age, which has 3 values that are greater than the upper fence (74) we won't remove it\n",
        "\n",
        "* For income, we will remove the value 666k which identified as Extreme Outlier\n",
        "\n",
        "* For the spending, we will keep the outlier value"
      ],
      "metadata": {
        "id": "41PBCLYMsGX7"
      }
    },
    {
      "cell_type": "code",
      "source": [
        "data= data.drop(data[data[\"Income\"] > 600000].index).reset_index(drop=True)\n",
        "data"
      ],
      "metadata": {
        "colab": {
          "base_uri": "https://localhost:8080/",
          "height": 423
        },
        "id": "HP_Hc4ktuyqR",
        "outputId": "b5ab310b-0741-4bb7-9122-422aacf9dcfc"
      },
      "execution_count": null,
      "outputs": [
        {
          "output_type": "execute_result",
          "data": {
            "text/plain": [
              "      Age   Income  Spending Marital_Situation Has_child   Education  \\\n",
              "0      57 58138.00      1617             Alone        No  Graduation   \n",
              "1      60 46344.00        27             Alone       Yes  Graduation   \n",
              "2      49 71613.00       776   In relationship        No  Graduation   \n",
              "3      30 26646.00        53   In relationship       Yes  Graduation   \n",
              "4      33 58293.00       422   In relationship       Yes         PhD   \n",
              "...   ...      ...       ...               ...       ...         ...   \n",
              "2234   47 61223.00      1341   In relationship       Yes  Graduation   \n",
              "2235   68 64014.00       444   In relationship       Yes         PhD   \n",
              "2236   33 56981.00      1241             Alone        No  Graduation   \n",
              "2237   58 69245.00       843   In relationship       Yes      Master   \n",
              "2238   60 52869.00       172   In relationship       Yes         PhD   \n",
              "\n",
              "      Educational_years  \n",
              "0                    12  \n",
              "1                    12  \n",
              "2                    12  \n",
              "3                    12  \n",
              "4                    21  \n",
              "...                 ...  \n",
              "2234                 12  \n",
              "2235                 21  \n",
              "2236                 12  \n",
              "2237                 18  \n",
              "2238                 21  \n",
              "\n",
              "[2239 rows x 7 columns]"
            ],
            "text/html": [
              "\n",
              "  <div id=\"df-102b0308-08c6-422e-908c-0b138d3cacd4\" class=\"colab-df-container\">\n",
              "    <div>\n",
              "<style scoped>\n",
              "    .dataframe tbody tr th:only-of-type {\n",
              "        vertical-align: middle;\n",
              "    }\n",
              "\n",
              "    .dataframe tbody tr th {\n",
              "        vertical-align: top;\n",
              "    }\n",
              "\n",
              "    .dataframe thead th {\n",
              "        text-align: right;\n",
              "    }\n",
              "</style>\n",
              "<table border=\"1\" class=\"dataframe\">\n",
              "  <thead>\n",
              "    <tr style=\"text-align: right;\">\n",
              "      <th></th>\n",
              "      <th>Age</th>\n",
              "      <th>Income</th>\n",
              "      <th>Spending</th>\n",
              "      <th>Marital_Situation</th>\n",
              "      <th>Has_child</th>\n",
              "      <th>Education</th>\n",
              "      <th>Educational_years</th>\n",
              "    </tr>\n",
              "  </thead>\n",
              "  <tbody>\n",
              "    <tr>\n",
              "      <th>0</th>\n",
              "      <td>57</td>\n",
              "      <td>58138.00</td>\n",
              "      <td>1617</td>\n",
              "      <td>Alone</td>\n",
              "      <td>No</td>\n",
              "      <td>Graduation</td>\n",
              "      <td>12</td>\n",
              "    </tr>\n",
              "    <tr>\n",
              "      <th>1</th>\n",
              "      <td>60</td>\n",
              "      <td>46344.00</td>\n",
              "      <td>27</td>\n",
              "      <td>Alone</td>\n",
              "      <td>Yes</td>\n",
              "      <td>Graduation</td>\n",
              "      <td>12</td>\n",
              "    </tr>\n",
              "    <tr>\n",
              "      <th>2</th>\n",
              "      <td>49</td>\n",
              "      <td>71613.00</td>\n",
              "      <td>776</td>\n",
              "      <td>In relationship</td>\n",
              "      <td>No</td>\n",
              "      <td>Graduation</td>\n",
              "      <td>12</td>\n",
              "    </tr>\n",
              "    <tr>\n",
              "      <th>3</th>\n",
              "      <td>30</td>\n",
              "      <td>26646.00</td>\n",
              "      <td>53</td>\n",
              "      <td>In relationship</td>\n",
              "      <td>Yes</td>\n",
              "      <td>Graduation</td>\n",
              "      <td>12</td>\n",
              "    </tr>\n",
              "    <tr>\n",
              "      <th>4</th>\n",
              "      <td>33</td>\n",
              "      <td>58293.00</td>\n",
              "      <td>422</td>\n",
              "      <td>In relationship</td>\n",
              "      <td>Yes</td>\n",
              "      <td>PhD</td>\n",
              "      <td>21</td>\n",
              "    </tr>\n",
              "    <tr>\n",
              "      <th>...</th>\n",
              "      <td>...</td>\n",
              "      <td>...</td>\n",
              "      <td>...</td>\n",
              "      <td>...</td>\n",
              "      <td>...</td>\n",
              "      <td>...</td>\n",
              "      <td>...</td>\n",
              "    </tr>\n",
              "    <tr>\n",
              "      <th>2234</th>\n",
              "      <td>47</td>\n",
              "      <td>61223.00</td>\n",
              "      <td>1341</td>\n",
              "      <td>In relationship</td>\n",
              "      <td>Yes</td>\n",
              "      <td>Graduation</td>\n",
              "      <td>12</td>\n",
              "    </tr>\n",
              "    <tr>\n",
              "      <th>2235</th>\n",
              "      <td>68</td>\n",
              "      <td>64014.00</td>\n",
              "      <td>444</td>\n",
              "      <td>In relationship</td>\n",
              "      <td>Yes</td>\n",
              "      <td>PhD</td>\n",
              "      <td>21</td>\n",
              "    </tr>\n",
              "    <tr>\n",
              "      <th>2236</th>\n",
              "      <td>33</td>\n",
              "      <td>56981.00</td>\n",
              "      <td>1241</td>\n",
              "      <td>Alone</td>\n",
              "      <td>No</td>\n",
              "      <td>Graduation</td>\n",
              "      <td>12</td>\n",
              "    </tr>\n",
              "    <tr>\n",
              "      <th>2237</th>\n",
              "      <td>58</td>\n",
              "      <td>69245.00</td>\n",
              "      <td>843</td>\n",
              "      <td>In relationship</td>\n",
              "      <td>Yes</td>\n",
              "      <td>Master</td>\n",
              "      <td>18</td>\n",
              "    </tr>\n",
              "    <tr>\n",
              "      <th>2238</th>\n",
              "      <td>60</td>\n",
              "      <td>52869.00</td>\n",
              "      <td>172</td>\n",
              "      <td>In relationship</td>\n",
              "      <td>Yes</td>\n",
              "      <td>PhD</td>\n",
              "      <td>21</td>\n",
              "    </tr>\n",
              "  </tbody>\n",
              "</table>\n",
              "<p>2239 rows × 7 columns</p>\n",
              "</div>\n",
              "    <div class=\"colab-df-buttons\">\n",
              "\n",
              "  <div class=\"colab-df-container\">\n",
              "    <button class=\"colab-df-convert\" onclick=\"convertToInteractive('df-102b0308-08c6-422e-908c-0b138d3cacd4')\"\n",
              "            title=\"Convert this dataframe to an interactive table.\"\n",
              "            style=\"display:none;\">\n",
              "\n",
              "  <svg xmlns=\"http://www.w3.org/2000/svg\" height=\"24px\" viewBox=\"0 -960 960 960\">\n",
              "    <path d=\"M120-120v-720h720v720H120Zm60-500h600v-160H180v160Zm220 220h160v-160H400v160Zm0 220h160v-160H400v160ZM180-400h160v-160H180v160Zm440 0h160v-160H620v160ZM180-180h160v-160H180v160Zm440 0h160v-160H620v160Z\"/>\n",
              "  </svg>\n",
              "    </button>\n",
              "\n",
              "  <style>\n",
              "    .colab-df-container {\n",
              "      display:flex;\n",
              "      gap: 12px;\n",
              "    }\n",
              "\n",
              "    .colab-df-convert {\n",
              "      background-color: #E8F0FE;\n",
              "      border: none;\n",
              "      border-radius: 50%;\n",
              "      cursor: pointer;\n",
              "      display: none;\n",
              "      fill: #1967D2;\n",
              "      height: 32px;\n",
              "      padding: 0 0 0 0;\n",
              "      width: 32px;\n",
              "    }\n",
              "\n",
              "    .colab-df-convert:hover {\n",
              "      background-color: #E2EBFA;\n",
              "      box-shadow: 0px 1px 2px rgba(60, 64, 67, 0.3), 0px 1px 3px 1px rgba(60, 64, 67, 0.15);\n",
              "      fill: #174EA6;\n",
              "    }\n",
              "\n",
              "    .colab-df-buttons div {\n",
              "      margin-bottom: 4px;\n",
              "    }\n",
              "\n",
              "    [theme=dark] .colab-df-convert {\n",
              "      background-color: #3B4455;\n",
              "      fill: #D2E3FC;\n",
              "    }\n",
              "\n",
              "    [theme=dark] .colab-df-convert:hover {\n",
              "      background-color: #434B5C;\n",
              "      box-shadow: 0px 1px 3px 1px rgba(0, 0, 0, 0.15);\n",
              "      filter: drop-shadow(0px 1px 2px rgba(0, 0, 0, 0.3));\n",
              "      fill: #FFFFFF;\n",
              "    }\n",
              "  </style>\n",
              "\n",
              "    <script>\n",
              "      const buttonEl =\n",
              "        document.querySelector('#df-102b0308-08c6-422e-908c-0b138d3cacd4 button.colab-df-convert');\n",
              "      buttonEl.style.display =\n",
              "        google.colab.kernel.accessAllowed ? 'block' : 'none';\n",
              "\n",
              "      async function convertToInteractive(key) {\n",
              "        const element = document.querySelector('#df-102b0308-08c6-422e-908c-0b138d3cacd4');\n",
              "        const dataTable =\n",
              "          await google.colab.kernel.invokeFunction('convertToInteractive',\n",
              "                                                    [key], {});\n",
              "        if (!dataTable) return;\n",
              "\n",
              "        const docLinkHtml = 'Like what you see? Visit the ' +\n",
              "          '<a target=\"_blank\" href=https://colab.research.google.com/notebooks/data_table.ipynb>data table notebook</a>'\n",
              "          + ' to learn more about interactive tables.';\n",
              "        element.innerHTML = '';\n",
              "        dataTable['output_type'] = 'display_data';\n",
              "        await google.colab.output.renderOutput(dataTable, element);\n",
              "        const docLink = document.createElement('div');\n",
              "        docLink.innerHTML = docLinkHtml;\n",
              "        element.appendChild(docLink);\n",
              "      }\n",
              "    </script>\n",
              "  </div>\n",
              "\n",
              "\n",
              "<div id=\"df-5c18c206-4ac5-424c-a4f0-c7c805d428f7\">\n",
              "  <button class=\"colab-df-quickchart\" onclick=\"quickchart('df-5c18c206-4ac5-424c-a4f0-c7c805d428f7')\"\n",
              "            title=\"Suggest charts\"\n",
              "            style=\"display:none;\">\n",
              "\n",
              "<svg xmlns=\"http://www.w3.org/2000/svg\" height=\"24px\"viewBox=\"0 0 24 24\"\n",
              "     width=\"24px\">\n",
              "    <g>\n",
              "        <path d=\"M19 3H5c-1.1 0-2 .9-2 2v14c0 1.1.9 2 2 2h14c1.1 0 2-.9 2-2V5c0-1.1-.9-2-2-2zM9 17H7v-7h2v7zm4 0h-2V7h2v10zm4 0h-2v-4h2v4z\"/>\n",
              "    </g>\n",
              "</svg>\n",
              "  </button>\n",
              "\n",
              "<style>\n",
              "  .colab-df-quickchart {\n",
              "      --bg-color: #E8F0FE;\n",
              "      --fill-color: #1967D2;\n",
              "      --hover-bg-color: #E2EBFA;\n",
              "      --hover-fill-color: #174EA6;\n",
              "      --disabled-fill-color: #AAA;\n",
              "      --disabled-bg-color: #DDD;\n",
              "  }\n",
              "\n",
              "  [theme=dark] .colab-df-quickchart {\n",
              "      --bg-color: #3B4455;\n",
              "      --fill-color: #D2E3FC;\n",
              "      --hover-bg-color: #434B5C;\n",
              "      --hover-fill-color: #FFFFFF;\n",
              "      --disabled-bg-color: #3B4455;\n",
              "      --disabled-fill-color: #666;\n",
              "  }\n",
              "\n",
              "  .colab-df-quickchart {\n",
              "    background-color: var(--bg-color);\n",
              "    border: none;\n",
              "    border-radius: 50%;\n",
              "    cursor: pointer;\n",
              "    display: none;\n",
              "    fill: var(--fill-color);\n",
              "    height: 32px;\n",
              "    padding: 0;\n",
              "    width: 32px;\n",
              "  }\n",
              "\n",
              "  .colab-df-quickchart:hover {\n",
              "    background-color: var(--hover-bg-color);\n",
              "    box-shadow: 0 1px 2px rgba(60, 64, 67, 0.3), 0 1px 3px 1px rgba(60, 64, 67, 0.15);\n",
              "    fill: var(--button-hover-fill-color);\n",
              "  }\n",
              "\n",
              "  .colab-df-quickchart-complete:disabled,\n",
              "  .colab-df-quickchart-complete:disabled:hover {\n",
              "    background-color: var(--disabled-bg-color);\n",
              "    fill: var(--disabled-fill-color);\n",
              "    box-shadow: none;\n",
              "  }\n",
              "\n",
              "  .colab-df-spinner {\n",
              "    border: 2px solid var(--fill-color);\n",
              "    border-color: transparent;\n",
              "    border-bottom-color: var(--fill-color);\n",
              "    animation:\n",
              "      spin 1s steps(1) infinite;\n",
              "  }\n",
              "\n",
              "  @keyframes spin {\n",
              "    0% {\n",
              "      border-color: transparent;\n",
              "      border-bottom-color: var(--fill-color);\n",
              "      border-left-color: var(--fill-color);\n",
              "    }\n",
              "    20% {\n",
              "      border-color: transparent;\n",
              "      border-left-color: var(--fill-color);\n",
              "      border-top-color: var(--fill-color);\n",
              "    }\n",
              "    30% {\n",
              "      border-color: transparent;\n",
              "      border-left-color: var(--fill-color);\n",
              "      border-top-color: var(--fill-color);\n",
              "      border-right-color: var(--fill-color);\n",
              "    }\n",
              "    40% {\n",
              "      border-color: transparent;\n",
              "      border-right-color: var(--fill-color);\n",
              "      border-top-color: var(--fill-color);\n",
              "    }\n",
              "    60% {\n",
              "      border-color: transparent;\n",
              "      border-right-color: var(--fill-color);\n",
              "    }\n",
              "    80% {\n",
              "      border-color: transparent;\n",
              "      border-right-color: var(--fill-color);\n",
              "      border-bottom-color: var(--fill-color);\n",
              "    }\n",
              "    90% {\n",
              "      border-color: transparent;\n",
              "      border-bottom-color: var(--fill-color);\n",
              "    }\n",
              "  }\n",
              "</style>\n",
              "\n",
              "  <script>\n",
              "    async function quickchart(key) {\n",
              "      const quickchartButtonEl =\n",
              "        document.querySelector('#' + key + ' button');\n",
              "      quickchartButtonEl.disabled = true;  // To prevent multiple clicks.\n",
              "      quickchartButtonEl.classList.add('colab-df-spinner');\n",
              "      try {\n",
              "        const charts = await google.colab.kernel.invokeFunction(\n",
              "            'suggestCharts', [key], {});\n",
              "      } catch (error) {\n",
              "        console.error('Error during call to suggestCharts:', error);\n",
              "      }\n",
              "      quickchartButtonEl.classList.remove('colab-df-spinner');\n",
              "      quickchartButtonEl.classList.add('colab-df-quickchart-complete');\n",
              "    }\n",
              "    (() => {\n",
              "      let quickchartButtonEl =\n",
              "        document.querySelector('#df-5c18c206-4ac5-424c-a4f0-c7c805d428f7 button');\n",
              "      quickchartButtonEl.style.display =\n",
              "        google.colab.kernel.accessAllowed ? 'block' : 'none';\n",
              "    })();\n",
              "  </script>\n",
              "</div>\n",
              "\n",
              "  <div id=\"id_7c5e0873-04f5-44c4-a3b4-9508e76b4282\">\n",
              "    <style>\n",
              "      .colab-df-generate {\n",
              "        background-color: #E8F0FE;\n",
              "        border: none;\n",
              "        border-radius: 50%;\n",
              "        cursor: pointer;\n",
              "        display: none;\n",
              "        fill: #1967D2;\n",
              "        height: 32px;\n",
              "        padding: 0 0 0 0;\n",
              "        width: 32px;\n",
              "      }\n",
              "\n",
              "      .colab-df-generate:hover {\n",
              "        background-color: #E2EBFA;\n",
              "        box-shadow: 0px 1px 2px rgba(60, 64, 67, 0.3), 0px 1px 3px 1px rgba(60, 64, 67, 0.15);\n",
              "        fill: #174EA6;\n",
              "      }\n",
              "\n",
              "      [theme=dark] .colab-df-generate {\n",
              "        background-color: #3B4455;\n",
              "        fill: #D2E3FC;\n",
              "      }\n",
              "\n",
              "      [theme=dark] .colab-df-generate:hover {\n",
              "        background-color: #434B5C;\n",
              "        box-shadow: 0px 1px 3px 1px rgba(0, 0, 0, 0.15);\n",
              "        filter: drop-shadow(0px 1px 2px rgba(0, 0, 0, 0.3));\n",
              "        fill: #FFFFFF;\n",
              "      }\n",
              "    </style>\n",
              "    <button class=\"colab-df-generate\" onclick=\"generateWithVariable('data')\"\n",
              "            title=\"Generate code using this dataframe.\"\n",
              "            style=\"display:none;\">\n",
              "\n",
              "  <svg xmlns=\"http://www.w3.org/2000/svg\" height=\"24px\"viewBox=\"0 0 24 24\"\n",
              "       width=\"24px\">\n",
              "    <path d=\"M7,19H8.4L18.45,9,17,7.55,7,17.6ZM5,21V16.75L18.45,3.32a2,2,0,0,1,2.83,0l1.4,1.43a1.91,1.91,0,0,1,.58,1.4,1.91,1.91,0,0,1-.58,1.4L9.25,21ZM18.45,9,17,7.55Zm-12,3A5.31,5.31,0,0,0,4.9,8.1,5.31,5.31,0,0,0,1,6.5,5.31,5.31,0,0,0,4.9,4.9,5.31,5.31,0,0,0,6.5,1,5.31,5.31,0,0,0,8.1,4.9,5.31,5.31,0,0,0,12,6.5,5.46,5.46,0,0,0,6.5,12Z\"/>\n",
              "  </svg>\n",
              "    </button>\n",
              "    <script>\n",
              "      (() => {\n",
              "      const buttonEl =\n",
              "        document.querySelector('#id_7c5e0873-04f5-44c4-a3b4-9508e76b4282 button.colab-df-generate');\n",
              "      buttonEl.style.display =\n",
              "        google.colab.kernel.accessAllowed ? 'block' : 'none';\n",
              "\n",
              "      buttonEl.onclick = () => {\n",
              "        google.colab.notebook.generateWithVariable('data');\n",
              "      }\n",
              "      })();\n",
              "    </script>\n",
              "  </div>\n",
              "\n",
              "    </div>\n",
              "  </div>\n"
            ],
            "application/vnd.google.colaboratory.intrinsic+json": {
              "type": "dataframe",
              "variable_name": "data",
              "summary": "{\n  \"name\": \"data\",\n  \"rows\": 2239,\n  \"fields\": [\n    {\n      \"column\": \"Age\",\n      \"properties\": {\n        \"dtype\": \"number\",\n        \"std\": 11,\n        \"min\": 18,\n        \"max\": 121,\n        \"num_unique_values\": 59,\n        \"samples\": [\n          57,\n          47,\n          59\n        ],\n        \"semantic_type\": \"\",\n        \"description\": \"\"\n      }\n    },\n    {\n      \"column\": \"Income\",\n      \"properties\": {\n        \"dtype\": \"number\",\n        \"std\": 21526.320094910974,\n        \"min\": 1730.0,\n        \"max\": 162397.0,\n        \"num_unique_values\": 1973,\n        \"samples\": [\n          59666.0,\n          30833.0,\n          47958.0\n        ],\n        \"semantic_type\": \"\",\n        \"description\": \"\"\n      }\n    },\n    {\n      \"column\": \"Spending\",\n      \"properties\": {\n        \"dtype\": \"number\",\n        \"std\": 602,\n        \"min\": 5,\n        \"max\": 2525,\n        \"num_unique_values\": 1054,\n        \"samples\": [\n          160,\n          1822,\n          1019\n        ],\n        \"semantic_type\": \"\",\n        \"description\": \"\"\n      }\n    },\n    {\n      \"column\": \"Marital_Situation\",\n      \"properties\": {\n        \"dtype\": \"category\",\n        \"num_unique_values\": 2,\n        \"samples\": [\n          \"In relationship\",\n          \"Alone\"\n        ],\n        \"semantic_type\": \"\",\n        \"description\": \"\"\n      }\n    },\n    {\n      \"column\": \"Has_child\",\n      \"properties\": {\n        \"dtype\": \"category\",\n        \"num_unique_values\": 2,\n        \"samples\": [\n          \"Yes\",\n          \"No\"\n        ],\n        \"semantic_type\": \"\",\n        \"description\": \"\"\n      }\n    },\n    {\n      \"column\": \"Education\",\n      \"properties\": {\n        \"dtype\": \"category\",\n        \"num_unique_values\": 5,\n        \"samples\": [\n          \"PhD\",\n          \"2n Cycle\"\n        ],\n        \"semantic_type\": \"\",\n        \"description\": \"\"\n      }\n    },\n    {\n      \"column\": \"Educational_years\",\n      \"properties\": {\n        \"dtype\": \"number\",\n        \"std\": 4,\n        \"min\": 5,\n        \"max\": 21,\n        \"num_unique_values\": 5,\n        \"samples\": [\n          21,\n          8\n        ],\n        \"semantic_type\": \"\",\n        \"description\": \"\"\n      }\n    }\n  ]\n}"
            }
          },
          "metadata": {},
          "execution_count": 15
        }
      ]
    },
    {
      "cell_type": "markdown",
      "source": [
        "## Handling Null Values\n",
        "\n",
        "KNN Imputation effectively fills missing values by leveraging the similarity between data points, preserving the dataset's structure and variability. It’s adaptive, doesn’t assume linear relationships, and automatically normalizes data, making it robust for various datasets."
      ],
      "metadata": {
        "id": "MyJT1pfIxghq"
      }
    },
    {
      "cell_type": "code",
      "source": [
        "imputer = KNNImputer()\n",
        "imputer = KNNImputer(n_neighbors=5,metric='nan_euclidean')\n",
        "# fit on the dataset\n",
        "imputer.fit(data[['Income','Age','Educational_years']])\n",
        "# transform the dataset\n",
        "X = imputer.transform(data[['Income','Age','Educational_years']])\n",
        "Income_impute=pd.DataFrame(X,columns=['Income','Age','Educational_years'])\n",
        "data['Income']=Income_impute['Income'].reset_index(drop=True)\n",
        "count_nan = len(data) - data.count()\n",
        "print(count_nan)"
      ],
      "metadata": {
        "colab": {
          "base_uri": "https://localhost:8080/"
        },
        "id": "xcm2hXFt0kX0",
        "outputId": "2c109a00-7771-4025-d48d-12bf6abc8c02"
      },
      "execution_count": null,
      "outputs": [
        {
          "output_type": "stream",
          "name": "stdout",
          "text": [
            "Age                  0\n",
            "Income               0\n",
            "Spending             0\n",
            "Marital_Situation    0\n",
            "Has_child            0\n",
            "Education            0\n",
            "Educational_years    0\n",
            "dtype: int64\n"
          ]
        }
      ]
    },
    {
      "cell_type": "markdown",
      "source": [
        "#Visual EDA"
      ],
      "metadata": {
        "id": "e2cAWsZDOuPc"
      }
    },
    {
      "cell_type": "markdown",
      "source": [
        "### Diploma Distribution by Income Level"
      ],
      "metadata": {
        "id": "O_R4IkvER4m_"
      }
    },
    {
      "cell_type": "code",
      "source": [
        "fig = px.histogram(data, x=\"Income\", color = \"Education\", nbins = 10, histnorm = 'percent', barnorm = 'fraction', barmode = 'relative')\n",
        "fig.show()\n"
      ],
      "metadata": {
        "colab": {
          "base_uri": "https://localhost:8080/",
          "height": 542
        },
        "id": "geKdHvh4Ovzc",
        "outputId": "71105eaf-e3fe-4064-d02d-6e8725c7f780"
      },
      "execution_count": null,
      "outputs": [
        {
          "output_type": "display_data",
          "data": {
            "text/html": [
              "<html>\n",
              "<head><meta charset=\"utf-8\" /></head>\n",
              "<body>\n",
              "    <div>            <script src=\"https://cdnjs.cloudflare.com/ajax/libs/mathjax/2.7.5/MathJax.js?config=TeX-AMS-MML_SVG\"></script><script type=\"text/javascript\">if (window.MathJax && window.MathJax.Hub && window.MathJax.Hub.Config) {window.MathJax.Hub.Config({SVG: {font: \"STIX-Web\"}});}</script>                <script type=\"text/javascript\">window.PlotlyConfig = {MathJaxConfig: 'local'};</script>\n",
              "        <script charset=\"utf-8\" src=\"https://cdn.plot.ly/plotly-2.24.1.min.js\"></script>                <div id=\"d597cb26-b47e-4aab-8d01-46b49efd8f39\" class=\"plotly-graph-div\" style=\"height:525px; width:100%;\"></div>            <script type=\"text/javascript\">                                    window.PLOTLYENV=window.PLOTLYENV || {};                                    if (document.getElementById(\"d597cb26-b47e-4aab-8d01-46b49efd8f39\")) {                    Plotly.newPlot(                        \"d597cb26-b47e-4aab-8d01-46b49efd8f39\",                        [{\"alignmentgroup\":\"True\",\"bingroup\":\"x\",\"histnorm\":\"percent\",\"hovertemplate\":\"Education=Graduation\\u003cbr\\u003eIncome=%{x}\\u003cbr\\u003epercent (normalized as fraction)=%{y}\\u003cextra\\u003e\\u003c\\u002fextra\\u003e\",\"legendgroup\":\"Graduation\",\"marker\":{\"color\":\"#636efa\",\"pattern\":{\"shape\":\"\"}},\"name\":\"Graduation\",\"nbinsx\":10,\"offsetgroup\":\"Graduation\",\"orientation\":\"v\",\"showlegend\":true,\"x\":[58138.0,46344.0,71613.0,26646.0,55635.0,61752.8,63033.0,17323.0,41850.0,37760.0,37040.0,2447.0,40689.0,18589.0,53359.0,54717.2,38360.0,40548.0,42429.0,80011.0,21994.0,79941.0,41728.0,49352.0,65486.0,35790.0,82582.0,66373.0,70287.0,27938.0,42748.6,66653.0,61823.0,70666.0,25721.0,32474.0,69096.0,74854.0,65031.0,28332.0,40246.0,75825.0,56046.0,29760.0,26304.0,81361.0,29440.0,50388.0,79593.0,54178.0,51870.8,30096.0,47916.0,51813.0,85693.0,87195.0,49096.0,52413.0,38557.0,77298.0,86037.0,50785.0,90765.0,21918.0,30992.0,101970.0,79607.0,62998.0,73448.0,47125.8,86111.0,41883.0,59809.0,23957.0,38547.0,65747.0,34176.0,69372.0,49967.0,60199.0,55375.0,80317.0,23228.0,43482.0,62551.0,52332.0,66951.0,26091.0,33456.0,28718.0,50447.0,52074.0,38285.0,25271.0,61286.0,74068.0,38872.0,51148.0,31353.0,80067.0,86718.0,69142.0,75922.0,63693.0,29604.0,44794.0,64497.0,46097.0,77972.0,70951.0,41443.0,69508.0,72460.0,63887.0,42011.0,51369.0,51537.0,37070.0,38590.0,15033.0,7500.0,73455.0,64961.0,22804.0,73687.0,61074.0,80134.0,75027.0,29938.0,102692.0,75702.0,45989.0,18701.0,15287.0,80124.0,72940.0,22070.0,69267.0,29315.0,33378.0,60714.0,51369.0,37760.0,30631.0,75278.0,79946.0,38361.0,82497.0,16626.0,29672.0,68627.0,35246.0,39747.0,23976.0,27038.0,77457.0,12571.0,22574.0,31374.0,54198.0,40321.0,66503.0,30833.0,58603.2,64795.0,34421.0,40464.0,62187.0,27255.0,24072.0,22010.0,62204.0,75693.0,30675.0,83003.0,68655.0,41411.0,82623.0,44300.0,84835.0,30372.0,71113.0,71952.0,72099.0,38643.0,50737.0,78618.0,28442.0,51479.0,54803.0,79530.0,31615.0,72025.0,48178.0,63810.0,22585.0,30279.0,30822.0,19986.0,27421.0,10245.0,63381.0,38823.0,90300.0,74293.0,43824.0,15345.0,23442.0,75276.0,42373.0,30507.0,48006.0,50437.0,53858.0,46923.0,75072.0,80134.0,91065.0,30096.0,48686.0,92910.0,75433.0,61314.0,42387.0,75236.0,30015.0,67272.0,28691.0,18100.0,30279.0,23295.0,81246.0,24027.0,57959.0,56796.0,65991.0,38988.0,50300.0,60597.0,70165.0,80124.0,33183.0,31880.0,53790.0,61456.0,37406.0,38415.0,20518.0,62503.0,41124.0,32233.0,43057.0,60093.0,14045.0,46310.0,76005.0,55563.0,65275.0,27203.0,53653.0,65665.0,81217.0,34935.0,61250.0,60152.0,48920.0,36443.0,26095.0,71367.0,30630.0,42691.0,70503.0,25545.0,32880.0,61839.0,72679.0,65316.0,28567.0,44931.0,76982.0,43638.0,54058.0,85620.0,47850.0,19514.0,21474.0,22419.0,43462.0,79908.0,87771.0,33039.0,81741.0,66565.0,47691.0,38200.0,44989.0,51287.0,13260.0,40689.0,39453.0,79800.0,53863.0,24221.0,33178.0,23910.0,31089.0,30081.0,62807.0,72906.0,42429.0,26150.0,81168.0,22574.0,45837.0,54162.0,31632.0,72298.0,13624.0,84196.0,70971.0,28769.0,83917.0,46102.0,84574.0,56181.0,73691.0,63381.0,45906.0,105471.0,66886.0,29103.0,67445.0,49431.0,153924.0,61278.0,56253.0,19986.0,58330.0,18690.0,66731.0,77353.0,26751.0,70337.0,68118.0,68743.0,38946.0,65777.0,61209.0,34824.0,45938.0,78468.0,78901.0,71427.0,71022.0,71952.0,43185.0,25252.0,33249.0,58398.0,50272.0,25851.0,58710.0,45160.0,59111.0,72190.0,7500.0,44794.0,80395.0,89891.0,66373.0,89694.0,72025.0,67432.0,62882.0,82224.0,83844.0,71163.0,33697.0,58330.0,80952.0,75507.0,58512.0,79146.0,75127.0,48726.0,74985.0,67430.0,72063.0,42720.0,33622.0,41452.0,72258.0,36283.0,20587.0,30467.0,31590.0,40780.0,16813.0,51267.0,46524.0,73926.0,19329.0,46984.0,34838.0,48192.0,55267.0,59666.0,72504.0,26872.0,21359.0,73170.0,30772.0,22507.0,65685.0,22063.0,57091.0,22419.0,87771.0,93404.0,37859.0,16529.0,48789.0,35441.0,71391.0,81702.0,56628.0,34026.0,40049.0,34176.0,19419.0,81205.0,49980.0,15072.0,49166.0,60474.0,55357.0,37758.0,23228.0,7500.0,53172.0,30545.0,62450.0,21675.0,80812.0,39922.0,24762.0,35797.0,36627.0,42243.0,51195.0,31814.0,76630.0,64090.0,78331.0,21846.0,81320.0,54137.0,66825.0,57100.0,58917.0,85072.0,86429.0,45684.0,47889.0,75114.0,95529.0,62820.0,72354.0,83033.0,77583.0,74293.0,46107.0,75127.0,71796.0,55239.0,82025.0,94384.0,68274.0,39771.0,59754.0,53700.0,59041.0,70647.0,50183.0,54753.0,92955.0,33471.0,44010.0,84219.0,83715.0,35704.0,53103.0,4861.0,63693.0,80763.0,75759.0,85683.0,64449.0,64587.0,34824.0,75437.0,26091.0,52845.0,46086.0,22434.0,36130.0,83844.0,19514.0,77568.0,30168.0,54165.0,32300.0,20180.0,34961.0,17345.0,28647.0,74538.0,91700.0,68695.0,79593.0,28071.0,47703.0,61180.0,38998.0,8028.0,76081.0,34728.0,35196.0,44529.0,70596.0,42557.0,72228.0,67605.0,65196.0,16860.0,83528.0,22304.0,67023.0,70713.0,59925.0,39722.0,46610.0,88347.0,66294.0,36715.0,79456.0,40479.0,54233.0,24163.0,43776.0,71367.0,61825.0,79803.0,56775.0,83829.0,38508.0,53187.0,30023.0,66480.0,76773.0,71819.0,70566.0,48526.0,46734.0,39552.0,86358.0,46931.0,25930.0,42693.0,85606.0,72903.0,49678.0,37155.0,63285.0,42162.0,54450.0,26576.0,68142.0,7500.0,83145.0,46049.0,56715.0,79410.0,57304.0,44375.0,54450.0,59594.0,80685.0,62710.0,35322.0,77142.0,81657.0,54386.0,28510.0,48070.0,43140.0,26954.0,22327.0,44393.0,58401.0,62307.0,54809.0,58113.0,15287.0,18351.0,36317.0,42213.0,65748.0,77044.0,74918.0,56721.0,42160.0,61559.0,34377.0,26228.0,40211.0,22518.0,44421.0,41986.0,28427.0,64722.0,84906.0,28691.0,44213.0,76624.0,1730.0,40521.0,65106.0,67433.0,74716.0,68118.0,74190.0,39356.0,76653.0,31454.0,47139.0,83829.0,19656.0,55956.0,38808.0,66303.0,40800.0,71847.0,46149.0,78687.0,33986.0,52531.0,15759.0,22804.0,57811.0,78569.0,7500.0,94384.0,44267.0,71626.0,60894.0,50200.0,65169.0,59868.0,47009.0,40321.0,37235.0,77382.0,37774.0,24711.0,27244.0,48752.0,71434.0,90842.0,51948.0,71853.0,40049.0,39660.0,50127.0,18929.0,33249.0,62061.0,70515.0,18227.0,69139.0,69109.0,69627.0,38136.0,80695.0,58554.0,53034.0,47025.0,37971.0,67267.0,57338.0,48904.0,56243.0,21355.0,51994.8,20895.0,92344.0,44964.0,75507.0,22682.0,39996.0,26759.0,60544.0,65685.0,37716.0,36864.0,57045.0,80134.0,80589.0,34412.0,57537.0,51315.0,36026.0,24639.0,63810.0,18690.0,28164.0,31907.0,92533.0,34853.0,70844.0,60544.0,42523.0,39922.0,33402.0,21645.0,82657.0,51876.0,52852.0,46053.0,77343.0,73892.0,68695.0,43300.0,26290.0,93790.0,57957.0,16531.0,50725.0,83844.0,67419.0,34380.0,34704.0,65148.0,39898.0,60474.0,62807.0,19107.0,76998.0,87679.0,57867.0,35765.0,65492.0,32952.0,71706.0,68487.0,42014.0,53977.0,84219.0,73538.0,79529.0,51766.0,55759.0,33039.0,27242.0,69930.0,37697.0,3502.0,58597.0,28087.0,19740.0,9255.0,31928.0,65819.0,51983.0,30983.0,66033.0,63943.0,76081.0,67445.0,31859.0,27215.0,39922.0,24645.0,79865.0,44322.0,47958.0,75315.0,38998.0,42014.0,45203.0,34935.0,34633.0,82460.0,81361.0,61482.0,34968.0,75794.0,74268.0,36108.0,76445.0,44512.0,27116.0,71855.0,68655.0,64509.0,33955.0,31353.0,55434.0,28359.0,57100.0,69139.0,18793.0,50664.0,54414.0,19444.0,22775.0,50002.0,69755.0,44078.0,56386.0,58684.0,57136.0,22448.0,82014.0,34213.0,157146.0,72066.0,34916.0,64892.0,43602.0,86610.0,69016.0,27573.0,33228.0,70440.0,38232.0,49413.0,42231.0,56534.0,58350.0,81217.0,49090.0,18222.0,62335.0,61064.0,18358.0,52117.0,64813.0,83512.0,41154.0,80398.0,35196.0,60230.0,22108.0,44392.0,17688.0,90273.0,42586.0,71107.0,18690.0,37244.0,82427.0,70044.0,79146.0,77437.0,54984.0,55761.0,37292.0,70321.0,81795.0,69901.0,44989.0,30372.0,41120.0,77981.0,59481.0,72117.0,67131.0,71853.0,70596.0,42664.0,42586.0,29760.0,64590.0,71232.0,34600.0,46904.0,49094.0,36075.0,77298.0,34026.0,37697.0,34074.0,62535.0,63404.0,78416.0,75702.0,37070.0,44689.0,53977.0,18701.0,90369.0,37758.0,63207.0,72071.0,72282.0,50387.0,62568.0,63967.0,25293.0,78394.0,29236.0,44911.0,48186.0,54809.0,41580.0,47743.0,30093.0,25008.0,22280.0,64260.0,54006.0,61825.0,70886.0,69109.0,60208.0,34738.0,69932.0,44503.0,49638.0,72905.0,70300.0,52413.0,76532.0,42081.0,31158.0,61671.0,69719.0,49160.0,22148.0,29819.0,45688.0,62820.0,33235.0,35701.0,67384.0,77870.0,57107.0,18929.0,20180.0,91249.0,80982.0,70617.0,64849.0,75903.0,25410.0,28320.0,23763.0,72570.0,70792.0,63211.0,36065.0,39898.0,56939.0,80872.0,29478.0,46998.0,96843.0,44359.0,40887.0,48877.0,74485.0,64474.0,77226.0,72643.0,55686.0,39062.0,34600.0,40794.0,4428.0,36781.0,24570.0,94642.0,53201.0,21994.0,57113.0,51373.0,23477.0,58116.0,94472.0,13672.0,79205.0,24206.0,22979.0,33279.0,30368.0,63684.0,41638.0,71964.0,39146.0,96876.0,68281.0,36790.0,27943.0,22263.0,30261.0,28587.0,48195.0,29672.0,23272.0,67225.0,17649.0,55914.0,40059.0,60905.0,75330.0,60689.0,38680.0,61416.0,49767.0,83273.0,29009.0,37150.0,43020.0,53154.0,65308.0,76467.0,32871.0,55801.0,76320.0,48794.0,23478.0,71128.0,59462.0,38361.0,42554.0,67445.0,67046.0,42192.0,31761.0,34350.0,54591.0,71866.0,25293.0,69520.0,64713.0,40154.4,27803.0,51047.4,51651.0,68487.0,56796.0,79823.0,30828.0,71322.0,79244.0,80144.0,54252.0,76068.0,72967.0,82332.0,58275.0,34587.0,25818.0,43586.0,50116.0,84906.0,61286.0,33590.0,30992.0,58692.0,40590.0,20587.0,19346.0,35788.0,36997.0,23539.0,65333.0,78499.0,69209.0,17148.0,40590.0,59686.0,62994.0,47320.0,72071.0,90000.0,41967.0,69263.0,60934.0,71965.0,65210.0,52914.0,38946.0,26067.0,42523.0,67716.0,40851.0,27469.0,73803.0,43322.0,55593.0,50501.0,37085.0,57731.0,73807.0,18929.0,35893.0,61014.0,32144.0,45146.0,88325.0,5305.0,36807.0,28427.0,22775.0,58025.0,58554.0,63777.0,57967.0,24434.0,11012.0,26816.0,34421.0,61223.0,56981.0],\"xaxis\":\"x\",\"yaxis\":\"y\",\"type\":\"histogram\"},{\"alignmentgroup\":\"True\",\"bingroup\":\"x\",\"histnorm\":\"percent\",\"hovertemplate\":\"Education=PhD\\u003cbr\\u003eIncome=%{x}\\u003cbr\\u003epercent (normalized as fraction)=%{y}\\u003cextra\\u003e\\u003c\\u002fextra\\u003e\",\"legendgroup\":\"PhD\",\"marker\":{\"color\":\"#EF553B\",\"pattern\":{\"shape\":\"\"}},\"name\":\"PhD\",\"nbinsx\":10,\"offsetgroup\":\"PhD\",\"orientation\":\"v\",\"showlegend\":true,\"x\":[58293.0,33454.0,30351.0,5648.0,82800.0,58607.0,65324.0,84618.0,46610.0,67353.0,48948.0,55234.2,72550.0,55954.0,67680.0,60631.0,59425.8,23626.0,50150.0,34554.0,65846.0,68126.0,43974.0,64389.4,77376.0,41551.0,62981.0,33762.0,35860.0,36921.0,68352.0,61010.0,70356.0,74165.0,157243.0,53537.0,80427.0,83837.0,38853.0,51650.0,32303.0,45759.0,66973.0,46854.0,102160.0,40637.0,44377.0,77622.0,30732.0,79930.0,34320.0,62745.0,79761.0,31686.0,67546.0,30899.0,63342.0,40737.0,69674.0,37717.0,38097.0,61905.0,66313.0,69867.0,65640.0,57912.0,46377.0,47025.0,64325.0,14849.0,54432.0,29999.0,33996.0,66334.0,83532.0,55212.0,59292.0,69759.0,60000.0,68462.0,46681.0,62187.0,37717.0,52614.0,38578.0,66426.0,33581.0,83664.0,51012.0,68682.0,55521.0,27213.0,65808.0,30351.0,66465.0,75865.0,37401.0,93027.0,84865.0,32011.0,56223.0,55707.0,50520.0,66582.0,75261.0,49269.0,56937.0,41644.0,62010.0,78825.0,78952.0,55614.0,78642.0,67911.0,64355.0,39665.0,44124.0,77863.0,49154.0,42710.0,84169.0,60504.0,54880.0,48799.0,52157.0,38443.0,64413.0,61996.0,47472.0,45207.0,39684.0,59973.0,61467.0,48240.0,162397.0,54456.0,34487.0,69084.0,65488.0,76140.0,62859.0,46463.0,50616.0,73059.0,46734.0,45068.0,29187.0,59304.0,52614.0,81300.0,65295.0,66476.0,86857.0,160803.0,77845.0,69476.0,50611.0,26518.0,35682.0,66375.0,76618.0,18988.0,35946.0,53593.0,45072.0,64108.0,48767.0,83443.0,51518.0,62220.0,38829.0,31626.0,78939.0,6835.0,40760.0,74250.0,71466.0,42564.0,82017.0,70421.0,82716.0,91820.0,65968.0,76412.0,80995.0,55412.0,56575.0,65324.0,30843.0,46374.0,57906.0,70123.0,86857.0,82072.0,46231.0,48948.0,55260.0,37087.0,45921.0,78420.0,52278.0,84169.0,74637.0,46015.0,34469.0,68397.0,79632.0,64950.0,32892.0,67536.0,60554.0,56067.0,51563.0,27922.0,52190.0,42767.0,16927.0,54237.0,52597.0,40233.0,34596.0,40706.0,65352.0,82170.0,35340.0,78028.0,95169.0,36930.0,36736.0,49187.0,28440.0,64504.0,56320.0,32173.0,37334.0,37126.0,77037.0,28764.0,69098.0,53312.0,42000.0,35860.0,65526.0,32892.0,87171.0,41014.0,84460.0,71691.0,85844.0,39190.0,38578.0,57236.0,76045.0,50870.0,54466.0,16269.0,33569.0,31605.0,36778.0,85696.0,33419.0,57744.0,57513.0,23091.0,40344.0,74214.0,54959.0,62000.0,31497.0,78075.0,84618.0,40451.0,33629.0,68682.0,33438.0,75032.0,61284.0,38197.0,37395.0,59062.0,27683.0,20427.0,69969.0,77766.0,55158.0,35860.0,90687.0,53378.0,45579.0,37633.0,57091.0,42997.0,48918.0,34043.0,81051.0,65695.0,27238.0,45503.0,71604.0,50150.0,85696.0,76542.0,62159.0,50611.0,56242.0,52327.4,38887.0,29791.0,51039.0,36947.0,36957.0,69389.0,34578.0,54132.0,34596.0,43269.0,70038.0,40304.0,32727.0,38410.0,46015.0,41145.0,94871.0,59892.0,57072.0,64014.0,60585.0,42873.0,53374.0,49667.0,78931.0,87188.0,37401.0,82032.0,74004.0,69283.0,67786.0,71969.0,51411.0,70179.0,55517.0,75283.0,82800.0,38201.0,81574.0,35860.0,31497.0,52569.0,48432.0,36663.0,54072.0,65526.0,51717.0,54549.0,47111.0,41003.0,73059.0,42731.0,52854.0,46681.0,59821.0,64140.0,56551.0,25358.0,62670.0,50729.0,33996.0,63246.0,36732.0,69084.0,77766.0,37929.0,49544.0,22554.0,23536.0,18169.0,86580.0,41437.0,55012.0,38175.0,54222.0,55424.0,92491.0,82571.0,38513.0,46910.0,42403.0,45576.0,58086.0,80360.0,63342.0,51569.0,38725.0,36802.0,25509.0,51012.0,85431.0,28973.0,39435.0,42473.0,48918.0,7144.0,63159.0,46757.0,21840.0,32583.0,54111.0,54693.0,80336.0,57333.0,32313.0,86836.0,4023.0,57705.0,72159.0,82733.0,70116.0,69063.0,26642.0,60200.0,69702.0,70643.0,30396.0,50616.0,30298.0,44155.0,86979.0,67546.0,90933.0,113734.0,59292.0,45759.0,60491.0,52278.0,36038.0,34230.0,55212.0,61917.0,67472.0,54998.0,54356.0,73356.0,51141.0,72335.0,61798.0,76842.0,56551.0,71670.0,38236.0,25509.0,72968.0,56559.0,32644.0,28420.0,68805.0,65814.0,71322.0,68117.0,70179.0,57403.8,70038.0,77610.0,42000.0,48699.0,67911.0,78128.0,44953.0,69805.0,82333.0,65220.0,156924.0,29732.0,63516.0,42769.0,58482.0,60896.0,31560.0,79174.0,48432.0,44325.0,84117.0,48432.0,82032.0,57642.0,64014.0,52869.0],\"xaxis\":\"x\",\"yaxis\":\"y\",\"type\":\"histogram\"},{\"alignmentgroup\":\"True\",\"bingroup\":\"x\",\"histnorm\":\"percent\",\"hovertemplate\":\"Education=Master\\u003cbr\\u003eIncome=%{x}\\u003cbr\\u003epercent (normalized as fraction)=%{y}\\u003cextra\\u003e\\u003c\\u002fextra\\u003e\",\"legendgroup\":\"Master\",\"marker\":{\"color\":\"#00cc96\",\"pattern\":{\"shape\":\"\"}},\"name\":\"Master\",\"nbinsx\":10,\"offsetgroup\":\"Master\",\"orientation\":\"v\",\"showlegend\":true,\"x\":[62513.0,59354.0,76995.0,10979.0,38620.0,68657.0,49389.0,20559.0,7500.0,79143.0,82384.0,75777.0,66991.0,75251.0,38620.0,36138.0,48822.2,42394.0,89058.0,57288.0,56129.0,32557.0,19510.0,54348.0,61331.0,92859.0,65104.0,49605.0,59354.0,30523.0,66835.0,30477.0,69661.0,18890.0,48721.0,46014.0,83790.0,44551.0,23661.0,65176.0,31160.0,44159.0,43776.0,38179.0,31788.0,77882.0,63841.0,44319.0,50898.0,35416.0,55951.0,42386.0,80950.0,64100.0,42670.0,70893.0,28839.0,35178.0,33181.0,65073.0,29548.0,46098.0,36143.0,43795.0,62499.0,70777.0,49505.0,18492.0,82584.0,50943.0,51529.0,42618.0,36230.0,42207.0,55842.0,38961.0,37760.0,83151.0,65104.0,58308.0,59432.0,48330.0,50943.0,89120.0,81169.0,80184.0,73454.0,50353.0,57954.0,47352.0,22944.0,27159.0,81698.0,71499.0,29298.0,36959.0,54603.0,27450.0,61794.0,92163.0,69882.0,17459.0,42169.0,49618.0,21888.0,26877.0,45006.0,35791.0,30522.0,63120.0,77632.0,55282.0,78710.0,98777.0,14661.0,59247.0,42315.0,47570.0,61923.0,90247.0,41335.0,35178.0,55250.0,74806.0,75012.0,56962.0,70545.0,34941.0,40662.0,78285.0,62058.0,51124.0,17144.0,43783.0,62847.0,45183.0,61872.0,49681.0,56850.0,52750.0,49494.0,55284.0,38576.0,44602.0,43456.0,19485.0,61346.0,42835.0,86424.0,68092.0,51390.0,35641.0,73113.0,39858.0,24401.0,44051.0,46106.0,41021.0,80573.0,82576.0,56962.0,33462.0,42021.0,65569.0,34053.0,38196.0,59412.0,33564.0,46423.0,33168.0,33585.0,27100.0,62845.0,50014.0,75345.0,27590.0,98777.0,36262.0,52034.0,67381.0,10979.0,56129.0,21255.0,54197.0,66726.0,47353.0,33444.0,90638.0,78579.0,67369.0,43641.0,63841.0,70091.0,51412.0,66636.0,50965.0,54730.0,38452.0,55249.0,66000.0,73450.0,64191.0,57183.0,23748.0,37368.0,39767.0,83151.0,60033.0,157733.0,64857.0,45143.0,81843.0,46692.0,72828.0,6560.0,88097.0,35876.0,43263.0,62845.0,33316.0,75154.0,41335.0,35791.0,57420.0,46715.6,46390.0,53761.0,63915.0,63841.0,44511.0,47352.0,67087.0,43142.0,27100.0,36408.0,78427.0,64866.0,28072.0,49476.0,64857.0,41020.0,70379.0,79419.0,49854.0,53253.0,54108.0,63206.0,57136.0,46098.0,37787.0,46098.0,59235.0,74881.0,42386.0,57530.0,37054.0,47175.0,49681.0,63972.0,90638.0,27161.0,60482.0,78093.0,45903.0,40442.0,45143.0,17144.0,53843.0,90226.0,70638.0,60432.0,52973.0,30560.0,35924.0,39228.0,58494.0,35544.0,36634.0,80141.0,78789.0,61787.0,73705.0,38452.0,58656.0,77520.0,16653.0,74881.0,66835.0,39763.0,47808.0,28520.0,36273.0,59385.0,79734.0,44635.0,33316.0,80739.0,22669.0,84953.0,27071.0,68148.0,65735.0,74290.0,58217.0,21024.0,32889.0,30538.0,33051.0,62772.0,88420.0,73395.0,31535.0,80573.0,77598.0,22701.0,62694.0,21059.0,29543.0,34242.0,34529.0,83891.0,70053.0,85738.0,31385.0,58646.0,39791.0,91712.0,46423.0,43815.0,77027.0,32765.0,49912.0,45057.0,36927.0,60162.2,27889.0,51309.8,66141.6,34109.0,53367.0,49912.0,81929.0,53204.0,58646.0,48150.0,43018.0,45736.0,66476.0,72217.0,37509.0,72309.0,65487.0,62637.0,29435.0,41275.0,49572.0,30560.0,34176.0,91172.0,81380.0,76234.0,65487.0,89616.0,8820.0,38054.0,40101.0,75777.0,33562.0,44802.0,69245.0],\"xaxis\":\"x\",\"yaxis\":\"y\",\"type\":\"histogram\"},{\"alignmentgroup\":\"True\",\"bingroup\":\"x\",\"histnorm\":\"percent\",\"hovertemplate\":\"Education=Basic\\u003cbr\\u003eIncome=%{x}\\u003cbr\\u003epercent (normalized as fraction)=%{y}\\u003cextra\\u003e\\u003c\\u002fextra\\u003e\",\"legendgroup\":\"Basic\",\"marker\":{\"color\":\"#ab63fa\",\"pattern\":{\"shape\":\"\"}},\"name\":\"Basic\",\"nbinsx\":10,\"offsetgroup\":\"Basic\",\"orientation\":\"v\",\"showlegend\":true,\"x\":[7500.0,24594.0,9548.0,28249.0,24882.0,24480.0,27190.0,24279.0,30801.0,18978.0,25965.0,21063.0,13084.0,17487.0,20425.0,26868.0,25443.0,14906.0,15038.0,22634.0,16581.0,14421.0,23724.0,15056.0,8940.0,25707.0,7500.0,26997.0,18393.0,24367.0,17256.0,22634.0,13724.0,24594.0,15862.0,9722.0,18746.0,23529.0,28389.0,16014.0,28249.0,20194.0,24882.0,34445.0,22123.0,22390.0,14188.0,20425.0,16005.0,15253.0,26487.0,25224.0,16185.0,14918.0],\"xaxis\":\"x\",\"yaxis\":\"y\",\"type\":\"histogram\"},{\"alignmentgroup\":\"True\",\"bingroup\":\"x\",\"histnorm\":\"percent\",\"hovertemplate\":\"Education=2n Cycle\\u003cbr\\u003eIncome=%{x}\\u003cbr\\u003epercent (normalized as fraction)=%{y}\\u003cextra\\u003e\\u003c\\u002fextra\\u003e\",\"legendgroup\":\"2n Cycle\",\"marker\":{\"color\":\"#FFA15A\",\"pattern\":{\"shape\":\"\"}},\"name\":\"2n Cycle\",\"nbinsx\":10,\"offsetgroup\":\"2n Cycle\",\"orientation\":\"v\",\"showlegend\":true,\"x\":[33812.0,23718.0,7500.0,88194.0,37431.6,26326.0,23559.0,78497.0,47823.0,36550.0,30753.0,71488.0,35688.0,46344.0,78497.0,16248.0,36640.0,52195.0,45204.0,81975.0,22212.0,60182.0,26490.0,32414.0,35388.0,58821.0,35684.0,35688.0,14515.0,31395.0,23616.0,19789.0,10404.0,67309.0,7500.0,20130.0,70829.0,89572.0,66664.0,28457.0,47682.0,57247.0,25315.0,24683.0,39548.0,15315.0,62466.0,38593.0,47821.0,26850.0,26224.0,36975.0,72635.0,62466.0,32218.0,26490.0,54690.0,36145.0,41039.0,87305.0,38702.0,17003.0,63564.0,63855.0,35523.0,46891.0,60161.0,25804.0,78353.0,25130.0,45889.0,82504.0,61618.0,82347.0,85710.0,38683.0,49514.0,42395.0,17117.0,51111.0,42607.0,74116.0,64831.0,57937.0,67893.0,15716.0,59052.0,46779.0,79689.0,24884.0,56337.0,70924.0,68316.0,31056.0,70924.0,25959.0,64176.0,26907.0,80910.0,54210.0,15315.0,65463.0,81698.0,47025.0,63998.0,49669.0,21282.0,48985.0,20130.0,45894.0,46891.0,59184.0,77297.0,62972.0,85485.0,49118.0,46831.0,43050.0,23148.0,74805.0,59060.0,46094.0,26887.0,52203.0,59601.0,50523.0,54342.0,63069.2,26907.0,41658.0,65704.0,38741.0,31163.0,31086.0,20491.0,78041.0,69401.0,23162.0,19414.0,75484.0,31163.0,46772.0,20981.0,57036.0,53083.0,23331.0,23331.0,30390.0,37284.0,76800.0,51250.0,12393.0,66664.0,36301.0,75774.0,50334.0,41473.0,72635.0,20193.0,24336.0,42033.0,75342.0,31859.0,62905.0,13533.0,21955.0,65370.0,60839.0,82122.0,75774.0,58582.0,52513.0,62972.0,83257.0,11448.0,82326.0,23830.0,92556.0,31878.0,70932.0,34984.0,54690.0,32632.0,96547.0,67506.0,37284.0,7500.0,81044.0,87000.0,14796.0,27733.0,25176.0,53230.0,32146.0,41713.0,74859.0,65706.0,53233.0,82347.0,41769.0,80617.0,7500.0,32905.0],\"xaxis\":\"x\",\"yaxis\":\"y\",\"type\":\"histogram\"}],                        {\"template\":{\"data\":{\"histogram2dcontour\":[{\"type\":\"histogram2dcontour\",\"colorbar\":{\"outlinewidth\":0,\"ticks\":\"\"},\"colorscale\":[[0.0,\"#0d0887\"],[0.1111111111111111,\"#46039f\"],[0.2222222222222222,\"#7201a8\"],[0.3333333333333333,\"#9c179e\"],[0.4444444444444444,\"#bd3786\"],[0.5555555555555556,\"#d8576b\"],[0.6666666666666666,\"#ed7953\"],[0.7777777777777778,\"#fb9f3a\"],[0.8888888888888888,\"#fdca26\"],[1.0,\"#f0f921\"]]}],\"choropleth\":[{\"type\":\"choropleth\",\"colorbar\":{\"outlinewidth\":0,\"ticks\":\"\"}}],\"histogram2d\":[{\"type\":\"histogram2d\",\"colorbar\":{\"outlinewidth\":0,\"ticks\":\"\"},\"colorscale\":[[0.0,\"#0d0887\"],[0.1111111111111111,\"#46039f\"],[0.2222222222222222,\"#7201a8\"],[0.3333333333333333,\"#9c179e\"],[0.4444444444444444,\"#bd3786\"],[0.5555555555555556,\"#d8576b\"],[0.6666666666666666,\"#ed7953\"],[0.7777777777777778,\"#fb9f3a\"],[0.8888888888888888,\"#fdca26\"],[1.0,\"#f0f921\"]]}],\"heatmap\":[{\"type\":\"heatmap\",\"colorbar\":{\"outlinewidth\":0,\"ticks\":\"\"},\"colorscale\":[[0.0,\"#0d0887\"],[0.1111111111111111,\"#46039f\"],[0.2222222222222222,\"#7201a8\"],[0.3333333333333333,\"#9c179e\"],[0.4444444444444444,\"#bd3786\"],[0.5555555555555556,\"#d8576b\"],[0.6666666666666666,\"#ed7953\"],[0.7777777777777778,\"#fb9f3a\"],[0.8888888888888888,\"#fdca26\"],[1.0,\"#f0f921\"]]}],\"heatmapgl\":[{\"type\":\"heatmapgl\",\"colorbar\":{\"outlinewidth\":0,\"ticks\":\"\"},\"colorscale\":[[0.0,\"#0d0887\"],[0.1111111111111111,\"#46039f\"],[0.2222222222222222,\"#7201a8\"],[0.3333333333333333,\"#9c179e\"],[0.4444444444444444,\"#bd3786\"],[0.5555555555555556,\"#d8576b\"],[0.6666666666666666,\"#ed7953\"],[0.7777777777777778,\"#fb9f3a\"],[0.8888888888888888,\"#fdca26\"],[1.0,\"#f0f921\"]]}],\"contourcarpet\":[{\"type\":\"contourcarpet\",\"colorbar\":{\"outlinewidth\":0,\"ticks\":\"\"}}],\"contour\":[{\"type\":\"contour\",\"colorbar\":{\"outlinewidth\":0,\"ticks\":\"\"},\"colorscale\":[[0.0,\"#0d0887\"],[0.1111111111111111,\"#46039f\"],[0.2222222222222222,\"#7201a8\"],[0.3333333333333333,\"#9c179e\"],[0.4444444444444444,\"#bd3786\"],[0.5555555555555556,\"#d8576b\"],[0.6666666666666666,\"#ed7953\"],[0.7777777777777778,\"#fb9f3a\"],[0.8888888888888888,\"#fdca26\"],[1.0,\"#f0f921\"]]}],\"surface\":[{\"type\":\"surface\",\"colorbar\":{\"outlinewidth\":0,\"ticks\":\"\"},\"colorscale\":[[0.0,\"#0d0887\"],[0.1111111111111111,\"#46039f\"],[0.2222222222222222,\"#7201a8\"],[0.3333333333333333,\"#9c179e\"],[0.4444444444444444,\"#bd3786\"],[0.5555555555555556,\"#d8576b\"],[0.6666666666666666,\"#ed7953\"],[0.7777777777777778,\"#fb9f3a\"],[0.8888888888888888,\"#fdca26\"],[1.0,\"#f0f921\"]]}],\"mesh3d\":[{\"type\":\"mesh3d\",\"colorbar\":{\"outlinewidth\":0,\"ticks\":\"\"}}],\"scatter\":[{\"fillpattern\":{\"fillmode\":\"overlay\",\"size\":10,\"solidity\":0.2},\"type\":\"scatter\"}],\"parcoords\":[{\"type\":\"parcoords\",\"line\":{\"colorbar\":{\"outlinewidth\":0,\"ticks\":\"\"}}}],\"scatterpolargl\":[{\"type\":\"scatterpolargl\",\"marker\":{\"colorbar\":{\"outlinewidth\":0,\"ticks\":\"\"}}}],\"bar\":[{\"error_x\":{\"color\":\"#2a3f5f\"},\"error_y\":{\"color\":\"#2a3f5f\"},\"marker\":{\"line\":{\"color\":\"#E5ECF6\",\"width\":0.5},\"pattern\":{\"fillmode\":\"overlay\",\"size\":10,\"solidity\":0.2}},\"type\":\"bar\"}],\"scattergeo\":[{\"type\":\"scattergeo\",\"marker\":{\"colorbar\":{\"outlinewidth\":0,\"ticks\":\"\"}}}],\"scatterpolar\":[{\"type\":\"scatterpolar\",\"marker\":{\"colorbar\":{\"outlinewidth\":0,\"ticks\":\"\"}}}],\"histogram\":[{\"marker\":{\"pattern\":{\"fillmode\":\"overlay\",\"size\":10,\"solidity\":0.2}},\"type\":\"histogram\"}],\"scattergl\":[{\"type\":\"scattergl\",\"marker\":{\"colorbar\":{\"outlinewidth\":0,\"ticks\":\"\"}}}],\"scatter3d\":[{\"type\":\"scatter3d\",\"line\":{\"colorbar\":{\"outlinewidth\":0,\"ticks\":\"\"}},\"marker\":{\"colorbar\":{\"outlinewidth\":0,\"ticks\":\"\"}}}],\"scattermapbox\":[{\"type\":\"scattermapbox\",\"marker\":{\"colorbar\":{\"outlinewidth\":0,\"ticks\":\"\"}}}],\"scatterternary\":[{\"type\":\"scatterternary\",\"marker\":{\"colorbar\":{\"outlinewidth\":0,\"ticks\":\"\"}}}],\"scattercarpet\":[{\"type\":\"scattercarpet\",\"marker\":{\"colorbar\":{\"outlinewidth\":0,\"ticks\":\"\"}}}],\"carpet\":[{\"aaxis\":{\"endlinecolor\":\"#2a3f5f\",\"gridcolor\":\"white\",\"linecolor\":\"white\",\"minorgridcolor\":\"white\",\"startlinecolor\":\"#2a3f5f\"},\"baxis\":{\"endlinecolor\":\"#2a3f5f\",\"gridcolor\":\"white\",\"linecolor\":\"white\",\"minorgridcolor\":\"white\",\"startlinecolor\":\"#2a3f5f\"},\"type\":\"carpet\"}],\"table\":[{\"cells\":{\"fill\":{\"color\":\"#EBF0F8\"},\"line\":{\"color\":\"white\"}},\"header\":{\"fill\":{\"color\":\"#C8D4E3\"},\"line\":{\"color\":\"white\"}},\"type\":\"table\"}],\"barpolar\":[{\"marker\":{\"line\":{\"color\":\"#E5ECF6\",\"width\":0.5},\"pattern\":{\"fillmode\":\"overlay\",\"size\":10,\"solidity\":0.2}},\"type\":\"barpolar\"}],\"pie\":[{\"automargin\":true,\"type\":\"pie\"}]},\"layout\":{\"autotypenumbers\":\"strict\",\"colorway\":[\"#636efa\",\"#EF553B\",\"#00cc96\",\"#ab63fa\",\"#FFA15A\",\"#19d3f3\",\"#FF6692\",\"#B6E880\",\"#FF97FF\",\"#FECB52\"],\"font\":{\"color\":\"#2a3f5f\"},\"hovermode\":\"closest\",\"hoverlabel\":{\"align\":\"left\"},\"paper_bgcolor\":\"white\",\"plot_bgcolor\":\"#E5ECF6\",\"polar\":{\"bgcolor\":\"#E5ECF6\",\"angularaxis\":{\"gridcolor\":\"white\",\"linecolor\":\"white\",\"ticks\":\"\"},\"radialaxis\":{\"gridcolor\":\"white\",\"linecolor\":\"white\",\"ticks\":\"\"}},\"ternary\":{\"bgcolor\":\"#E5ECF6\",\"aaxis\":{\"gridcolor\":\"white\",\"linecolor\":\"white\",\"ticks\":\"\"},\"baxis\":{\"gridcolor\":\"white\",\"linecolor\":\"white\",\"ticks\":\"\"},\"caxis\":{\"gridcolor\":\"white\",\"linecolor\":\"white\",\"ticks\":\"\"}},\"coloraxis\":{\"colorbar\":{\"outlinewidth\":0,\"ticks\":\"\"}},\"colorscale\":{\"sequential\":[[0.0,\"#0d0887\"],[0.1111111111111111,\"#46039f\"],[0.2222222222222222,\"#7201a8\"],[0.3333333333333333,\"#9c179e\"],[0.4444444444444444,\"#bd3786\"],[0.5555555555555556,\"#d8576b\"],[0.6666666666666666,\"#ed7953\"],[0.7777777777777778,\"#fb9f3a\"],[0.8888888888888888,\"#fdca26\"],[1.0,\"#f0f921\"]],\"sequentialminus\":[[0.0,\"#0d0887\"],[0.1111111111111111,\"#46039f\"],[0.2222222222222222,\"#7201a8\"],[0.3333333333333333,\"#9c179e\"],[0.4444444444444444,\"#bd3786\"],[0.5555555555555556,\"#d8576b\"],[0.6666666666666666,\"#ed7953\"],[0.7777777777777778,\"#fb9f3a\"],[0.8888888888888888,\"#fdca26\"],[1.0,\"#f0f921\"]],\"diverging\":[[0,\"#8e0152\"],[0.1,\"#c51b7d\"],[0.2,\"#de77ae\"],[0.3,\"#f1b6da\"],[0.4,\"#fde0ef\"],[0.5,\"#f7f7f7\"],[0.6,\"#e6f5d0\"],[0.7,\"#b8e186\"],[0.8,\"#7fbc41\"],[0.9,\"#4d9221\"],[1,\"#276419\"]]},\"xaxis\":{\"gridcolor\":\"white\",\"linecolor\":\"white\",\"ticks\":\"\",\"title\":{\"standoff\":15},\"zerolinecolor\":\"white\",\"automargin\":true,\"zerolinewidth\":2},\"yaxis\":{\"gridcolor\":\"white\",\"linecolor\":\"white\",\"ticks\":\"\",\"title\":{\"standoff\":15},\"zerolinecolor\":\"white\",\"automargin\":true,\"zerolinewidth\":2},\"scene\":{\"xaxis\":{\"backgroundcolor\":\"#E5ECF6\",\"gridcolor\":\"white\",\"linecolor\":\"white\",\"showbackground\":true,\"ticks\":\"\",\"zerolinecolor\":\"white\",\"gridwidth\":2},\"yaxis\":{\"backgroundcolor\":\"#E5ECF6\",\"gridcolor\":\"white\",\"linecolor\":\"white\",\"showbackground\":true,\"ticks\":\"\",\"zerolinecolor\":\"white\",\"gridwidth\":2},\"zaxis\":{\"backgroundcolor\":\"#E5ECF6\",\"gridcolor\":\"white\",\"linecolor\":\"white\",\"showbackground\":true,\"ticks\":\"\",\"zerolinecolor\":\"white\",\"gridwidth\":2}},\"shapedefaults\":{\"line\":{\"color\":\"#2a3f5f\"}},\"annotationdefaults\":{\"arrowcolor\":\"#2a3f5f\",\"arrowhead\":0,\"arrowwidth\":1},\"geo\":{\"bgcolor\":\"white\",\"landcolor\":\"#E5ECF6\",\"subunitcolor\":\"white\",\"showland\":true,\"showlakes\":true,\"lakecolor\":\"white\"},\"title\":{\"x\":0.05},\"mapbox\":{\"style\":\"light\"}}},\"xaxis\":{\"anchor\":\"y\",\"domain\":[0.0,1.0],\"title\":{\"text\":\"Income\"}},\"yaxis\":{\"anchor\":\"x\",\"domain\":[0.0,1.0],\"title\":{\"text\":\"percent (normalized as fraction)\"}},\"legend\":{\"title\":{\"text\":\"Education\"},\"tracegroupgap\":0},\"margin\":{\"t\":60},\"barmode\":\"relative\",\"barnorm\":\"fraction\"},                        {\"responsive\": true}                    ).then(function(){\n",
              "                            \n",
              "var gd = document.getElementById('d597cb26-b47e-4aab-8d01-46b49efd8f39');\n",
              "var x = new MutationObserver(function (mutations, observer) {{\n",
              "        var display = window.getComputedStyle(gd).display;\n",
              "        if (!display || display === 'none') {{\n",
              "            console.log([gd, 'removed!']);\n",
              "            Plotly.purge(gd);\n",
              "            observer.disconnect();\n",
              "        }}\n",
              "}});\n",
              "\n",
              "// Listen for the removal of the full notebook cells\n",
              "var notebookContainer = gd.closest('#notebook-container');\n",
              "if (notebookContainer) {{\n",
              "    x.observe(notebookContainer, {childList: true});\n",
              "}}\n",
              "\n",
              "// Listen for the clearing of the current output cell\n",
              "var outputEl = gd.closest('.output');\n",
              "if (outputEl) {{\n",
              "    x.observe(outputEl, {childList: true});\n",
              "}}\n",
              "\n",
              "                        })                };                            </script>        </div>\n",
              "</body>\n",
              "</html>"
            ]
          },
          "metadata": {}
        }
      ]
    },
    {
      "cell_type": "markdown",
      "source": [
        "Income Range 20k-40k: The distribution is dominated by individuals with basic education (about 70%), followed by a small presence of other education levels.\n",
        "\n",
        "Income Range 60k-80k: This range has a more balanced distribution, with Graduation and Master’s education making up about 30% each, and PhD around 20%.\n",
        "\n",
        "Income Range 100k-120k: PhD holders dominate this range, making up approximately 60% of the population in this income bracket.\n",
        "\n",
        "Income Range 140k-160k: PhD holders again dominate, accounting for nearly 90% of individuals in this range.\n",
        "\n",
        "The chart highlights that higher income brackets (above 100k) are predominantly composed of individuals with higher education levels, particularly PhD holders. Lower income brackets have a more varied distribution, with basic education being more prevalent."
      ],
      "metadata": {
        "id": "-vfYeXuwXbLG"
      }
    },
    {
      "cell_type": "markdown",
      "source": [
        "### Average Income by Diploma"
      ],
      "metadata": {
        "id": "jIHDwxrBcX92"
      }
    },
    {
      "cell_type": "code",
      "source": [
        "df = data[['Income','Education']]\n",
        "category_orders={\"Education\":[\"Basic\",\"2n Cycle\",\"Graduation\",\"Master\",\"PhD\"]}\n",
        "fig = px.histogram(df, x=\"Education\",y=\"Income\",  histfunc='avg',category_orders=category_orders)\n",
        "fig.show()"
      ],
      "metadata": {
        "colab": {
          "base_uri": "https://localhost:8080/",
          "height": 542
        },
        "id": "mlyaof7kXemQ",
        "outputId": "e398e264-56ac-4397-ff5b-6ff498088e28"
      },
      "execution_count": null,
      "outputs": [
        {
          "output_type": "display_data",
          "data": {
            "text/html": [
              "<html>\n",
              "<head><meta charset=\"utf-8\" /></head>\n",
              "<body>\n",
              "    <div>            <script src=\"https://cdnjs.cloudflare.com/ajax/libs/mathjax/2.7.5/MathJax.js?config=TeX-AMS-MML_SVG\"></script><script type=\"text/javascript\">if (window.MathJax && window.MathJax.Hub && window.MathJax.Hub.Config) {window.MathJax.Hub.Config({SVG: {font: \"STIX-Web\"}});}</script>                <script type=\"text/javascript\">window.PlotlyConfig = {MathJaxConfig: 'local'};</script>\n",
              "        <script charset=\"utf-8\" src=\"https://cdn.plot.ly/plotly-2.24.1.min.js\"></script>                <div id=\"ef1c3691-d990-454b-81df-57db5170aafe\" class=\"plotly-graph-div\" style=\"height:525px; width:100%;\"></div>            <script type=\"text/javascript\">                                    window.PLOTLYENV=window.PLOTLYENV || {};                                    if (document.getElementById(\"ef1c3691-d990-454b-81df-57db5170aafe\")) {                    Plotly.newPlot(                        \"ef1c3691-d990-454b-81df-57db5170aafe\",                        [{\"alignmentgroup\":\"True\",\"bingroup\":\"x\",\"histfunc\":\"avg\",\"hovertemplate\":\"Education=%{x}\\u003cbr\\u003eavg of Income=%{y}\\u003cextra\\u003e\\u003c\\u002fextra\\u003e\",\"legendgroup\":\"\",\"marker\":{\"color\":\"#636efa\",\"pattern\":{\"shape\":\"\"}},\"name\":\"\",\"offsetgroup\":\"\",\"orientation\":\"v\",\"showlegend\":false,\"x\":[\"Graduation\",\"Graduation\",\"Graduation\",\"Graduation\",\"PhD\",\"Master\",\"Graduation\",\"PhD\",\"PhD\",\"PhD\",\"Graduation\",\"Basic\",\"Graduation\",\"Master\",\"Graduation\",\"PhD\",\"Graduation\",\"Graduation\",\"Master\",\"2n Cycle\",\"Graduation\",\"Graduation\",\"PhD\",\"PhD\",\"Graduation\",\"Graduation\",\"Graduation\",\"Graduation\",\"Graduation\",\"PhD\",\"Master\",\"Master\",\"Graduation\",\"PhD\",\"Master\",\"Master\",\"PhD\",\"2n Cycle\",\"Graduation\",\"PhD\",\"Graduation\",\"Master\",\"Graduation\",\"PhD\",\"Master\",\"Graduation\",\"2n Cycle\",\"Graduation\",\"Graduation\",\"PhD\",\"Graduation\",\"Master\",\"Graduation\",\"Graduation\",\"Graduation\",\"Master\",\"Graduation\",\"Graduation\",\"Graduation\",\"PhD\",\"Master\",\"Graduation\",\"Graduation\",\"PhD\",\"Graduation\",\"Graduation\",\"Graduation\",\"2n Cycle\",\"Graduation\",\"Graduation\",\"Master\",\"2n Cycle\",\"Graduation\",\"PhD\",\"Graduation\",\"Graduation\",\"Master\",\"Graduation\",\"2n Cycle\",\"Graduation\",\"Graduation\",\"Graduation\",\"2n Cycle\",\"Master\",\"Graduation\",\"Graduation\",\"Master\",\"Graduation\",\"Graduation\",\"Graduation\",\"PhD\",\"Graduation\",\"Master\",\"Master\",\"PhD\",\"Graduation\",\"Graduation\",\"Graduation\",\"2n Cycle\",\"PhD\",\"2n Cycle\",\"PhD\",\"Graduation\",\"PhD\",\"Graduation\",\"Basic\",\"Graduation\",\"Graduation\",\"Graduation\",\"Master\",\"Graduation\",\"PhD\",\"Master\",\"Graduation\",\"PhD\",\"Graduation\",\"Graduation\",\"2n Cycle\",\"2n Cycle\",\"Graduation\",\"Master\",\"Master\",\"Master\",\"Graduation\",\"Graduation\",\"2n Cycle\",\"Graduation\",\"Master\",\"PhD\",\"PhD\",\"Graduation\",\"Master\",\"Graduation\",\"Graduation\",\"PhD\",\"PhD\",\"Basic\",\"PhD\",\"PhD\",\"PhD\",\"Master\",\"Master\",\"Graduation\",\"PhD\",\"Graduation\",\"Graduation\",\"Graduation\",\"Graduation\",\"2n Cycle\",\"Master\",\"Master\",\"Graduation\",\"2n Cycle\",\"Graduation\",\"PhD\",\"Graduation\",\"Graduation\",\"Graduation\",\"Graduation\",\"Graduation\",\"Master\",\"PhD\",\"Graduation\",\"PhD\",\"PhD\",\"Graduation\",\"Graduation\",\"Graduation\",\"Graduation\",\"Graduation\",\"Graduation\",\"Graduation\",\"Graduation\",\"PhD\",\"Graduation\",\"PhD\",\"PhD\",\"PhD\",\"Graduation\",\"2n Cycle\",\"PhD\",\"2n Cycle\",\"Master\",\"Master\",\"Basic\",\"Graduation\",\"PhD\",\"Graduation\",\"Graduation\",\"PhD\",\"Basic\",\"PhD\",\"2n Cycle\",\"Graduation\",\"Graduation\",\"Graduation\",\"Master\",\"Graduation\",\"Graduation\",\"PhD\",\"Graduation\",\"Graduation\",\"Graduation\",\"PhD\",\"PhD\",\"Master\",\"Graduation\",\"Master\",\"Graduation\",\"Graduation\",\"Graduation\",\"Graduation\",\"PhD\",\"Master\",\"Graduation\",\"Graduation\",\"2n Cycle\",\"Master\",\"Master\",\"Graduation\",\"2n Cycle\",\"Graduation\",\"PhD\",\"PhD\",\"Graduation\",\"Graduation\",\"Graduation\",\"Graduation\",\"PhD\",\"PhD\",\"Graduation\",\"2n Cycle\",\"Graduation\",\"Graduation\",\"PhD\",\"2n Cycle\",\"Master\",\"PhD\",\"Graduation\",\"2n Cycle\",\"Graduation\",\"Graduation\",\"Graduation\",\"Graduation\",\"Graduation\",\"PhD\",\"Graduation\",\"Graduation\",\"PhD\",\"Master\",\"Master\",\"Graduation\",\"Graduation\",\"2n Cycle\",\"Graduation\",\"PhD\",\"PhD\",\"Graduation\",\"Graduation\",\"PhD\",\"Graduation\",\"PhD\",\"Master\",\"PhD\",\"Master\",\"Master\",\"Graduation\",\"PhD\",\"Graduation\",\"Graduation\",\"Graduation\",\"Master\",\"PhD\",\"Graduation\",\"Graduation\",\"PhD\",\"Graduation\",\"Master\",\"PhD\",\"Master\",\"Basic\",\"Graduation\",\"Graduation\",\"PhD\",\"Master\",\"Graduation\",\"Graduation\",\"Master\",\"Graduation\",\"Master\",\"2n Cycle\",\"Graduation\",\"Graduation\",\"Graduation\",\"Graduation\",\"Master\",\"2n Cycle\",\"Master\",\"Graduation\",\"PhD\",\"Graduation\",\"2n Cycle\",\"PhD\",\"Graduation\",\"Graduation\",\"Master\",\"Graduation\",\"Graduation\",\"Master\",\"Master\",\"Graduation\",\"Graduation\",\"Graduation\",\"Master\",\"Graduation\",\"Master\",\"Graduation\",\"Graduation\",\"Graduation\",\"Graduation\",\"Graduation\",\"Graduation\",\"PhD\",\"PhD\",\"Graduation\",\"Graduation\",\"PhD\",\"Graduation\",\"PhD\",\"PhD\",\"Graduation\",\"PhD\",\"PhD\",\"Master\",\"Graduation\",\"Graduation\",\"Graduation\",\"Graduation\",\"Graduation\",\"PhD\",\"Graduation\",\"Graduation\",\"PhD\",\"PhD\",\"Basic\",\"Graduation\",\"Graduation\",\"Graduation\",\"Graduation\",\"Master\",\"Graduation\",\"Graduation\",\"PhD\",\"Graduation\",\"PhD\",\"Graduation\",\"Graduation\",\"PhD\",\"Master\",\"PhD\",\"Graduation\",\"PhD\",\"Graduation\",\"PhD\",\"Graduation\",\"Graduation\",\"Graduation\",\"Graduation\",\"Graduation\",\"PhD\",\"2n Cycle\",\"Graduation\",\"Master\",\"Graduation\",\"PhD\",\"Master\",\"Graduation\",\"Graduation\",\"PhD\",\"Graduation\",\"PhD\",\"Graduation\",\"Graduation\",\"2n Cycle\",\"Master\",\"Graduation\",\"Master\",\"Graduation\",\"Graduation\",\"PhD\",\"Graduation\",\"Master\",\"Graduation\",\"PhD\",\"Master\",\"PhD\",\"Graduation\",\"Graduation\",\"Graduation\",\"2n Cycle\",\"2n Cycle\",\"Graduation\",\"Graduation\",\"Graduation\",\"PhD\",\"Graduation\",\"PhD\",\"PhD\",\"PhD\",\"Graduation\",\"2n Cycle\",\"Graduation\",\"PhD\",\"Graduation\",\"Graduation\",\"PhD\",\"2n Cycle\",\"Graduation\",\"Graduation\",\"Master\",\"PhD\",\"Graduation\",\"Master\",\"Master\",\"PhD\",\"Graduation\",\"Graduation\",\"Graduation\",\"2n Cycle\",\"Graduation\",\"PhD\",\"Graduation\",\"2n Cycle\",\"Graduation\",\"Graduation\",\"Master\",\"Graduation\",\"Master\",\"PhD\",\"2n Cycle\",\"Graduation\",\"PhD\",\"Graduation\",\"Graduation\",\"2n Cycle\",\"Graduation\",\"Master\",\"Graduation\",\"Graduation\",\"PhD\",\"Graduation\",\"Graduation\",\"Master\",\"2n Cycle\",\"Graduation\",\"Graduation\",\"2n Cycle\",\"Master\",\"Graduation\",\"2n Cycle\",\"Graduation\",\"Graduation\",\"PhD\",\"Graduation\",\"Graduation\",\"PhD\",\"PhD\",\"Graduation\",\"Graduation\",\"PhD\",\"Graduation\",\"Graduation\",\"PhD\",\"Graduation\",\"Graduation\",\"Graduation\",\"PhD\",\"Master\",\"PhD\",\"Graduation\",\"Master\",\"Master\",\"Graduation\",\"Graduation\",\"Master\",\"PhD\",\"Master\",\"Graduation\",\"Graduation\",\"2n Cycle\",\"PhD\",\"Graduation\",\"Graduation\",\"Master\",\"PhD\",\"Master\",\"Graduation\",\"PhD\",\"PhD\",\"Graduation\",\"Graduation\",\"Master\",\"Basic\",\"PhD\",\"Master\",\"Graduation\",\"Graduation\",\"Graduation\",\"Graduation\",\"Graduation\",\"PhD\",\"Graduation\",\"Graduation\",\"Master\",\"PhD\",\"Master\",\"Graduation\",\"Graduation\",\"Graduation\",\"Master\",\"Graduation\",\"Master\",\"Graduation\",\"Graduation\",\"Graduation\",\"Graduation\",\"PhD\",\"Master\",\"Graduation\",\"PhD\",\"2n Cycle\",\"Graduation\",\"Master\",\"Graduation\",\"Graduation\",\"Master\",\"Graduation\",\"Graduation\",\"2n Cycle\",\"Master\",\"2n Cycle\",\"Graduation\",\"PhD\",\"PhD\",\"Graduation\",\"2n Cycle\",\"Graduation\",\"Graduation\",\"Graduation\",\"Master\",\"2n Cycle\",\"Graduation\",\"PhD\",\"Graduation\",\"Master\",\"Graduation\",\"PhD\",\"Graduation\",\"2n Cycle\",\"Graduation\",\"Graduation\",\"Graduation\",\"Master\",\"2n Cycle\",\"PhD\",\"PhD\",\"Graduation\",\"Master\",\"Graduation\",\"Graduation\",\"Graduation\",\"PhD\",\"2n Cycle\",\"PhD\",\"Master\",\"PhD\",\"Graduation\",\"Graduation\",\"PhD\",\"Master\",\"PhD\",\"Graduation\",\"2n Cycle\",\"Master\",\"Graduation\",\"2n Cycle\",\"Graduation\",\"Master\",\"Graduation\",\"Graduation\",\"PhD\",\"Master\",\"Master\",\"Graduation\",\"PhD\",\"Master\",\"Graduation\",\"Master\",\"2n Cycle\",\"Graduation\",\"Graduation\",\"Graduation\",\"Graduation\",\"PhD\",\"Master\",\"Master\",\"Graduation\",\"Graduation\",\"Basic\",\"Graduation\",\"Master\",\"Master\",\"Basic\",\"Graduation\",\"PhD\",\"Graduation\",\"Master\",\"PhD\",\"Graduation\",\"Master\",\"PhD\",\"Graduation\",\"Graduation\",\"2n Cycle\",\"2n Cycle\",\"Graduation\",\"Graduation\",\"Graduation\",\"PhD\",\"Graduation\",\"PhD\",\"PhD\",\"2n Cycle\",\"2n Cycle\",\"Graduation\",\"Graduation\",\"Graduation\",\"Graduation\",\"Master\",\"Graduation\",\"Graduation\",\"PhD\",\"PhD\",\"Graduation\",\"Master\",\"PhD\",\"Graduation\",\"Master\",\"Master\",\"Graduation\",\"Master\",\"Graduation\",\"Graduation\",\"PhD\",\"Graduation\",\"Graduation\",\"Graduation\",\"2n Cycle\",\"PhD\",\"PhD\",\"Graduation\",\"Graduation\",\"Graduation\",\"Basic\",\"Master\",\"Graduation\",\"PhD\",\"Basic\",\"PhD\",\"2n Cycle\",\"PhD\",\"Master\",\"Graduation\",\"Graduation\",\"PhD\",\"Graduation\",\"PhD\",\"Graduation\",\"2n Cycle\",\"PhD\",\"Graduation\",\"Graduation\",\"2n Cycle\",\"Graduation\",\"Graduation\",\"PhD\",\"PhD\",\"PhD\",\"PhD\",\"PhD\",\"PhD\",\"Graduation\",\"Master\",\"Basic\",\"Master\",\"Master\",\"Graduation\",\"PhD\",\"Graduation\",\"Graduation\",\"Graduation\",\"Graduation\",\"Graduation\",\"Master\",\"Master\",\"Graduation\",\"PhD\",\"Graduation\",\"PhD\",\"Master\",\"Graduation\",\"Master\",\"Graduation\",\"Graduation\",\"Graduation\",\"PhD\",\"2n Cycle\",\"Graduation\",\"Graduation\",\"Graduation\",\"Master\",\"Graduation\",\"PhD\",\"Graduation\",\"Graduation\",\"Graduation\",\"Graduation\",\"Master\",\"Master\",\"Graduation\",\"PhD\",\"PhD\",\"Graduation\",\"PhD\",\"Graduation\",\"Graduation\",\"Graduation\",\"Master\",\"Basic\",\"Graduation\",\"PhD\",\"Master\",\"PhD\",\"2n Cycle\",\"Graduation\",\"Graduation\",\"2n Cycle\",\"Graduation\",\"Graduation\",\"2n Cycle\",\"PhD\",\"PhD\",\"Graduation\",\"Graduation\",\"Graduation\",\"2n Cycle\",\"PhD\",\"Graduation\",\"Master\",\"PhD\",\"2n Cycle\",\"Graduation\",\"Master\",\"PhD\",\"Graduation\",\"Graduation\",\"Graduation\",\"Graduation\",\"2n Cycle\",\"Master\",\"Graduation\",\"PhD\",\"Graduation\",\"Graduation\",\"PhD\",\"Graduation\",\"PhD\",\"PhD\",\"Master\",\"Graduation\",\"PhD\",\"Graduation\",\"Graduation\",\"Graduation\",\"Graduation\",\"Basic\",\"Master\",\"PhD\",\"Master\",\"Graduation\",\"Master\",\"PhD\",\"Graduation\",\"Graduation\",\"Graduation\",\"Master\",\"PhD\",\"2n Cycle\",\"Graduation\",\"Graduation\",\"Master\",\"Graduation\",\"Graduation\",\"PhD\",\"Graduation\",\"Master\",\"Master\",\"Graduation\",\"Graduation\",\"Graduation\",\"Graduation\",\"Graduation\",\"Graduation\",\"Master\",\"PhD\",\"PhD\",\"Graduation\",\"Graduation\",\"Graduation\",\"2n Cycle\",\"PhD\",\"Graduation\",\"Graduation\",\"Graduation\",\"Graduation\",\"2n Cycle\",\"Graduation\",\"Graduation\",\"PhD\",\"Graduation\",\"PhD\",\"Graduation\",\"PhD\",\"2n Cycle\",\"Graduation\",\"Graduation\",\"Master\",\"Graduation\",\"2n Cycle\",\"Graduation\",\"Graduation\",\"Graduation\",\"Graduation\",\"Graduation\",\"2n Cycle\",\"Graduation\",\"2n Cycle\",\"Master\",\"Graduation\",\"Graduation\",\"Graduation\",\"PhD\",\"2n Cycle\",\"PhD\",\"PhD\",\"Graduation\",\"Master\",\"Graduation\",\"Graduation\",\"2n Cycle\",\"Graduation\",\"Master\",\"Graduation\",\"2n Cycle\",\"2n Cycle\",\"PhD\",\"Master\",\"Master\",\"Graduation\",\"Graduation\",\"PhD\",\"Graduation\",\"Graduation\",\"2n Cycle\",\"Master\",\"Graduation\",\"Master\",\"Graduation\",\"Master\",\"2n Cycle\",\"Graduation\",\"Graduation\",\"Graduation\",\"2n Cycle\",\"PhD\",\"PhD\",\"PhD\",\"Graduation\",\"Graduation\",\"Master\",\"Graduation\",\"Master\",\"Graduation\",\"Basic\",\"PhD\",\"PhD\",\"Graduation\",\"Graduation\",\"PhD\",\"Graduation\",\"Graduation\",\"Graduation\",\"Graduation\",\"Graduation\",\"Graduation\",\"Graduation\",\"Graduation\",\"Graduation\",\"Graduation\",\"PhD\",\"PhD\",\"Graduation\",\"PhD\",\"Master\",\"Graduation\",\"Graduation\",\"Master\",\"PhD\",\"2n Cycle\",\"PhD\",\"PhD\",\"Graduation\",\"Master\",\"PhD\",\"Graduation\",\"Master\",\"Graduation\",\"2n Cycle\",\"Graduation\",\"PhD\",\"PhD\",\"Graduation\",\"PhD\",\"Basic\",\"Graduation\",\"PhD\",\"Graduation\",\"PhD\",\"Graduation\",\"PhD\",\"2n Cycle\",\"PhD\",\"Graduation\",\"Graduation\",\"Basic\",\"PhD\",\"2n Cycle\",\"Graduation\",\"Graduation\",\"2n Cycle\",\"PhD\",\"PhD\",\"Master\",\"PhD\",\"Master\",\"PhD\",\"Graduation\",\"Graduation\",\"Graduation\",\"PhD\",\"Graduation\",\"PhD\",\"Master\",\"PhD\",\"Graduation\",\"Graduation\",\"Graduation\",\"Graduation\",\"PhD\",\"Graduation\",\"Graduation\",\"PhD\",\"2n Cycle\",\"2n Cycle\",\"Master\",\"Graduation\",\"Master\",\"Master\",\"Graduation\",\"Graduation\",\"2n Cycle\",\"Graduation\",\"Master\",\"Graduation\",\"Graduation\",\"PhD\",\"PhD\",\"Graduation\",\"2n Cycle\",\"PhD\",\"Graduation\",\"2n Cycle\",\"Master\",\"Graduation\",\"Graduation\",\"Graduation\",\"Graduation\",\"Graduation\",\"Graduation\",\"Graduation\",\"PhD\",\"PhD\",\"2n Cycle\",\"Graduation\",\"PhD\",\"Graduation\",\"Master\",\"Graduation\",\"Graduation\",\"PhD\",\"Graduation\",\"PhD\",\"Graduation\",\"Master\",\"Master\",\"Master\",\"2n Cycle\",\"Graduation\",\"Graduation\",\"Graduation\",\"Graduation\",\"PhD\",\"PhD\",\"Master\",\"Graduation\",\"PhD\",\"Graduation\",\"Basic\",\"PhD\",\"2n Cycle\",\"Graduation\",\"Graduation\",\"Graduation\",\"2n Cycle\",\"Graduation\",\"Graduation\",\"PhD\",\"Master\",\"PhD\",\"Graduation\",\"Graduation\",\"Graduation\",\"Graduation\",\"Graduation\",\"Graduation\",\"Master\",\"Master\",\"PhD\",\"Graduation\",\"Graduation\",\"2n Cycle\",\"PhD\",\"PhD\",\"2n Cycle\",\"Master\",\"Graduation\",\"Graduation\",\"PhD\",\"Graduation\",\"Graduation\",\"Master\",\"Graduation\",\"PhD\",\"PhD\",\"PhD\",\"Graduation\",\"Graduation\",\"2n Cycle\",\"Graduation\",\"Graduation\",\"PhD\",\"Graduation\",\"Graduation\",\"Graduation\",\"Graduation\",\"Graduation\",\"PhD\",\"2n Cycle\",\"Master\",\"PhD\",\"Graduation\",\"Graduation\",\"Graduation\",\"Graduation\",\"Master\",\"Graduation\",\"Graduation\",\"PhD\",\"Graduation\",\"PhD\",\"PhD\",\"PhD\",\"Graduation\",\"PhD\",\"PhD\",\"Graduation\",\"Graduation\",\"2n Cycle\",\"Master\",\"Graduation\",\"Graduation\",\"2n Cycle\",\"Graduation\",\"Graduation\",\"Graduation\",\"PhD\",\"PhD\",\"2n Cycle\",\"2n Cycle\",\"Graduation\",\"Graduation\",\"2n Cycle\",\"PhD\",\"Master\",\"PhD\",\"Graduation\",\"PhD\",\"Master\",\"Basic\",\"2n Cycle\",\"Graduation\",\"PhD\",\"Master\",\"Graduation\",\"Graduation\",\"Graduation\",\"Graduation\",\"Graduation\",\"Basic\",\"2n Cycle\",\"Master\",\"Graduation\",\"Graduation\",\"Graduation\",\"Graduation\",\"2n Cycle\",\"PhD\",\"PhD\",\"Master\",\"Graduation\",\"Master\",\"Graduation\",\"2n Cycle\",\"PhD\",\"Graduation\",\"Master\",\"Graduation\",\"Graduation\",\"PhD\",\"Graduation\",\"PhD\",\"Graduation\",\"Graduation\",\"Graduation\",\"Master\",\"PhD\",\"Graduation\",\"Graduation\",\"Graduation\",\"Graduation\",\"Graduation\",\"Graduation\",\"Graduation\",\"Graduation\",\"PhD\",\"Graduation\",\"2n Cycle\",\"Graduation\",\"Graduation\",\"Graduation\",\"Basic\",\"2n Cycle\",\"PhD\",\"Master\",\"Basic\",\"Master\",\"Master\",\"Graduation\",\"Graduation\",\"Master\",\"Graduation\",\"Graduation\",\"PhD\",\"Basic\",\"Graduation\",\"Graduation\",\"Graduation\",\"PhD\",\"PhD\",\"2n Cycle\",\"Master\",\"Master\",\"Graduation\",\"Graduation\",\"Master\",\"Master\",\"2n Cycle\",\"Master\",\"PhD\",\"2n Cycle\",\"Graduation\",\"Graduation\",\"Master\",\"Graduation\",\"Master\",\"Master\",\"PhD\",\"Graduation\",\"PhD\",\"Graduation\",\"Graduation\",\"Graduation\",\"Graduation\",\"Graduation\",\"Graduation\",\"Graduation\",\"Graduation\",\"PhD\",\"PhD\",\"Graduation\",\"Basic\",\"Graduation\",\"2n Cycle\",\"Graduation\",\"PhD\",\"PhD\",\"PhD\",\"Graduation\",\"Master\",\"Master\",\"Graduation\",\"PhD\",\"Graduation\",\"Graduation\",\"PhD\",\"Graduation\",\"Master\",\"Graduation\",\"Graduation\",\"Graduation\",\"Basic\",\"PhD\",\"Graduation\",\"Master\",\"PhD\",\"Graduation\",\"Basic\",\"Graduation\",\"PhD\",\"Graduation\",\"PhD\",\"Graduation\",\"PhD\",\"Graduation\",\"Graduation\",\"PhD\",\"2n Cycle\",\"Graduation\",\"Graduation\",\"Graduation\",\"PhD\",\"PhD\",\"Master\",\"Graduation\",\"Graduation\",\"Graduation\",\"PhD\",\"Graduation\",\"PhD\",\"2n Cycle\",\"Graduation\",\"Master\",\"Graduation\",\"Master\",\"Master\",\"Graduation\",\"Master\",\"Graduation\",\"Graduation\",\"Graduation\",\"Graduation\",\"2n Cycle\",\"PhD\",\"Master\",\"Basic\",\"Graduation\",\"PhD\",\"2n Cycle\",\"Master\",\"Graduation\",\"Graduation\",\"Graduation\",\"2n Cycle\",\"PhD\",\"PhD\",\"Master\",\"PhD\",\"Graduation\",\"Graduation\",\"Graduation\",\"Master\",\"Graduation\",\"2n Cycle\",\"Graduation\",\"Graduation\",\"Graduation\",\"Graduation\",\"PhD\",\"Graduation\",\"Graduation\",\"PhD\",\"Master\",\"Master\",\"2n Cycle\",\"2n Cycle\",\"PhD\",\"Graduation\",\"2n Cycle\",\"Graduation\",\"Graduation\",\"Master\",\"Master\",\"Graduation\",\"Graduation\",\"Basic\",\"Master\",\"Graduation\",\"PhD\",\"Master\",\"PhD\",\"Graduation\",\"Graduation\",\"Graduation\",\"Graduation\",\"Master\",\"Graduation\",\"Graduation\",\"Master\",\"Graduation\",\"Graduation\",\"Graduation\",\"Master\",\"Master\",\"Graduation\",\"Basic\",\"Graduation\",\"2n Cycle\",\"PhD\",\"Graduation\",\"PhD\",\"PhD\",\"Graduation\",\"Graduation\",\"Graduation\",\"Graduation\",\"Graduation\",\"Graduation\",\"PhD\",\"Graduation\",\"Master\",\"Graduation\",\"Basic\",\"Graduation\",\"2n Cycle\",\"2n Cycle\",\"Master\",\"Graduation\",\"Graduation\",\"Master\",\"Graduation\",\"Graduation\",\"2n Cycle\",\"Master\",\"PhD\",\"PhD\",\"Graduation\",\"Graduation\",\"Graduation\",\"Master\",\"Master\",\"Master\",\"2n Cycle\",\"Graduation\",\"2n Cycle\",\"Graduation\",\"Graduation\",\"PhD\",\"2n Cycle\",\"Graduation\",\"Graduation\",\"Master\",\"Graduation\",\"PhD\",\"2n Cycle\",\"PhD\",\"Master\",\"Graduation\",\"Graduation\",\"Master\",\"PhD\",\"Graduation\",\"Graduation\",\"Graduation\",\"Graduation\",\"Master\",\"PhD\",\"Master\",\"Master\",\"Graduation\",\"PhD\",\"PhD\",\"Graduation\",\"Master\",\"Graduation\",\"Graduation\",\"Graduation\",\"Basic\",\"Graduation\",\"Graduation\",\"Graduation\",\"PhD\",\"2n Cycle\",\"Graduation\",\"PhD\",\"Graduation\",\"Graduation\",\"PhD\",\"PhD\",\"2n Cycle\",\"Graduation\",\"Master\",\"2n Cycle\",\"Graduation\",\"Graduation\",\"Graduation\",\"2n Cycle\",\"Graduation\",\"2n Cycle\",\"Graduation\",\"Graduation\",\"Graduation\",\"Master\",\"Graduation\",\"Master\",\"Graduation\",\"Graduation\",\"2n Cycle\",\"Graduation\",\"PhD\",\"2n Cycle\",\"Graduation\",\"Graduation\",\"Graduation\",\"PhD\",\"PhD\",\"Graduation\",\"Graduation\",\"Graduation\",\"Graduation\",\"PhD\",\"Master\",\"Graduation\",\"PhD\",\"Graduation\",\"Master\",\"Master\",\"Graduation\",\"Graduation\",\"PhD\",\"Graduation\",\"2n Cycle\",\"Graduation\",\"Graduation\",\"PhD\",\"Graduation\",\"Graduation\",\"Master\",\"PhD\",\"Master\",\"PhD\",\"Graduation\",\"Graduation\",\"2n Cycle\",\"Graduation\",\"2n Cycle\",\"Master\",\"Master\",\"PhD\",\"Graduation\",\"Master\",\"PhD\",\"PhD\",\"Graduation\",\"Graduation\",\"Graduation\",\"Graduation\",\"Graduation\",\"PhD\",\"Graduation\",\"Graduation\",\"Master\",\"2n Cycle\",\"Graduation\",\"Master\",\"PhD\",\"Master\",\"Master\",\"2n Cycle\",\"PhD\",\"Graduation\",\"Graduation\",\"Master\",\"Graduation\",\"Graduation\",\"2n Cycle\",\"Graduation\",\"Graduation\",\"Graduation\",\"Master\",\"Graduation\",\"PhD\",\"Graduation\",\"Graduation\",\"PhD\",\"Graduation\",\"Graduation\",\"PhD\",\"Graduation\",\"PhD\",\"Graduation\",\"2n Cycle\",\"2n Cycle\",\"PhD\",\"Master\",\"2n Cycle\",\"2n Cycle\",\"Graduation\",\"PhD\",\"PhD\",\"Master\",\"Graduation\",\"Master\",\"Graduation\",\"PhD\",\"Graduation\",\"Master\",\"2n Cycle\",\"Graduation\",\"Graduation\",\"2n Cycle\",\"Master\",\"2n Cycle\",\"Graduation\",\"Graduation\",\"Graduation\",\"Master\",\"Master\",\"Graduation\",\"Graduation\",\"PhD\",\"Graduation\",\"Master\",\"Graduation\",\"Graduation\",\"Graduation\",\"Graduation\",\"Master\",\"Graduation\",\"PhD\",\"PhD\",\"PhD\",\"Graduation\",\"Master\",\"Master\",\"Graduation\",\"PhD\",\"Graduation\",\"PhD\",\"Graduation\",\"Master\",\"Graduation\",\"Master\",\"Graduation\",\"Master\",\"Graduation\",\"PhD\",\"Master\",\"Graduation\",\"Graduation\",\"Graduation\",\"PhD\",\"Graduation\",\"Basic\",\"Master\",\"PhD\",\"PhD\",\"Master\",\"Graduation\",\"Graduation\",\"PhD\",\"Master\",\"Master\",\"Master\",\"Graduation\",\"Graduation\",\"PhD\",\"Graduation\",\"2n Cycle\",\"Master\",\"PhD\",\"Graduation\",\"2n Cycle\",\"Graduation\",\"Graduation\",\"Graduation\",\"Graduation\",\"Graduation\",\"Graduation\",\"Graduation\",\"Master\",\"PhD\",\"Graduation\",\"2n Cycle\",\"Graduation\",\"Graduation\",\"PhD\",\"PhD\",\"PhD\",\"Graduation\",\"2n Cycle\",\"PhD\",\"PhD\",\"PhD\",\"Graduation\",\"PhD\",\"PhD\",\"Graduation\",\"Graduation\",\"Graduation\",\"Master\",\"Master\",\"PhD\",\"Graduation\",\"Basic\",\"2n Cycle\",\"Master\",\"Master\",\"Graduation\",\"Graduation\",\"PhD\",\"Graduation\",\"Graduation\",\"Graduation\",\"Graduation\",\"PhD\",\"Master\",\"Master\",\"PhD\",\"2n Cycle\",\"Graduation\",\"PhD\",\"Graduation\",\"Graduation\",\"Graduation\",\"PhD\",\"2n Cycle\",\"PhD\",\"PhD\",\"PhD\",\"PhD\",\"PhD\",\"Graduation\",\"Master\",\"2n Cycle\",\"Graduation\",\"2n Cycle\",\"Graduation\",\"Basic\",\"PhD\",\"Graduation\",\"Graduation\",\"Graduation\",\"PhD\",\"PhD\",\"Graduation\",\"Graduation\",\"Master\",\"Graduation\",\"Graduation\",\"Graduation\",\"Graduation\",\"Master\",\"PhD\",\"2n Cycle\",\"Graduation\",\"Graduation\",\"2n Cycle\",\"PhD\",\"PhD\",\"Master\",\"Graduation\",\"Master\",\"Graduation\",\"PhD\",\"Basic\",\"PhD\",\"Master\",\"Graduation\",\"Graduation\",\"PhD\",\"Graduation\",\"Master\",\"Graduation\",\"Graduation\",\"Basic\",\"Graduation\",\"Graduation\",\"Graduation\",\"Graduation\",\"PhD\",\"Graduation\",\"PhD\",\"Graduation\",\"PhD\",\"PhD\",\"Master\",\"Graduation\",\"Basic\",\"Master\",\"Graduation\",\"PhD\",\"Graduation\",\"Graduation\",\"Graduation\",\"2n Cycle\",\"Graduation\",\"Graduation\",\"Graduation\",\"Graduation\",\"PhD\",\"Graduation\",\"Graduation\",\"PhD\",\"Graduation\",\"PhD\",\"Graduation\",\"Basic\",\"Master\",\"Graduation\",\"PhD\",\"PhD\",\"Graduation\",\"2n Cycle\",\"PhD\",\"Graduation\",\"Basic\",\"Graduation\",\"Master\",\"PhD\",\"Graduation\",\"2n Cycle\",\"2n Cycle\",\"Graduation\",\"Graduation\",\"2n Cycle\",\"Graduation\",\"PhD\",\"Graduation\",\"Basic\",\"Master\",\"PhD\",\"PhD\",\"Graduation\",\"PhD\",\"Graduation\",\"Graduation\",\"Graduation\",\"PhD\",\"PhD\",\"2n Cycle\",\"Basic\",\"PhD\",\"Graduation\",\"Graduation\",\"Graduation\",\"Graduation\",\"Graduation\",\"Graduation\",\"2n Cycle\",\"Graduation\",\"Graduation\",\"PhD\",\"2n Cycle\",\"Graduation\",\"Graduation\",\"Master\",\"Graduation\",\"Master\",\"Graduation\",\"2n Cycle\",\"Graduation\",\"Graduation\",\"Master\",\"Graduation\",\"Graduation\",\"Graduation\",\"PhD\",\"Graduation\",\"Graduation\",\"PhD\",\"Graduation\",\"PhD\",\"Master\",\"Graduation\",\"Graduation\",\"PhD\",\"2n Cycle\",\"Graduation\",\"Graduation\",\"PhD\",\"Graduation\",\"Master\",\"Master\",\"Graduation\",\"2n Cycle\",\"Graduation\",\"PhD\",\"Graduation\",\"Master\",\"Master\",\"Graduation\",\"Graduation\",\"PhD\",\"Graduation\",\"Graduation\",\"Graduation\",\"PhD\",\"Graduation\",\"2n Cycle\",\"PhD\",\"PhD\",\"Master\",\"Master\",\"Master\",\"Master\",\"PhD\",\"PhD\",\"Graduation\",\"PhD\",\"Graduation\",\"2n Cycle\",\"Graduation\",\"PhD\",\"Graduation\",\"PhD\",\"Master\",\"Master\",\"Master\",\"PhD\",\"Graduation\",\"PhD\",\"2n Cycle\",\"Graduation\",\"Graduation\",\"Graduation\",\"Graduation\",\"Master\",\"Graduation\",\"Master\",\"2n Cycle\",\"PhD\",\"Graduation\",\"Graduation\",\"PhD\",\"Graduation\",\"2n Cycle\",\"Master\",\"Graduation\",\"PhD\",\"Graduation\",\"PhD\",\"PhD\",\"PhD\",\"Master\",\"PhD\",\"Graduation\",\"PhD\",\"PhD\",\"Graduation\",\"Graduation\",\"PhD\",\"Master\",\"Graduation\",\"Graduation\",\"Graduation\",\"Graduation\",\"Basic\",\"PhD\",\"PhD\",\"PhD\",\"PhD\",\"Graduation\",\"Master\",\"Graduation\",\"Graduation\",\"Graduation\",\"PhD\",\"Graduation\",\"Graduation\",\"Master\",\"2n Cycle\",\"Graduation\",\"Master\",\"Graduation\",\"PhD\",\"Graduation\",\"Graduation\",\"PhD\",\"Graduation\",\"PhD\",\"2n Cycle\",\"2n Cycle\",\"Graduation\",\"Master\",\"Graduation\",\"Master\",\"PhD\",\"Graduation\",\"Graduation\",\"Master\",\"PhD\",\"PhD\",\"Master\",\"Master\",\"Graduation\",\"2n Cycle\",\"PhD\",\"PhD\",\"Master\",\"Graduation\",\"PhD\",\"Graduation\",\"Graduation\",\"Graduation\",\"Master\",\"Graduation\",\"Graduation\",\"Master\",\"Graduation\",\"Graduation\",\"PhD\",\"Graduation\",\"Graduation\",\"PhD\",\"PhD\",\"PhD\",\"Graduation\",\"Graduation\",\"Graduation\",\"PhD\",\"Master\",\"PhD\",\"Graduation\",\"Graduation\",\"Graduation\",\"Graduation\",\"Graduation\",\"Graduation\",\"Graduation\",\"Master\",\"Graduation\",\"Graduation\",\"Graduation\",\"Graduation\",\"2n Cycle\",\"Graduation\",\"2n Cycle\",\"PhD\",\"Graduation\",\"Master\",\"Graduation\",\"PhD\",\"Graduation\",\"Master\",\"Graduation\",\"Graduation\",\"Graduation\",\"Graduation\",\"Graduation\",\"Graduation\",\"PhD\",\"Master\",\"Master\",\"Graduation\",\"Graduation\",\"2n Cycle\",\"Graduation\",\"PhD\",\"PhD\",\"2n Cycle\",\"Graduation\",\"PhD\",\"Graduation\",\"Graduation\",\"Master\",\"Graduation\",\"Graduation\",\"Graduation\",\"PhD\",\"PhD\",\"Graduation\",\"Graduation\",\"Graduation\",\"Basic\",\"Graduation\",\"2n Cycle\",\"Graduation\",\"Graduation\",\"Graduation\",\"Graduation\",\"Graduation\",\"Master\",\"Graduation\",\"Master\",\"PhD\",\"Master\",\"Graduation\",\"Graduation\",\"Master\",\"2n Cycle\",\"PhD\",\"Graduation\",\"Graduation\",\"Graduation\",\"Graduation\",\"Graduation\",\"Graduation\",\"Graduation\",\"Graduation\",\"Graduation\",\"Graduation\",\"Graduation\",\"Graduation\",\"Master\",\"Graduation\",\"Graduation\",\"Graduation\",\"Graduation\",\"Graduation\",\"2n Cycle\",\"Graduation\",\"Graduation\",\"Graduation\",\"Master\",\"Graduation\",\"Graduation\",\"Graduation\",\"PhD\",\"Graduation\",\"Master\",\"Graduation\",\"PhD\",\"PhD\",\"Graduation\",\"Graduation\",\"Graduation\",\"Graduation\",\"PhD\",\"Graduation\",\"Graduation\",\"Graduation\",\"Graduation\",\"Graduation\",\"PhD\",\"Graduation\",\"Graduation\",\"Master\",\"Basic\",\"Graduation\",\"Master\",\"Graduation\",\"Graduation\",\"Graduation\",\"Graduation\",\"Master\",\"Graduation\",\"2n Cycle\",\"Graduation\",\"Graduation\",\"Master\",\"Master\",\"Basic\",\"Graduation\",\"Graduation\",\"Master\",\"PhD\",\"Graduation\",\"Graduation\",\"Master\",\"Graduation\",\"Master\",\"PhD\",\"2n Cycle\",\"PhD\",\"Basic\",\"Basic\",\"Master\",\"Graduation\",\"Master\",\"Graduation\",\"Graduation\",\"PhD\",\"Graduation\",\"Master\",\"Master\",\"Master\",\"2n Cycle\",\"PhD\",\"Master\",\"Graduation\",\"Master\",\"2n Cycle\",\"Graduation\",\"2n Cycle\",\"Graduation\",\"Graduation\",\"Graduation\",\"PhD\",\"PhD\",\"Graduation\",\"Graduation\",\"Master\",\"PhD\",\"Basic\",\"Master\",\"Graduation\",\"Graduation\",\"Graduation\",\"Master\",\"Master\",\"Graduation\",\"Graduation\",\"Graduation\",\"Graduation\",\"Graduation\",\"Graduation\",\"PhD\",\"Master\",\"PhD\",\"PhD\",\"Master\",\"Graduation\",\"Graduation\",\"Graduation\",\"Master\",\"2n Cycle\",\"2n Cycle\",\"Master\",\"PhD\",\"Graduation\",\"PhD\",\"Graduation\",\"Graduation\",\"2n Cycle\",\"Basic\",\"PhD\",\"Graduation\",\"Master\",\"Graduation\",\"Graduation\",\"Graduation\",\"2n Cycle\",\"Graduation\",\"Graduation\",\"Graduation\",\"PhD\",\"Master\",\"PhD\",\"Graduation\",\"Graduation\",\"Graduation\",\"PhD\",\"Graduation\",\"Basic\",\"2n Cycle\",\"Graduation\",\"Master\",\"PhD\",\"Master\",\"Basic\",\"Master\",\"Graduation\",\"Graduation\",\"2n Cycle\",\"Graduation\",\"Master\",\"Graduation\",\"Graduation\",\"Graduation\",\"Graduation\",\"Basic\",\"Graduation\",\"PhD\",\"Graduation\",\"Graduation\",\"Graduation\",\"Graduation\",\"Graduation\",\"Basic\",\"Graduation\",\"2n Cycle\",\"Graduation\",\"Master\",\"2n Cycle\",\"Graduation\",\"Graduation\",\"Graduation\",\"PhD\",\"Graduation\",\"Master\",\"Graduation\",\"Master\",\"2n Cycle\",\"Master\",\"PhD\",\"Graduation\",\"Graduation\",\"Graduation\",\"2n Cycle\",\"Graduation\",\"Graduation\",\"Master\",\"Graduation\",\"Graduation\",\"Graduation\",\"PhD\",\"Graduation\",\"Master\",\"PhD\"],\"xaxis\":\"x\",\"y\":[58138.0,46344.0,71613.0,26646.0,58293.0,62513.0,55635.0,33454.0,30351.0,5648.0,61752.8,7500.0,63033.0,59354.0,17323.0,82800.0,41850.0,37760.0,76995.0,33812.0,37040.0,2447.0,58607.0,65324.0,40689.0,18589.0,53359.0,54717.2,38360.0,84618.0,10979.0,38620.0,40548.0,46610.0,68657.0,49389.0,67353.0,23718.0,42429.0,48948.0,80011.0,20559.0,21994.0,55234.2,7500.0,79941.0,7500.0,41728.0,49352.0,72550.0,65486.0,79143.0,35790.0,82582.0,66373.0,82384.0,70287.0,27938.0,42748.6,55954.0,75777.0,66653.0,61823.0,67680.0,70666.0,25721.0,32474.0,88194.0,69096.0,74854.0,66991.0,37431.6,65031.0,60631.0,28332.0,40246.0,75251.0,75825.0,26326.0,56046.0,29760.0,26304.0,23559.0,38620.0,81361.0,29440.0,36138.0,50388.0,79593.0,54178.0,59425.8,51870.8,48822.2,42394.0,23626.0,30096.0,47916.0,51813.0,78497.0,50150.0,47823.0,34554.0,85693.0,65846.0,87195.0,24594.0,49096.0,52413.0,38557.0,89058.0,77298.0,68126.0,57288.0,86037.0,43974.0,50785.0,90765.0,36550.0,30753.0,21918.0,56129.0,32557.0,19510.0,30992.0,101970.0,71488.0,79607.0,54348.0,64389.4,77376.0,62998.0,61331.0,73448.0,47125.8,41551.0,62981.0,9548.0,33762.0,35860.0,36921.0,92859.0,65104.0,86111.0,68352.0,41883.0,59809.0,23957.0,38547.0,35688.0,49605.0,59354.0,65747.0,46344.0,34176.0,61010.0,69372.0,49967.0,60199.0,55375.0,80317.0,30523.0,70356.0,23228.0,74165.0,157243.0,43482.0,62551.0,52332.0,66951.0,26091.0,33456.0,28718.0,50447.0,53537.0,52074.0,80427.0,83837.0,38853.0,38285.0,78497.0,51650.0,16248.0,66835.0,30477.0,28249.0,25271.0,32303.0,61286.0,74068.0,45759.0,24882.0,66973.0,36640.0,38872.0,51148.0,31353.0,69661.0,80067.0,86718.0,46854.0,69142.0,75922.0,63693.0,102160.0,40637.0,18890.0,29604.0,48721.0,44794.0,64497.0,46097.0,77972.0,44377.0,46014.0,70951.0,41443.0,52195.0,83790.0,44551.0,69508.0,45204.0,72460.0,77622.0,30732.0,63887.0,42011.0,51369.0,51537.0,79930.0,34320.0,37070.0,81975.0,38590.0,15033.0,62745.0,22212.0,23661.0,79761.0,7500.0,60182.0,73455.0,64961.0,22804.0,73687.0,61074.0,31686.0,80134.0,75027.0,67546.0,65176.0,31160.0,29938.0,102692.0,26490.0,75702.0,30899.0,63342.0,45989.0,18701.0,40737.0,15287.0,69674.0,44159.0,37717.0,43776.0,38179.0,80124.0,38097.0,72940.0,22070.0,69267.0,31788.0,61905.0,29315.0,33378.0,66313.0,60714.0,77882.0,69867.0,63841.0,24480.0,51369.0,37760.0,65640.0,44319.0,30631.0,75278.0,50898.0,79946.0,35416.0,32414.0,38361.0,82497.0,16626.0,29672.0,55951.0,35388.0,42386.0,68627.0,57912.0,35246.0,58821.0,46377.0,39747.0,23976.0,80950.0,27038.0,77457.0,64100.0,42670.0,12571.0,22574.0,31374.0,70893.0,54198.0,28839.0,40321.0,66503.0,30833.0,58603.2,64795.0,34421.0,47025.0,64325.0,40464.0,62187.0,14849.0,27255.0,54432.0,29999.0,24072.0,33996.0,66334.0,35178.0,22010.0,62204.0,75693.0,30675.0,83003.0,83532.0,68655.0,41411.0,55212.0,59292.0,27190.0,82623.0,44300.0,84835.0,30372.0,33181.0,71113.0,71952.0,69759.0,72099.0,60000.0,38643.0,50737.0,68462.0,65073.0,46681.0,78618.0,62187.0,28442.0,37717.0,51479.0,54803.0,79530.0,31615.0,72025.0,52614.0,35684.0,48178.0,29548.0,63810.0,38578.0,46098.0,22585.0,30279.0,66426.0,30822.0,33581.0,19986.0,27421.0,35688.0,36143.0,10245.0,43795.0,63381.0,38823.0,83664.0,90300.0,62499.0,74293.0,51012.0,70777.0,68682.0,43824.0,15345.0,23442.0,14515.0,31395.0,75276.0,42373.0,30507.0,55521.0,48006.0,27213.0,65808.0,30351.0,50437.0,23616.0,53858.0,66465.0,46923.0,75072.0,75865.0,19789.0,80134.0,91065.0,49505.0,37401.0,30096.0,18492.0,82584.0,93027.0,48686.0,92910.0,75433.0,10404.0,61314.0,84865.0,42387.0,67309.0,75236.0,30015.0,50943.0,67272.0,51529.0,32011.0,7500.0,28691.0,56223.0,18100.0,30279.0,20130.0,23295.0,42618.0,81246.0,24027.0,55707.0,57959.0,56796.0,36230.0,70829.0,65991.0,38988.0,89572.0,42207.0,50300.0,66664.0,60597.0,70165.0,50520.0,80124.0,33183.0,66582.0,75261.0,31880.0,53790.0,49269.0,61456.0,37406.0,56937.0,38415.0,20518.0,62503.0,41644.0,55842.0,62010.0,41124.0,38961.0,37760.0,32233.0,43057.0,83151.0,78825.0,65104.0,60093.0,14045.0,28457.0,78952.0,46310.0,76005.0,58308.0,55614.0,59432.0,55563.0,78642.0,67911.0,65275.0,27203.0,48330.0,24279.0,64355.0,50943.0,53653.0,65665.0,81217.0,34935.0,61250.0,39665.0,60152.0,48920.0,89120.0,44124.0,81169.0,36443.0,26095.0,71367.0,80184.0,30630.0,73454.0,42691.0,70503.0,25545.0,32880.0,77863.0,50353.0,61839.0,49154.0,47682.0,72679.0,57954.0,65316.0,28567.0,47352.0,44931.0,76982.0,57247.0,22944.0,25315.0,43638.0,42710.0,84169.0,54058.0,24683.0,85620.0,47850.0,19514.0,27159.0,39548.0,21474.0,60504.0,22419.0,81698.0,43462.0,54880.0,79908.0,15315.0,87771.0,33039.0,81741.0,71499.0,62466.0,48799.0,52157.0,66565.0,29298.0,47691.0,38200.0,44989.0,38443.0,38593.0,64413.0,36959.0,61996.0,51287.0,13260.0,47472.0,54603.0,45207.0,40689.0,47821.0,27450.0,39453.0,26850.0,79800.0,61794.0,53863.0,24221.0,39684.0,92163.0,69882.0,33178.0,59973.0,17459.0,23910.0,42169.0,26224.0,31089.0,30081.0,62807.0,72906.0,61467.0,49618.0,21888.0,42429.0,26150.0,30801.0,81168.0,26877.0,45006.0,18978.0,22574.0,48240.0,45837.0,35791.0,162397.0,54162.0,30522.0,54456.0,31632.0,72298.0,36975.0,72635.0,13624.0,84196.0,70971.0,34487.0,28769.0,69084.0,65488.0,62466.0,32218.0,83917.0,46102.0,84574.0,56181.0,63120.0,73691.0,63381.0,76140.0,62859.0,45906.0,77632.0,46463.0,105471.0,55282.0,78710.0,66886.0,98777.0,29103.0,67445.0,50616.0,49431.0,153924.0,61278.0,26490.0,73059.0,46734.0,56253.0,19986.0,58330.0,25965.0,14661.0,18690.0,45068.0,21063.0,29187.0,54690.0,59304.0,59247.0,66731.0,77353.0,52614.0,26751.0,81300.0,70337.0,36145.0,65295.0,68118.0,68743.0,41039.0,38946.0,65777.0,66476.0,86857.0,160803.0,77845.0,69476.0,50611.0,61209.0,42315.0,13084.0,47570.0,61923.0,34824.0,26518.0,45938.0,78468.0,78901.0,71427.0,71022.0,90247.0,41335.0,71952.0,35682.0,43185.0,66375.0,35178.0,25252.0,55250.0,33249.0,58398.0,50272.0,76618.0,87305.0,25851.0,58710.0,45160.0,74806.0,59111.0,18988.0,72190.0,7500.0,44794.0,80395.0,75012.0,56962.0,89891.0,35946.0,53593.0,66373.0,45072.0,89694.0,72025.0,67432.0,70545.0,17487.0,62882.0,64108.0,34941.0,48767.0,38702.0,82224.0,83844.0,17003.0,71163.0,33697.0,63564.0,83443.0,51518.0,58330.0,80952.0,75507.0,63855.0,62220.0,58512.0,40662.0,38829.0,35523.0,79146.0,78285.0,31626.0,75127.0,48726.0,74985.0,67430.0,46891.0,62058.0,72063.0,78939.0,42720.0,33622.0,6835.0,41452.0,40760.0,74250.0,51124.0,72258.0,71466.0,36283.0,20587.0,30467.0,31590.0,20425.0,17144.0,42564.0,43783.0,40780.0,62847.0,82017.0,16813.0,51267.0,46524.0,45183.0,70421.0,60161.0,73926.0,19329.0,61872.0,46984.0,34838.0,82716.0,48192.0,49681.0,56850.0,55267.0,59666.0,72504.0,26872.0,21359.0,73170.0,52750.0,91820.0,65968.0,30772.0,22507.0,65685.0,25804.0,76412.0,22063.0,57091.0,22419.0,87771.0,78353.0,93404.0,37859.0,80995.0,16529.0,55412.0,48789.0,56575.0,25130.0,35441.0,71391.0,49494.0,81702.0,45889.0,56628.0,34026.0,40049.0,34176.0,19419.0,82504.0,81205.0,61618.0,55284.0,49980.0,15072.0,49166.0,65324.0,82347.0,30843.0,46374.0,60474.0,38576.0,55357.0,37758.0,85710.0,23228.0,44602.0,7500.0,38683.0,49514.0,57906.0,43456.0,19485.0,53172.0,30545.0,70123.0,62450.0,21675.0,42395.0,61346.0,80812.0,42835.0,39922.0,86424.0,17117.0,24762.0,35797.0,36627.0,51111.0,86857.0,82072.0,46231.0,42243.0,51195.0,68092.0,31814.0,51390.0,76630.0,26868.0,48948.0,55260.0,64090.0,78331.0,37087.0,21846.0,81320.0,54137.0,66825.0,57100.0,58917.0,85072.0,86429.0,45684.0,47889.0,45921.0,78420.0,75114.0,52278.0,35641.0,95529.0,62820.0,73113.0,84169.0,42607.0,74637.0,46015.0,72354.0,39858.0,34469.0,83033.0,24401.0,77583.0,74116.0,74293.0,68397.0,79632.0,46107.0,64950.0,25443.0,75127.0,32892.0,71796.0,67536.0,55239.0,60554.0,64831.0,56067.0,82025.0,94384.0,14906.0,51563.0,57937.0,68274.0,39771.0,67893.0,27922.0,52190.0,44051.0,42767.0,46106.0,16927.0,59754.0,53700.0,59041.0,54237.0,70647.0,52597.0,41021.0,40233.0,50183.0,54753.0,92955.0,33471.0,34596.0,44010.0,84219.0,40706.0,15716.0,59052.0,80573.0,83715.0,82576.0,56962.0,35704.0,53103.0,46779.0,4861.0,33462.0,63693.0,80763.0,65352.0,82170.0,75759.0,79689.0,35340.0,85683.0,24884.0,42021.0,64449.0,64587.0,34824.0,75437.0,26091.0,52845.0,46086.0,78028.0,95169.0,56337.0,22434.0,36930.0,36130.0,65569.0,83844.0,19514.0,36736.0,77568.0,49187.0,30168.0,34053.0,38196.0,59412.0,70924.0,54165.0,32300.0,20180.0,34961.0,28440.0,64504.0,33564.0,17345.0,56320.0,28647.0,15038.0,32173.0,68316.0,74538.0,91700.0,68695.0,31056.0,79593.0,28071.0,37334.0,46423.0,37126.0,47703.0,61180.0,38998.0,8028.0,76081.0,34728.0,33168.0,33585.0,77037.0,35196.0,44529.0,70924.0,28764.0,69098.0,25959.0,27100.0,70596.0,42557.0,53312.0,72228.0,67605.0,62845.0,65196.0,42000.0,35860.0,65526.0,16860.0,83528.0,64176.0,22304.0,67023.0,32892.0,70713.0,59925.0,39722.0,46610.0,88347.0,87171.0,26907.0,50014.0,41014.0,66294.0,36715.0,79456.0,40479.0,75345.0,54233.0,24163.0,84460.0,43776.0,71691.0,85844.0,39190.0,71367.0,38578.0,57236.0,61825.0,79803.0,80910.0,27590.0,56775.0,83829.0,54210.0,38508.0,53187.0,30023.0,76045.0,50870.0,15315.0,65463.0,66480.0,76773.0,81698.0,54466.0,98777.0,16269.0,71819.0,33569.0,36262.0,22634.0,47025.0,70566.0,31605.0,52034.0,48526.0,46734.0,39552.0,86358.0,46931.0,16581.0,63998.0,67381.0,25930.0,42693.0,85606.0,72903.0,49669.0,36778.0,85696.0,10979.0,49678.0,56129.0,37155.0,21282.0,33419.0,63285.0,21255.0,42162.0,54450.0,57744.0,26576.0,57513.0,68142.0,7500.0,83145.0,54197.0,23091.0,46049.0,56715.0,79410.0,57304.0,44375.0,54450.0,59594.0,80685.0,40344.0,62710.0,48985.0,35322.0,77142.0,81657.0,14421.0,20130.0,74214.0,66726.0,23724.0,47353.0,33444.0,54386.0,28510.0,90638.0,48070.0,43140.0,54959.0,15056.0,26954.0,22327.0,44393.0,62000.0,31497.0,45894.0,78579.0,67369.0,58401.0,62307.0,43641.0,63841.0,46891.0,70091.0,78075.0,59184.0,54809.0,58113.0,51412.0,15287.0,66636.0,50965.0,84618.0,18351.0,40451.0,36317.0,42213.0,65748.0,77044.0,74918.0,56721.0,42160.0,61559.0,33629.0,68682.0,34377.0,8940.0,26228.0,77297.0,40211.0,33438.0,75032.0,61284.0,22518.0,54730.0,38452.0,44421.0,38197.0,41986.0,28427.0,37395.0,64722.0,55249.0,84906.0,28691.0,44213.0,25707.0,59062.0,76624.0,66000.0,27683.0,1730.0,7500.0,40521.0,20427.0,65106.0,69969.0,67433.0,77766.0,74716.0,68118.0,55158.0,62972.0,74190.0,39356.0,76653.0,35860.0,90687.0,73450.0,31454.0,47139.0,83829.0,53378.0,19656.0,45579.0,85485.0,55956.0,64191.0,38808.0,57183.0,23748.0,66303.0,37368.0,40800.0,71847.0,46149.0,78687.0,49118.0,37633.0,39767.0,26997.0,33986.0,57091.0,46831.0,83151.0,52531.0,15759.0,22804.0,43050.0,42997.0,48918.0,60033.0,34043.0,57811.0,78569.0,7500.0,157733.0,94384.0,23148.0,44267.0,71626.0,60894.0,50200.0,81051.0,65169.0,59868.0,65695.0,64857.0,45143.0,74805.0,59060.0,27238.0,47009.0,46094.0,40321.0,37235.0,81843.0,46692.0,77382.0,37774.0,18393.0,72828.0,24711.0,45503.0,6560.0,71604.0,27244.0,48752.0,71434.0,90842.0,88097.0,51948.0,71853.0,35876.0,40049.0,39660.0,50127.0,43263.0,62845.0,18929.0,24367.0,33249.0,26887.0,50150.0,62061.0,85696.0,76542.0,70515.0,18227.0,69139.0,69109.0,69627.0,38136.0,62159.0,80695.0,33316.0,58554.0,17256.0,53034.0,52203.0,59601.0,75154.0,47025.0,37971.0,41335.0,67267.0,57338.0,50523.0,35791.0,50611.0,56242.0,48904.0,56243.0,21355.0,57420.0,46715.6,46390.0,54342.0,51994.8,63069.2,20895.0,92344.0,52327.4,26907.0,44964.0,75507.0,53761.0,22682.0,38887.0,41658.0,29791.0,63915.0,39996.0,26759.0,63841.0,51039.0,60544.0,65685.0,37716.0,36864.0,44511.0,36947.0,47352.0,67087.0,57045.0,36957.0,69389.0,80134.0,43142.0,80589.0,34412.0,57537.0,22634.0,51315.0,36026.0,24639.0,34578.0,65704.0,63810.0,54132.0,18690.0,28164.0,34596.0,43269.0,38741.0,31907.0,27100.0,31163.0,92533.0,34853.0,70844.0,31086.0,60544.0,20491.0,42523.0,39922.0,33402.0,36408.0,21645.0,78427.0,82657.0,51876.0,78041.0,52852.0,70038.0,69401.0,46053.0,77343.0,73892.0,40304.0,32727.0,68695.0,43300.0,26290.0,93790.0,38410.0,64866.0,57957.0,46015.0,16531.0,28072.0,49476.0,50725.0,83844.0,41145.0,67419.0,23162.0,34380.0,34704.0,94871.0,65148.0,39898.0,64857.0,59892.0,41020.0,57072.0,60474.0,62807.0,19414.0,19107.0,75484.0,70379.0,79419.0,64014.0,76998.0,49854.0,60585.0,42873.0,87679.0,57867.0,35765.0,65492.0,32952.0,53374.0,71706.0,68487.0,53253.0,31163.0,42014.0,54108.0,49667.0,63206.0,57136.0,46772.0,78931.0,53977.0,84219.0,46098.0,73538.0,79529.0,20981.0,51766.0,55759.0,33039.0,37787.0,27242.0,87188.0,69930.0,37697.0,37401.0,3502.0,58597.0,82032.0,28087.0,74004.0,19740.0,57036.0,53083.0,69283.0,46098.0,23331.0,23331.0,9255.0,67786.0,71969.0,59235.0,31928.0,74881.0,65819.0,51411.0,51983.0,42386.0,30390.0,30983.0,66033.0,37284.0,57530.0,76800.0,63943.0,76081.0,67445.0,37054.0,47175.0,31859.0,27215.0,70179.0,39922.0,49681.0,24645.0,79865.0,44322.0,47958.0,63972.0,75315.0,55517.0,75283.0,82800.0,38998.0,90638.0,27161.0,42014.0,38201.0,45203.0,81574.0,34935.0,60482.0,34633.0,78093.0,82460.0,45903.0,81361.0,35860.0,40442.0,61482.0,34968.0,75794.0,31497.0,74268.0,13724.0,45143.0,52569.0,48432.0,17144.0,36108.0,76445.0,36663.0,53843.0,90226.0,70638.0,44512.0,27116.0,54072.0,71855.0,51250.0,60432.0,65526.0,68655.0,12393.0,64509.0,33955.0,31353.0,55434.0,28359.0,57100.0,69139.0,52973.0,51717.0,18793.0,66664.0,50664.0,54414.0,54549.0,47111.0,41003.0,19444.0,36301.0,73059.0,42731.0,52854.0,22775.0,46681.0,59821.0,50002.0,69755.0,44078.0,30560.0,35924.0,64140.0,56386.0,24594.0,75774.0,39228.0,58494.0,58684.0,57136.0,56551.0,22448.0,82014.0,34213.0,157146.0,25358.0,35544.0,36634.0,62670.0,50334.0,72066.0,50729.0,34916.0,64892.0,43602.0,33996.0,41473.0,63246.0,36732.0,69084.0,77766.0,37929.0,86610.0,80141.0,72635.0,69016.0,20193.0,27573.0,15862.0,49544.0,33228.0,70440.0,38232.0,22554.0,23536.0,49413.0,42231.0,78789.0,56534.0,58350.0,81217.0,49090.0,61787.0,18169.0,24336.0,18222.0,62335.0,42033.0,86580.0,41437.0,73705.0,61064.0,38452.0,18358.0,55012.0,9722.0,38175.0,58656.0,52117.0,64813.0,54222.0,83512.0,77520.0,41154.0,80398.0,18746.0,35196.0,60230.0,22108.0,44392.0,55424.0,17688.0,92491.0,90273.0,82571.0,38513.0,16653.0,42586.0,23529.0,74881.0,71107.0,46910.0,18690.0,37244.0,82427.0,75342.0,70044.0,79146.0,77437.0,54984.0,42403.0,55761.0,37292.0,45576.0,70321.0,58086.0,81795.0,28389.0,66835.0,69901.0,80360.0,63342.0,44989.0,31859.0,51569.0,30372.0,16014.0,41120.0,39763.0,38725.0,77981.0,62905.0,13533.0,59481.0,72117.0,21955.0,67131.0,36802.0,71853.0,28249.0,47808.0,25509.0,51012.0,70596.0,85431.0,42664.0,42586.0,29760.0,28973.0,39435.0,65370.0,20194.0,42473.0,64590.0,71232.0,34600.0,46904.0,49094.0,36075.0,60839.0,77298.0,34026.0,48918.0,82122.0,37697.0,34074.0,28520.0,62535.0,36273.0,63404.0,75774.0,78416.0,75702.0,59385.0,37070.0,44689.0,53977.0,7144.0,18701.0,90369.0,63159.0,37758.0,46757.0,79734.0,63207.0,72071.0,21840.0,58582.0,72282.0,50387.0,32583.0,62568.0,44635.0,33316.0,63967.0,52513.0,25293.0,54111.0,78394.0,80739.0,22669.0,29236.0,44911.0,54693.0,48186.0,54809.0,41580.0,80336.0,47743.0,62972.0,57333.0,32313.0,84953.0,27071.0,68148.0,65735.0,86836.0,4023.0,30093.0,57705.0,25008.0,83257.0,22280.0,72159.0,64260.0,82733.0,74290.0,58217.0,21024.0,70116.0,54006.0,69063.0,11448.0,61825.0,70886.0,69109.0,60208.0,32889.0,34738.0,30538.0,82326.0,26642.0,69932.0,44503.0,60200.0,49638.0,23830.0,33051.0,72905.0,69702.0,70300.0,70643.0,30396.0,50616.0,62772.0,30298.0,52413.0,44155.0,86979.0,76532.0,42081.0,67546.0,88420.0,31158.0,61671.0,69719.0,49160.0,24882.0,90933.0,113734.0,59292.0,45759.0,22148.0,73395.0,29819.0,45688.0,62820.0,60491.0,33235.0,35701.0,31535.0,92556.0,67384.0,80573.0,77870.0,52278.0,57107.0,18929.0,36038.0,20180.0,34230.0,31878.0,70932.0,91249.0,77598.0,80982.0,22701.0,55212.0,70617.0,64849.0,62694.0,61917.0,67472.0,21059.0,29543.0,75903.0,34984.0,54998.0,54356.0,34242.0,25410.0,73356.0,28320.0,23763.0,72570.0,34529.0,70792.0,63211.0,83891.0,36065.0,39898.0,51141.0,56939.0,80872.0,72335.0,61798.0,76842.0,29478.0,46998.0,96843.0,56551.0,70053.0,71670.0,44359.0,40887.0,48877.0,74485.0,64474.0,77226.0,72643.0,85738.0,55686.0,39062.0,34600.0,40794.0,54690.0,4428.0,32632.0,38236.0,36781.0,31385.0,24570.0,25509.0,94642.0,58646.0,53201.0,21994.0,57113.0,51373.0,23477.0,58116.0,72968.0,39791.0,91712.0,94472.0,13672.0,96547.0,79205.0,56559.0,32644.0,67506.0,24206.0,28420.0,22979.0,33279.0,46423.0,30368.0,63684.0,41638.0,68805.0,65814.0,71964.0,39146.0,96876.0,34445.0,68281.0,37284.0,36790.0,27943.0,22263.0,30261.0,28587.0,43815.0,48195.0,77027.0,71322.0,32765.0,29672.0,23272.0,49912.0,7500.0,68117.0,67225.0,17649.0,55914.0,40059.0,60905.0,75330.0,60689.0,38680.0,61416.0,49767.0,83273.0,29009.0,45057.0,37150.0,43020.0,53154.0,65308.0,76467.0,81044.0,32871.0,55801.0,76320.0,36927.0,48794.0,23478.0,71128.0,70179.0,59462.0,60162.2,38361.0,57403.8,70038.0,42554.0,67445.0,67046.0,42192.0,77610.0,31761.0,34350.0,54591.0,71866.0,25293.0,42000.0,69520.0,64713.0,27889.0,22123.0,40154.4,51309.8,27803.0,51047.4,51651.0,68487.0,66141.6,56796.0,87000.0,79823.0,30828.0,34109.0,53367.0,22390.0,71322.0,79244.0,49912.0,48699.0,80144.0,54252.0,81929.0,76068.0,53204.0,67911.0,14796.0,78128.0,14188.0,20425.0,58646.0,72967.0,48150.0,82332.0,58275.0,44953.0,34587.0,43018.0,45736.0,66476.0,27733.0,69805.0,72217.0,25818.0,37509.0,25176.0,43586.0,53230.0,50116.0,84906.0,61286.0,82333.0,65220.0,33590.0,30992.0,72309.0,156924.0,16005.0,65487.0,58692.0,40590.0,20587.0,62637.0,29435.0,19346.0,35788.0,36997.0,23539.0,65333.0,78499.0,29732.0,41275.0,63516.0,42769.0,49572.0,69209.0,17148.0,40590.0,30560.0,32146.0,41713.0,34176.0,58482.0,59686.0,60896.0,62994.0,47320.0,74859.0,15253.0,31560.0,72071.0,91172.0,90000.0,41967.0,69263.0,65706.0,60934.0,71965.0,65210.0,79174.0,81380.0,48432.0,52914.0,38946.0,26067.0,44325.0,42523.0,26487.0,53233.0,67716.0,76234.0,84117.0,65487.0,25224.0,89616.0,40851.0,27469.0,82347.0,73803.0,8820.0,43322.0,55593.0,50501.0,37085.0,16185.0,57731.0,48432.0,73807.0,18929.0,35893.0,61014.0,32144.0,14918.0,45146.0,41769.0,88325.0,38054.0,80617.0,5305.0,36807.0,28427.0,82032.0,22775.0,40101.0,58025.0,75777.0,7500.0,33562.0,57642.0,58554.0,63777.0,57967.0,32905.0,24434.0,11012.0,44802.0,26816.0,34421.0,61223.0,64014.0,56981.0,69245.0,52869.0],\"yaxis\":\"y\",\"type\":\"histogram\"}],                        {\"template\":{\"data\":{\"histogram2dcontour\":[{\"type\":\"histogram2dcontour\",\"colorbar\":{\"outlinewidth\":0,\"ticks\":\"\"},\"colorscale\":[[0.0,\"#0d0887\"],[0.1111111111111111,\"#46039f\"],[0.2222222222222222,\"#7201a8\"],[0.3333333333333333,\"#9c179e\"],[0.4444444444444444,\"#bd3786\"],[0.5555555555555556,\"#d8576b\"],[0.6666666666666666,\"#ed7953\"],[0.7777777777777778,\"#fb9f3a\"],[0.8888888888888888,\"#fdca26\"],[1.0,\"#f0f921\"]]}],\"choropleth\":[{\"type\":\"choropleth\",\"colorbar\":{\"outlinewidth\":0,\"ticks\":\"\"}}],\"histogram2d\":[{\"type\":\"histogram2d\",\"colorbar\":{\"outlinewidth\":0,\"ticks\":\"\"},\"colorscale\":[[0.0,\"#0d0887\"],[0.1111111111111111,\"#46039f\"],[0.2222222222222222,\"#7201a8\"],[0.3333333333333333,\"#9c179e\"],[0.4444444444444444,\"#bd3786\"],[0.5555555555555556,\"#d8576b\"],[0.6666666666666666,\"#ed7953\"],[0.7777777777777778,\"#fb9f3a\"],[0.8888888888888888,\"#fdca26\"],[1.0,\"#f0f921\"]]}],\"heatmap\":[{\"type\":\"heatmap\",\"colorbar\":{\"outlinewidth\":0,\"ticks\":\"\"},\"colorscale\":[[0.0,\"#0d0887\"],[0.1111111111111111,\"#46039f\"],[0.2222222222222222,\"#7201a8\"],[0.3333333333333333,\"#9c179e\"],[0.4444444444444444,\"#bd3786\"],[0.5555555555555556,\"#d8576b\"],[0.6666666666666666,\"#ed7953\"],[0.7777777777777778,\"#fb9f3a\"],[0.8888888888888888,\"#fdca26\"],[1.0,\"#f0f921\"]]}],\"heatmapgl\":[{\"type\":\"heatmapgl\",\"colorbar\":{\"outlinewidth\":0,\"ticks\":\"\"},\"colorscale\":[[0.0,\"#0d0887\"],[0.1111111111111111,\"#46039f\"],[0.2222222222222222,\"#7201a8\"],[0.3333333333333333,\"#9c179e\"],[0.4444444444444444,\"#bd3786\"],[0.5555555555555556,\"#d8576b\"],[0.6666666666666666,\"#ed7953\"],[0.7777777777777778,\"#fb9f3a\"],[0.8888888888888888,\"#fdca26\"],[1.0,\"#f0f921\"]]}],\"contourcarpet\":[{\"type\":\"contourcarpet\",\"colorbar\":{\"outlinewidth\":0,\"ticks\":\"\"}}],\"contour\":[{\"type\":\"contour\",\"colorbar\":{\"outlinewidth\":0,\"ticks\":\"\"},\"colorscale\":[[0.0,\"#0d0887\"],[0.1111111111111111,\"#46039f\"],[0.2222222222222222,\"#7201a8\"],[0.3333333333333333,\"#9c179e\"],[0.4444444444444444,\"#bd3786\"],[0.5555555555555556,\"#d8576b\"],[0.6666666666666666,\"#ed7953\"],[0.7777777777777778,\"#fb9f3a\"],[0.8888888888888888,\"#fdca26\"],[1.0,\"#f0f921\"]]}],\"surface\":[{\"type\":\"surface\",\"colorbar\":{\"outlinewidth\":0,\"ticks\":\"\"},\"colorscale\":[[0.0,\"#0d0887\"],[0.1111111111111111,\"#46039f\"],[0.2222222222222222,\"#7201a8\"],[0.3333333333333333,\"#9c179e\"],[0.4444444444444444,\"#bd3786\"],[0.5555555555555556,\"#d8576b\"],[0.6666666666666666,\"#ed7953\"],[0.7777777777777778,\"#fb9f3a\"],[0.8888888888888888,\"#fdca26\"],[1.0,\"#f0f921\"]]}],\"mesh3d\":[{\"type\":\"mesh3d\",\"colorbar\":{\"outlinewidth\":0,\"ticks\":\"\"}}],\"scatter\":[{\"fillpattern\":{\"fillmode\":\"overlay\",\"size\":10,\"solidity\":0.2},\"type\":\"scatter\"}],\"parcoords\":[{\"type\":\"parcoords\",\"line\":{\"colorbar\":{\"outlinewidth\":0,\"ticks\":\"\"}}}],\"scatterpolargl\":[{\"type\":\"scatterpolargl\",\"marker\":{\"colorbar\":{\"outlinewidth\":0,\"ticks\":\"\"}}}],\"bar\":[{\"error_x\":{\"color\":\"#2a3f5f\"},\"error_y\":{\"color\":\"#2a3f5f\"},\"marker\":{\"line\":{\"color\":\"#E5ECF6\",\"width\":0.5},\"pattern\":{\"fillmode\":\"overlay\",\"size\":10,\"solidity\":0.2}},\"type\":\"bar\"}],\"scattergeo\":[{\"type\":\"scattergeo\",\"marker\":{\"colorbar\":{\"outlinewidth\":0,\"ticks\":\"\"}}}],\"scatterpolar\":[{\"type\":\"scatterpolar\",\"marker\":{\"colorbar\":{\"outlinewidth\":0,\"ticks\":\"\"}}}],\"histogram\":[{\"marker\":{\"pattern\":{\"fillmode\":\"overlay\",\"size\":10,\"solidity\":0.2}},\"type\":\"histogram\"}],\"scattergl\":[{\"type\":\"scattergl\",\"marker\":{\"colorbar\":{\"outlinewidth\":0,\"ticks\":\"\"}}}],\"scatter3d\":[{\"type\":\"scatter3d\",\"line\":{\"colorbar\":{\"outlinewidth\":0,\"ticks\":\"\"}},\"marker\":{\"colorbar\":{\"outlinewidth\":0,\"ticks\":\"\"}}}],\"scattermapbox\":[{\"type\":\"scattermapbox\",\"marker\":{\"colorbar\":{\"outlinewidth\":0,\"ticks\":\"\"}}}],\"scatterternary\":[{\"type\":\"scatterternary\",\"marker\":{\"colorbar\":{\"outlinewidth\":0,\"ticks\":\"\"}}}],\"scattercarpet\":[{\"type\":\"scattercarpet\",\"marker\":{\"colorbar\":{\"outlinewidth\":0,\"ticks\":\"\"}}}],\"carpet\":[{\"aaxis\":{\"endlinecolor\":\"#2a3f5f\",\"gridcolor\":\"white\",\"linecolor\":\"white\",\"minorgridcolor\":\"white\",\"startlinecolor\":\"#2a3f5f\"},\"baxis\":{\"endlinecolor\":\"#2a3f5f\",\"gridcolor\":\"white\",\"linecolor\":\"white\",\"minorgridcolor\":\"white\",\"startlinecolor\":\"#2a3f5f\"},\"type\":\"carpet\"}],\"table\":[{\"cells\":{\"fill\":{\"color\":\"#EBF0F8\"},\"line\":{\"color\":\"white\"}},\"header\":{\"fill\":{\"color\":\"#C8D4E3\"},\"line\":{\"color\":\"white\"}},\"type\":\"table\"}],\"barpolar\":[{\"marker\":{\"line\":{\"color\":\"#E5ECF6\",\"width\":0.5},\"pattern\":{\"fillmode\":\"overlay\",\"size\":10,\"solidity\":0.2}},\"type\":\"barpolar\"}],\"pie\":[{\"automargin\":true,\"type\":\"pie\"}]},\"layout\":{\"autotypenumbers\":\"strict\",\"colorway\":[\"#636efa\",\"#EF553B\",\"#00cc96\",\"#ab63fa\",\"#FFA15A\",\"#19d3f3\",\"#FF6692\",\"#B6E880\",\"#FF97FF\",\"#FECB52\"],\"font\":{\"color\":\"#2a3f5f\"},\"hovermode\":\"closest\",\"hoverlabel\":{\"align\":\"left\"},\"paper_bgcolor\":\"white\",\"plot_bgcolor\":\"#E5ECF6\",\"polar\":{\"bgcolor\":\"#E5ECF6\",\"angularaxis\":{\"gridcolor\":\"white\",\"linecolor\":\"white\",\"ticks\":\"\"},\"radialaxis\":{\"gridcolor\":\"white\",\"linecolor\":\"white\",\"ticks\":\"\"}},\"ternary\":{\"bgcolor\":\"#E5ECF6\",\"aaxis\":{\"gridcolor\":\"white\",\"linecolor\":\"white\",\"ticks\":\"\"},\"baxis\":{\"gridcolor\":\"white\",\"linecolor\":\"white\",\"ticks\":\"\"},\"caxis\":{\"gridcolor\":\"white\",\"linecolor\":\"white\",\"ticks\":\"\"}},\"coloraxis\":{\"colorbar\":{\"outlinewidth\":0,\"ticks\":\"\"}},\"colorscale\":{\"sequential\":[[0.0,\"#0d0887\"],[0.1111111111111111,\"#46039f\"],[0.2222222222222222,\"#7201a8\"],[0.3333333333333333,\"#9c179e\"],[0.4444444444444444,\"#bd3786\"],[0.5555555555555556,\"#d8576b\"],[0.6666666666666666,\"#ed7953\"],[0.7777777777777778,\"#fb9f3a\"],[0.8888888888888888,\"#fdca26\"],[1.0,\"#f0f921\"]],\"sequentialminus\":[[0.0,\"#0d0887\"],[0.1111111111111111,\"#46039f\"],[0.2222222222222222,\"#7201a8\"],[0.3333333333333333,\"#9c179e\"],[0.4444444444444444,\"#bd3786\"],[0.5555555555555556,\"#d8576b\"],[0.6666666666666666,\"#ed7953\"],[0.7777777777777778,\"#fb9f3a\"],[0.8888888888888888,\"#fdca26\"],[1.0,\"#f0f921\"]],\"diverging\":[[0,\"#8e0152\"],[0.1,\"#c51b7d\"],[0.2,\"#de77ae\"],[0.3,\"#f1b6da\"],[0.4,\"#fde0ef\"],[0.5,\"#f7f7f7\"],[0.6,\"#e6f5d0\"],[0.7,\"#b8e186\"],[0.8,\"#7fbc41\"],[0.9,\"#4d9221\"],[1,\"#276419\"]]},\"xaxis\":{\"gridcolor\":\"white\",\"linecolor\":\"white\",\"ticks\":\"\",\"title\":{\"standoff\":15},\"zerolinecolor\":\"white\",\"automargin\":true,\"zerolinewidth\":2},\"yaxis\":{\"gridcolor\":\"white\",\"linecolor\":\"white\",\"ticks\":\"\",\"title\":{\"standoff\":15},\"zerolinecolor\":\"white\",\"automargin\":true,\"zerolinewidth\":2},\"scene\":{\"xaxis\":{\"backgroundcolor\":\"#E5ECF6\",\"gridcolor\":\"white\",\"linecolor\":\"white\",\"showbackground\":true,\"ticks\":\"\",\"zerolinecolor\":\"white\",\"gridwidth\":2},\"yaxis\":{\"backgroundcolor\":\"#E5ECF6\",\"gridcolor\":\"white\",\"linecolor\":\"white\",\"showbackground\":true,\"ticks\":\"\",\"zerolinecolor\":\"white\",\"gridwidth\":2},\"zaxis\":{\"backgroundcolor\":\"#E5ECF6\",\"gridcolor\":\"white\",\"linecolor\":\"white\",\"showbackground\":true,\"ticks\":\"\",\"zerolinecolor\":\"white\",\"gridwidth\":2}},\"shapedefaults\":{\"line\":{\"color\":\"#2a3f5f\"}},\"annotationdefaults\":{\"arrowcolor\":\"#2a3f5f\",\"arrowhead\":0,\"arrowwidth\":1},\"geo\":{\"bgcolor\":\"white\",\"landcolor\":\"#E5ECF6\",\"subunitcolor\":\"white\",\"showland\":true,\"showlakes\":true,\"lakecolor\":\"white\"},\"title\":{\"x\":0.05},\"mapbox\":{\"style\":\"light\"}}},\"xaxis\":{\"anchor\":\"y\",\"domain\":[0.0,1.0],\"title\":{\"text\":\"Education\"},\"categoryorder\":\"array\",\"categoryarray\":[\"Basic\",\"2n Cycle\",\"Graduation\",\"Master\",\"PhD\"]},\"yaxis\":{\"anchor\":\"x\",\"domain\":[0.0,1.0],\"title\":{\"text\":\"avg of Income\"}},\"legend\":{\"tracegroupgap\":0},\"margin\":{\"t\":60},\"barmode\":\"relative\"},                        {\"responsive\": true}                    ).then(function(){\n",
              "                            \n",
              "var gd = document.getElementById('ef1c3691-d990-454b-81df-57db5170aafe');\n",
              "var x = new MutationObserver(function (mutations, observer) {{\n",
              "        var display = window.getComputedStyle(gd).display;\n",
              "        if (!display || display === 'none') {{\n",
              "            console.log([gd, 'removed!']);\n",
              "            Plotly.purge(gd);\n",
              "            observer.disconnect();\n",
              "        }}\n",
              "}});\n",
              "\n",
              "// Listen for the removal of the full notebook cells\n",
              "var notebookContainer = gd.closest('#notebook-container');\n",
              "if (notebookContainer) {{\n",
              "    x.observe(notebookContainer, {childList: true});\n",
              "}}\n",
              "\n",
              "// Listen for the clearing of the current output cell\n",
              "var outputEl = gd.closest('.output');\n",
              "if (outputEl) {{\n",
              "    x.observe(outputEl, {childList: true});\n",
              "}}\n",
              "\n",
              "                        })                };                            </script>        </div>\n",
              "</body>\n",
              "</html>"
            ]
          },
          "metadata": {}
        }
      ]
    },
    {
      "cell_type": "markdown",
      "source": [
        "Average income is the highest for PhD owners with 56161 dollars\n",
        "Average income is the lowest for Basic diploma owners with 20306 dollars\n",
        "The better the diploma is, the higher the average salary\n",
        "We will verify later with a statistical test if the average salary of PhD owners is statistically different from Master owners"
      ],
      "metadata": {
        "id": "XUZ7gog3YzMz"
      }
    },
    {
      "cell_type": "markdown",
      "source": [
        "### Spending by Income"
      ],
      "metadata": {
        "id": "j1U1g1fqcQOv"
      }
    },
    {
      "cell_type": "code",
      "source": [
        "reg = LinearRegression().fit(np.vstack(data['Spending']), data['Income'])\n",
        "df['bestfit'] = reg.predict(np.vstack(data['Spending']))\n",
        "\n",
        "fig = go.Figure(data=go.Scatter(name='observations',x=data['Spending'], y=data['Income'],mode='markers'))\n",
        "fig.add_trace(go.Scatter(name='line of best fit', x=data['Spending'], y=df['bestfit'], mode='lines'))\n",
        "fig.update_traces(hovertemplate='Spending: %{x} <br>Income: %{y}')\n",
        "fig.show()"
      ],
      "metadata": {
        "colab": {
          "base_uri": "https://localhost:8080/",
          "height": 701
        },
        "id": "aQbYccO6Y0Eo",
        "outputId": "ffed3bb8-9863-4b76-fdd3-314d18bd5fcd"
      },
      "execution_count": null,
      "outputs": [
        {
          "output_type": "stream",
          "name": "stderr",
          "text": [
            "<ipython-input-19-a414315858ad>:2: SettingWithCopyWarning:\n",
            "\n",
            "\n",
            "A value is trying to be set on a copy of a slice from a DataFrame.\n",
            "Try using .loc[row_indexer,col_indexer] = value instead\n",
            "\n",
            "See the caveats in the documentation: https://pandas.pydata.org/pandas-docs/stable/user_guide/indexing.html#returning-a-view-versus-a-copy\n",
            "\n"
          ]
        },
        {
          "output_type": "display_data",
          "data": {
            "text/html": [
              "<html>\n",
              "<head><meta charset=\"utf-8\" /></head>\n",
              "<body>\n",
              "    <div>            <script src=\"https://cdnjs.cloudflare.com/ajax/libs/mathjax/2.7.5/MathJax.js?config=TeX-AMS-MML_SVG\"></script><script type=\"text/javascript\">if (window.MathJax && window.MathJax.Hub && window.MathJax.Hub.Config) {window.MathJax.Hub.Config({SVG: {font: \"STIX-Web\"}});}</script>                <script type=\"text/javascript\">window.PlotlyConfig = {MathJaxConfig: 'local'};</script>\n",
              "        <script charset=\"utf-8\" src=\"https://cdn.plot.ly/plotly-2.24.1.min.js\"></script>                <div id=\"e1a691b9-5118-4ed8-9dbb-a7d518f4b663\" class=\"plotly-graph-div\" style=\"height:525px; width:100%;\"></div>            <script type=\"text/javascript\">                                    window.PLOTLYENV=window.PLOTLYENV || {};                                    if (document.getElementById(\"e1a691b9-5118-4ed8-9dbb-a7d518f4b663\")) {                    Plotly.newPlot(                        \"e1a691b9-5118-4ed8-9dbb-a7d518f4b663\",                        [{\"mode\":\"markers\",\"name\":\"observations\",\"x\":[1617,27,776,53,422,716,590,169,46,49,19,61,1102,310,46,1315,96,317,1782,133,316,1730,972,544,444,75,257,637,131,1672,30,318,120,302,1196,65,913,81,67,902,1395,53,22,186,31,984,122,55,124,1319,507,1693,72,1617,606,1957,1093,29,46,518,1438,612,884,606,1076,34,11,1274,653,1562,1253,109,863,661,65,13,1890,2209,18,692,165,16,79,318,778,56,151,372,1366,194,603,18,985,32,43,45,606,63,978,410,72,55,1169,1120,1097,29,187,910,145,850,969,1820,608,730,551,114,1724,577,81,33,660,80,30,43,1135,559,1923,90,404,661,463,632,725,725,279,1482,29,106,49,38,2077,1053,1385,871,312,877,68,22,211,127,459,460,429,89,1021,1381,306,18,162,1231,13,1706,121,1293,1608,88,421,259,1117,89,36,57,148,93,119,1835,1318,45,10,978,191,57,1033,66,43,50,39,608,1581,68,80,1282,65,91,315,31,834,1600,1270,263,535,1295,1150,1240,38,35,53,293,65,1804,241,1101,264,541,1198,482,17,1615,285,1135,114,1047,714,185,1245,189,576,1103,1753,17,433,1588,22,19,1117,69,23,605,57,22,2088,1009,26,1627,1102,17,1690,1390,2126,1531,64,26,1112,210,1148,33,1101,322,44,17,31,845,275,25,275,90,1495,184,981,67,1635,60,231,48,99,770,957,818,925,908,102,576,317,461,37,70,930,859,1478,390,52,137,1919,68,25,1374,32,100,825,916,62,728,90,273,66,1213,107,1157,546,241,53,37,1611,1508,235,32,102,401,28,1052,680,30,20,1307,630,1283,65,37,38,160,23,71,1161,59,33,946,1442,62,1674,1853,1538,139,1182,507,18,940,42,1190,44,16,835,1443,1029,1188,1277,49,99,1670,900,425,2153,636,57,25,494,693,1348,51,1932,990,30,254,29,1371,73,120,81,37,1377,51,17,22,324,211,19,41,492,1005,114,1173,1738,222,1127,209,787,1598,186,47,27,96,64,1040,163,343,446,41,70,272,46,490,79,915,1485,369,1073,1242,78,1378,1474,751,48,45,10,1435,2119,20,1795,1188,43,1008,1688,684,1082,1068,57,46,733,467,122,36,34,156,14,37,34,20,192,1379,48,428,868,1001,59,431,971,348,2059,265,270,1289,893,926,135,1495,120,1288,1743,15,542,890,1388,17,906,44,25,973,31,518,530,506,70,54,296,266,747,895,1053,735,20,205,2092,309,1722,900,682,663,43,1816,976,746,64,32,263,1445,46,1210,945,1157,137,730,216,943,347,1924,397,2089,138,42,777,1902,52,1651,358,1727,210,42,1291,442,1895,411,521,1168,493,260,46,319,96,1062,232,76,54,201,406,1919,662,41,1600,134,69,21,54,91,526,162,1008,240,795,1772,64,1957,78,1572,795,889,331,265,1065,11,21,17,369,38,177,279,62,1230,182,49,75,227,215,444,47,143,55,63,1867,611,473,55,81,2086,1478,49,382,69,67,30,63,79,42,819,1151,594,129,213,67,28,45,1193,268,266,37,37,882,373,35,107,42,326,404,95,939,33,981,36,1237,1825,103,191,1586,963,889,93,1587,16,1375,393,1477,1179,1005,1348,1307,486,2252,235,1724,235,1092,599,2008,48,1174,67,365,6,165,210,1095,223,597,22,1064,74,26,60,20,59,34,198,1048,574,1029,670,990,11,1241,576,172,664,928,2074,467,257,1146,689,2114,1717,1346,1044,493,957,270,29,121,126,23,57,636,1004,734,614,1453,1621,187,1443,57,637,948,59,18,903,112,596,233,1511,1152,48,1185,21,965,869,16,1947,71,65,1380,1027,411,836,11,480,606,284,1472,1677,1335,334,18,1338,1099,97,63,109,902,1574,38,960,28,1215,1497,449,1064,1757,1440,1006,1226,1171,92,99,66,564,1427,86,833,242,1869,1364,183,450,758,1507,654,81,137,16,93,1158,43,1525,1230,29,25,24,38,57,47,813,629,377,1612,729,50,270,177,315,767,1071,1580,60,573,41,170,1167,1526,458,63,405,1027,1478,72,48,726,860,1497,495,20,570,769,55,1808,55,577,162,1957,1576,1616,36,1482,22,63,680,542,50,39,1043,385,1633,46,761,76,290,89,70,1066,2009,1345,764,195,53,368,544,1853,35,446,1180,41,727,40,1062,40,292,15,341,369,401,393,10,486,69,1727,995,45,182,989,1677,595,156,1226,128,86,68,16,55,2114,2018,263,55,564,1281,83,353,1003,14,902,1139,797,1638,401,84,928,203,858,409,282,1423,1449,28,67,199,1453,1253,1198,178,1990,976,1001,1919,350,1650,46,1228,95,62,1761,467,1149,2052,1127,1416,1113,125,966,32,833,46,960,1829,779,811,1120,725,1187,2302,66,1250,683,305,50,995,41,77,171,131,54,53,475,694,96,361,1079,578,64,149,231,728,1778,93,23,662,1198,81,92,491,1564,926,1910,411,94,1085,23,6,54,1150,1415,405,1908,2486,1315,45,1789,19,573,805,108,23,1493,89,936,343,528,1901,724,58,297,488,859,1574,69,17,2194,116,279,103,44,406,1363,236,39,137,79,63,1314,71,58,702,94,80,22,1211,1461,1968,1091,55,1366,313,62,92,72,655,704,54,178,1033,36,122,122,1123,497,691,1363,12,2440,56,37,968,270,278,1250,938,1178,1155,653,49,506,38,1650,1826,18,906,46,1477,766,47,467,2116,1298,22,396,20,967,357,1401,15,2087,981,17,523,23,1192,1958,133,777,73,121,424,868,756,12,937,1862,367,443,267,61,1323,63,64,562,312,1156,1104,16,2008,44,1574,63,426,96,635,757,125,332,135,330,384,1722,78,24,1168,957,15,57,1956,2013,326,77,1313,30,315,660,74,46,86,1103,61,145,684,411,27,1060,1459,18,1833,237,48,515,1020,1370,1026,301,684,499,1004,218,606,75,106,990,1097,16,34,1711,438,75,225,18,470,91,2525,504,235,1232,88,17,24,60,1020,155,51,1812,1461,96,160,139,908,183,1161,988,1072,174,758,195,31,1084,685,1672,43,49,133,363,545,1065,2047,296,140,530,152,1598,114,101,25,789,87,90,1215,811,61,405,72,189,40,63,52,39,805,130,1631,34,152,21,71,899,711,351,8,119,21,10,973,1536,992,1529,860,928,418,587,641,23,2279,49,1779,1804,48,83,1862,793,84,183,1383,999,825,246,610,76,1286,30,99,1192,362,2130,1229,38,485,434,44,496,78,2346,794,17,26,76,15,62,198,49,802,1736,57,59,2302,37,310,1305,832,401,1501,1189,1194,656,1540,311,820,274,57,448,44,102,61,1643,397,1121,473,50,1678,58,170,373,1196,101,316,1400,1424,844,311,1149,129,32,299,320,441,1178,85,24,112,30,410,800,1313,1483,1258,28,227,1555,861,103,634,1918,131,586,62,447,939,797,1143,415,30,187,251,237,91,35,493,971,371,396,68,322,317,222,177,45,21,45,1899,42,22,41,1440,325,95,42,72,20,789,15,59,908,417,289,769,188,354,727,146,319,794,454,152,797,1690,20,1428,209,545,96,222,61,44,8,817,1371,42,60,78,23,19,61,449,37,38,1131,34,294,48,289,30,125,156,70,22,65,1930,2283,310,1319,879,1244,690,209,1134,1507,57,529,1091,180,77,2349,534,556,637,46,44,47,795,586,1574,13,1471,65,175,40,1078,1115,134,1540,87,217,1034,1180,819,32,46,1159,860,1631,444,1910,380,736,269,2524,612,75,1045,55,1064,1443,1366,436,38,436,747,1396,928,642,1048,943,907,1198,120,1658,1638,73,275,854,78,106,106,1923,1662,84,48,5,733,1234,112,1658,55,1513,271,904,120,103,269,22,1156,1086,1128,72,964,1383,18,793,100,80,167,677,23,92,641,1106,1033,1174,25,240,20,102,1034,156,458,17,792,92,407,1269,841,633,1019,1315,54,2525,52,436,268,147,1798,137,507,15,1105,974,66,778,49,169,299,221,1682,155,892,58,311,95,424,47,339,1410,35,562,2352,1334,32,41,39,1141,710,401,506,1538,57,1722,270,31,882,16,311,227,1152,122,77,1289,561,211,233,1092,601,54,78,1095,244,116,15,425,734,638,894,41,31,34,1750,612,29,823,20,396,813,1179,138,55,1511,117,1730,32,67,335,825,694,1792,496,231,902,68,71,76,772,47,1586,1529,265,1603,2091,981,1533,82,244,36,404,71,1572,122,41,10,304,37,1754,815,1001,1157,688,1319,21,31,67,708,25,746,32,1695,1080,72,57,660,103,153,1220,279,745,264,2157,1526,69,1597,64,497,1067,31,211,877,11,2034,1991,1686,324,69,252,54,964,1327,68,60,55,1456,563,1504,564,1125,358,42,184,460,145,1376,792,1382,28,1033,882,2231,1101,369,48,467,44,38,81,167,45,664,622,48,461,1073,55,976,20,1149,43,224,101,209,968,1165,24,252,165,269,102,461,47,144,1338,917,318,253,502,119,1250,969,76,62,1382,84,255,43,398,76,902,823,1179,1921,185,433,34,907,416,44,1588,1797,40,1143,914,1502,1338,27,763,1331,525,9,953,68,131,882,1149,37,388,1428,1633,173,99,215,929,219,174,92,1052,275,587,1662,159,1024,35,1042,395,557,9,69,486,34,1365,13,1401,1574,1323,1217,103,84,1536,581,928,14,424,960,1555,656,55,20,367,2257,42,1049,48,685,39,43,835,1515,1039,1596,1828,34,149,946,28,450,46,1702,820,382,2126,2069,72,732,801,236,80,1685,277,507,68,49,397,39,306,976,1028,70,46,51,1263,1490,1564,1815,1198,416,85,47,137,21,70,909,1676,1735,1191,24,1182,1280,1336,749,91,414,44,63,901,38,455,775,15,38,1512,43,42,1089,162,1272,1173,816,74,134,157,561,1336,2092,463,1130,20,377,1544,138,1012,1766,45,161,144,1734,823,1138,1429,1371,982,44,318,434,198,359,576,88,63,27,193,101,2211,140,415,22,263,393,147,443,1958,174,2217,1691,25,809,895,484,413,331,25,13,115,16,92,52,1464,441,283,747,1870,165,1941,839,1655,23,66,37,21,22,78,79,265,1175,1305,46,25,46,874,100,930,868,45,1260,414,392,1109,639,79,1665,692,1392,44,50,467,223,158,1211,1575,1208,43,527,932,71,54,129,1615,1034,1088,721,137,47,1244,41,1174,993,100,1680,98,48,519,715,37,653,1455,602,26,102,97,207,176,450,433,1366,1564,1001,961,1518,56,22,400,26,350,1216,874,40,1367,264,2053,1376,45,976,51,1264,75,57,140,497,266,2006,615,1021,22,133,437,1013,57,1038,1573,28,123,13,132,732,66,1631,608,1822,1282,8,43,1931,8,103,1169,395,258,25,185,180,22,44,94,81,798,1334,38,61,300,88,54,1782,68,258,31,66,174,28,731,274,1701,312,414,1565,29,94,1338,1092,1479,54,568,1199,873,1213,731,2043,1893,424,575,257,56,542,125,69,40,1016,907,1566,1169,46,1644,59,17,1853,1528,35,141,546,500,61,106,704,424,849,85,199,1147,54,43,53,521,1623,45,1435,32,16,52,1234,15,415,470,1438,53,51,679,586,653,468,1679,50,84,1049,22,30,1341,444,1241,843,172],\"y\":[58138.0,46344.0,71613.0,26646.0,58293.0,62513.0,55635.0,33454.0,30351.0,5648.0,61752.8,7500.0,63033.0,59354.0,17323.0,82800.0,41850.0,37760.0,76995.0,33812.0,37040.0,2447.0,58607.0,65324.0,40689.0,18589.0,53359.0,54717.2,38360.0,84618.0,10979.0,38620.0,40548.0,46610.0,68657.0,49389.0,67353.0,23718.0,42429.0,48948.0,80011.0,20559.0,21994.0,55234.2,7500.0,79941.0,7500.0,41728.0,49352.0,72550.0,65486.0,79143.0,35790.0,82582.0,66373.0,82384.0,70287.0,27938.0,42748.6,55954.0,75777.0,66653.0,61823.0,67680.0,70666.0,25721.0,32474.0,88194.0,69096.0,74854.0,66991.0,37431.6,65031.0,60631.0,28332.0,40246.0,75251.0,75825.0,26326.0,56046.0,29760.0,26304.0,23559.0,38620.0,81361.0,29440.0,36138.0,50388.0,79593.0,54178.0,59425.8,51870.8,48822.2,42394.0,23626.0,30096.0,47916.0,51813.0,78497.0,50150.0,47823.0,34554.0,85693.0,65846.0,87195.0,24594.0,49096.0,52413.0,38557.0,89058.0,77298.0,68126.0,57288.0,86037.0,43974.0,50785.0,90765.0,36550.0,30753.0,21918.0,56129.0,32557.0,19510.0,30992.0,101970.0,71488.0,79607.0,54348.0,64389.4,77376.0,62998.0,61331.0,73448.0,47125.8,41551.0,62981.0,9548.0,33762.0,35860.0,36921.0,92859.0,65104.0,86111.0,68352.0,41883.0,59809.0,23957.0,38547.0,35688.0,49605.0,59354.0,65747.0,46344.0,34176.0,61010.0,69372.0,49967.0,60199.0,55375.0,80317.0,30523.0,70356.0,23228.0,74165.0,157243.0,43482.0,62551.0,52332.0,66951.0,26091.0,33456.0,28718.0,50447.0,53537.0,52074.0,80427.0,83837.0,38853.0,38285.0,78497.0,51650.0,16248.0,66835.0,30477.0,28249.0,25271.0,32303.0,61286.0,74068.0,45759.0,24882.0,66973.0,36640.0,38872.0,51148.0,31353.0,69661.0,80067.0,86718.0,46854.0,69142.0,75922.0,63693.0,102160.0,40637.0,18890.0,29604.0,48721.0,44794.0,64497.0,46097.0,77972.0,44377.0,46014.0,70951.0,41443.0,52195.0,83790.0,44551.0,69508.0,45204.0,72460.0,77622.0,30732.0,63887.0,42011.0,51369.0,51537.0,79930.0,34320.0,37070.0,81975.0,38590.0,15033.0,62745.0,22212.0,23661.0,79761.0,7500.0,60182.0,73455.0,64961.0,22804.0,73687.0,61074.0,31686.0,80134.0,75027.0,67546.0,65176.0,31160.0,29938.0,102692.0,26490.0,75702.0,30899.0,63342.0,45989.0,18701.0,40737.0,15287.0,69674.0,44159.0,37717.0,43776.0,38179.0,80124.0,38097.0,72940.0,22070.0,69267.0,31788.0,61905.0,29315.0,33378.0,66313.0,60714.0,77882.0,69867.0,63841.0,24480.0,51369.0,37760.0,65640.0,44319.0,30631.0,75278.0,50898.0,79946.0,35416.0,32414.0,38361.0,82497.0,16626.0,29672.0,55951.0,35388.0,42386.0,68627.0,57912.0,35246.0,58821.0,46377.0,39747.0,23976.0,80950.0,27038.0,77457.0,64100.0,42670.0,12571.0,22574.0,31374.0,70893.0,54198.0,28839.0,40321.0,66503.0,30833.0,58603.2,64795.0,34421.0,47025.0,64325.0,40464.0,62187.0,14849.0,27255.0,54432.0,29999.0,24072.0,33996.0,66334.0,35178.0,22010.0,62204.0,75693.0,30675.0,83003.0,83532.0,68655.0,41411.0,55212.0,59292.0,27190.0,82623.0,44300.0,84835.0,30372.0,33181.0,71113.0,71952.0,69759.0,72099.0,60000.0,38643.0,50737.0,68462.0,65073.0,46681.0,78618.0,62187.0,28442.0,37717.0,51479.0,54803.0,79530.0,31615.0,72025.0,52614.0,35684.0,48178.0,29548.0,63810.0,38578.0,46098.0,22585.0,30279.0,66426.0,30822.0,33581.0,19986.0,27421.0,35688.0,36143.0,10245.0,43795.0,63381.0,38823.0,83664.0,90300.0,62499.0,74293.0,51012.0,70777.0,68682.0,43824.0,15345.0,23442.0,14515.0,31395.0,75276.0,42373.0,30507.0,55521.0,48006.0,27213.0,65808.0,30351.0,50437.0,23616.0,53858.0,66465.0,46923.0,75072.0,75865.0,19789.0,80134.0,91065.0,49505.0,37401.0,30096.0,18492.0,82584.0,93027.0,48686.0,92910.0,75433.0,10404.0,61314.0,84865.0,42387.0,67309.0,75236.0,30015.0,50943.0,67272.0,51529.0,32011.0,7500.0,28691.0,56223.0,18100.0,30279.0,20130.0,23295.0,42618.0,81246.0,24027.0,55707.0,57959.0,56796.0,36230.0,70829.0,65991.0,38988.0,89572.0,42207.0,50300.0,66664.0,60597.0,70165.0,50520.0,80124.0,33183.0,66582.0,75261.0,31880.0,53790.0,49269.0,61456.0,37406.0,56937.0,38415.0,20518.0,62503.0,41644.0,55842.0,62010.0,41124.0,38961.0,37760.0,32233.0,43057.0,83151.0,78825.0,65104.0,60093.0,14045.0,28457.0,78952.0,46310.0,76005.0,58308.0,55614.0,59432.0,55563.0,78642.0,67911.0,65275.0,27203.0,48330.0,24279.0,64355.0,50943.0,53653.0,65665.0,81217.0,34935.0,61250.0,39665.0,60152.0,48920.0,89120.0,44124.0,81169.0,36443.0,26095.0,71367.0,80184.0,30630.0,73454.0,42691.0,70503.0,25545.0,32880.0,77863.0,50353.0,61839.0,49154.0,47682.0,72679.0,57954.0,65316.0,28567.0,47352.0,44931.0,76982.0,57247.0,22944.0,25315.0,43638.0,42710.0,84169.0,54058.0,24683.0,85620.0,47850.0,19514.0,27159.0,39548.0,21474.0,60504.0,22419.0,81698.0,43462.0,54880.0,79908.0,15315.0,87771.0,33039.0,81741.0,71499.0,62466.0,48799.0,52157.0,66565.0,29298.0,47691.0,38200.0,44989.0,38443.0,38593.0,64413.0,36959.0,61996.0,51287.0,13260.0,47472.0,54603.0,45207.0,40689.0,47821.0,27450.0,39453.0,26850.0,79800.0,61794.0,53863.0,24221.0,39684.0,92163.0,69882.0,33178.0,59973.0,17459.0,23910.0,42169.0,26224.0,31089.0,30081.0,62807.0,72906.0,61467.0,49618.0,21888.0,42429.0,26150.0,30801.0,81168.0,26877.0,45006.0,18978.0,22574.0,48240.0,45837.0,35791.0,162397.0,54162.0,30522.0,54456.0,31632.0,72298.0,36975.0,72635.0,13624.0,84196.0,70971.0,34487.0,28769.0,69084.0,65488.0,62466.0,32218.0,83917.0,46102.0,84574.0,56181.0,63120.0,73691.0,63381.0,76140.0,62859.0,45906.0,77632.0,46463.0,105471.0,55282.0,78710.0,66886.0,98777.0,29103.0,67445.0,50616.0,49431.0,153924.0,61278.0,26490.0,73059.0,46734.0,56253.0,19986.0,58330.0,25965.0,14661.0,18690.0,45068.0,21063.0,29187.0,54690.0,59304.0,59247.0,66731.0,77353.0,52614.0,26751.0,81300.0,70337.0,36145.0,65295.0,68118.0,68743.0,41039.0,38946.0,65777.0,66476.0,86857.0,160803.0,77845.0,69476.0,50611.0,61209.0,42315.0,13084.0,47570.0,61923.0,34824.0,26518.0,45938.0,78468.0,78901.0,71427.0,71022.0,90247.0,41335.0,71952.0,35682.0,43185.0,66375.0,35178.0,25252.0,55250.0,33249.0,58398.0,50272.0,76618.0,87305.0,25851.0,58710.0,45160.0,74806.0,59111.0,18988.0,72190.0,7500.0,44794.0,80395.0,75012.0,56962.0,89891.0,35946.0,53593.0,66373.0,45072.0,89694.0,72025.0,67432.0,70545.0,17487.0,62882.0,64108.0,34941.0,48767.0,38702.0,82224.0,83844.0,17003.0,71163.0,33697.0,63564.0,83443.0,51518.0,58330.0,80952.0,75507.0,63855.0,62220.0,58512.0,40662.0,38829.0,35523.0,79146.0,78285.0,31626.0,75127.0,48726.0,74985.0,67430.0,46891.0,62058.0,72063.0,78939.0,42720.0,33622.0,6835.0,41452.0,40760.0,74250.0,51124.0,72258.0,71466.0,36283.0,20587.0,30467.0,31590.0,20425.0,17144.0,42564.0,43783.0,40780.0,62847.0,82017.0,16813.0,51267.0,46524.0,45183.0,70421.0,60161.0,73926.0,19329.0,61872.0,46984.0,34838.0,82716.0,48192.0,49681.0,56850.0,55267.0,59666.0,72504.0,26872.0,21359.0,73170.0,52750.0,91820.0,65968.0,30772.0,22507.0,65685.0,25804.0,76412.0,22063.0,57091.0,22419.0,87771.0,78353.0,93404.0,37859.0,80995.0,16529.0,55412.0,48789.0,56575.0,25130.0,35441.0,71391.0,49494.0,81702.0,45889.0,56628.0,34026.0,40049.0,34176.0,19419.0,82504.0,81205.0,61618.0,55284.0,49980.0,15072.0,49166.0,65324.0,82347.0,30843.0,46374.0,60474.0,38576.0,55357.0,37758.0,85710.0,23228.0,44602.0,7500.0,38683.0,49514.0,57906.0,43456.0,19485.0,53172.0,30545.0,70123.0,62450.0,21675.0,42395.0,61346.0,80812.0,42835.0,39922.0,86424.0,17117.0,24762.0,35797.0,36627.0,51111.0,86857.0,82072.0,46231.0,42243.0,51195.0,68092.0,31814.0,51390.0,76630.0,26868.0,48948.0,55260.0,64090.0,78331.0,37087.0,21846.0,81320.0,54137.0,66825.0,57100.0,58917.0,85072.0,86429.0,45684.0,47889.0,45921.0,78420.0,75114.0,52278.0,35641.0,95529.0,62820.0,73113.0,84169.0,42607.0,74637.0,46015.0,72354.0,39858.0,34469.0,83033.0,24401.0,77583.0,74116.0,74293.0,68397.0,79632.0,46107.0,64950.0,25443.0,75127.0,32892.0,71796.0,67536.0,55239.0,60554.0,64831.0,56067.0,82025.0,94384.0,14906.0,51563.0,57937.0,68274.0,39771.0,67893.0,27922.0,52190.0,44051.0,42767.0,46106.0,16927.0,59754.0,53700.0,59041.0,54237.0,70647.0,52597.0,41021.0,40233.0,50183.0,54753.0,92955.0,33471.0,34596.0,44010.0,84219.0,40706.0,15716.0,59052.0,80573.0,83715.0,82576.0,56962.0,35704.0,53103.0,46779.0,4861.0,33462.0,63693.0,80763.0,65352.0,82170.0,75759.0,79689.0,35340.0,85683.0,24884.0,42021.0,64449.0,64587.0,34824.0,75437.0,26091.0,52845.0,46086.0,78028.0,95169.0,56337.0,22434.0,36930.0,36130.0,65569.0,83844.0,19514.0,36736.0,77568.0,49187.0,30168.0,34053.0,38196.0,59412.0,70924.0,54165.0,32300.0,20180.0,34961.0,28440.0,64504.0,33564.0,17345.0,56320.0,28647.0,15038.0,32173.0,68316.0,74538.0,91700.0,68695.0,31056.0,79593.0,28071.0,37334.0,46423.0,37126.0,47703.0,61180.0,38998.0,8028.0,76081.0,34728.0,33168.0,33585.0,77037.0,35196.0,44529.0,70924.0,28764.0,69098.0,25959.0,27100.0,70596.0,42557.0,53312.0,72228.0,67605.0,62845.0,65196.0,42000.0,35860.0,65526.0,16860.0,83528.0,64176.0,22304.0,67023.0,32892.0,70713.0,59925.0,39722.0,46610.0,88347.0,87171.0,26907.0,50014.0,41014.0,66294.0,36715.0,79456.0,40479.0,75345.0,54233.0,24163.0,84460.0,43776.0,71691.0,85844.0,39190.0,71367.0,38578.0,57236.0,61825.0,79803.0,80910.0,27590.0,56775.0,83829.0,54210.0,38508.0,53187.0,30023.0,76045.0,50870.0,15315.0,65463.0,66480.0,76773.0,81698.0,54466.0,98777.0,16269.0,71819.0,33569.0,36262.0,22634.0,47025.0,70566.0,31605.0,52034.0,48526.0,46734.0,39552.0,86358.0,46931.0,16581.0,63998.0,67381.0,25930.0,42693.0,85606.0,72903.0,49669.0,36778.0,85696.0,10979.0,49678.0,56129.0,37155.0,21282.0,33419.0,63285.0,21255.0,42162.0,54450.0,57744.0,26576.0,57513.0,68142.0,7500.0,83145.0,54197.0,23091.0,46049.0,56715.0,79410.0,57304.0,44375.0,54450.0,59594.0,80685.0,40344.0,62710.0,48985.0,35322.0,77142.0,81657.0,14421.0,20130.0,74214.0,66726.0,23724.0,47353.0,33444.0,54386.0,28510.0,90638.0,48070.0,43140.0,54959.0,15056.0,26954.0,22327.0,44393.0,62000.0,31497.0,45894.0,78579.0,67369.0,58401.0,62307.0,43641.0,63841.0,46891.0,70091.0,78075.0,59184.0,54809.0,58113.0,51412.0,15287.0,66636.0,50965.0,84618.0,18351.0,40451.0,36317.0,42213.0,65748.0,77044.0,74918.0,56721.0,42160.0,61559.0,33629.0,68682.0,34377.0,8940.0,26228.0,77297.0,40211.0,33438.0,75032.0,61284.0,22518.0,54730.0,38452.0,44421.0,38197.0,41986.0,28427.0,37395.0,64722.0,55249.0,84906.0,28691.0,44213.0,25707.0,59062.0,76624.0,66000.0,27683.0,1730.0,7500.0,40521.0,20427.0,65106.0,69969.0,67433.0,77766.0,74716.0,68118.0,55158.0,62972.0,74190.0,39356.0,76653.0,35860.0,90687.0,73450.0,31454.0,47139.0,83829.0,53378.0,19656.0,45579.0,85485.0,55956.0,64191.0,38808.0,57183.0,23748.0,66303.0,37368.0,40800.0,71847.0,46149.0,78687.0,49118.0,37633.0,39767.0,26997.0,33986.0,57091.0,46831.0,83151.0,52531.0,15759.0,22804.0,43050.0,42997.0,48918.0,60033.0,34043.0,57811.0,78569.0,7500.0,157733.0,94384.0,23148.0,44267.0,71626.0,60894.0,50200.0,81051.0,65169.0,59868.0,65695.0,64857.0,45143.0,74805.0,59060.0,27238.0,47009.0,46094.0,40321.0,37235.0,81843.0,46692.0,77382.0,37774.0,18393.0,72828.0,24711.0,45503.0,6560.0,71604.0,27244.0,48752.0,71434.0,90842.0,88097.0,51948.0,71853.0,35876.0,40049.0,39660.0,50127.0,43263.0,62845.0,18929.0,24367.0,33249.0,26887.0,50150.0,62061.0,85696.0,76542.0,70515.0,18227.0,69139.0,69109.0,69627.0,38136.0,62159.0,80695.0,33316.0,58554.0,17256.0,53034.0,52203.0,59601.0,75154.0,47025.0,37971.0,41335.0,67267.0,57338.0,50523.0,35791.0,50611.0,56242.0,48904.0,56243.0,21355.0,57420.0,46715.6,46390.0,54342.0,51994.8,63069.2,20895.0,92344.0,52327.4,26907.0,44964.0,75507.0,53761.0,22682.0,38887.0,41658.0,29791.0,63915.0,39996.0,26759.0,63841.0,51039.0,60544.0,65685.0,37716.0,36864.0,44511.0,36947.0,47352.0,67087.0,57045.0,36957.0,69389.0,80134.0,43142.0,80589.0,34412.0,57537.0,22634.0,51315.0,36026.0,24639.0,34578.0,65704.0,63810.0,54132.0,18690.0,28164.0,34596.0,43269.0,38741.0,31907.0,27100.0,31163.0,92533.0,34853.0,70844.0,31086.0,60544.0,20491.0,42523.0,39922.0,33402.0,36408.0,21645.0,78427.0,82657.0,51876.0,78041.0,52852.0,70038.0,69401.0,46053.0,77343.0,73892.0,40304.0,32727.0,68695.0,43300.0,26290.0,93790.0,38410.0,64866.0,57957.0,46015.0,16531.0,28072.0,49476.0,50725.0,83844.0,41145.0,67419.0,23162.0,34380.0,34704.0,94871.0,65148.0,39898.0,64857.0,59892.0,41020.0,57072.0,60474.0,62807.0,19414.0,19107.0,75484.0,70379.0,79419.0,64014.0,76998.0,49854.0,60585.0,42873.0,87679.0,57867.0,35765.0,65492.0,32952.0,53374.0,71706.0,68487.0,53253.0,31163.0,42014.0,54108.0,49667.0,63206.0,57136.0,46772.0,78931.0,53977.0,84219.0,46098.0,73538.0,79529.0,20981.0,51766.0,55759.0,33039.0,37787.0,27242.0,87188.0,69930.0,37697.0,37401.0,3502.0,58597.0,82032.0,28087.0,74004.0,19740.0,57036.0,53083.0,69283.0,46098.0,23331.0,23331.0,9255.0,67786.0,71969.0,59235.0,31928.0,74881.0,65819.0,51411.0,51983.0,42386.0,30390.0,30983.0,66033.0,37284.0,57530.0,76800.0,63943.0,76081.0,67445.0,37054.0,47175.0,31859.0,27215.0,70179.0,39922.0,49681.0,24645.0,79865.0,44322.0,47958.0,63972.0,75315.0,55517.0,75283.0,82800.0,38998.0,90638.0,27161.0,42014.0,38201.0,45203.0,81574.0,34935.0,60482.0,34633.0,78093.0,82460.0,45903.0,81361.0,35860.0,40442.0,61482.0,34968.0,75794.0,31497.0,74268.0,13724.0,45143.0,52569.0,48432.0,17144.0,36108.0,76445.0,36663.0,53843.0,90226.0,70638.0,44512.0,27116.0,54072.0,71855.0,51250.0,60432.0,65526.0,68655.0,12393.0,64509.0,33955.0,31353.0,55434.0,28359.0,57100.0,69139.0,52973.0,51717.0,18793.0,66664.0,50664.0,54414.0,54549.0,47111.0,41003.0,19444.0,36301.0,73059.0,42731.0,52854.0,22775.0,46681.0,59821.0,50002.0,69755.0,44078.0,30560.0,35924.0,64140.0,56386.0,24594.0,75774.0,39228.0,58494.0,58684.0,57136.0,56551.0,22448.0,82014.0,34213.0,157146.0,25358.0,35544.0,36634.0,62670.0,50334.0,72066.0,50729.0,34916.0,64892.0,43602.0,33996.0,41473.0,63246.0,36732.0,69084.0,77766.0,37929.0,86610.0,80141.0,72635.0,69016.0,20193.0,27573.0,15862.0,49544.0,33228.0,70440.0,38232.0,22554.0,23536.0,49413.0,42231.0,78789.0,56534.0,58350.0,81217.0,49090.0,61787.0,18169.0,24336.0,18222.0,62335.0,42033.0,86580.0,41437.0,73705.0,61064.0,38452.0,18358.0,55012.0,9722.0,38175.0,58656.0,52117.0,64813.0,54222.0,83512.0,77520.0,41154.0,80398.0,18746.0,35196.0,60230.0,22108.0,44392.0,55424.0,17688.0,92491.0,90273.0,82571.0,38513.0,16653.0,42586.0,23529.0,74881.0,71107.0,46910.0,18690.0,37244.0,82427.0,75342.0,70044.0,79146.0,77437.0,54984.0,42403.0,55761.0,37292.0,45576.0,70321.0,58086.0,81795.0,28389.0,66835.0,69901.0,80360.0,63342.0,44989.0,31859.0,51569.0,30372.0,16014.0,41120.0,39763.0,38725.0,77981.0,62905.0,13533.0,59481.0,72117.0,21955.0,67131.0,36802.0,71853.0,28249.0,47808.0,25509.0,51012.0,70596.0,85431.0,42664.0,42586.0,29760.0,28973.0,39435.0,65370.0,20194.0,42473.0,64590.0,71232.0,34600.0,46904.0,49094.0,36075.0,60839.0,77298.0,34026.0,48918.0,82122.0,37697.0,34074.0,28520.0,62535.0,36273.0,63404.0,75774.0,78416.0,75702.0,59385.0,37070.0,44689.0,53977.0,7144.0,18701.0,90369.0,63159.0,37758.0,46757.0,79734.0,63207.0,72071.0,21840.0,58582.0,72282.0,50387.0,32583.0,62568.0,44635.0,33316.0,63967.0,52513.0,25293.0,54111.0,78394.0,80739.0,22669.0,29236.0,44911.0,54693.0,48186.0,54809.0,41580.0,80336.0,47743.0,62972.0,57333.0,32313.0,84953.0,27071.0,68148.0,65735.0,86836.0,4023.0,30093.0,57705.0,25008.0,83257.0,22280.0,72159.0,64260.0,82733.0,74290.0,58217.0,21024.0,70116.0,54006.0,69063.0,11448.0,61825.0,70886.0,69109.0,60208.0,32889.0,34738.0,30538.0,82326.0,26642.0,69932.0,44503.0,60200.0,49638.0,23830.0,33051.0,72905.0,69702.0,70300.0,70643.0,30396.0,50616.0,62772.0,30298.0,52413.0,44155.0,86979.0,76532.0,42081.0,67546.0,88420.0,31158.0,61671.0,69719.0,49160.0,24882.0,90933.0,113734.0,59292.0,45759.0,22148.0,73395.0,29819.0,45688.0,62820.0,60491.0,33235.0,35701.0,31535.0,92556.0,67384.0,80573.0,77870.0,52278.0,57107.0,18929.0,36038.0,20180.0,34230.0,31878.0,70932.0,91249.0,77598.0,80982.0,22701.0,55212.0,70617.0,64849.0,62694.0,61917.0,67472.0,21059.0,29543.0,75903.0,34984.0,54998.0,54356.0,34242.0,25410.0,73356.0,28320.0,23763.0,72570.0,34529.0,70792.0,63211.0,83891.0,36065.0,39898.0,51141.0,56939.0,80872.0,72335.0,61798.0,76842.0,29478.0,46998.0,96843.0,56551.0,70053.0,71670.0,44359.0,40887.0,48877.0,74485.0,64474.0,77226.0,72643.0,85738.0,55686.0,39062.0,34600.0,40794.0,54690.0,4428.0,32632.0,38236.0,36781.0,31385.0,24570.0,25509.0,94642.0,58646.0,53201.0,21994.0,57113.0,51373.0,23477.0,58116.0,72968.0,39791.0,91712.0,94472.0,13672.0,96547.0,79205.0,56559.0,32644.0,67506.0,24206.0,28420.0,22979.0,33279.0,46423.0,30368.0,63684.0,41638.0,68805.0,65814.0,71964.0,39146.0,96876.0,34445.0,68281.0,37284.0,36790.0,27943.0,22263.0,30261.0,28587.0,43815.0,48195.0,77027.0,71322.0,32765.0,29672.0,23272.0,49912.0,7500.0,68117.0,67225.0,17649.0,55914.0,40059.0,60905.0,75330.0,60689.0,38680.0,61416.0,49767.0,83273.0,29009.0,45057.0,37150.0,43020.0,53154.0,65308.0,76467.0,81044.0,32871.0,55801.0,76320.0,36927.0,48794.0,23478.0,71128.0,70179.0,59462.0,60162.2,38361.0,57403.8,70038.0,42554.0,67445.0,67046.0,42192.0,77610.0,31761.0,34350.0,54591.0,71866.0,25293.0,42000.0,69520.0,64713.0,27889.0,22123.0,40154.4,51309.8,27803.0,51047.4,51651.0,68487.0,66141.6,56796.0,87000.0,79823.0,30828.0,34109.0,53367.0,22390.0,71322.0,79244.0,49912.0,48699.0,80144.0,54252.0,81929.0,76068.0,53204.0,67911.0,14796.0,78128.0,14188.0,20425.0,58646.0,72967.0,48150.0,82332.0,58275.0,44953.0,34587.0,43018.0,45736.0,66476.0,27733.0,69805.0,72217.0,25818.0,37509.0,25176.0,43586.0,53230.0,50116.0,84906.0,61286.0,82333.0,65220.0,33590.0,30992.0,72309.0,156924.0,16005.0,65487.0,58692.0,40590.0,20587.0,62637.0,29435.0,19346.0,35788.0,36997.0,23539.0,65333.0,78499.0,29732.0,41275.0,63516.0,42769.0,49572.0,69209.0,17148.0,40590.0,30560.0,32146.0,41713.0,34176.0,58482.0,59686.0,60896.0,62994.0,47320.0,74859.0,15253.0,31560.0,72071.0,91172.0,90000.0,41967.0,69263.0,65706.0,60934.0,71965.0,65210.0,79174.0,81380.0,48432.0,52914.0,38946.0,26067.0,44325.0,42523.0,26487.0,53233.0,67716.0,76234.0,84117.0,65487.0,25224.0,89616.0,40851.0,27469.0,82347.0,73803.0,8820.0,43322.0,55593.0,50501.0,37085.0,16185.0,57731.0,48432.0,73807.0,18929.0,35893.0,61014.0,32144.0,14918.0,45146.0,41769.0,88325.0,38054.0,80617.0,5305.0,36807.0,28427.0,82032.0,22775.0,40101.0,58025.0,75777.0,7500.0,33562.0,57642.0,58554.0,63777.0,57967.0,32905.0,24434.0,11012.0,44802.0,26816.0,34421.0,61223.0,64014.0,56981.0,69245.0,52869.0],\"type\":\"scatter\",\"hovertemplate\":\"Spending: %{x} \\u003cbr\\u003eIncome: %{y}\"},{\"mode\":\"lines\",\"name\":\"line of best fit\",\"x\":[1617,27,776,53,422,716,590,169,46,49,19,61,1102,310,46,1315,96,317,1782,133,316,1730,972,544,444,75,257,637,131,1672,30,318,120,302,1196,65,913,81,67,902,1395,53,22,186,31,984,122,55,124,1319,507,1693,72,1617,606,1957,1093,29,46,518,1438,612,884,606,1076,34,11,1274,653,1562,1253,109,863,661,65,13,1890,2209,18,692,165,16,79,318,778,56,151,372,1366,194,603,18,985,32,43,45,606,63,978,410,72,55,1169,1120,1097,29,187,910,145,850,969,1820,608,730,551,114,1724,577,81,33,660,80,30,43,1135,559,1923,90,404,661,463,632,725,725,279,1482,29,106,49,38,2077,1053,1385,871,312,877,68,22,211,127,459,460,429,89,1021,1381,306,18,162,1231,13,1706,121,1293,1608,88,421,259,1117,89,36,57,148,93,119,1835,1318,45,10,978,191,57,1033,66,43,50,39,608,1581,68,80,1282,65,91,315,31,834,1600,1270,263,535,1295,1150,1240,38,35,53,293,65,1804,241,1101,264,541,1198,482,17,1615,285,1135,114,1047,714,185,1245,189,576,1103,1753,17,433,1588,22,19,1117,69,23,605,57,22,2088,1009,26,1627,1102,17,1690,1390,2126,1531,64,26,1112,210,1148,33,1101,322,44,17,31,845,275,25,275,90,1495,184,981,67,1635,60,231,48,99,770,957,818,925,908,102,576,317,461,37,70,930,859,1478,390,52,137,1919,68,25,1374,32,100,825,916,62,728,90,273,66,1213,107,1157,546,241,53,37,1611,1508,235,32,102,401,28,1052,680,30,20,1307,630,1283,65,37,38,160,23,71,1161,59,33,946,1442,62,1674,1853,1538,139,1182,507,18,940,42,1190,44,16,835,1443,1029,1188,1277,49,99,1670,900,425,2153,636,57,25,494,693,1348,51,1932,990,30,254,29,1371,73,120,81,37,1377,51,17,22,324,211,19,41,492,1005,114,1173,1738,222,1127,209,787,1598,186,47,27,96,64,1040,163,343,446,41,70,272,46,490,79,915,1485,369,1073,1242,78,1378,1474,751,48,45,10,1435,2119,20,1795,1188,43,1008,1688,684,1082,1068,57,46,733,467,122,36,34,156,14,37,34,20,192,1379,48,428,868,1001,59,431,971,348,2059,265,270,1289,893,926,135,1495,120,1288,1743,15,542,890,1388,17,906,44,25,973,31,518,530,506,70,54,296,266,747,895,1053,735,20,205,2092,309,1722,900,682,663,43,1816,976,746,64,32,263,1445,46,1210,945,1157,137,730,216,943,347,1924,397,2089,138,42,777,1902,52,1651,358,1727,210,42,1291,442,1895,411,521,1168,493,260,46,319,96,1062,232,76,54,201,406,1919,662,41,1600,134,69,21,54,91,526,162,1008,240,795,1772,64,1957,78,1572,795,889,331,265,1065,11,21,17,369,38,177,279,62,1230,182,49,75,227,215,444,47,143,55,63,1867,611,473,55,81,2086,1478,49,382,69,67,30,63,79,42,819,1151,594,129,213,67,28,45,1193,268,266,37,37,882,373,35,107,42,326,404,95,939,33,981,36,1237,1825,103,191,1586,963,889,93,1587,16,1375,393,1477,1179,1005,1348,1307,486,2252,235,1724,235,1092,599,2008,48,1174,67,365,6,165,210,1095,223,597,22,1064,74,26,60,20,59,34,198,1048,574,1029,670,990,11,1241,576,172,664,928,2074,467,257,1146,689,2114,1717,1346,1044,493,957,270,29,121,126,23,57,636,1004,734,614,1453,1621,187,1443,57,637,948,59,18,903,112,596,233,1511,1152,48,1185,21,965,869,16,1947,71,65,1380,1027,411,836,11,480,606,284,1472,1677,1335,334,18,1338,1099,97,63,109,902,1574,38,960,28,1215,1497,449,1064,1757,1440,1006,1226,1171,92,99,66,564,1427,86,833,242,1869,1364,183,450,758,1507,654,81,137,16,93,1158,43,1525,1230,29,25,24,38,57,47,813,629,377,1612,729,50,270,177,315,767,1071,1580,60,573,41,170,1167,1526,458,63,405,1027,1478,72,48,726,860,1497,495,20,570,769,55,1808,55,577,162,1957,1576,1616,36,1482,22,63,680,542,50,39,1043,385,1633,46,761,76,290,89,70,1066,2009,1345,764,195,53,368,544,1853,35,446,1180,41,727,40,1062,40,292,15,341,369,401,393,10,486,69,1727,995,45,182,989,1677,595,156,1226,128,86,68,16,55,2114,2018,263,55,564,1281,83,353,1003,14,902,1139,797,1638,401,84,928,203,858,409,282,1423,1449,28,67,199,1453,1253,1198,178,1990,976,1001,1919,350,1650,46,1228,95,62,1761,467,1149,2052,1127,1416,1113,125,966,32,833,46,960,1829,779,811,1120,725,1187,2302,66,1250,683,305,50,995,41,77,171,131,54,53,475,694,96,361,1079,578,64,149,231,728,1778,93,23,662,1198,81,92,491,1564,926,1910,411,94,1085,23,6,54,1150,1415,405,1908,2486,1315,45,1789,19,573,805,108,23,1493,89,936,343,528,1901,724,58,297,488,859,1574,69,17,2194,116,279,103,44,406,1363,236,39,137,79,63,1314,71,58,702,94,80,22,1211,1461,1968,1091,55,1366,313,62,92,72,655,704,54,178,1033,36,122,122,1123,497,691,1363,12,2440,56,37,968,270,278,1250,938,1178,1155,653,49,506,38,1650,1826,18,906,46,1477,766,47,467,2116,1298,22,396,20,967,357,1401,15,2087,981,17,523,23,1192,1958,133,777,73,121,424,868,756,12,937,1862,367,443,267,61,1323,63,64,562,312,1156,1104,16,2008,44,1574,63,426,96,635,757,125,332,135,330,384,1722,78,24,1168,957,15,57,1956,2013,326,77,1313,30,315,660,74,46,86,1103,61,145,684,411,27,1060,1459,18,1833,237,48,515,1020,1370,1026,301,684,499,1004,218,606,75,106,990,1097,16,34,1711,438,75,225,18,470,91,2525,504,235,1232,88,17,24,60,1020,155,51,1812,1461,96,160,139,908,183,1161,988,1072,174,758,195,31,1084,685,1672,43,49,133,363,545,1065,2047,296,140,530,152,1598,114,101,25,789,87,90,1215,811,61,405,72,189,40,63,52,39,805,130,1631,34,152,21,71,899,711,351,8,119,21,10,973,1536,992,1529,860,928,418,587,641,23,2279,49,1779,1804,48,83,1862,793,84,183,1383,999,825,246,610,76,1286,30,99,1192,362,2130,1229,38,485,434,44,496,78,2346,794,17,26,76,15,62,198,49,802,1736,57,59,2302,37,310,1305,832,401,1501,1189,1194,656,1540,311,820,274,57,448,44,102,61,1643,397,1121,473,50,1678,58,170,373,1196,101,316,1400,1424,844,311,1149,129,32,299,320,441,1178,85,24,112,30,410,800,1313,1483,1258,28,227,1555,861,103,634,1918,131,586,62,447,939,797,1143,415,30,187,251,237,91,35,493,971,371,396,68,322,317,222,177,45,21,45,1899,42,22,41,1440,325,95,42,72,20,789,15,59,908,417,289,769,188,354,727,146,319,794,454,152,797,1690,20,1428,209,545,96,222,61,44,8,817,1371,42,60,78,23,19,61,449,37,38,1131,34,294,48,289,30,125,156,70,22,65,1930,2283,310,1319,879,1244,690,209,1134,1507,57,529,1091,180,77,2349,534,556,637,46,44,47,795,586,1574,13,1471,65,175,40,1078,1115,134,1540,87,217,1034,1180,819,32,46,1159,860,1631,444,1910,380,736,269,2524,612,75,1045,55,1064,1443,1366,436,38,436,747,1396,928,642,1048,943,907,1198,120,1658,1638,73,275,854,78,106,106,1923,1662,84,48,5,733,1234,112,1658,55,1513,271,904,120,103,269,22,1156,1086,1128,72,964,1383,18,793,100,80,167,677,23,92,641,1106,1033,1174,25,240,20,102,1034,156,458,17,792,92,407,1269,841,633,1019,1315,54,2525,52,436,268,147,1798,137,507,15,1105,974,66,778,49,169,299,221,1682,155,892,58,311,95,424,47,339,1410,35,562,2352,1334,32,41,39,1141,710,401,506,1538,57,1722,270,31,882,16,311,227,1152,122,77,1289,561,211,233,1092,601,54,78,1095,244,116,15,425,734,638,894,41,31,34,1750,612,29,823,20,396,813,1179,138,55,1511,117,1730,32,67,335,825,694,1792,496,231,902,68,71,76,772,47,1586,1529,265,1603,2091,981,1533,82,244,36,404,71,1572,122,41,10,304,37,1754,815,1001,1157,688,1319,21,31,67,708,25,746,32,1695,1080,72,57,660,103,153,1220,279,745,264,2157,1526,69,1597,64,497,1067,31,211,877,11,2034,1991,1686,324,69,252,54,964,1327,68,60,55,1456,563,1504,564,1125,358,42,184,460,145,1376,792,1382,28,1033,882,2231,1101,369,48,467,44,38,81,167,45,664,622,48,461,1073,55,976,20,1149,43,224,101,209,968,1165,24,252,165,269,102,461,47,144,1338,917,318,253,502,119,1250,969,76,62,1382,84,255,43,398,76,902,823,1179,1921,185,433,34,907,416,44,1588,1797,40,1143,914,1502,1338,27,763,1331,525,9,953,68,131,882,1149,37,388,1428,1633,173,99,215,929,219,174,92,1052,275,587,1662,159,1024,35,1042,395,557,9,69,486,34,1365,13,1401,1574,1323,1217,103,84,1536,581,928,14,424,960,1555,656,55,20,367,2257,42,1049,48,685,39,43,835,1515,1039,1596,1828,34,149,946,28,450,46,1702,820,382,2126,2069,72,732,801,236,80,1685,277,507,68,49,397,39,306,976,1028,70,46,51,1263,1490,1564,1815,1198,416,85,47,137,21,70,909,1676,1735,1191,24,1182,1280,1336,749,91,414,44,63,901,38,455,775,15,38,1512,43,42,1089,162,1272,1173,816,74,134,157,561,1336,2092,463,1130,20,377,1544,138,1012,1766,45,161,144,1734,823,1138,1429,1371,982,44,318,434,198,359,576,88,63,27,193,101,2211,140,415,22,263,393,147,443,1958,174,2217,1691,25,809,895,484,413,331,25,13,115,16,92,52,1464,441,283,747,1870,165,1941,839,1655,23,66,37,21,22,78,79,265,1175,1305,46,25,46,874,100,930,868,45,1260,414,392,1109,639,79,1665,692,1392,44,50,467,223,158,1211,1575,1208,43,527,932,71,54,129,1615,1034,1088,721,137,47,1244,41,1174,993,100,1680,98,48,519,715,37,653,1455,602,26,102,97,207,176,450,433,1366,1564,1001,961,1518,56,22,400,26,350,1216,874,40,1367,264,2053,1376,45,976,51,1264,75,57,140,497,266,2006,615,1021,22,133,437,1013,57,1038,1573,28,123,13,132,732,66,1631,608,1822,1282,8,43,1931,8,103,1169,395,258,25,185,180,22,44,94,81,798,1334,38,61,300,88,54,1782,68,258,31,66,174,28,731,274,1701,312,414,1565,29,94,1338,1092,1479,54,568,1199,873,1213,731,2043,1893,424,575,257,56,542,125,69,40,1016,907,1566,1169,46,1644,59,17,1853,1528,35,141,546,500,61,106,704,424,849,85,199,1147,54,43,53,521,1623,45,1435,32,16,52,1234,15,415,470,1438,53,51,679,586,653,468,1679,50,84,1049,22,30,1341,444,1241,843,172],\"y\":[80300.7490110006,35735.076868397126,56728.591607271344,36463.82370846486,46806.42309250302,55046.86813019197,51515.248828325275,39715.15576415165,36267.62263613893,36351.708809992895,35510.84707145321,36688.053505408774,65865.95583273596,43667.205935288184,36267.62263613893,71836.07417636775,37669.05886703841,43863.407007614114,84925.4885729689,38706.121677904026,43835.37828299613,83467.99489283343,62222.22163239731,50225.927495897755,47423.0550340988,37080.45565006063,42181.683530534734,52832.59888537079,38650.064228668045,81842.32886499004,35819.16304225109,43891.4357322321,38341.74825787016,43442.97613834427,68500.65594682697,36800.16840388073,60568.52687993592,37248.62799776856,36856.22585311671,60260.21090913803,74078.3721458069,36463.82370846486,35594.93324530718,40191.644082657476,35847.19176686909,62558.56632781318,38397.80570710614,36519.88115770084,38453.86315634212,71948.1890748397,49188.86468503214,82430.93208196783,36996.36947620666,80300.7490110006,51963.70842221311,89830.51538111707,65613.69731117405,35791.13431763311,36267.62263613893,49497.18065583002,75283.60730438046,52131.880769921045,59755.69386601422,51963.70842221311,65137.208992668224,35931.277940723056,35286.61727450929,70686.89646703016,53281.05847925862,78759.16915701117,70098.29325005239,38033.432287072275,59167.09064903644,53505.28827620254,36800.16840388073,35342.67472374527,87952.59083171177,96893.75398485045,35482.81834683522,54374.17873936021,39603.04086567969,35426.76089759924,37192.57054853259,43891.4357322321,56784.649056507325,36547.909882318825,39210.63872102784,45404.98686160354,73265.53913188522,40415.87387960139,51879.62224835914,35482.81834683522,62586.59505243118,35875.220491487074,36183.53646228496,36239.59391152094,51963.70842221311,36744.110954644755,62390.39398010525,46470.07839708715,36996.36947620666,36519.88115770084,67743.88038214126,66370.47287585976,65725.81220964601,35791.13431763311,40219.67280727546,60484.44070608195,39042.4663733199,58802.71722900258,62138.135458543344,85990.5801084525,52019.76587144909,55439.270274843824,50422.12856822368,38173.575910162224,83299.8225451255,51150.87540829141,37248.62799776856,35903.24921610506,53477.259551584546,37220.599273150576,35819.16304225109,36183.53646228496,66790.90374512962,50646.3583651676,88877.53874410543,37500.886519330474,46301.906049379206,53505.28827620254,47955.6008018406,52692.45526228084,55299.126651753875,55299.126651753875,42798.31547213051,76516.87118757202,35791.13431763311,37949.34611321831,36351.708809992895,36043.39283919501,93193.96233527584,64492.54832645447,73798.08489962702,59391.32044598035,43723.263384524165,59559.492793688296,36884.2545777347,35594.93324530718,40892.362198107214,38537.94933019609,47843.48590336864,47871.51462798663,47002.62416482895,37472.85779471248,63595.6291386788,73685.97000115506,43555.09103681623,35482.81834683522,39518.954691825726,69481.66130845662,35342.67472374527,82795.30550200169,38369.77698248815,71219.44223477197,80048.4904894387,37444.82907009449,46778.394367885034,42237.740979770715,66286.38670200581,37472.85779471248,35987.33538995903,36575.93860693681,39126.552547173866,37584.97269318444,38313.71953325217,86411.01097772234,71920.1603502217,36239.59391152094,35258.588549891305,62390.39398010525,40331.787705747425,36575.93860693681,63931.97383409468,36828.19712849872,36183.53646228496,36379.73753461089,36071.421563813004,52019.76587144909,79291.71492475297,36884.2545777347,37220.599273150576,70911.12626397409,36800.16840388073,37528.91524394846,43807.34955837813,35847.19176686909,58354.25763511474,79824.26069249478,70574.78156855822,42349.85587824268,49973.668974335844,71275.49968400795,67211.33461439946,69733.91983001852,36043.39283919501,35959.30666534104,36463.82370846486,43190.71761678236,36800.16840388073,85542.12051456465,41733.2239366469,65837.92710811796,42377.884602860664,50141.84132204379,68556.71339606296,48488.1465695824,35454.78962221723,80244.69156176463,42966.48781983845,66790.90374512962,38173.575910162224,64324.375978746524,54990.81068095599,40163.61535803948,69874.06345310848,40275.730256511444,51122.84668367342,65893.98455735395,84112.65555904718,35454.78962221723,47114.739063300905,79487.9159970789,35594.93324530718,35510.84707145321,66286.38670200581,36912.28330235269,35622.96196992517,51935.67969759512,36575.93860693681,35594.93324530718,93502.27830607371,63259.28444326292,35707.04814377914,80581.0362571805,65865.95583273596,35454.78962221723,82346.84590811384,73938.22852271696,94567.36984155732,77890.2786938535,36772.13967926274,35707.04814377914,66146.24307891585,40864.33347348923,67155.27716516348,35903.24921610506,65837.92710811796,44003.55063070406,36211.56518690295,35454.78962221723,35847.19176686909,58662.57360591263,42686.20057365855,35679.019419161144,42686.20057365855,37500.886519330474,76881.24460760588,40135.586633421495,62474.480153959215,36856.22585311671,80805.26605412443,36660.02478079079,41452.93669046701,36323.68008537491,37753.14504089238,56560.41925956341,61801.790763127465,57905.79804122691,60904.8715753518,60428.38325684598,37837.231214746345,51122.84668367342,43863.407007614114,47899.54335260462,36015.36411457702,36940.31202697068,61045.015198441746,59054.97575056448,76404.75628910004,45909.50390472735,36435.79498384686,38818.23657637598,88765.42384563347,36884.2545777347,35679.019419161144,73489.76892882913,35875.220491487074,37781.173765510364,58101.99911355284,60652.613053789886,36716.08223002676,55383.21282560784,37500.886519330474,42630.14312442257,36828.19712849872,68977.14426533281,37977.374837836294,67407.53568672539,50281.984945133736,41733.2239366469,36463.82370846486,36015.36411457702,80132.57666329267,77245.61802763975,41565.051588938964,35875.220491487074,37837.231214746345,46217.81987552524,35763.10559301512,64464.51960183648,54037.83404394434,35819.16304225109,35538.875796071196,71611.84437942383,52636.39781304486,70939.15498859208,36800.16840388073,36015.36411457702,36043.39283919501,39462.897242589745,35622.96196992517,36968.34075158867,67519.65058519735,36631.99605617279,35903.24921610506,61493.47479232958,75395.72220285243,36716.08223002676,81898.38631422602,86915.52802084616,78086.47976617943,38874.29402561196,68108.25380217512,49188.86468503214,35482.81834683522,61325.302444621644,36155.50773766697,68332.48359911903,36211.56518690295,35426.76089759924,58382.28635973273,75423.75092747042,63819.85893562272,68276.42614988307,70770.98264088415,36351.708809992895,37753.14504089238,81786.27141575405,60204.15345990205,46890.509266356996,95324.14540624304,52804.5701607528,36575.93860693681,35679.019419161144,48824.49126499827,54402.20746397821,72761.02208876141,36407.766259228876,89129.79726566732,62726.73867552112,35819.16304225109,42097.597356680766,35791.13431763311,73405.68275497516,37024.398200824646,38341.74825787016,37248.62799776856,36015.36411457702,73573.8551026831,36407.766259228876,35454.78962221723,35594.93324530718,44059.60807994004,40892.362198107214,35510.84707145321,36127.47901304898,48768.4338157623,63147.169544790966,38173.575910162224,67855.99528061322,83692.22468977736,41200.6781689051,66566.6739481857,40836.30474887123,57036.90757806923,79768.2032432588,40191.644082657476,36295.65136075692,35735.076868397126,37669.05886703841,36772.13967926274,64128.1749064206,39546.98341644371,44592.15384768184,47479.11248333477,36127.47901304898,36940.31202697068,42602.11439980458,36267.62263613893,48712.37636652632,37192.57054853259,60624.5843291719,76600.95736142597,45320.90068774957,65053.122818814256,69789.9772792545,37164.541823914595,73601.88382730109,76292.6413906281,56027.87349182161,36323.68008537491,36239.59391152094,35258.588549891305,75199.5211305265,94371.16876923139,35538.875796071196,85289.86199300276,68276.42614988307,36183.53646228496,63231.255718644934,82290.78845887787,54149.948942416304,65305.38134037617,64912.979195724314,36575.93860693681,36267.62263613893,55523.35644869779,48067.715700312554,38397.80570710614,35987.33538995903,35931.277940723056,39350.78234411779,35370.70344836326,36015.36411457702,35931.277940723056,35538.875796071196,40359.81643036541,73629.91255191909,36323.68008537491,46974.595440210964,59307.234272126385,63035.05464631901,36631.99605617279,47058.68161406493,62194.19290777932,44732.297470771795,92689.44529215201,42405.91332747865,42546.0569505686,71107.32733630002,60007.95238757613,60932.900299969784,38762.17912714001,76881.24460760588,38341.74825787016,71079.29861168202,83832.3683128673,35398.732172981254,50169.870046661774,59923.86621372216,73882.17107348097,35454.78962221723,60372.325807609996,36211.56518690295,35679.019419161144,62250.2503570153,35847.19176686909,49497.18065583002,49833.5253512459,49160.83596041415,36940.31202697068,36491.852433082844,43274.80379063633,42433.942052096645,55915.758593349645,60064.00983681211,64492.54832645447,55579.41389793377,35538.875796071196,40724.18985039928,93614.39320454566,43639.1772106702,83243.76509588951,60204.15345990205,54093.89149318032,53561.345725438514,36183.53646228496,85878.46520998054,62334.33653086927,55887.72986873166,36772.13967926274,35875.220491487074,42349.85587824268,75479.8083767064,36267.62263613893,68893.05809147883,61465.446067711586,67407.53568672539,38818.23657637598,55439.270274843824,41032.50582119716,61409.38861847561,44704.2687461538,88905.56746872343,46105.70497705328,93530.3070306917,38846.265300993975,36155.50773766697,56756.62033188934,88288.93552712764,36435.79498384686,81253.72564801225,45012.584716951686,83383.90871897947,40864.33347348923,36155.50773766697,71163.38478553599,47366.99758486282,88092.73445480171,46498.107121705136,49581.266829684,67715.85165752328,48796.462540380286,42265.7697043887,36267.62263613893,43919.464456850095,37669.05886703841,64744.80684801637,41480.965415085,37108.48437467862,36491.852433082844,40612.074951927316,46357.96349861519,88765.42384563347,53533.31700082053,36127.47901304898,79824.26069249478,38734.15040252201,36912.28330235269,35566.90452068919,36491.852433082844,37528.91524394846,49721.41045277394,39518.954691825726,63231.255718644934,41705.19521202891,57261.137375013146,84645.20132678899,36772.13967926274,89830.51538111707,37164.541823914595,79039.45640319108,57261.137375013146,59895.837489104175,44255.80915226597,42405.91332747865,64828.893021870346,35286.61727450929,35566.90452068919,35454.78962221723,45320.90068774957,36043.39283919501,39939.385561095565,42798.31547213051,36716.08223002676,69453.63258383863,40079.529184185514,36351.708809992895,37080.45565006063,41340.82179199505,41004.477096579176,47423.0550340988,36295.65136075692,38986.408924083924,36519.88115770084,36744.110954644755,87307.93016549801,52103.85204530306,48235.8880480205,36519.88115770084,37248.62799776856,93446.22085683772,76404.75628910004,36351.708809992895,45685.274107783436,36912.28330235269,36856.22585311671,35819.16304225109,36744.110954644755,37192.57054853259,36155.50773766697,57933.8267658449,67239.36333901745,51627.36372679724,38594.006779432064,40948.419647343195,36856.22585311671,35763.10559301512,36239.59391152094,68416.56977297302,42489.999501332626,42433.942052096645,36015.36411457702,36015.36411457702,59699.636416778245,45433.01558622153,35959.30666534104,37977.374837836294,36155.50773766697,44115.66552917602,46301.906049379206,37641.03014242042,61297.27372000365,35903.24921610506,62474.480153959215,35987.33538995903,69649.83365616456,86130.72373154244,37865.25993936434,40331.787705747425,79431.85854784293,61969.9631108354,59895.837489104175,37584.97269318444,79459.88727246091,35426.76089759924,73517.79765344712,45993.59007858133,76376.72756448206,68024.16762832116,63147.169544790966,72761.02208876141,71611.84437942383,48600.261468054356,98098.989143424,41565.051588938964,83299.8225451255,41565.051588938964,65585.66858655606,51767.50734988718,91259.98033663454,36323.68008537491,67884.02400523121,36856.22585311671,45208.785789277616,35146.47365141934,39603.04086567969,40864.33347348923,65669.75476041003,41228.70689352309,51711.449900651205,35594.93324530718,64800.86429725235,37052.42692544264,35707.04814377914,36660.02478079079,35538.875796071196,36631.99605617279,35931.277940723056,40527.98877807335,64352.40470336452,51066.78923443744,63819.85893562272,53757.546797764444,62726.73867552112,35286.61727450929,69761.9485546365,51122.84668367342,39799.24193800562,53589.37445005651,60988.957749205765,93109.87616142185,48067.715700312554,42181.683530534734,67099.2197159275,54290.092565506246,94231.02514614144,83103.62147279957,72704.96463952542,64240.289804892556,48796.462540380286,61801.790763127465,42546.0569505686,35791.13431763311,38369.77698248815,38509.920605578096,35622.96196992517,36575.93860693681,52804.5701607528,63119.14082017298,55551.38517331578,52187.938219157026,75704.0381736503,80412.86390947257,40219.67280727546,75423.75092747042,36575.93860693681,52832.59888537079,61549.532241565554,36631.99605617279,35482.81834683522,60288.23963375602,38117.51846092624,51683.42117603321,41508.99413970298,77329.7042014937,67267.39206363543,36323.68008537491,68192.33997602909,35566.90452068919,62026.02056007138,59335.26299674438,35426.76089759924,89550.22813493718,36968.34075158867,36800.16840388073,73657.94127653708,63763.801486386736,46498.107121705136,58410.31508435072,35286.61727450929,48432.08912034642,51963.70842221311,42938.45909522046,76236.5839413921,81982.47248807998,72396.64866872755,44339.895326119935,35482.81834683522,72480.7348425815,65781.86965888199,37697.0875916564,36744.110954644755,38033.432287072275,60260.21090913803,79095.51385242704,36043.39283919501,61885.87693698143,35763.10559301512,69033.20171456879,76937.30205684184,47563.19865718874,64800.86429725235,84224.77045751916,75339.66475361644,63175.19826940895,69341.51768536668,67799.93783137723,37556.943968566455,37753.14504089238,36828.19712849872,50786.50198825754,74975.29133358257,37388.77162085851,58326.22891049675,41761.252661264894,87363.98761473398,73209.48168264923,40107.55790880351,47591.22738180673,56224.07456414753,77217.58930302176,53309.08720387661,37248.62799776856,38818.23657637598,35426.76089759924,37584.97269318444,67435.56441134337,36183.53646228496,77722.10634614556,69453.63258383863,35791.13431763311,35679.019419161144,35650.99069454316,36043.39283919501,36575.93860693681,36295.65136075692,57765.65441813696,52608.36908842687,45545.130484693495,80160.60538791065,55411.24155022584,36379.73753461089,42546.0569505686,39939.385561095565,43807.34955837813,56476.33308570944,64997.06536957828,79263.68620013498,36660.02478079079,51038.760509819454,36127.47901304898,39743.18448876964,67687.82293290528,77750.13507076356,47815.45717875065,36744.110954644755,46329.9347739972,63763.801486386736,76404.75628910004,36996.36947620666,36323.68008537491,55327.15537637186,59083.004475182475,76937.30205684184,48852.51998961627,35538.875796071196,50954.67433596549,56532.390534945414,36519.88115770084,85654.23541303663,36519.88115770084,51150.87540829141,39518.954691825726,89830.51538111707,79151.57130166303,80272.72028638262,35987.33538995903,76516.87118757202,35594.93324530718,36744.110954644755,54037.83404394434,50169.870046661774,36379.73753461089,36071.421563813004,64212.26108027457,45769.360281637404,80749.20860488844,36267.62263613893,56308.160738001505,37108.48437467862,43106.631442928396,37472.85779471248,36940.31202697068,64856.92174648833,91288.00906125252,72676.93591490743,56392.24691185547,40443.90260421938,36463.82370846486,45292.87196313158,50225.927495897755,86915.52802084616,35959.30666534104,47479.11248333477,68052.19635293915,36127.47901304898,55355.18410098985,36099.45028843099,64744.80684801637,36099.45028843099,43162.68889216437,35398.732172981254,44536.096398445865,45320.90068774957,46217.81987552524,45993.59007858133,35258.588549891305,48600.261468054356,36912.28330235269,83383.90871897947,62866.88229861107,36239.59391152094,40079.529184185514,62698.70995090313,81982.47248807998,51655.392451415224,39350.78234411779,69341.51768536668,38565.97805481408,37388.77162085851,36884.2545777347,35426.76089759924,36519.88115770084,94231.02514614144,91540.26758281444,42349.85587824268,36519.88115770084,50786.50198825754,70883.0975393561,37304.685447004544,44872.44109386174,63091.112095554985,35370.70344836326,60260.21090913803,66903.01864360156,57317.19482424913,80889.35222797838,46217.81987552524,37332.71417162253,60988.957749205765,40668.1324011633,59026.947025946494,46442.04967246916,42882.40164598448,74863.17643511062,75591.92327517836,35763.10559301512,36856.22585311671,40556.01750269134,75704.0381736503,70098.29325005239,68556.71339606296,39967.41428571356,90755.46329351072,62334.33653086927,63035.05464631901,88765.42384563347,44788.35492000777,81225.69692339427,36267.62263613893,69397.57513460264,37641.03014242042,36716.08223002676,84336.88535599111,48067.715700312554,67183.30588978148,92493.2442198261,66566.6739481857,74666.9753627847,66174.27180353385,38481.89188096011,62054.04928468937,35875.220491487074,58326.22891049675,36267.62263613893,61885.87693698143,86242.8386300144,56812.67778112531,57709.59696890098,66370.47287585976,55299.126651753875,68248.39742526508,99500.42537432349,36828.19712849872,70014.20707619842,54121.92021779831,43527.062312198235,36379.73753461089,62866.88229861107,36127.47901304898,37136.51309929661,39771.21321338763,38650.064228668045,36491.852433082844,36463.82370846486,48291.94549725647,54430.236188596195,37669.05886703841,45096.67089080566,65221.29516652219,51178.9041329094,36772.13967926274,39154.58127179186,41452.93669046701,55383.21282560784,84813.37367449694,37584.97269318444,35622.96196992517,53533.31700082053,68556.71339606296,37248.62799776856,37556.943968566455,48740.405091144305,78815.22660624716,60932.900299969784,88513.16532407157,46498.107121705136,37613.00141780243,65389.467514230135,35622.96196992517,35146.47365141934,36491.852433082844,67211.33461439946,74638.9466381667,46329.9347739972,88457.10787483558,104657.71070403358,71836.07417636775,36239.59391152094,85121.68964529483,35510.84707145321,51038.760509819454,57541.424621193044,38005.40356245429,35622.96196992517,76825.1871583699,37472.85779471248,61213.18754614968,44592.15384768184,49777.46790200992,88260.90680250965,55271.09792713588,36603.967331554806,43302.832515254326,48656.31891729034,59054.97575056448,79095.51385242704,36912.28330235269,35454.78962221723,96473.32311558061,38229.6333593982,42798.31547213051,37865.25993936434,36211.56518690295,46357.96349861519,73181.45295803124,41593.08031355696,36071.421563813004,38818.23657637598,37192.57054853259,36744.110954644755,71808.04545174976,36968.34075158867,36603.967331554806,54654.46598554011,37613.00141780243,37220.599273150576,35594.93324530718,68921.08681609682,75928.26797059423,90138.83135191497,65557.63986193808,36519.88115770084,73265.53913188522,43751.29210914216,36716.08223002676,37556.943968566455,36996.36947620666,53337.115928494604,54710.52343477609,36491.852433082844,39967.41428571356,63931.97383409468,35987.33538995903,38397.80570710614,38397.80570710614,66454.55904971375,48908.57743885224,54346.15001474223,73181.45295803124,35314.645999127286,103368.38937160606,36547.909882318825,36015.36411457702,62110.10673392535,42546.0569505686,42770.28674751252,70014.20707619842,61269.24499538566,67996.13890370316,67351.47823748941,53281.05847925862,36351.708809992895,49160.83596041415,36043.39283919501,81225.69692339427,86158.75245616044,35482.81834683522,60372.325807609996,36267.62263613893,76376.72756448206,56448.30436109145,36295.65136075692,48067.715700312554,94287.08259537743,71359.58585786192,35594.93324530718,46077.676252435296,35538.875796071196,62082.078009307355,44984.5559923337,74246.54449351484,35398.732172981254,93474.24958145572,62474.480153959215,35454.78962221723,49637.32427891997,35622.96196992517,68388.54104835502,89858.54410573505,38706.121677904026,56756.62033188934,37024.398200824646,38369.77698248815,46862.480541739,59307.234272126385,56168.01711491155,35314.645999127286,61241.216270767676,87167.78654240805,45264.8432385136,47395.0263094808,42461.97077671463,36688.053505408774,72060.30397331166,36744.110954644755,36772.13967926274,50730.44453902157,43723.263384524165,67379.50696210739,65922.01328197194,35426.76089759924,91259.98033663454,36211.56518690295,79095.51385242704,36744.110954644755,46918.53799097498,37669.05886703841,52776.54143613481,56196.04583952954,38481.89188096011,44283.83787688396,38762.17912714001,44227.78042764798,45741.33155701942,83243.76509588951,37164.541823914595,35650.99069454316,67715.85165752328,61801.790763127465,35398.732172981254,36575.93860693681,89802.4866564991,91400.1239597245,44115.66552917602,37136.51309929661,71780.01672713176,35819.16304225109,43807.34955837813,53477.259551584546,37052.42692544264,36267.62263613893,37388.77162085851,65893.98455735395,36688.053505408774,39042.4663733199,54149.948942416304,46498.107121705136,35735.076868397126,64688.74939878039,75872.21052135824,35482.81834683522,86354.95352848637,41621.109038174945,36323.68008537491,49413.094481976055,63567.60041406081,73377.65403035717,63735.77276176875,43414.94741372628,54149.948942416304,48964.63488808822,63119.14082017298,41088.563270433144,51963.70842221311,37080.45565006063,37949.34611321831,62726.73867552112,65725.81220964601,35426.76089759924,35931.277940723056,82935.44912509163,47254.882686390854,37080.45565006063,41284.76434275907,35482.81834683522,48151.80187416652,37528.91524394846,105750.83096413518,49104.77851117817,41565.051588938964,69509.69003307461,37444.82907009449,35454.78962221723,35650.99069454316,36660.02478079079,63567.60041406081,39322.753619499796,36407.766259228876,85766.35031150858,75928.26797059423,37669.05886703841,39462.897242589745,38874.29402561196,60428.38325684598,40107.55790880351,67519.65058519735,62670.681226285145,65025.09409419627,39855.2993872416,56224.07456414753,40443.90260421938,35847.19176686909,65361.43878961215,54177.97766703429,81842.32886499004,36183.53646228496,36351.708809992895,38706.121677904026,45152.728340041635,50253.95622051574,64828.893021870346,92353.10059673614,43274.80379063633,38902.322750229956,49833.5253512459,39238.66744564583,79768.2032432588,38173.575910162224,37809.20249012836,35679.019419161144,57092.96502730521,37416.800345476506,37500.886519330474,69033.20171456879,57709.59696890098,36688.053505408774,46329.9347739972,36996.36947620666,40275.730256511444,36099.45028843099,36744.110954644755,36435.79498384686,36071.421563813004,57541.424621193044,38622.03550405006,80693.15115565246,35931.277940723056,39238.66744564583,35566.90452068919,36968.34075158867,60176.124735284066,54906.724507102015,44816.38364462576,35202.531100655324,38313.71953325217,35566.90452068919,35258.588549891305,62250.2503570153,78030.42231694344,62782.7961247571,77834.22124461751,59083.004475182475,60988.957749205765,46694.308194031066,51431.16265447131,52944.713783842744,35622.96196992517,98855.76470810972,36351.708809992895,84841.40239911492,85542.12051456465,36323.68008537491,37304.685447004544,87167.78654240805,57205.07992577717,37332.71417162253,40107.55790880351,73742.02745039103,62978.99719708302,58101.99911355284,41873.36755973685,52075.82332068507,37108.48437467862,71023.24116244604,35819.16304225109,37753.14504089238,68388.54104835502,45124.69961542365,94679.48474002928,69425.60385922063,36043.39283919501,48572.23274343637,47142.7677879189,36211.56518690295,48880.54871423425,37164.541823914595,100733.68925751504,57233.10865039516,35454.78962221723,35707.04814377914,37108.48437467862,35398.732172981254,36716.08223002676,40527.98877807335,36351.708809992895,57457.338447339076,83636.16724054137,36575.93860693681,36631.99605617279,99500.42537432349,36015.36411457702,43667.205935288184,71555.78693018784,58298.20018587876,46217.81987552524,77049.41695531382,68304.45487450105,68444.59849759101,53365.14465311259,78142.53721541542,43695.23465990617,57961.85549046288,42658.17184904056,36575.93860693681,47535.16993257075,36211.56518690295,37837.231214746345,36688.053505408774,81029.49585106834,46105.70497705328,66398.50160047776,48235.8880480205,36379.73753461089,82010.50121269797,36603.967331554806,39743.18448876964,45433.01558622153,68500.65594682697,37809.20249012836,43835.37828299613,74218.51576889686,74891.20515972862,58634.54488129464,43695.23465990617,67183.30588978148,38594.006779432064,35875.220491487074,43358.8899644903,43947.49318146808,47338.96886024483,67996.13890370316,37360.742896240525,35650.99069454316,38117.51846092624,35819.16304225109,46470.07839708715,57401.280998103095,71780.01672713176,76544.89991219,70238.43687314235,35763.10559301512,41340.82179199505,78562.96808468524,59111.03319980046,37865.25993936434,52748.51271151682,88737.39512101548,38650.064228668045,51403.13392985332,36716.08223002676,47507.141207952765,61297.27372000365,57317.19482424913,67015.13354207353,46610.2220201771,35819.16304225109,40219.67280727546,42013.5111828268,41621.109038174945,37528.91524394846,35959.30666534104,48796.462540380286,62194.19290777932,45376.95813698555,46077.676252435296,36884.2545777347,44003.55063070406,43863.407007614114,41200.6781689051,39939.385561095565,36239.59391152094,35566.90452068919,36239.59391152094,88204.84935327368,36155.50773766697,35594.93324530718,36127.47901304898,75339.66475361644,44087.63680455803,37641.03014242042,36155.50773766697,36996.36947620666,35538.875796071196,57092.96502730521,35398.732172981254,36631.99605617279,60428.38325684598,46666.27946941307,43078.6027183104,56532.390534945414,40247.70153189346,44900.46981847973,55355.18410098985,39070.49509793789,43919.464456850095,57233.10865039516,47703.34228027869,39238.66744564583,57317.19482424913,82346.84590811384,35538.875796071196,75003.32005820057,40836.30474887123,50253.95622051574,37669.05886703841,41200.6781689051,36688.053505408774,36211.56518690295,35202.531100655324,57877.769316608916,73405.68275497516,36155.50773766697,36660.02478079079,37164.541823914595,35622.96196992517,35510.84707145321,36688.053505408774,47563.19865718874,36015.36411457702,36043.39283919501,66678.78884665766,35931.277940723056,43218.74634140035,36323.68008537491,43078.6027183104,35819.16304225109,38481.89188096011,39350.78234411779,36940.31202697068,35594.93324530718,36800.16840388073,89073.73981643136,98967.87960658169,43667.205935288184,71948.1890748397,59615.55024292428,69846.03472849049,54318.12129012424,40836.30474887123,66762.87502051162,77217.58930302176,36575.93860693681,49805.49662662791,65557.63986193808,40023.47173494953,37136.51309929661,100817.775431369,49945.64024971786,50562.272191313634,52832.59888537079,36267.62263613893,36211.56518690295,36295.65136075692,57261.137375013146,51403.13392985332,79095.51385242704,35342.67472374527,76208.55521677413,36800.16840388073,39883.32811185959,36099.45028843099,65193.266441904205,66230.32925276982,38734.15040252201,78142.53721541542,37416.800345476506,41060.53454581515,63960.002558712666,68052.19635293915,57933.8267658449,35875.220491487074,36267.62263613893,67463.59313596136,59083.004475182475,80693.15115565246,47423.0550340988,88513.16532407157,45629.21665854746,55607.44262255176,42518.02822595061,105722.80223951719,52131.880769921045,37080.45565006063,64268.31852951055,36519.88115770084,64800.86429725235,75423.75092747042,73265.53913188522,47198.82523715487,36043.39283919501,47198.82523715487,55915.758593349645,74106.4008704249,60988.957749205765,52972.74250846074,64352.40470336452,61409.38861847561,60400.35453222798,68556.71339606296,38341.74825787016,81449.92672033818,80889.35222797838,37024.398200824646,42686.20057365855,58914.83212747453,37164.541823914595,37949.34611321831,37949.34611321831,88877.53874410543,81562.04161881014,37332.71417162253,36323.68008537491,35118.444926801356,55523.35644869779,69565.74748231059,38117.51846092624,81449.92672033818,36519.88115770084,77385.76165072969,42574.085675186594,60316.268358374014,38341.74825787016,37865.25993936434,42518.02822595061,35594.93324530718,67379.50696210739,65417.49623884812,66594.70267280369,36996.36947620666,61997.99183545339,73742.02745039103,35482.81834683522,57205.07992577717,37781.173765510364,37220.599273150576,39659.098314915675,53953.747870090374,35622.96196992517,37556.943968566455,52944.713783842744,65978.07073120792,63931.97383409468,67884.02400523121,35679.019419161144,41705.19521202891,35538.875796071196,37837.231214746345,63960.002558712666,39350.78234411779,47815.45717875065,35454.78962221723,57177.05120115918,37556.943968566455,46385.992223233174,70546.75284394022,58550.45870744067,52720.483986898835,63539.57168944282,71836.07417636775,36491.852433082844,105750.83096413518,36435.79498384686,47198.82523715487,42489.999501332626,39098.52382255588,85373.94816685672,38818.23657637598,49188.86468503214,35398.732172981254,65950.04200658992,62278.279081633285,36828.19712849872,56784.649056507325,36351.708809992895,39715.15576415165,43358.8899644903,41172.64944428711,82122.61611116993,39322.753619499796,59979.92366295814,36603.967331554806,43695.23465990617,37641.03014242042,46862.480541739,36295.65136075692,44480.038949209884,74498.80301507676,35959.30666534104,50730.44453902157,100901.86160522298,72368.61994410955,35875.220491487074,36127.47901304898,36071.421563813004,66959.07609283755,54878.69578248403,46217.81987552524,49160.83596041415,78086.47976617943,36575.93860693681,83243.76509588951,42546.0569505686,35847.19176686909,59699.636416778245,35426.76089759924,43695.23465990617,41340.82179199505,67267.39206363543,38397.80570710614,37136.51309929661,71107.32733630002,50702.415814403575,40892.362198107214,41508.99413970298,65585.66858655606,51823.56479912317,36491.852433082844,37164.541823914595,65669.75476041003,41817.31011050087,38229.6333593982,35398.732172981254,46890.509266356996,55551.38517331578,52860.62760998878,60035.98111219412,36127.47901304898,35847.19176686909,35931.277940723056,84028.56938519323,52131.880769921045,35791.13431763311,58045.94166431685,35538.875796071196,46077.676252435296,57765.65441813696,68024.16762832116,38846.265300993975,36519.88115770084,77329.7042014937,38257.66208401619,83467.99489283343,35875.220491487074,36856.22585311671,44367.92405073793,58101.99911355284,54430.236188596195,85205.77581914878,48880.54871423425,41452.93669046701,60260.21090913803,36884.2545777347,36968.34075158867,37108.48437467862,56616.47670879938,36295.65136075692,79431.85854784293,77834.22124461751,42405.91332747865,79908.34686634876,93586.36447992768,62474.480153959215,77946.33614308949,37276.65672238656,41817.31011050087,35987.33538995903,46301.906049379206,36968.34075158867,79039.45640319108,38397.80570710614,36127.47901304898,35258.588549891305,43499.03358758025,36015.36411457702,84140.68428366518,57821.71186737294,63035.05464631901,67407.53568672539,54262.06384088826,71948.1890748397,35566.90452068919,35847.19176686909,36856.22585311671,54822.63833324805,35679.019419161144,55887.72986873166,35875.220491487074,82486.9895312038,65249.323891140186,36996.36947620666,36575.93860693681,53477.259551584546,37865.25993936434,39266.696170263815,69173.34533765874,42798.31547213051,55859.70114411367,42377.884602860664,95436.26030471499,77750.13507076356,36912.28330235269,79740.17451864082,36772.13967926274,48908.57743885224,64884.95047110632,35847.19176686909,40892.362198107214,59559.492793688296,35286.61727450929,91988.72717670228,90783.49201812872,82234.7310096419,44059.60807994004,36912.28330235269,42041.53990744479,36491.852433082844,61997.99183545339,72172.41887178362,36884.2545777347,36660.02478079079,36519.88115770084,75788.12434750429,50758.47326363956,77133.50312916777,50786.50198825754,66510.61649894972,45012.584716951686,36155.50773766697,40135.586633421495,47871.51462798663,39042.4663733199,73545.8263780651,57177.05120115918,73713.99872577304,35763.10559301512,63931.97383409468,59699.636416778245,97510.38592644624,65837.92710811796,45320.90068774957,36323.68008537491,48067.715700312554,36211.56518690295,36043.39283919501,37248.62799776856,39659.098314915675,36239.59391152094,53589.37445005651,52412.16801610094,36323.68008537491,47899.54335260462,65053.122818814256,36519.88115770084,62334.33653086927,35538.875796071196,67183.30588978148,36183.53646228496,41256.73561814108,37809.20249012836,40836.30474887123,62110.10673392535,67631.7654836693,35650.99069454316,42041.53990744479,39603.04086567969,42518.02822595061,37837.231214746345,47899.54335260462,36295.65136075692,39014.43764870191,72480.7348425815,60680.64177840788,43891.4357322321,42069.56863206278,49048.72106194219,38313.71953325217,70014.20707619842,62138.135458543344,37108.48437467862,36716.08223002676,73713.99872577304,37332.71417162253,42125.62608129876,36183.53646228496,46133.73370167127,37108.48437467862,60260.21090913803,58045.94166431685,68024.16762832116,88821.48129486945,40163.61535803948,47114.739063300905,35931.277940723056,60400.35453222798,46638.250744795085,36211.56518690295,79487.9159970789,85345.91944223874,36099.45028843099,67015.13354207353,60596.55560455391,77077.4456799318,72480.7348425815,35735.076868397126,56364.21818723748,72284.53377025557,49693.38172815595,35230.55982527331,61689.67586465551,36884.2545777347,38650.064228668045,59699.636416778245,67183.30588978148,36015.36411457702,45853.44645549137,75003.32005820057,80749.20860488844,39827.27066262361,37753.14504089238,41004.477096579176,61016.98647382375,41116.59199505113,39855.2993872416,37556.943968566455,64464.51960183648,42686.20057365855,51431.16265447131,81562.04161881014,39434.86851797176,63679.71531253277,35959.30666534104,64184.23235565658,46049.6475278173,50590.30091593162,35230.55982527331,36912.28330235269,48600.261468054356,35931.277940723056,73237.51040726723,35342.67472374527,74246.54449351484,79095.51385242704,72060.30397331166,69089.25916380476,37865.25993936434,37332.71417162253,78030.42231694344,51262.99030676337,60988.957749205765,35370.70344836326,46862.480541739,61885.87693698143,78562.96808468524,53365.14465311259,36519.88115770084,35538.875796071196,45264.8432385136,98239.13276651395,36155.50773766697,64380.43342798251,36323.68008537491,54177.97766703429,36071.421563813004,36183.53646228496,58382.28635973273,77441.81909996567,64100.146181802615,79712.14579402283,86214.80990539643,35931.277940723056,39154.58127179186,61493.47479232958,35763.10559301512,47591.22738180673,36267.62263613893,82683.19060352971,57961.85549046288,45685.274107783436,94567.36984155732,92969.73253833191,36996.36947620666,55495.327724079805,57429.30972272108,41593.08031355696,37220.599273150576,82206.7022850239,42742.25802289453,49188.86468503214,36884.2545777347,36351.708809992895,46105.70497705328,36071.421563813004,43555.09103681623,62334.33653086927,63791.83021100472,36940.31202697068,36267.62263613893,36407.766259228876,70378.58049623229,76741.10098451593,78815.22660624716,85850.43648536256,68556.71339606296,46638.250744795085,37360.742896240525,36295.65136075692,38818.23657637598,35566.90452068919,36940.31202697068,60456.41198146396,81954.44376346198,83608.13851592338,68360.51232373703,35650.99069454316,68108.25380217512,70855.0688147381,72424.67739334553,55971.816042585626,37528.91524394846,46582.193295559104,36211.56518690295,36744.110954644755,60232.18218452005,36043.39283919501,47731.371004896675,56700.56288265335,35398.732172981254,36043.39283919501,77357.7329261117,36183.53646228496,36155.50773766697,65501.58241270209,39518.954691825726,70630.83901779419,67855.99528061322,57849.74059199093,37052.42692544264,38734.15040252201,39378.81106873578,50702.415814403575,72424.67739334553,93614.39320454566,47955.6008018406,66650.76012203968,35538.875796071196,45545.130484693495,78254.65211388736,38846.265300993975,63343.37061711689,84477.02897908105,36239.59391152094,39490.92596720773,39014.43764870191,83580.10979130538,58045.94166431685,66874.98991898359,75031.34878281856,73405.68275497516,62502.5088785772,36211.56518690295,43891.4357322321,47142.7677879189,40527.98877807335,45040.61344156967,51122.84668367342,37444.82907009449,36744.110954644755,35735.076868397126,40387.8451549834,37809.20249012836,96949.81143408644,38902.322750229956,46610.2220201771,35594.93324530718,42349.85587824268,45993.59007858133,39098.52382255588,47395.0263094808,89858.54410573505,39855.2993872416,97117.98378179438,82374.87463273184,35679.019419161144,57653.539519665006,60064.00983681211,48544.204018818375,46554.16457094112,44255.80915226597,35679.019419161144,35342.67472374527,38201.60463478021,35426.76089759924,37556.943968566455,36435.79498384686,76012.3541444482,47338.96886024483,42910.430370602466,55915.758593349645,87392.01633935198,39603.04086567969,89382.05578722924,58494.401258204685,81365.84054648422,35622.96196992517,36828.19712849872,36015.36411457702,35566.90452068919,35594.93324530718,37164.541823914595,37192.57054853259,42405.91332747865,67912.05272984921,71555.78693018784,36267.62263613893,35679.019419161144,36267.62263613893,59475.40661983433,37781.173765510364,61045.015198441746,59307.234272126385,36239.59391152094,70294.4943223783,46582.193295559104,45965.561353963334,66062.15690506189,52888.65633460677,37192.57054853259,81646.1277926641,54374.17873936021,73994.28597195295,36211.56518690295,36379.73753461089,48067.715700312554,41228.70689352309,39406.83979335376,68921.08681609682,79123.54257704504,68837.00064224286,36183.53646228496,49749.439177391934,61101.07264767772,36968.34075158867,36491.852433082844,38594.006779432064,80244.69156176463,63960.002558712666,65473.5536880841,55187.01175328191,38818.23657637598,36295.65136075692,69846.03472849049,36127.47901304898,67884.02400523121,62810.82484937509,37781.173765510364,82066.55866193396,37725.11631627439,36323.68008537491,49525.20938044801,55018.83940557398,36015.36411457702,53281.05847925862,75760.09562288629,51851.593523741154,35707.04814377914,37837.231214746345,37697.0875916564,40780.24729963526,39911.35683647758,47591.22738180673,47114.739063300905,73265.53913188522,78815.22660624716,63035.05464631901,61913.90566159942,77525.90527381963,36547.909882318825,35594.93324530718,46189.79115090725,35707.04814377914,44788.35492000777,69061.23043918677,59475.40661983433,36099.45028843099,73293.56785650321,42377.884602860664,92521.27294444408,73545.8263780651,36239.59391152094,62334.33653086927,36407.766259228876,70406.60922085028,37080.45565006063,36575.93860693681,38902.322750229956,48908.57743885224,42433.942052096645,91203.92288739857,52215.96694377501,63595.6291386788,35594.93324530718,38706.121677904026,47226.85396177287,63371.39934173488,36575.93860693681,64072.11745718462,79067.48512780906,35763.10559301512,38425.83443172413,35342.67472374527,38678.09295328603,55495.327724079805,36828.19712849872,80693.15115565246,52019.76587144909,86046.63755768847,70911.12626397409,35202.531100655324,36183.53646228496,89101.76854104934,35202.531100655324,37865.25993936434,67743.88038214126,46049.6475278173,42209.71225515273,35679.019419161144,40163.61535803948,40023.47173494953,35594.93324530718,36211.56518690295,37613.00141780243,37248.62799776856,57345.223548867114,72368.61994410955,36043.39283919501,36688.053505408774,43386.91868910829,37444.82907009449,36491.852433082844,84925.4885729689,36884.2545777347,42209.71225515273,35847.19176686909,36828.19712849872,39855.2993872416,35763.10559301512,55467.29899946181,42658.17184904056,82655.16187891173,43723.263384524165,46582.193295559104,78843.25533086515,35791.13431763311,37613.00141780243,72480.7348425815,65585.66858655606,76432.78501371804,36491.852433082844,50898.616886729505,68584.74212068095,59447.37789521634,68977.14426533281,55467.29899946181,92240.98569826418,88036.67700556574,46862.480541739,51094.817959055435,42181.683530534734,36547.909882318825,50169.870046661774,38481.89188096011,36912.28330235269,36099.45028843099,63455.48551558885,60400.35453222798,78871.28405548313,67743.88038214126,36267.62263613893,81057.52457568632,36631.99605617279,35454.78962221723,86915.52802084616,77806.19251999953,35959.30666534104,38930.35147484794,50281.984945133736,48992.66361270621,36688.053505408774,37949.34611321831,54710.52343477609,46862.480541739,58774.68850438458,37360.742896240525,40556.01750269134,67127.24844054549,36491.852433082844,36183.53646228496,36463.82370846486,49581.266829684,80468.92135870855,36239.59391152094,75199.5211305265,35875.220491487074,35426.76089759924,36435.79498384686,69565.74748231059,35398.732172981254,46610.2220201771,48151.80187416652,75283.60730438046,36463.82370846486,36407.766259228876,54009.80531932635,51403.13392985332,53281.05847925862,48095.74442493054,82038.52993731597,36379.73753461089,37332.71417162253,64380.43342798251,35594.93324530718,35819.16304225109,72564.82101643548,47423.0550340988,69761.9485546365,58606.51615667665,39799.24193800562],\"type\":\"scatter\",\"hovertemplate\":\"Spending: %{x} \\u003cbr\\u003eIncome: %{y}\"}],                        {\"template\":{\"data\":{\"histogram2dcontour\":[{\"type\":\"histogram2dcontour\",\"colorbar\":{\"outlinewidth\":0,\"ticks\":\"\"},\"colorscale\":[[0.0,\"#0d0887\"],[0.1111111111111111,\"#46039f\"],[0.2222222222222222,\"#7201a8\"],[0.3333333333333333,\"#9c179e\"],[0.4444444444444444,\"#bd3786\"],[0.5555555555555556,\"#d8576b\"],[0.6666666666666666,\"#ed7953\"],[0.7777777777777778,\"#fb9f3a\"],[0.8888888888888888,\"#fdca26\"],[1.0,\"#f0f921\"]]}],\"choropleth\":[{\"type\":\"choropleth\",\"colorbar\":{\"outlinewidth\":0,\"ticks\":\"\"}}],\"histogram2d\":[{\"type\":\"histogram2d\",\"colorbar\":{\"outlinewidth\":0,\"ticks\":\"\"},\"colorscale\":[[0.0,\"#0d0887\"],[0.1111111111111111,\"#46039f\"],[0.2222222222222222,\"#7201a8\"],[0.3333333333333333,\"#9c179e\"],[0.4444444444444444,\"#bd3786\"],[0.5555555555555556,\"#d8576b\"],[0.6666666666666666,\"#ed7953\"],[0.7777777777777778,\"#fb9f3a\"],[0.8888888888888888,\"#fdca26\"],[1.0,\"#f0f921\"]]}],\"heatmap\":[{\"type\":\"heatmap\",\"colorbar\":{\"outlinewidth\":0,\"ticks\":\"\"},\"colorscale\":[[0.0,\"#0d0887\"],[0.1111111111111111,\"#46039f\"],[0.2222222222222222,\"#7201a8\"],[0.3333333333333333,\"#9c179e\"],[0.4444444444444444,\"#bd3786\"],[0.5555555555555556,\"#d8576b\"],[0.6666666666666666,\"#ed7953\"],[0.7777777777777778,\"#fb9f3a\"],[0.8888888888888888,\"#fdca26\"],[1.0,\"#f0f921\"]]}],\"heatmapgl\":[{\"type\":\"heatmapgl\",\"colorbar\":{\"outlinewidth\":0,\"ticks\":\"\"},\"colorscale\":[[0.0,\"#0d0887\"],[0.1111111111111111,\"#46039f\"],[0.2222222222222222,\"#7201a8\"],[0.3333333333333333,\"#9c179e\"],[0.4444444444444444,\"#bd3786\"],[0.5555555555555556,\"#d8576b\"],[0.6666666666666666,\"#ed7953\"],[0.7777777777777778,\"#fb9f3a\"],[0.8888888888888888,\"#fdca26\"],[1.0,\"#f0f921\"]]}],\"contourcarpet\":[{\"type\":\"contourcarpet\",\"colorbar\":{\"outlinewidth\":0,\"ticks\":\"\"}}],\"contour\":[{\"type\":\"contour\",\"colorbar\":{\"outlinewidth\":0,\"ticks\":\"\"},\"colorscale\":[[0.0,\"#0d0887\"],[0.1111111111111111,\"#46039f\"],[0.2222222222222222,\"#7201a8\"],[0.3333333333333333,\"#9c179e\"],[0.4444444444444444,\"#bd3786\"],[0.5555555555555556,\"#d8576b\"],[0.6666666666666666,\"#ed7953\"],[0.7777777777777778,\"#fb9f3a\"],[0.8888888888888888,\"#fdca26\"],[1.0,\"#f0f921\"]]}],\"surface\":[{\"type\":\"surface\",\"colorbar\":{\"outlinewidth\":0,\"ticks\":\"\"},\"colorscale\":[[0.0,\"#0d0887\"],[0.1111111111111111,\"#46039f\"],[0.2222222222222222,\"#7201a8\"],[0.3333333333333333,\"#9c179e\"],[0.4444444444444444,\"#bd3786\"],[0.5555555555555556,\"#d8576b\"],[0.6666666666666666,\"#ed7953\"],[0.7777777777777778,\"#fb9f3a\"],[0.8888888888888888,\"#fdca26\"],[1.0,\"#f0f921\"]]}],\"mesh3d\":[{\"type\":\"mesh3d\",\"colorbar\":{\"outlinewidth\":0,\"ticks\":\"\"}}],\"scatter\":[{\"fillpattern\":{\"fillmode\":\"overlay\",\"size\":10,\"solidity\":0.2},\"type\":\"scatter\"}],\"parcoords\":[{\"type\":\"parcoords\",\"line\":{\"colorbar\":{\"outlinewidth\":0,\"ticks\":\"\"}}}],\"scatterpolargl\":[{\"type\":\"scatterpolargl\",\"marker\":{\"colorbar\":{\"outlinewidth\":0,\"ticks\":\"\"}}}],\"bar\":[{\"error_x\":{\"color\":\"#2a3f5f\"},\"error_y\":{\"color\":\"#2a3f5f\"},\"marker\":{\"line\":{\"color\":\"#E5ECF6\",\"width\":0.5},\"pattern\":{\"fillmode\":\"overlay\",\"size\":10,\"solidity\":0.2}},\"type\":\"bar\"}],\"scattergeo\":[{\"type\":\"scattergeo\",\"marker\":{\"colorbar\":{\"outlinewidth\":0,\"ticks\":\"\"}}}],\"scatterpolar\":[{\"type\":\"scatterpolar\",\"marker\":{\"colorbar\":{\"outlinewidth\":0,\"ticks\":\"\"}}}],\"histogram\":[{\"marker\":{\"pattern\":{\"fillmode\":\"overlay\",\"size\":10,\"solidity\":0.2}},\"type\":\"histogram\"}],\"scattergl\":[{\"type\":\"scattergl\",\"marker\":{\"colorbar\":{\"outlinewidth\":0,\"ticks\":\"\"}}}],\"scatter3d\":[{\"type\":\"scatter3d\",\"line\":{\"colorbar\":{\"outlinewidth\":0,\"ticks\":\"\"}},\"marker\":{\"colorbar\":{\"outlinewidth\":0,\"ticks\":\"\"}}}],\"scattermapbox\":[{\"type\":\"scattermapbox\",\"marker\":{\"colorbar\":{\"outlinewidth\":0,\"ticks\":\"\"}}}],\"scatterternary\":[{\"type\":\"scatterternary\",\"marker\":{\"colorbar\":{\"outlinewidth\":0,\"ticks\":\"\"}}}],\"scattercarpet\":[{\"type\":\"scattercarpet\",\"marker\":{\"colorbar\":{\"outlinewidth\":0,\"ticks\":\"\"}}}],\"carpet\":[{\"aaxis\":{\"endlinecolor\":\"#2a3f5f\",\"gridcolor\":\"white\",\"linecolor\":\"white\",\"minorgridcolor\":\"white\",\"startlinecolor\":\"#2a3f5f\"},\"baxis\":{\"endlinecolor\":\"#2a3f5f\",\"gridcolor\":\"white\",\"linecolor\":\"white\",\"minorgridcolor\":\"white\",\"startlinecolor\":\"#2a3f5f\"},\"type\":\"carpet\"}],\"table\":[{\"cells\":{\"fill\":{\"color\":\"#EBF0F8\"},\"line\":{\"color\":\"white\"}},\"header\":{\"fill\":{\"color\":\"#C8D4E3\"},\"line\":{\"color\":\"white\"}},\"type\":\"table\"}],\"barpolar\":[{\"marker\":{\"line\":{\"color\":\"#E5ECF6\",\"width\":0.5},\"pattern\":{\"fillmode\":\"overlay\",\"size\":10,\"solidity\":0.2}},\"type\":\"barpolar\"}],\"pie\":[{\"automargin\":true,\"type\":\"pie\"}]},\"layout\":{\"autotypenumbers\":\"strict\",\"colorway\":[\"#636efa\",\"#EF553B\",\"#00cc96\",\"#ab63fa\",\"#FFA15A\",\"#19d3f3\",\"#FF6692\",\"#B6E880\",\"#FF97FF\",\"#FECB52\"],\"font\":{\"color\":\"#2a3f5f\"},\"hovermode\":\"closest\",\"hoverlabel\":{\"align\":\"left\"},\"paper_bgcolor\":\"white\",\"plot_bgcolor\":\"#E5ECF6\",\"polar\":{\"bgcolor\":\"#E5ECF6\",\"angularaxis\":{\"gridcolor\":\"white\",\"linecolor\":\"white\",\"ticks\":\"\"},\"radialaxis\":{\"gridcolor\":\"white\",\"linecolor\":\"white\",\"ticks\":\"\"}},\"ternary\":{\"bgcolor\":\"#E5ECF6\",\"aaxis\":{\"gridcolor\":\"white\",\"linecolor\":\"white\",\"ticks\":\"\"},\"baxis\":{\"gridcolor\":\"white\",\"linecolor\":\"white\",\"ticks\":\"\"},\"caxis\":{\"gridcolor\":\"white\",\"linecolor\":\"white\",\"ticks\":\"\"}},\"coloraxis\":{\"colorbar\":{\"outlinewidth\":0,\"ticks\":\"\"}},\"colorscale\":{\"sequential\":[[0.0,\"#0d0887\"],[0.1111111111111111,\"#46039f\"],[0.2222222222222222,\"#7201a8\"],[0.3333333333333333,\"#9c179e\"],[0.4444444444444444,\"#bd3786\"],[0.5555555555555556,\"#d8576b\"],[0.6666666666666666,\"#ed7953\"],[0.7777777777777778,\"#fb9f3a\"],[0.8888888888888888,\"#fdca26\"],[1.0,\"#f0f921\"]],\"sequentialminus\":[[0.0,\"#0d0887\"],[0.1111111111111111,\"#46039f\"],[0.2222222222222222,\"#7201a8\"],[0.3333333333333333,\"#9c179e\"],[0.4444444444444444,\"#bd3786\"],[0.5555555555555556,\"#d8576b\"],[0.6666666666666666,\"#ed7953\"],[0.7777777777777778,\"#fb9f3a\"],[0.8888888888888888,\"#fdca26\"],[1.0,\"#f0f921\"]],\"diverging\":[[0,\"#8e0152\"],[0.1,\"#c51b7d\"],[0.2,\"#de77ae\"],[0.3,\"#f1b6da\"],[0.4,\"#fde0ef\"],[0.5,\"#f7f7f7\"],[0.6,\"#e6f5d0\"],[0.7,\"#b8e186\"],[0.8,\"#7fbc41\"],[0.9,\"#4d9221\"],[1,\"#276419\"]]},\"xaxis\":{\"gridcolor\":\"white\",\"linecolor\":\"white\",\"ticks\":\"\",\"title\":{\"standoff\":15},\"zerolinecolor\":\"white\",\"automargin\":true,\"zerolinewidth\":2},\"yaxis\":{\"gridcolor\":\"white\",\"linecolor\":\"white\",\"ticks\":\"\",\"title\":{\"standoff\":15},\"zerolinecolor\":\"white\",\"automargin\":true,\"zerolinewidth\":2},\"scene\":{\"xaxis\":{\"backgroundcolor\":\"#E5ECF6\",\"gridcolor\":\"white\",\"linecolor\":\"white\",\"showbackground\":true,\"ticks\":\"\",\"zerolinecolor\":\"white\",\"gridwidth\":2},\"yaxis\":{\"backgroundcolor\":\"#E5ECF6\",\"gridcolor\":\"white\",\"linecolor\":\"white\",\"showbackground\":true,\"ticks\":\"\",\"zerolinecolor\":\"white\",\"gridwidth\":2},\"zaxis\":{\"backgroundcolor\":\"#E5ECF6\",\"gridcolor\":\"white\",\"linecolor\":\"white\",\"showbackground\":true,\"ticks\":\"\",\"zerolinecolor\":\"white\",\"gridwidth\":2}},\"shapedefaults\":{\"line\":{\"color\":\"#2a3f5f\"}},\"annotationdefaults\":{\"arrowcolor\":\"#2a3f5f\",\"arrowhead\":0,\"arrowwidth\":1},\"geo\":{\"bgcolor\":\"white\",\"landcolor\":\"#E5ECF6\",\"subunitcolor\":\"white\",\"showland\":true,\"showlakes\":true,\"lakecolor\":\"white\"},\"title\":{\"x\":0.05},\"mapbox\":{\"style\":\"light\"}}}},                        {\"responsive\": true}                    ).then(function(){\n",
              "                            \n",
              "var gd = document.getElementById('e1a691b9-5118-4ed8-9dbb-a7d518f4b663');\n",
              "var x = new MutationObserver(function (mutations, observer) {{\n",
              "        var display = window.getComputedStyle(gd).display;\n",
              "        if (!display || display === 'none') {{\n",
              "            console.log([gd, 'removed!']);\n",
              "            Plotly.purge(gd);\n",
              "            observer.disconnect();\n",
              "        }}\n",
              "}});\n",
              "\n",
              "// Listen for the removal of the full notebook cells\n",
              "var notebookContainer = gd.closest('#notebook-container');\n",
              "if (notebookContainer) {{\n",
              "    x.observe(notebookContainer, {childList: true});\n",
              "}}\n",
              "\n",
              "// Listen for the clearing of the current output cell\n",
              "var outputEl = gd.closest('.output');\n",
              "if (outputEl) {{\n",
              "    x.observe(outputEl, {childList: true});\n",
              "}}\n",
              "\n",
              "                        })                };                            </script>        </div>\n",
              "</body>\n",
              "</html>"
            ]
          },
          "metadata": {}
        }
      ]
    },
    {
      "cell_type": "markdown",
      "source": [
        "Higher spending seems positively correlated with higher income\n",
        "\n",
        "We will verify later with a statistical test if the correlation between the annual income and the amount of spending is statistically significant"
      ],
      "metadata": {
        "id": "j1-hxrgubtiw"
      }
    },
    {
      "cell_type": "markdown",
      "source": [
        "### Diploma distribution by Relationship Status"
      ],
      "metadata": {
        "id": "4TN5VK5Jcp54"
      }
    },
    {
      "cell_type": "code",
      "source": [
        "df = data[['Education','Marital_Situation']]\n",
        "\n",
        "fig = px.sunburst(df, path=['Marital_Situation','Education'],color_discrete_sequence=px.colors.diverging.Spectral)\n",
        "fig.show()"
      ],
      "metadata": {
        "colab": {
          "base_uri": "https://localhost:8080/",
          "height": 542
        },
        "id": "BgRTWhngb0w1",
        "outputId": "ab6e32d2-4161-4edb-da82-3361c1ebb8b2"
      },
      "execution_count": null,
      "outputs": [
        {
          "output_type": "display_data",
          "data": {
            "text/html": [
              "<html>\n",
              "<head><meta charset=\"utf-8\" /></head>\n",
              "<body>\n",
              "    <div>            <script src=\"https://cdnjs.cloudflare.com/ajax/libs/mathjax/2.7.5/MathJax.js?config=TeX-AMS-MML_SVG\"></script><script type=\"text/javascript\">if (window.MathJax && window.MathJax.Hub && window.MathJax.Hub.Config) {window.MathJax.Hub.Config({SVG: {font: \"STIX-Web\"}});}</script>                <script type=\"text/javascript\">window.PlotlyConfig = {MathJaxConfig: 'local'};</script>\n",
              "        <script charset=\"utf-8\" src=\"https://cdn.plot.ly/plotly-2.24.1.min.js\"></script>                <div id=\"26f24dda-b046-42c3-93fc-150fa41e56b1\" class=\"plotly-graph-div\" style=\"height:525px; width:100%;\"></div>            <script type=\"text/javascript\">                                    window.PLOTLYENV=window.PLOTLYENV || {};                                    if (document.getElementById(\"26f24dda-b046-42c3-93fc-150fa41e56b1\")) {                    Plotly.newPlot(                        \"26f24dda-b046-42c3-93fc-150fa41e56b1\",                        [{\"branchvalues\":\"total\",\"domain\":{\"x\":[0.0,1.0],\"y\":[0.0,1.0]},\"hovertemplate\":\"labels=%{label}\\u003cbr\\u003ecount=%{value}\\u003cbr\\u003eparent=%{parent}\\u003cbr\\u003eid=%{id}\\u003cextra\\u003e\\u003c\\u002fextra\\u003e\",\"ids\":[\"Alone\\u002f2n Cycle\",\"In relationship\\u002f2n Cycle\",\"Alone\\u002fBasic\",\"In relationship\\u002fBasic\",\"Alone\\u002fGraduation\",\"In relationship\\u002fGraduation\",\"Alone\\u002fMaster\",\"In relationship\\u002fMaster\",\"Alone\\u002fPhD\",\"In relationship\\u002fPhD\",\"Alone\",\"In relationship\"],\"labels\":[\"2n Cycle\",\"2n Cycle\",\"Basic\",\"Basic\",\"Graduation\",\"Graduation\",\"Master\",\"Master\",\"PhD\",\"PhD\",\"Alone\",\"In relationship\"],\"name\":\"\",\"parents\":[\"Alone\",\"In relationship\",\"Alone\",\"In relationship\",\"Alone\",\"In relationship\",\"Alone\",\"In relationship\",\"Alone\",\"In relationship\",\"\",\"\"],\"values\":[65,138,20,34,408,718,126,244,177,309,796,1443],\"type\":\"sunburst\"}],                        {\"template\":{\"data\":{\"histogram2dcontour\":[{\"type\":\"histogram2dcontour\",\"colorbar\":{\"outlinewidth\":0,\"ticks\":\"\"},\"colorscale\":[[0.0,\"#0d0887\"],[0.1111111111111111,\"#46039f\"],[0.2222222222222222,\"#7201a8\"],[0.3333333333333333,\"#9c179e\"],[0.4444444444444444,\"#bd3786\"],[0.5555555555555556,\"#d8576b\"],[0.6666666666666666,\"#ed7953\"],[0.7777777777777778,\"#fb9f3a\"],[0.8888888888888888,\"#fdca26\"],[1.0,\"#f0f921\"]]}],\"choropleth\":[{\"type\":\"choropleth\",\"colorbar\":{\"outlinewidth\":0,\"ticks\":\"\"}}],\"histogram2d\":[{\"type\":\"histogram2d\",\"colorbar\":{\"outlinewidth\":0,\"ticks\":\"\"},\"colorscale\":[[0.0,\"#0d0887\"],[0.1111111111111111,\"#46039f\"],[0.2222222222222222,\"#7201a8\"],[0.3333333333333333,\"#9c179e\"],[0.4444444444444444,\"#bd3786\"],[0.5555555555555556,\"#d8576b\"],[0.6666666666666666,\"#ed7953\"],[0.7777777777777778,\"#fb9f3a\"],[0.8888888888888888,\"#fdca26\"],[1.0,\"#f0f921\"]]}],\"heatmap\":[{\"type\":\"heatmap\",\"colorbar\":{\"outlinewidth\":0,\"ticks\":\"\"},\"colorscale\":[[0.0,\"#0d0887\"],[0.1111111111111111,\"#46039f\"],[0.2222222222222222,\"#7201a8\"],[0.3333333333333333,\"#9c179e\"],[0.4444444444444444,\"#bd3786\"],[0.5555555555555556,\"#d8576b\"],[0.6666666666666666,\"#ed7953\"],[0.7777777777777778,\"#fb9f3a\"],[0.8888888888888888,\"#fdca26\"],[1.0,\"#f0f921\"]]}],\"heatmapgl\":[{\"type\":\"heatmapgl\",\"colorbar\":{\"outlinewidth\":0,\"ticks\":\"\"},\"colorscale\":[[0.0,\"#0d0887\"],[0.1111111111111111,\"#46039f\"],[0.2222222222222222,\"#7201a8\"],[0.3333333333333333,\"#9c179e\"],[0.4444444444444444,\"#bd3786\"],[0.5555555555555556,\"#d8576b\"],[0.6666666666666666,\"#ed7953\"],[0.7777777777777778,\"#fb9f3a\"],[0.8888888888888888,\"#fdca26\"],[1.0,\"#f0f921\"]]}],\"contourcarpet\":[{\"type\":\"contourcarpet\",\"colorbar\":{\"outlinewidth\":0,\"ticks\":\"\"}}],\"contour\":[{\"type\":\"contour\",\"colorbar\":{\"outlinewidth\":0,\"ticks\":\"\"},\"colorscale\":[[0.0,\"#0d0887\"],[0.1111111111111111,\"#46039f\"],[0.2222222222222222,\"#7201a8\"],[0.3333333333333333,\"#9c179e\"],[0.4444444444444444,\"#bd3786\"],[0.5555555555555556,\"#d8576b\"],[0.6666666666666666,\"#ed7953\"],[0.7777777777777778,\"#fb9f3a\"],[0.8888888888888888,\"#fdca26\"],[1.0,\"#f0f921\"]]}],\"surface\":[{\"type\":\"surface\",\"colorbar\":{\"outlinewidth\":0,\"ticks\":\"\"},\"colorscale\":[[0.0,\"#0d0887\"],[0.1111111111111111,\"#46039f\"],[0.2222222222222222,\"#7201a8\"],[0.3333333333333333,\"#9c179e\"],[0.4444444444444444,\"#bd3786\"],[0.5555555555555556,\"#d8576b\"],[0.6666666666666666,\"#ed7953\"],[0.7777777777777778,\"#fb9f3a\"],[0.8888888888888888,\"#fdca26\"],[1.0,\"#f0f921\"]]}],\"mesh3d\":[{\"type\":\"mesh3d\",\"colorbar\":{\"outlinewidth\":0,\"ticks\":\"\"}}],\"scatter\":[{\"fillpattern\":{\"fillmode\":\"overlay\",\"size\":10,\"solidity\":0.2},\"type\":\"scatter\"}],\"parcoords\":[{\"type\":\"parcoords\",\"line\":{\"colorbar\":{\"outlinewidth\":0,\"ticks\":\"\"}}}],\"scatterpolargl\":[{\"type\":\"scatterpolargl\",\"marker\":{\"colorbar\":{\"outlinewidth\":0,\"ticks\":\"\"}}}],\"bar\":[{\"error_x\":{\"color\":\"#2a3f5f\"},\"error_y\":{\"color\":\"#2a3f5f\"},\"marker\":{\"line\":{\"color\":\"#E5ECF6\",\"width\":0.5},\"pattern\":{\"fillmode\":\"overlay\",\"size\":10,\"solidity\":0.2}},\"type\":\"bar\"}],\"scattergeo\":[{\"type\":\"scattergeo\",\"marker\":{\"colorbar\":{\"outlinewidth\":0,\"ticks\":\"\"}}}],\"scatterpolar\":[{\"type\":\"scatterpolar\",\"marker\":{\"colorbar\":{\"outlinewidth\":0,\"ticks\":\"\"}}}],\"histogram\":[{\"marker\":{\"pattern\":{\"fillmode\":\"overlay\",\"size\":10,\"solidity\":0.2}},\"type\":\"histogram\"}],\"scattergl\":[{\"type\":\"scattergl\",\"marker\":{\"colorbar\":{\"outlinewidth\":0,\"ticks\":\"\"}}}],\"scatter3d\":[{\"type\":\"scatter3d\",\"line\":{\"colorbar\":{\"outlinewidth\":0,\"ticks\":\"\"}},\"marker\":{\"colorbar\":{\"outlinewidth\":0,\"ticks\":\"\"}}}],\"scattermapbox\":[{\"type\":\"scattermapbox\",\"marker\":{\"colorbar\":{\"outlinewidth\":0,\"ticks\":\"\"}}}],\"scatterternary\":[{\"type\":\"scatterternary\",\"marker\":{\"colorbar\":{\"outlinewidth\":0,\"ticks\":\"\"}}}],\"scattercarpet\":[{\"type\":\"scattercarpet\",\"marker\":{\"colorbar\":{\"outlinewidth\":0,\"ticks\":\"\"}}}],\"carpet\":[{\"aaxis\":{\"endlinecolor\":\"#2a3f5f\",\"gridcolor\":\"white\",\"linecolor\":\"white\",\"minorgridcolor\":\"white\",\"startlinecolor\":\"#2a3f5f\"},\"baxis\":{\"endlinecolor\":\"#2a3f5f\",\"gridcolor\":\"white\",\"linecolor\":\"white\",\"minorgridcolor\":\"white\",\"startlinecolor\":\"#2a3f5f\"},\"type\":\"carpet\"}],\"table\":[{\"cells\":{\"fill\":{\"color\":\"#EBF0F8\"},\"line\":{\"color\":\"white\"}},\"header\":{\"fill\":{\"color\":\"#C8D4E3\"},\"line\":{\"color\":\"white\"}},\"type\":\"table\"}],\"barpolar\":[{\"marker\":{\"line\":{\"color\":\"#E5ECF6\",\"width\":0.5},\"pattern\":{\"fillmode\":\"overlay\",\"size\":10,\"solidity\":0.2}},\"type\":\"barpolar\"}],\"pie\":[{\"automargin\":true,\"type\":\"pie\"}]},\"layout\":{\"autotypenumbers\":\"strict\",\"colorway\":[\"#636efa\",\"#EF553B\",\"#00cc96\",\"#ab63fa\",\"#FFA15A\",\"#19d3f3\",\"#FF6692\",\"#B6E880\",\"#FF97FF\",\"#FECB52\"],\"font\":{\"color\":\"#2a3f5f\"},\"hovermode\":\"closest\",\"hoverlabel\":{\"align\":\"left\"},\"paper_bgcolor\":\"white\",\"plot_bgcolor\":\"#E5ECF6\",\"polar\":{\"bgcolor\":\"#E5ECF6\",\"angularaxis\":{\"gridcolor\":\"white\",\"linecolor\":\"white\",\"ticks\":\"\"},\"radialaxis\":{\"gridcolor\":\"white\",\"linecolor\":\"white\",\"ticks\":\"\"}},\"ternary\":{\"bgcolor\":\"#E5ECF6\",\"aaxis\":{\"gridcolor\":\"white\",\"linecolor\":\"white\",\"ticks\":\"\"},\"baxis\":{\"gridcolor\":\"white\",\"linecolor\":\"white\",\"ticks\":\"\"},\"caxis\":{\"gridcolor\":\"white\",\"linecolor\":\"white\",\"ticks\":\"\"}},\"coloraxis\":{\"colorbar\":{\"outlinewidth\":0,\"ticks\":\"\"}},\"colorscale\":{\"sequential\":[[0.0,\"#0d0887\"],[0.1111111111111111,\"#46039f\"],[0.2222222222222222,\"#7201a8\"],[0.3333333333333333,\"#9c179e\"],[0.4444444444444444,\"#bd3786\"],[0.5555555555555556,\"#d8576b\"],[0.6666666666666666,\"#ed7953\"],[0.7777777777777778,\"#fb9f3a\"],[0.8888888888888888,\"#fdca26\"],[1.0,\"#f0f921\"]],\"sequentialminus\":[[0.0,\"#0d0887\"],[0.1111111111111111,\"#46039f\"],[0.2222222222222222,\"#7201a8\"],[0.3333333333333333,\"#9c179e\"],[0.4444444444444444,\"#bd3786\"],[0.5555555555555556,\"#d8576b\"],[0.6666666666666666,\"#ed7953\"],[0.7777777777777778,\"#fb9f3a\"],[0.8888888888888888,\"#fdca26\"],[1.0,\"#f0f921\"]],\"diverging\":[[0,\"#8e0152\"],[0.1,\"#c51b7d\"],[0.2,\"#de77ae\"],[0.3,\"#f1b6da\"],[0.4,\"#fde0ef\"],[0.5,\"#f7f7f7\"],[0.6,\"#e6f5d0\"],[0.7,\"#b8e186\"],[0.8,\"#7fbc41\"],[0.9,\"#4d9221\"],[1,\"#276419\"]]},\"xaxis\":{\"gridcolor\":\"white\",\"linecolor\":\"white\",\"ticks\":\"\",\"title\":{\"standoff\":15},\"zerolinecolor\":\"white\",\"automargin\":true,\"zerolinewidth\":2},\"yaxis\":{\"gridcolor\":\"white\",\"linecolor\":\"white\",\"ticks\":\"\",\"title\":{\"standoff\":15},\"zerolinecolor\":\"white\",\"automargin\":true,\"zerolinewidth\":2},\"scene\":{\"xaxis\":{\"backgroundcolor\":\"#E5ECF6\",\"gridcolor\":\"white\",\"linecolor\":\"white\",\"showbackground\":true,\"ticks\":\"\",\"zerolinecolor\":\"white\",\"gridwidth\":2},\"yaxis\":{\"backgroundcolor\":\"#E5ECF6\",\"gridcolor\":\"white\",\"linecolor\":\"white\",\"showbackground\":true,\"ticks\":\"\",\"zerolinecolor\":\"white\",\"gridwidth\":2},\"zaxis\":{\"backgroundcolor\":\"#E5ECF6\",\"gridcolor\":\"white\",\"linecolor\":\"white\",\"showbackground\":true,\"ticks\":\"\",\"zerolinecolor\":\"white\",\"gridwidth\":2}},\"shapedefaults\":{\"line\":{\"color\":\"#2a3f5f\"}},\"annotationdefaults\":{\"arrowcolor\":\"#2a3f5f\",\"arrowhead\":0,\"arrowwidth\":1},\"geo\":{\"bgcolor\":\"white\",\"landcolor\":\"#E5ECF6\",\"subunitcolor\":\"white\",\"showland\":true,\"showlakes\":true,\"lakecolor\":\"white\"},\"title\":{\"x\":0.05},\"mapbox\":{\"style\":\"light\"}}},\"legend\":{\"tracegroupgap\":0},\"margin\":{\"t\":60},\"sunburstcolorway\":[\"rgb(158,1,66)\",\"rgb(213,62,79)\",\"rgb(244,109,67)\",\"rgb(253,174,97)\",\"rgb(254,224,139)\",\"rgb(255,255,191)\",\"rgb(230,245,152)\",\"rgb(171,221,164)\",\"rgb(102,194,165)\",\"rgb(50,136,189)\",\"rgb(94,79,162)\"]},                        {\"responsive\": true}                    ).then(function(){\n",
              "                            \n",
              "var gd = document.getElementById('26f24dda-b046-42c3-93fc-150fa41e56b1');\n",
              "var x = new MutationObserver(function (mutations, observer) {{\n",
              "        var display = window.getComputedStyle(gd).display;\n",
              "        if (!display || display === 'none') {{\n",
              "            console.log([gd, 'removed!']);\n",
              "            Plotly.purge(gd);\n",
              "            observer.disconnect();\n",
              "        }}\n",
              "}});\n",
              "\n",
              "// Listen for the removal of the full notebook cells\n",
              "var notebookContainer = gd.closest('#notebook-container');\n",
              "if (notebookContainer) {{\n",
              "    x.observe(notebookContainer, {childList: true});\n",
              "}}\n",
              "\n",
              "// Listen for the clearing of the current output cell\n",
              "var outputEl = gd.closest('.output');\n",
              "if (outputEl) {{\n",
              "    x.observe(outputEl, {childList: true});\n",
              "}}\n",
              "\n",
              "                        })                };                            </script>        </div>\n",
              "</body>\n",
              "</html>"
            ]
          },
          "metadata": {}
        }
      ]
    },
    {
      "cell_type": "markdown",
      "source": [
        "The distribution between these two marital status seems identical\n",
        "Therefore, we could tempted to believe there is no correlation between diploma and marital status.\n",
        "\n",
        "We will verify this this hypothesis later in hypothesis section"
      ],
      "metadata": {
        "id": "GKXrSbjsdtph"
      }
    },
    {
      "cell_type": "markdown",
      "source": [
        "### Income level by parental status"
      ],
      "metadata": {
        "id": "zXRkNqZKeNs7"
      }
    },
    {
      "cell_type": "code",
      "source": [
        "cut_labels_Income = ['Low income', 'low-Medium income', 'Medium-high income', 'High income']\n",
        "data['Income_bins'] = pd.qcut(data['Income'], q=4,labels=cut_labels_Income)\n",
        "\n",
        "df = data[['Income_bins','Has_child']]\n",
        "\n",
        "fig = px.sunburst(df, path=['Has_child','Income_bins'],color_discrete_sequence=px.colors.diverging.Portland)\n",
        "fig.show()"
      ],
      "metadata": {
        "colab": {
          "base_uri": "https://localhost:8080/",
          "height": 631
        },
        "id": "Xax_qB_Jc0rc",
        "outputId": "aa18803c-d5f3-4c28-ea7c-b7ad30e84e8b"
      },
      "execution_count": null,
      "outputs": [
        {
          "output_type": "stream",
          "name": "stderr",
          "text": [
            "/usr/local/lib/python3.10/dist-packages/plotly/express/_core.py:1626: FutureWarning:\n",
            "\n",
            "The default of observed=False is deprecated and will be changed to True in a future version of pandas. Pass observed=False to retain current behavior or observed=True to adopt the future default and silence this warning.\n",
            "\n"
          ]
        },
        {
          "output_type": "display_data",
          "data": {
            "text/html": [
              "<html>\n",
              "<head><meta charset=\"utf-8\" /></head>\n",
              "<body>\n",
              "    <div>            <script src=\"https://cdnjs.cloudflare.com/ajax/libs/mathjax/2.7.5/MathJax.js?config=TeX-AMS-MML_SVG\"></script><script type=\"text/javascript\">if (window.MathJax && window.MathJax.Hub && window.MathJax.Hub.Config) {window.MathJax.Hub.Config({SVG: {font: \"STIX-Web\"}});}</script>                <script type=\"text/javascript\">window.PlotlyConfig = {MathJaxConfig: 'local'};</script>\n",
              "        <script charset=\"utf-8\" src=\"https://cdn.plot.ly/plotly-2.24.1.min.js\"></script>                <div id=\"8ae34cbd-030e-4cab-8ae0-74bf69da6062\" class=\"plotly-graph-div\" style=\"height:525px; width:100%;\"></div>            <script type=\"text/javascript\">                                    window.PLOTLYENV=window.PLOTLYENV || {};                                    if (document.getElementById(\"8ae34cbd-030e-4cab-8ae0-74bf69da6062\")) {                    Plotly.newPlot(                        \"8ae34cbd-030e-4cab-8ae0-74bf69da6062\",                        [{\"branchvalues\":\"total\",\"domain\":{\"x\":[0.0,1.0],\"y\":[0.0,1.0]},\"hovertemplate\":\"labels=%{label}\\u003cbr\\u003ecount=%{value}\\u003cbr\\u003eparent=%{parent}\\u003cbr\\u003eid=%{id}\\u003cextra\\u003e\\u003c\\u002fextra\\u003e\",\"ids\":[\"No\\u002fLow income\",\"Yes\\u002fLow income\",\"No\\u002flow-Medium income\",\"Yes\\u002flow-Medium income\",\"No\\u002fMedium-high income\",\"Yes\\u002fMedium-high income\",\"No\\u002fHigh income\",\"Yes\\u002fHigh income\",\"No\",\"Yes\"],\"labels\":[\"Low income\",\"Low income\",\"low-Medium income\",\"low-Medium income\",\"Medium-high income\",\"Medium-high income\",\"High income\",\"High income\",\"No\",\"Yes\"],\"name\":\"\",\"parents\":[\"No\",\"Yes\",\"No\",\"Yes\",\"No\",\"Yes\",\"No\",\"Yes\",\"\",\"\"],\"values\":[104,456,51,509,94,465,389,171,638,1601],\"type\":\"sunburst\"}],                        {\"template\":{\"data\":{\"histogram2dcontour\":[{\"type\":\"histogram2dcontour\",\"colorbar\":{\"outlinewidth\":0,\"ticks\":\"\"},\"colorscale\":[[0.0,\"#0d0887\"],[0.1111111111111111,\"#46039f\"],[0.2222222222222222,\"#7201a8\"],[0.3333333333333333,\"#9c179e\"],[0.4444444444444444,\"#bd3786\"],[0.5555555555555556,\"#d8576b\"],[0.6666666666666666,\"#ed7953\"],[0.7777777777777778,\"#fb9f3a\"],[0.8888888888888888,\"#fdca26\"],[1.0,\"#f0f921\"]]}],\"choropleth\":[{\"type\":\"choropleth\",\"colorbar\":{\"outlinewidth\":0,\"ticks\":\"\"}}],\"histogram2d\":[{\"type\":\"histogram2d\",\"colorbar\":{\"outlinewidth\":0,\"ticks\":\"\"},\"colorscale\":[[0.0,\"#0d0887\"],[0.1111111111111111,\"#46039f\"],[0.2222222222222222,\"#7201a8\"],[0.3333333333333333,\"#9c179e\"],[0.4444444444444444,\"#bd3786\"],[0.5555555555555556,\"#d8576b\"],[0.6666666666666666,\"#ed7953\"],[0.7777777777777778,\"#fb9f3a\"],[0.8888888888888888,\"#fdca26\"],[1.0,\"#f0f921\"]]}],\"heatmap\":[{\"type\":\"heatmap\",\"colorbar\":{\"outlinewidth\":0,\"ticks\":\"\"},\"colorscale\":[[0.0,\"#0d0887\"],[0.1111111111111111,\"#46039f\"],[0.2222222222222222,\"#7201a8\"],[0.3333333333333333,\"#9c179e\"],[0.4444444444444444,\"#bd3786\"],[0.5555555555555556,\"#d8576b\"],[0.6666666666666666,\"#ed7953\"],[0.7777777777777778,\"#fb9f3a\"],[0.8888888888888888,\"#fdca26\"],[1.0,\"#f0f921\"]]}],\"heatmapgl\":[{\"type\":\"heatmapgl\",\"colorbar\":{\"outlinewidth\":0,\"ticks\":\"\"},\"colorscale\":[[0.0,\"#0d0887\"],[0.1111111111111111,\"#46039f\"],[0.2222222222222222,\"#7201a8\"],[0.3333333333333333,\"#9c179e\"],[0.4444444444444444,\"#bd3786\"],[0.5555555555555556,\"#d8576b\"],[0.6666666666666666,\"#ed7953\"],[0.7777777777777778,\"#fb9f3a\"],[0.8888888888888888,\"#fdca26\"],[1.0,\"#f0f921\"]]}],\"contourcarpet\":[{\"type\":\"contourcarpet\",\"colorbar\":{\"outlinewidth\":0,\"ticks\":\"\"}}],\"contour\":[{\"type\":\"contour\",\"colorbar\":{\"outlinewidth\":0,\"ticks\":\"\"},\"colorscale\":[[0.0,\"#0d0887\"],[0.1111111111111111,\"#46039f\"],[0.2222222222222222,\"#7201a8\"],[0.3333333333333333,\"#9c179e\"],[0.4444444444444444,\"#bd3786\"],[0.5555555555555556,\"#d8576b\"],[0.6666666666666666,\"#ed7953\"],[0.7777777777777778,\"#fb9f3a\"],[0.8888888888888888,\"#fdca26\"],[1.0,\"#f0f921\"]]}],\"surface\":[{\"type\":\"surface\",\"colorbar\":{\"outlinewidth\":0,\"ticks\":\"\"},\"colorscale\":[[0.0,\"#0d0887\"],[0.1111111111111111,\"#46039f\"],[0.2222222222222222,\"#7201a8\"],[0.3333333333333333,\"#9c179e\"],[0.4444444444444444,\"#bd3786\"],[0.5555555555555556,\"#d8576b\"],[0.6666666666666666,\"#ed7953\"],[0.7777777777777778,\"#fb9f3a\"],[0.8888888888888888,\"#fdca26\"],[1.0,\"#f0f921\"]]}],\"mesh3d\":[{\"type\":\"mesh3d\",\"colorbar\":{\"outlinewidth\":0,\"ticks\":\"\"}}],\"scatter\":[{\"fillpattern\":{\"fillmode\":\"overlay\",\"size\":10,\"solidity\":0.2},\"type\":\"scatter\"}],\"parcoords\":[{\"type\":\"parcoords\",\"line\":{\"colorbar\":{\"outlinewidth\":0,\"ticks\":\"\"}}}],\"scatterpolargl\":[{\"type\":\"scatterpolargl\",\"marker\":{\"colorbar\":{\"outlinewidth\":0,\"ticks\":\"\"}}}],\"bar\":[{\"error_x\":{\"color\":\"#2a3f5f\"},\"error_y\":{\"color\":\"#2a3f5f\"},\"marker\":{\"line\":{\"color\":\"#E5ECF6\",\"width\":0.5},\"pattern\":{\"fillmode\":\"overlay\",\"size\":10,\"solidity\":0.2}},\"type\":\"bar\"}],\"scattergeo\":[{\"type\":\"scattergeo\",\"marker\":{\"colorbar\":{\"outlinewidth\":0,\"ticks\":\"\"}}}],\"scatterpolar\":[{\"type\":\"scatterpolar\",\"marker\":{\"colorbar\":{\"outlinewidth\":0,\"ticks\":\"\"}}}],\"histogram\":[{\"marker\":{\"pattern\":{\"fillmode\":\"overlay\",\"size\":10,\"solidity\":0.2}},\"type\":\"histogram\"}],\"scattergl\":[{\"type\":\"scattergl\",\"marker\":{\"colorbar\":{\"outlinewidth\":0,\"ticks\":\"\"}}}],\"scatter3d\":[{\"type\":\"scatter3d\",\"line\":{\"colorbar\":{\"outlinewidth\":0,\"ticks\":\"\"}},\"marker\":{\"colorbar\":{\"outlinewidth\":0,\"ticks\":\"\"}}}],\"scattermapbox\":[{\"type\":\"scattermapbox\",\"marker\":{\"colorbar\":{\"outlinewidth\":0,\"ticks\":\"\"}}}],\"scatterternary\":[{\"type\":\"scatterternary\",\"marker\":{\"colorbar\":{\"outlinewidth\":0,\"ticks\":\"\"}}}],\"scattercarpet\":[{\"type\":\"scattercarpet\",\"marker\":{\"colorbar\":{\"outlinewidth\":0,\"ticks\":\"\"}}}],\"carpet\":[{\"aaxis\":{\"endlinecolor\":\"#2a3f5f\",\"gridcolor\":\"white\",\"linecolor\":\"white\",\"minorgridcolor\":\"white\",\"startlinecolor\":\"#2a3f5f\"},\"baxis\":{\"endlinecolor\":\"#2a3f5f\",\"gridcolor\":\"white\",\"linecolor\":\"white\",\"minorgridcolor\":\"white\",\"startlinecolor\":\"#2a3f5f\"},\"type\":\"carpet\"}],\"table\":[{\"cells\":{\"fill\":{\"color\":\"#EBF0F8\"},\"line\":{\"color\":\"white\"}},\"header\":{\"fill\":{\"color\":\"#C8D4E3\"},\"line\":{\"color\":\"white\"}},\"type\":\"table\"}],\"barpolar\":[{\"marker\":{\"line\":{\"color\":\"#E5ECF6\",\"width\":0.5},\"pattern\":{\"fillmode\":\"overlay\",\"size\":10,\"solidity\":0.2}},\"type\":\"barpolar\"}],\"pie\":[{\"automargin\":true,\"type\":\"pie\"}]},\"layout\":{\"autotypenumbers\":\"strict\",\"colorway\":[\"#636efa\",\"#EF553B\",\"#00cc96\",\"#ab63fa\",\"#FFA15A\",\"#19d3f3\",\"#FF6692\",\"#B6E880\",\"#FF97FF\",\"#FECB52\"],\"font\":{\"color\":\"#2a3f5f\"},\"hovermode\":\"closest\",\"hoverlabel\":{\"align\":\"left\"},\"paper_bgcolor\":\"white\",\"plot_bgcolor\":\"#E5ECF6\",\"polar\":{\"bgcolor\":\"#E5ECF6\",\"angularaxis\":{\"gridcolor\":\"white\",\"linecolor\":\"white\",\"ticks\":\"\"},\"radialaxis\":{\"gridcolor\":\"white\",\"linecolor\":\"white\",\"ticks\":\"\"}},\"ternary\":{\"bgcolor\":\"#E5ECF6\",\"aaxis\":{\"gridcolor\":\"white\",\"linecolor\":\"white\",\"ticks\":\"\"},\"baxis\":{\"gridcolor\":\"white\",\"linecolor\":\"white\",\"ticks\":\"\"},\"caxis\":{\"gridcolor\":\"white\",\"linecolor\":\"white\",\"ticks\":\"\"}},\"coloraxis\":{\"colorbar\":{\"outlinewidth\":0,\"ticks\":\"\"}},\"colorscale\":{\"sequential\":[[0.0,\"#0d0887\"],[0.1111111111111111,\"#46039f\"],[0.2222222222222222,\"#7201a8\"],[0.3333333333333333,\"#9c179e\"],[0.4444444444444444,\"#bd3786\"],[0.5555555555555556,\"#d8576b\"],[0.6666666666666666,\"#ed7953\"],[0.7777777777777778,\"#fb9f3a\"],[0.8888888888888888,\"#fdca26\"],[1.0,\"#f0f921\"]],\"sequentialminus\":[[0.0,\"#0d0887\"],[0.1111111111111111,\"#46039f\"],[0.2222222222222222,\"#7201a8\"],[0.3333333333333333,\"#9c179e\"],[0.4444444444444444,\"#bd3786\"],[0.5555555555555556,\"#d8576b\"],[0.6666666666666666,\"#ed7953\"],[0.7777777777777778,\"#fb9f3a\"],[0.8888888888888888,\"#fdca26\"],[1.0,\"#f0f921\"]],\"diverging\":[[0,\"#8e0152\"],[0.1,\"#c51b7d\"],[0.2,\"#de77ae\"],[0.3,\"#f1b6da\"],[0.4,\"#fde0ef\"],[0.5,\"#f7f7f7\"],[0.6,\"#e6f5d0\"],[0.7,\"#b8e186\"],[0.8,\"#7fbc41\"],[0.9,\"#4d9221\"],[1,\"#276419\"]]},\"xaxis\":{\"gridcolor\":\"white\",\"linecolor\":\"white\",\"ticks\":\"\",\"title\":{\"standoff\":15},\"zerolinecolor\":\"white\",\"automargin\":true,\"zerolinewidth\":2},\"yaxis\":{\"gridcolor\":\"white\",\"linecolor\":\"white\",\"ticks\":\"\",\"title\":{\"standoff\":15},\"zerolinecolor\":\"white\",\"automargin\":true,\"zerolinewidth\":2},\"scene\":{\"xaxis\":{\"backgroundcolor\":\"#E5ECF6\",\"gridcolor\":\"white\",\"linecolor\":\"white\",\"showbackground\":true,\"ticks\":\"\",\"zerolinecolor\":\"white\",\"gridwidth\":2},\"yaxis\":{\"backgroundcolor\":\"#E5ECF6\",\"gridcolor\":\"white\",\"linecolor\":\"white\",\"showbackground\":true,\"ticks\":\"\",\"zerolinecolor\":\"white\",\"gridwidth\":2},\"zaxis\":{\"backgroundcolor\":\"#E5ECF6\",\"gridcolor\":\"white\",\"linecolor\":\"white\",\"showbackground\":true,\"ticks\":\"\",\"zerolinecolor\":\"white\",\"gridwidth\":2}},\"shapedefaults\":{\"line\":{\"color\":\"#2a3f5f\"}},\"annotationdefaults\":{\"arrowcolor\":\"#2a3f5f\",\"arrowhead\":0,\"arrowwidth\":1},\"geo\":{\"bgcolor\":\"white\",\"landcolor\":\"#E5ECF6\",\"subunitcolor\":\"white\",\"showland\":true,\"showlakes\":true,\"lakecolor\":\"white\"},\"title\":{\"x\":0.05},\"mapbox\":{\"style\":\"light\"}}},\"legend\":{\"tracegroupgap\":0},\"margin\":{\"t\":60},\"sunburstcolorway\":[\"rgb(12,51,131)\",\"rgb(10,136,186)\",\"rgb(242,211,56)\",\"rgb(242,143,56)\",\"rgb(217,30,30)\"]},                        {\"responsive\": true}                    ).then(function(){\n",
              "                            \n",
              "var gd = document.getElementById('8ae34cbd-030e-4cab-8ae0-74bf69da6062');\n",
              "var x = new MutationObserver(function (mutations, observer) {{\n",
              "        var display = window.getComputedStyle(gd).display;\n",
              "        if (!display || display === 'none') {{\n",
              "            console.log([gd, 'removed!']);\n",
              "            Plotly.purge(gd);\n",
              "            observer.disconnect();\n",
              "        }}\n",
              "}});\n",
              "\n",
              "// Listen for the removal of the full notebook cells\n",
              "var notebookContainer = gd.closest('#notebook-container');\n",
              "if (notebookContainer) {{\n",
              "    x.observe(notebookContainer, {childList: true});\n",
              "}}\n",
              "\n",
              "// Listen for the clearing of the current output cell\n",
              "var outputEl = gd.closest('.output');\n",
              "if (outputEl) {{\n",
              "    x.observe(outputEl, {childList: true});\n",
              "}}\n",
              "\n",
              "                        })                };                            </script>        </div>\n",
              "</body>\n",
              "</html>"
            ]
          },
          "metadata": {}
        }
      ]
    },
    {
      "cell_type": "markdown",
      "source": [
        "We created here 4 segments to cluster individuals by their income level based on quartiles We could tempted to believe the individuals who is not a parent tend to have more higher income.\n",
        "\n",
        "We will verify later if there is a correlation between the income and the fact to have at least one child"
      ],
      "metadata": {
        "id": "3-qQTPQrfn-r"
      }
    },
    {
      "cell_type": "markdown",
      "source": [
        "# Statistical Hypothesis Testing\n",
        "Before running any statistical hypothesis test, It's mandatory to conduct normality test, to see whether our data is follow the gaussian distribution so we could know which statistical test is to use (Parametric/Non-Parametric),\n",
        "\n",
        "To get the best result, is best to combine graphical methods and statistical methods"
      ],
      "metadata": {
        "id": "Bq9_AnYNgG7X"
      }
    },
    {
      "cell_type": "markdown",
      "source": [
        "## A. Normality Test"
      ],
      "metadata": {
        "id": "j5bICAblavUF"
      }
    },
    {
      "cell_type": "markdown",
      "source": [
        "### a. Graphical Method\n",
        "Histogram Plot"
      ],
      "metadata": {
        "id": "g9aIKA6kqoNT"
      }
    },
    {
      "cell_type": "code",
      "source": [
        "df = pd.DataFrame(data=data, columns=['Age','Income','Spending','Educational_years'])\n",
        "nd = pd.melt(df, value_vars =df )\n",
        "n1 = sns.FacetGrid (nd, col='variable', col_wrap=4, sharex=False, sharey = False)\n",
        "n1 = n1.map(sns.distplot, 'value')\n",
        "n1"
      ],
      "metadata": {
        "colab": {
          "base_uri": "https://localhost:8080/",
          "height": 1000
        },
        "id": "yqRUfNDSgKcr",
        "outputId": "502103d3-e5e2-4674-970b-d541fb59b52b"
      },
      "execution_count": null,
      "outputs": [
        {
          "output_type": "stream",
          "name": "stderr",
          "text": [
            "/usr/local/lib/python3.10/dist-packages/seaborn/axisgrid.py:854: UserWarning:\n",
            "\n",
            "\n",
            "\n",
            "`distplot` is a deprecated function and will be removed in seaborn v0.14.0.\n",
            "\n",
            "Please adapt your code to use either `displot` (a figure-level function with\n",
            "similar flexibility) or `histplot` (an axes-level function for histograms).\n",
            "\n",
            "For a guide to updating your code to use the new functions, please see\n",
            "https://gist.github.com/mwaskom/de44147ed2974457ad6372750bbe5751\n",
            "\n",
            "\n",
            "/usr/local/lib/python3.10/dist-packages/seaborn/axisgrid.py:854: UserWarning:\n",
            "\n",
            "\n",
            "\n",
            "`distplot` is a deprecated function and will be removed in seaborn v0.14.0.\n",
            "\n",
            "Please adapt your code to use either `displot` (a figure-level function with\n",
            "similar flexibility) or `histplot` (an axes-level function for histograms).\n",
            "\n",
            "For a guide to updating your code to use the new functions, please see\n",
            "https://gist.github.com/mwaskom/de44147ed2974457ad6372750bbe5751\n",
            "\n",
            "\n",
            "/usr/local/lib/python3.10/dist-packages/seaborn/axisgrid.py:854: UserWarning:\n",
            "\n",
            "\n",
            "\n",
            "`distplot` is a deprecated function and will be removed in seaborn v0.14.0.\n",
            "\n",
            "Please adapt your code to use either `displot` (a figure-level function with\n",
            "similar flexibility) or `histplot` (an axes-level function for histograms).\n",
            "\n",
            "For a guide to updating your code to use the new functions, please see\n",
            "https://gist.github.com/mwaskom/de44147ed2974457ad6372750bbe5751\n",
            "\n",
            "\n",
            "/usr/local/lib/python3.10/dist-packages/seaborn/axisgrid.py:854: UserWarning:\n",
            "\n",
            "\n",
            "\n",
            "`distplot` is a deprecated function and will be removed in seaborn v0.14.0.\n",
            "\n",
            "Please adapt your code to use either `displot` (a figure-level function with\n",
            "similar flexibility) or `histplot` (an axes-level function for histograms).\n",
            "\n",
            "For a guide to updating your code to use the new functions, please see\n",
            "https://gist.github.com/mwaskom/de44147ed2974457ad6372750bbe5751\n",
            "\n",
            "\n"
          ]
        },
        {
          "output_type": "execute_result",
          "data": {
            "text/plain": [
              "<seaborn.axisgrid.FacetGrid at 0x7c05b5343fd0>"
            ]
          },
          "metadata": {},
          "execution_count": 22
        },
        {
          "output_type": "display_data",
          "data": {
            "text/plain": [
              "<Figure size 1200x300 with 4 Axes>"
            ],
            "image/png": "[encoded data removed]"
          },
          "metadata": {}
        }
      ]
    },
    {
      "cell_type": "markdown",
      "source": [
        "With this graphical method we could see which variables is Gaussian or Gaussian-like\n",
        "\n",
        "* Age and Income has Gaussian-like distribution\n",
        "* Spending has log-normal distribution\n",
        "* Education years has Multimodal-distributions"
      ],
      "metadata": {
        "id": "cIh0mVRPq50r"
      }
    },
    {
      "cell_type": "markdown",
      "source": [
        "\n",
        "if p-value  ≤𝛼\n",
        "  : We reject the null hypothesis and conclude of a non Gaussian distribution\n",
        "\n",
        "if p-value  >𝛼\n",
        "  : We fail to reject the null hypothesis and conclude of a Gaussian distribution\n",
        "\n",
        "With  𝛼\n",
        "  being the significance level"
      ],
      "metadata": {
        "id": "s1EKWey3wjBQ"
      }
    },
    {
      "cell_type": "markdown",
      "source": [
        "### b. Statistical Method\n",
        "Shapiro Test"
      ],
      "metadata": {
        "id": "wNIMxe-Fa955"
      }
    },
    {
      "cell_type": "code",
      "source": [
        "X = ['Age', 'Income', 'Spending', 'Educational_years']\n",
        "column_dict = {elem : pd.DataFrame for elem in X }\n",
        "\n",
        "def shapiro_test(data):\n",
        "    stat, p = shapiro(data)\n",
        "    print('%s : Statistics=%.3f, p=%.3f' % (column,stat, p))\n",
        "    alpha = 0.05\n",
        "    if p > alpha:\n",
        "        print('Sample looks Gaussian (We fail to reject H0)')\n",
        "    else:\n",
        "        print('Sample does not look Gaussian (We reject H0)')\n",
        "\n",
        "for column in X:\n",
        "  column_dict[column] = data[column]\n",
        "  shapiro_test(column_dict[column])\n"
      ],
      "metadata": {
        "id": "X_lqJTU3q1V4",
        "colab": {
          "base_uri": "https://localhost:8080/"
        },
        "outputId": "183a4d17-3efb-4690-8e84-54cd053f7a9f"
      },
      "execution_count": null,
      "outputs": [
        {
          "output_type": "stream",
          "name": "stdout",
          "text": [
            "Age : Statistics=0.976, p=0.000\n",
            "Sample does not look Gaussian (We reject H0)\n",
            "Income : Statistics=0.976, p=0.000\n",
            "Sample does not look Gaussian (We reject H0)\n",
            "Spending : Statistics=0.865, p=0.000\n",
            "Sample does not look Gaussian (We reject H0)\n",
            "Educational_years : Statistics=0.833, p=0.000\n",
            "Sample does not look Gaussian (We reject H0)\n"
          ]
        }
      ]
    },
    {
      "cell_type": "markdown",
      "source": [
        "All the p-values are inferior to 0.05 :\n",
        "We reject the null-hypothesis. Our variables are not Gaussian at a 5% significance level\n",
        "\n",
        "Which means we cannot use parametric statistical test\n",
        "We will go for nonparametric statistical methods to test our hypotheses"
      ],
      "metadata": {
        "id": "yzcg-zofza7L"
      }
    },
    {
      "cell_type": "markdown",
      "source": [
        "## B. Rank Significance Test"
      ],
      "metadata": {
        "id": "7uF0O8Rw0YU2"
      }
    },
    {
      "cell_type": "markdown",
      "source": [
        "### a. Numerical variables : Mann-Whitney's test\n",
        "Question 1 : Is the average income of PhD owners is statistically different from the average income of Master owners?"
      ],
      "metadata": {
        "id": "QaUboQTk2x1Q"
      }
    },
    {
      "cell_type": "markdown",
      "source": [
        "#### 1. Hypothesis statement  \n",
        "* __$H_0$__ : The mean ranks of the two groups are equal  \n",
        "* __$H_a$__ : The mean ranks of the two groups are not equal\n"
      ],
      "metadata": {
        "id": "wfJ0NWwp6TSZ"
      }
    },
    {
      "cell_type": "markdown",
      "source": [
        "#### 2. Analysis plan formulation  \n",
        "* __Significance level :__ We will test our hypothesis at a 5% significance level  \n",
        "  \n",
        "  \n",
        "* __Test method :__ The Mann-Whitney U test checks if one group generally has higher or lower values than another group. It doesn’t assume the data is normally distributed and compares whether the values in the two groups are likely different. If the test shows a significant difference, it means the groups probably don't have the same distribution."
      ],
      "metadata": {
        "id": "hQjiFdqX6Yxi"
      }
    },
    {
      "cell_type": "markdown",
      "source": [
        "#### 3. Analyze Sample Data"
      ],
      "metadata": {
        "id": "FW_2cW5u6efi"
      }
    },
    {
      "cell_type": "markdown",
      "source": [
        "We will see whether the PHDs and Masters are in Gaussian Distribution or not"
      ],
      "metadata": {
        "id": "V3W3zgLh425W"
      }
    },
    {
      "cell_type": "code",
      "source": [
        "#Creation of the samples\n",
        "Diploma=data[['Education','Income']]\n",
        "\n",
        "Phd_graduate=Diploma[Diploma['Education']=='PhD']\n",
        "Master_graduate=Diploma[Diploma['Education']=='Master']\n",
        "Basic_graduate=Diploma[Diploma['Education']=='Basic']\n",
        "Second_cycle_graduate=Diploma[Diploma['Education']=='2n Cycle']\n",
        "Graduation_graduate=Diploma[Diploma['Education']=='Graduation']"
      ],
      "metadata": {
        "id": "O4ypnu3uwoei"
      },
      "execution_count": null,
      "outputs": []
    },
    {
      "cell_type": "code",
      "source": [
        "# normality tests of our two samples\n",
        "stat, p = shapiro(Phd_graduate.Income)\n",
        "print('Statistics=%.3f, p=%.3f' % (stat, p))\n",
        "# interpret\n",
        "alpha = 0.05\n",
        "if p > alpha:\n",
        "\tprint('Sample looks Gaussian (fail to reject H0)')\n",
        "else:\n",
        "\tprint('Sample does not look Gaussian (reject H0)')"
      ],
      "metadata": {
        "colab": {
          "base_uri": "https://localhost:8080/"
        },
        "id": "YnuoRvoA4om4",
        "outputId": "b03a41c1-1b9b-40c5-cd06-d8d64b06ca23"
      },
      "execution_count": null,
      "outputs": [
        {
          "output_type": "stream",
          "name": "stdout",
          "text": [
            "Statistics=0.943, p=0.000\n",
            "Sample does not look Gaussian (reject H0)\n"
          ]
        }
      ]
    },
    {
      "cell_type": "code",
      "source": [
        "stat, p = shapiro(Master_graduate.Income)\n",
        "print('Statistics=%.3f, p=%.3f' % (stat, p))\n",
        "# interpret\n",
        "alpha = 0.05\n",
        "if p > alpha:\n",
        "\tprint('Sample looks Gaussian (fail to reject H0)')\n",
        "else:\n",
        "\tprint('Sample does not look Gaussian (reject H0)')"
      ],
      "metadata": {
        "colab": {
          "base_uri": "https://localhost:8080/"
        },
        "id": "-7k9hQfq5FTr",
        "outputId": "3d4d3db0-f8e1-4afc-e56e-d78929106d18"
      },
      "execution_count": null,
      "outputs": [
        {
          "output_type": "stream",
          "name": "stdout",
          "text": [
            "Statistics=0.978, p=0.000\n",
            "Sample does not look Gaussian (reject H0)\n"
          ]
        }
      ]
    },
    {
      "cell_type": "markdown",
      "source": [
        "Seems like the PHD's and Masters are not in Gaussian Distribution,\n",
        "\n",
        "Therefore we can use the Mann-Whitney's test"
      ],
      "metadata": {
        "id": "HUeCQwMN49ns"
      }
    },
    {
      "cell_type": "code",
      "source": [
        "# summarize\n",
        "print('PhD: median = %.0f stdv = %.1f' % (median(Phd_graduate.Income), std(Phd_graduate.Income)))\n",
        "print('Master: median = %.0f stdv = %.1f' % (median(Master_graduate.Income), std(Master_graduate.Income)))\n",
        "\n",
        "print(stats.mannwhitneyu(Phd_graduate.Income, Master_graduate.Income))\n",
        "\n",
        "if p > alpha:\n",
        "\tprint('Means are not statistically different (We fail to reject H0)')\n",
        "else:\n",
        "\tprint('Means are statistically different (We reject H0)')"
      ],
      "metadata": {
        "colab": {
          "base_uri": "https://localhost:8080/"
        },
        "id": "dhLIC-7L5NOq",
        "outputId": "77441946-0676-47ab-ba75-0db99b998894"
      },
      "execution_count": null,
      "outputs": [
        {
          "output_type": "stream",
          "name": "stdout",
          "text": [
            "PhD: median = 55223 stdv = 20490.1\n",
            "Master: median = 50943 stdv = 20012.9\n",
            "MannwhitneyuResult(statistic=97824.5, pvalue=0.027216499429648332)\n",
            "Means are statistically different (We reject H0)\n"
          ]
        }
      ]
    },
    {
      "cell_type": "markdown",
      "source": [
        "#### 4. Interpret the results\n",
        "\n",
        "The p-value is __inferior__ than the significance level of 5%, we can __reject the null hypothesis__.<br>    \n",
        "We can conclude that the average income of PhD owners is different from the average income of Master owners at a 95% confidence level"
      ],
      "metadata": {
        "id": "JtPNIQhE5mlk"
      }
    },
    {
      "cell_type": "markdown",
      "source": [
        "## C. Rank Correlation Test"
      ],
      "metadata": {
        "id": "-k5qRFKXbjXl"
      }
    },
    {
      "cell_type": "markdown",
      "source": [
        "### a. Numerical Varriables : Spearman Rank Correlation Test\n",
        "\n",
        "Second Question : Is there a statistically significant correlation between income and the spending amount?"
      ],
      "metadata": {
        "id": "xU0pH55DcVe6"
      }
    },
    {
      "cell_type": "markdown",
      "source": [
        "#### 1. Hypothesis Statement\n",
        "* __$H_0$__ : There is no monotonic association between income and spending amount  \n",
        "* __$H_a$__ : There is a monotonic association between income and spending amount"
      ],
      "metadata": {
        "id": "e0vXC7qgcwAl"
      }
    },
    {
      "cell_type": "markdown",
      "source": [
        "#### 2. Analysis plan formulation  \n",
        "* __Significance level__ : We will test our hypothesis at 5% significance level  \n",
        "* __Test method__ : We use the Spearman rank correlation test to determine if our two variables are correlated. This statistical method quantifies the degree to which ranked variables are associated by a monotonic function, meaning an increasing or decreasing relationship. As a statistical hypothesis test, the method assumes that the samples are uncorrelated (fail to reject H0).  \n",
        "Therefore, if our assumption is correct, the result of the test should enable us to reject the null hypothesis."
      ],
      "metadata": {
        "id": "NZyqRHz9dEyh"
      }
    },
    {
      "cell_type": "markdown",
      "source": [
        "#### 3. Analyze Sample Data"
      ],
      "metadata": {
        "id": "2ixCHsr0dL5L"
      }
    },
    {
      "cell_type": "code",
      "source": [
        "spending = data[['Spending', 'Income']]\n",
        "\n",
        "cor, pval = stats.spearmanr(spending[['Spending']], spending[['Income']])\n",
        "print(\"Non parametric Spearman Result test : correlation coefficient : %.4f, pval : %.4f\" % (cor, pval))"
      ],
      "metadata": {
        "colab": {
          "base_uri": "https://localhost:8080/"
        },
        "id": "HeruyhMmaayq",
        "outputId": "0d7f4983-2858-4141-8b75-9093cf499004"
      },
      "execution_count": null,
      "outputs": [
        {
          "output_type": "stream",
          "name": "stdout",
          "text": [
            "Non parametric Spearman Result test : correlation coefficient : 0.8464, pval : 0.0000\n"
          ]
        }
      ]
    },
    {
      "cell_type": "markdown",
      "source": [
        "#### 4. Interpret the result\n",
        "The p-value close to 0 confirms that we can reject the null hypothesis that the two variables are uncorrelated. We conclude that the correlation between income and spending amount is statistically significant at a 95% confidence level. The high correlation coefficient indicates a strong positive relationship between the two variables, supporting our hypothesis."
      ],
      "metadata": {
        "id": "56NQ-zs-gRvc"
      }
    },
    {
      "cell_type": "markdown",
      "source": [
        "### b. Categorical Variables"
      ],
      "metadata": {
        "id": "Vt-IXQeu2VRq"
      }
    },
    {
      "cell_type": "markdown",
      "source": [
        "Third Question : Is there a statistically significant correlation between the diploma and marital situation"
      ],
      "metadata": {
        "id": "RXK45WRd2lQn"
      }
    },
    {
      "cell_type": "markdown",
      "source": [
        "#### 1. Hypothesis statement\n",
        "__$H_0$__ : Education and Marital_Situation are independant  \n",
        "__$H_a$__ : Education and Marital_Situation are not independant\n",
        "\n",
        "#### 2. Analysis plan formulation  \n",
        "* __Significance level__ : We will test our hypothesis at a 5% significance level  \n",
        "* __Test method__ : We use the Chi-square test for independence to determine whether there is a significant relationship between our two categorical variables."
      ],
      "metadata": {
        "id": "AzFyZRSO3L51"
      }
    },
    {
      "cell_type": "markdown",
      "source": [
        "#### 3. Analyze Sample Data"
      ],
      "metadata": {
        "id": "4I7vjbsz3UNC"
      }
    },
    {
      "cell_type": "code",
      "source": [
        "Marital_Situation=data[['Education','Marital_Situation']]\n",
        "crosstab = pd.crosstab(Marital_Situation[\"Education\"], Marital_Situation[\"Marital_Situation\"])\n",
        "crosstab"
      ],
      "metadata": {
        "colab": {
          "base_uri": "https://localhost:8080/",
          "height": 237
        },
        "id": "ElWYL5md5KdF",
        "outputId": "6e231398-ab06-4dbd-e060-074424dcaaae"
      },
      "execution_count": null,
      "outputs": [
        {
          "output_type": "execute_result",
          "data": {
            "text/plain": [
              "Marital_Situation  Alone  In relationship\n",
              "Education                                \n",
              "2n Cycle              65              138\n",
              "Basic                 20               34\n",
              "Graduation           408              718\n",
              "Master               126              244\n",
              "PhD                  177              309"
            ],
            "text/html": [
              "\n",
              "  <div id=\"df-ecef8bae-79e5-4d6f-9559-baa17cba737c\" class=\"colab-df-container\">\n",
              "    <div>\n",
              "<style scoped>\n",
              "    .dataframe tbody tr th:only-of-type {\n",
              "        vertical-align: middle;\n",
              "    }\n",
              "\n",
              "    .dataframe tbody tr th {\n",
              "        vertical-align: top;\n",
              "    }\n",
              "\n",
              "    .dataframe thead th {\n",
              "        text-align: right;\n",
              "    }\n",
              "</style>\n",
              "<table border=\"1\" class=\"dataframe\">\n",
              "  <thead>\n",
              "    <tr style=\"text-align: right;\">\n",
              "      <th>Marital_Situation</th>\n",
              "      <th>Alone</th>\n",
              "      <th>In relationship</th>\n",
              "    </tr>\n",
              "    <tr>\n",
              "      <th>Education</th>\n",
              "      <th></th>\n",
              "      <th></th>\n",
              "    </tr>\n",
              "  </thead>\n",
              "  <tbody>\n",
              "    <tr>\n",
              "      <th>2n Cycle</th>\n",
              "      <td>65</td>\n",
              "      <td>138</td>\n",
              "    </tr>\n",
              "    <tr>\n",
              "      <th>Basic</th>\n",
              "      <td>20</td>\n",
              "      <td>34</td>\n",
              "    </tr>\n",
              "    <tr>\n",
              "      <th>Graduation</th>\n",
              "      <td>408</td>\n",
              "      <td>718</td>\n",
              "    </tr>\n",
              "    <tr>\n",
              "      <th>Master</th>\n",
              "      <td>126</td>\n",
              "      <td>244</td>\n",
              "    </tr>\n",
              "    <tr>\n",
              "      <th>PhD</th>\n",
              "      <td>177</td>\n",
              "      <td>309</td>\n",
              "    </tr>\n",
              "  </tbody>\n",
              "</table>\n",
              "</div>\n",
              "    <div class=\"colab-df-buttons\">\n",
              "\n",
              "  <div class=\"colab-df-container\">\n",
              "    <button class=\"colab-df-convert\" onclick=\"convertToInteractive('df-ecef8bae-79e5-4d6f-9559-baa17cba737c')\"\n",
              "            title=\"Convert this dataframe to an interactive table.\"\n",
              "            style=\"display:none;\">\n",
              "\n",
              "  <svg xmlns=\"http://www.w3.org/2000/svg\" height=\"24px\" viewBox=\"0 -960 960 960\">\n",
              "    <path d=\"M120-120v-720h720v720H120Zm60-500h600v-160H180v160Zm220 220h160v-160H400v160Zm0 220h160v-160H400v160ZM180-400h160v-160H180v160Zm440 0h160v-160H620v160ZM180-180h160v-160H180v160Zm440 0h160v-160H620v160Z\"/>\n",
              "  </svg>\n",
              "    </button>\n",
              "\n",
              "  <style>\n",
              "    .colab-df-container {\n",
              "      display:flex;\n",
              "      gap: 12px;\n",
              "    }\n",
              "\n",
              "    .colab-df-convert {\n",
              "      background-color: #E8F0FE;\n",
              "      border: none;\n",
              "      border-radius: 50%;\n",
              "      cursor: pointer;\n",
              "      display: none;\n",
              "      fill: #1967D2;\n",
              "      height: 32px;\n",
              "      padding: 0 0 0 0;\n",
              "      width: 32px;\n",
              "    }\n",
              "\n",
              "    .colab-df-convert:hover {\n",
              "      background-color: #E2EBFA;\n",
              "      box-shadow: 0px 1px 2px rgba(60, 64, 67, 0.3), 0px 1px 3px 1px rgba(60, 64, 67, 0.15);\n",
              "      fill: #174EA6;\n",
              "    }\n",
              "\n",
              "    .colab-df-buttons div {\n",
              "      margin-bottom: 4px;\n",
              "    }\n",
              "\n",
              "    [theme=dark] .colab-df-convert {\n",
              "      background-color: #3B4455;\n",
              "      fill: #D2E3FC;\n",
              "    }\n",
              "\n",
              "    [theme=dark] .colab-df-convert:hover {\n",
              "      background-color: #434B5C;\n",
              "      box-shadow: 0px 1px 3px 1px rgba(0, 0, 0, 0.15);\n",
              "      filter: drop-shadow(0px 1px 2px rgba(0, 0, 0, 0.3));\n",
              "      fill: #FFFFFF;\n",
              "    }\n",
              "  </style>\n",
              "\n",
              "    <script>\n",
              "      const buttonEl =\n",
              "        document.querySelector('#df-ecef8bae-79e5-4d6f-9559-baa17cba737c button.colab-df-convert');\n",
              "      buttonEl.style.display =\n",
              "        google.colab.kernel.accessAllowed ? 'block' : 'none';\n",
              "\n",
              "      async function convertToInteractive(key) {\n",
              "        const element = document.querySelector('#df-ecef8bae-79e5-4d6f-9559-baa17cba737c');\n",
              "        const dataTable =\n",
              "          await google.colab.kernel.invokeFunction('convertToInteractive',\n",
              "                                                    [key], {});\n",
              "        if (!dataTable) return;\n",
              "\n",
              "        const docLinkHtml = 'Like what you see? Visit the ' +\n",
              "          '<a target=\"_blank\" href=https://colab.research.google.com/notebooks/data_table.ipynb>data table notebook</a>'\n",
              "          + ' to learn more about interactive tables.';\n",
              "        element.innerHTML = '';\n",
              "        dataTable['output_type'] = 'display_data';\n",
              "        await google.colab.output.renderOutput(dataTable, element);\n",
              "        const docLink = document.createElement('div');\n",
              "        docLink.innerHTML = docLinkHtml;\n",
              "        element.appendChild(docLink);\n",
              "      }\n",
              "    </script>\n",
              "  </div>\n",
              "\n",
              "\n",
              "<div id=\"df-55c6ec09-dc2a-4b70-9370-7b69716d49d6\">\n",
              "  <button class=\"colab-df-quickchart\" onclick=\"quickchart('df-55c6ec09-dc2a-4b70-9370-7b69716d49d6')\"\n",
              "            title=\"Suggest charts\"\n",
              "            style=\"display:none;\">\n",
              "\n",
              "<svg xmlns=\"http://www.w3.org/2000/svg\" height=\"24px\"viewBox=\"0 0 24 24\"\n",
              "     width=\"24px\">\n",
              "    <g>\n",
              "        <path d=\"M19 3H5c-1.1 0-2 .9-2 2v14c0 1.1.9 2 2 2h14c1.1 0 2-.9 2-2V5c0-1.1-.9-2-2-2zM9 17H7v-7h2v7zm4 0h-2V7h2v10zm4 0h-2v-4h2v4z\"/>\n",
              "    </g>\n",
              "</svg>\n",
              "  </button>\n",
              "\n",
              "<style>\n",
              "  .colab-df-quickchart {\n",
              "      --bg-color: #E8F0FE;\n",
              "      --fill-color: #1967D2;\n",
              "      --hover-bg-color: #E2EBFA;\n",
              "      --hover-fill-color: #174EA6;\n",
              "      --disabled-fill-color: #AAA;\n",
              "      --disabled-bg-color: #DDD;\n",
              "  }\n",
              "\n",
              "  [theme=dark] .colab-df-quickchart {\n",
              "      --bg-color: #3B4455;\n",
              "      --fill-color: #D2E3FC;\n",
              "      --hover-bg-color: #434B5C;\n",
              "      --hover-fill-color: #FFFFFF;\n",
              "      --disabled-bg-color: #3B4455;\n",
              "      --disabled-fill-color: #666;\n",
              "  }\n",
              "\n",
              "  .colab-df-quickchart {\n",
              "    background-color: var(--bg-color);\n",
              "    border: none;\n",
              "    border-radius: 50%;\n",
              "    cursor: pointer;\n",
              "    display: none;\n",
              "    fill: var(--fill-color);\n",
              "    height: 32px;\n",
              "    padding: 0;\n",
              "    width: 32px;\n",
              "  }\n",
              "\n",
              "  .colab-df-quickchart:hover {\n",
              "    background-color: var(--hover-bg-color);\n",
              "    box-shadow: 0 1px 2px rgba(60, 64, 67, 0.3), 0 1px 3px 1px rgba(60, 64, 67, 0.15);\n",
              "    fill: var(--button-hover-fill-color);\n",
              "  }\n",
              "\n",
              "  .colab-df-quickchart-complete:disabled,\n",
              "  .colab-df-quickchart-complete:disabled:hover {\n",
              "    background-color: var(--disabled-bg-color);\n",
              "    fill: var(--disabled-fill-color);\n",
              "    box-shadow: none;\n",
              "  }\n",
              "\n",
              "  .colab-df-spinner {\n",
              "    border: 2px solid var(--fill-color);\n",
              "    border-color: transparent;\n",
              "    border-bottom-color: var(--fill-color);\n",
              "    animation:\n",
              "      spin 1s steps(1) infinite;\n",
              "  }\n",
              "\n",
              "  @keyframes spin {\n",
              "    0% {\n",
              "      border-color: transparent;\n",
              "      border-bottom-color: var(--fill-color);\n",
              "      border-left-color: var(--fill-color);\n",
              "    }\n",
              "    20% {\n",
              "      border-color: transparent;\n",
              "      border-left-color: var(--fill-color);\n",
              "      border-top-color: var(--fill-color);\n",
              "    }\n",
              "    30% {\n",
              "      border-color: transparent;\n",
              "      border-left-color: var(--fill-color);\n",
              "      border-top-color: var(--fill-color);\n",
              "      border-right-color: var(--fill-color);\n",
              "    }\n",
              "    40% {\n",
              "      border-color: transparent;\n",
              "      border-right-color: var(--fill-color);\n",
              "      border-top-color: var(--fill-color);\n",
              "    }\n",
              "    60% {\n",
              "      border-color: transparent;\n",
              "      border-right-color: var(--fill-color);\n",
              "    }\n",
              "    80% {\n",
              "      border-color: transparent;\n",
              "      border-right-color: var(--fill-color);\n",
              "      border-bottom-color: var(--fill-color);\n",
              "    }\n",
              "    90% {\n",
              "      border-color: transparent;\n",
              "      border-bottom-color: var(--fill-color);\n",
              "    }\n",
              "  }\n",
              "</style>\n",
              "\n",
              "  <script>\n",
              "    async function quickchart(key) {\n",
              "      const quickchartButtonEl =\n",
              "        document.querySelector('#' + key + ' button');\n",
              "      quickchartButtonEl.disabled = true;  // To prevent multiple clicks.\n",
              "      quickchartButtonEl.classList.add('colab-df-spinner');\n",
              "      try {\n",
              "        const charts = await google.colab.kernel.invokeFunction(\n",
              "            'suggestCharts', [key], {});\n",
              "      } catch (error) {\n",
              "        console.error('Error during call to suggestCharts:', error);\n",
              "      }\n",
              "      quickchartButtonEl.classList.remove('colab-df-spinner');\n",
              "      quickchartButtonEl.classList.add('colab-df-quickchart-complete');\n",
              "    }\n",
              "    (() => {\n",
              "      let quickchartButtonEl =\n",
              "        document.querySelector('#df-55c6ec09-dc2a-4b70-9370-7b69716d49d6 button');\n",
              "      quickchartButtonEl.style.display =\n",
              "        google.colab.kernel.accessAllowed ? 'block' : 'none';\n",
              "    })();\n",
              "  </script>\n",
              "</div>\n",
              "\n",
              "  <div id=\"id_46b0e537-f2b5-4c6e-b32b-cf64d2d571fe\">\n",
              "    <style>\n",
              "      .colab-df-generate {\n",
              "        background-color: #E8F0FE;\n",
              "        border: none;\n",
              "        border-radius: 50%;\n",
              "        cursor: pointer;\n",
              "        display: none;\n",
              "        fill: #1967D2;\n",
              "        height: 32px;\n",
              "        padding: 0 0 0 0;\n",
              "        width: 32px;\n",
              "      }\n",
              "\n",
              "      .colab-df-generate:hover {\n",
              "        background-color: #E2EBFA;\n",
              "        box-shadow: 0px 1px 2px rgba(60, 64, 67, 0.3), 0px 1px 3px 1px rgba(60, 64, 67, 0.15);\n",
              "        fill: #174EA6;\n",
              "      }\n",
              "\n",
              "      [theme=dark] .colab-df-generate {\n",
              "        background-color: #3B4455;\n",
              "        fill: #D2E3FC;\n",
              "      }\n",
              "\n",
              "      [theme=dark] .colab-df-generate:hover {\n",
              "        background-color: #434B5C;\n",
              "        box-shadow: 0px 1px 3px 1px rgba(0, 0, 0, 0.15);\n",
              "        filter: drop-shadow(0px 1px 2px rgba(0, 0, 0, 0.3));\n",
              "        fill: #FFFFFF;\n",
              "      }\n",
              "    </style>\n",
              "    <button class=\"colab-df-generate\" onclick=\"generateWithVariable('crosstab')\"\n",
              "            title=\"Generate code using this dataframe.\"\n",
              "            style=\"display:none;\">\n",
              "\n",
              "  <svg xmlns=\"http://www.w3.org/2000/svg\" height=\"24px\"viewBox=\"0 0 24 24\"\n",
              "       width=\"24px\">\n",
              "    <path d=\"M7,19H8.4L18.45,9,17,7.55,7,17.6ZM5,21V16.75L18.45,3.32a2,2,0,0,1,2.83,0l1.4,1.43a1.91,1.91,0,0,1,.58,1.4,1.91,1.91,0,0,1-.58,1.4L9.25,21ZM18.45,9,17,7.55Zm-12,3A5.31,5.31,0,0,0,4.9,8.1,5.31,5.31,0,0,0,1,6.5,5.31,5.31,0,0,0,4.9,4.9,5.31,5.31,0,0,0,6.5,1,5.31,5.31,0,0,0,8.1,4.9,5.31,5.31,0,0,0,12,6.5,5.46,5.46,0,0,0,6.5,12Z\"/>\n",
              "  </svg>\n",
              "    </button>\n",
              "    <script>\n",
              "      (() => {\n",
              "      const buttonEl =\n",
              "        document.querySelector('#id_46b0e537-f2b5-4c6e-b32b-cf64d2d571fe button.colab-df-generate');\n",
              "      buttonEl.style.display =\n",
              "        google.colab.kernel.accessAllowed ? 'block' : 'none';\n",
              "\n",
              "      buttonEl.onclick = () => {\n",
              "        google.colab.notebook.generateWithVariable('crosstab');\n",
              "      }\n",
              "      })();\n",
              "    </script>\n",
              "  </div>\n",
              "\n",
              "    </div>\n",
              "  </div>\n"
            ],
            "application/vnd.google.colaboratory.intrinsic+json": {
              "type": "dataframe",
              "variable_name": "crosstab",
              "summary": "{\n  \"name\": \"crosstab\",\n  \"rows\": 5,\n  \"fields\": [\n    {\n      \"column\": \"Education\",\n      \"properties\": {\n        \"dtype\": \"string\",\n        \"num_unique_values\": 5,\n        \"samples\": [\n          \"Basic\",\n          \"PhD\",\n          \"Graduation\"\n        ],\n        \"semantic_type\": \"\",\n        \"description\": \"\"\n      }\n    },\n    {\n      \"column\": \"Alone\",\n      \"properties\": {\n        \"dtype\": \"number\",\n        \"std\": 151,\n        \"min\": 20,\n        \"max\": 408,\n        \"num_unique_values\": 5,\n        \"samples\": [\n          20,\n          177,\n          408\n        ],\n        \"semantic_type\": \"\",\n        \"description\": \"\"\n      }\n    },\n    {\n      \"column\": \"In relationship\",\n      \"properties\": {\n        \"dtype\": \"number\",\n        \"std\": 261,\n        \"min\": 34,\n        \"max\": 718,\n        \"num_unique_values\": 5,\n        \"samples\": [\n          34,\n          309,\n          718\n        ],\n        \"semantic_type\": \"\",\n        \"description\": \"\"\n      }\n    }\n  ]\n}"
            }
          },
          "metadata": {},
          "execution_count": 41
        }
      ]
    },
    {
      "cell_type": "code",
      "source": [
        "import builtins\n",
        "print = builtins.print\n",
        "stat, p, dof, expected = chi2_contingency(crosstab)\n",
        "print(f'Degrees of freedom = {dof}')\n"
      ],
      "metadata": {
        "colab": {
          "base_uri": "https://localhost:8080/"
        },
        "id": "7VTlC5ix3YBu",
        "outputId": "5fc4b1ba-f36f-4936-adb2-94830b79e900"
      },
      "execution_count": null,
      "outputs": [
        {
          "output_type": "stream",
          "name": "stdout",
          "text": [
            "Degrees of freedom = 4\n"
          ]
        }
      ]
    },
    {
      "cell_type": "code",
      "source": [
        "print(expected)"
      ],
      "metadata": {
        "colab": {
          "base_uri": "https://localhost:8080/"
        },
        "id": "ejNcwTJv5PzF",
        "outputId": "044124a6-122c-4d1d-b08c-bb49b634d268"
      },
      "execution_count": null,
      "outputs": [
        {
          "output_type": "stream",
          "name": "stdout",
          "text": [
            "[[ 72.16971862 130.83028138]\n",
            " [ 19.19785619  34.80214381]\n",
            " [400.31085306 725.68914694]\n",
            " [131.54086646 238.45913354]\n",
            " [172.78070567 313.21929433]]\n"
          ]
        }
      ]
    },
    {
      "cell_type": "markdown",
      "source": [],
      "metadata": {
        "id": "wgB5Ow_F3Xt-"
      }
    },
    {
      "cell_type": "code",
      "source": [
        "prob = 0.95\n",
        "critical = chi2.ppf(prob, dof)\n",
        "print('probability=%.3f, critical=%.3f, stat=%.3f' % (prob, critical, stat))"
      ],
      "metadata": {
        "colab": {
          "base_uri": "https://localhost:8080/"
        },
        "id": "EN9xDaaqehT8",
        "outputId": "7b2f1eec-0c9b-4a67-e66a-d403256db8a5"
      },
      "execution_count": null,
      "outputs": [
        {
          "output_type": "stream",
          "name": "stdout",
          "text": [
            "probability=0.950, critical=9.488, stat=1.908\n"
          ]
        }
      ]
    },
    {
      "cell_type": "code",
      "source": [
        "if abs(stat) >= critical:\n",
        "\tprint('Dependent (We reject H0)')\n",
        "else:\n",
        "\tprint('Independent (We fail to reject H0)')\n",
        "alpha = 1.0 - prob\n",
        "print('significance=%.3f, p=%.3f' % (alpha, p))\n",
        "if p <= alpha:\n",
        "\tprint('Dependent (We reject H0)')\n",
        "else:\n",
        "\tprint('Independent (We fail to reject H0)')"
      ],
      "metadata": {
        "colab": {
          "base_uri": "https://localhost:8080/"
        },
        "id": "dNnsDyExdw2x",
        "outputId": "32d42cb9-82f1-450b-81f9-67eaccfb4eee"
      },
      "execution_count": null,
      "outputs": [
        {
          "output_type": "stream",
          "name": "stdout",
          "text": [
            "Independent (We fail to reject H0)\n",
            "significance=0.050, p=0.753\n",
            "Independent (We fail to reject H0)\n"
          ]
        }
      ]
    },
    {
      "cell_type": "markdown",
      "source": [
        "#### 4. Interpret the results\n",
        "We can interpret the results by two ways :\n",
        "- The P-value is superior than the significance level of 5%, we __fail to reject the null hypothesis__.     \n",
        "- The Test-statistic is inferior than the critical value, we __fail to reject the null hypothesis__.     \n",
        "\n",
        "\n",
        "We can conclude that the marital status is __independant__ from the diploma owned at a 95% confidence level"
      ],
      "metadata": {
        "id": "wQv9LzOD9ohg"
      }
    },
    {
      "cell_type": "markdown",
      "source": [
        "### Numerical and Categorical variables : Point-Biseral Correlation test\n",
        "\n",
        "Fourth Question : Is there a correlation between income the income and the fact to have at least one child"
      ],
      "metadata": {
        "id": "8SjCCunfF-t-"
      }
    },
    {
      "cell_type": "markdown",
      "source": [
        "#### 1. Hypothesis Statement\n",
        "\n",
        "* __$H_0$__ : Education and Has_child are independant  \n",
        "* __$H_a$__ : Education and Has_child are not independant"
      ],
      "metadata": {
        "id": "eNw6i_wcGL95"
      }
    },
    {
      "cell_type": "markdown",
      "source": [
        "#### 2. Analysis plan formulation\n",
        "* __Significance level__ : We will test our hypothesis at 5% significance level  \n",
        "* __Test method__ : As our categorical variable is a binary variable and its categories don't have a natural ordering (it doesn't matter if *Yes* is coded 1 or 0), we can transform it in a continuous variable and use a special case of the Pearson Correlation named Point-Biserial Correlation.<br> Point-Biserial Correlation assumes continuous data within each group created by the binary variable to be Gaussian (Here the income)"
      ],
      "metadata": {
        "id": "5TPs7ftXGm5S"
      }
    },
    {
      "cell_type": "code",
      "source": [
        "data['Has_child_bool'] = np.where(data.Has_child == 'Yes', 1, 0)"
      ],
      "metadata": {
        "id": "xLh9I7hgFSLm"
      },
      "execution_count": null,
      "outputs": []
    },
    {
      "cell_type": "markdown",
      "source": [
        "#### 3. Analyze Sample Data\n",
        "First step, we have to normalize the Income data using Box-Cox Transformation\n",
        "\n",
        "Here we use the continuous variable Income and not the categorical variable Income_bins created earlier as it's nearly always a bad idea to categorize continuous variable to test independance"
      ],
      "metadata": {
        "id": "cMjcr5nEIgMR"
      }
    },
    {
      "cell_type": "code",
      "source": [
        "data['Income']"
      ],
      "metadata": {
        "colab": {
          "base_uri": "https://localhost:8080/",
          "height": 458
        },
        "id": "dYZaJKULJ3yX",
        "outputId": "8a15e261-a814-4ec8-fe37-a901d2a445c6"
      },
      "execution_count": null,
      "outputs": [
        {
          "output_type": "execute_result",
          "data": {
            "text/plain": [
              "0      58138.00\n",
              "1      46344.00\n",
              "2      71613.00\n",
              "3      26646.00\n",
              "4      58293.00\n",
              "         ...   \n",
              "2234   61223.00\n",
              "2235   64014.00\n",
              "2236   56981.00\n",
              "2237   69245.00\n",
              "2238   52869.00\n",
              "Name: Income, Length: 2239, dtype: float64"
            ],
            "text/html": [
              "<div>\n",
              "<style scoped>\n",
              "    .dataframe tbody tr th:only-of-type {\n",
              "        vertical-align: middle;\n",
              "    }\n",
              "\n",
              "    .dataframe tbody tr th {\n",
              "        vertical-align: top;\n",
              "    }\n",
              "\n",
              "    .dataframe thead th {\n",
              "        text-align: right;\n",
              "    }\n",
              "</style>\n",
              "<table border=\"1\" class=\"dataframe\">\n",
              "  <thead>\n",
              "    <tr style=\"text-align: right;\">\n",
              "      <th></th>\n",
              "      <th>Income</th>\n",
              "    </tr>\n",
              "  </thead>\n",
              "  <tbody>\n",
              "    <tr>\n",
              "      <th>0</th>\n",
              "      <td>58138.00</td>\n",
              "    </tr>\n",
              "    <tr>\n",
              "      <th>1</th>\n",
              "      <td>46344.00</td>\n",
              "    </tr>\n",
              "    <tr>\n",
              "      <th>2</th>\n",
              "      <td>71613.00</td>\n",
              "    </tr>\n",
              "    <tr>\n",
              "      <th>3</th>\n",
              "      <td>26646.00</td>\n",
              "    </tr>\n",
              "    <tr>\n",
              "      <th>4</th>\n",
              "      <td>58293.00</td>\n",
              "    </tr>\n",
              "    <tr>\n",
              "      <th>...</th>\n",
              "      <td>...</td>\n",
              "    </tr>\n",
              "    <tr>\n",
              "      <th>2234</th>\n",
              "      <td>61223.00</td>\n",
              "    </tr>\n",
              "    <tr>\n",
              "      <th>2235</th>\n",
              "      <td>64014.00</td>\n",
              "    </tr>\n",
              "    <tr>\n",
              "      <th>2236</th>\n",
              "      <td>56981.00</td>\n",
              "    </tr>\n",
              "    <tr>\n",
              "      <th>2237</th>\n",
              "      <td>69245.00</td>\n",
              "    </tr>\n",
              "    <tr>\n",
              "      <th>2238</th>\n",
              "      <td>52869.00</td>\n",
              "    </tr>\n",
              "  </tbody>\n",
              "</table>\n",
              "<p>2239 rows × 1 columns</p>\n",
              "</div><br><label><b>dtype:</b> float64</label>"
            ]
          },
          "metadata": {},
          "execution_count": 50
        }
      ]
    },
    {
      "cell_type": "code",
      "source": [
        "income_child = data[['Has_child_bool',\"Income\"]]\n",
        "from sklearn.preprocessing import PowerTransformer\n",
        "pt = PowerTransformer(method = 'box-cox', standardize= True)\n",
        "rescaler = pt.fit_transform(income_child[['Income']])\n",
        "income_child[['Income']]=rescaler"
      ],
      "metadata": {
        "colab": {
          "base_uri": "https://localhost:8080/"
        },
        "id": "7HmT3PnMJ7zv",
        "outputId": "5c451c6d-a40e-4135-ce7d-3e8bd1cbf550"
      },
      "execution_count": null,
      "outputs": [
        {
          "output_type": "stream",
          "name": "stderr",
          "text": [
            "<ipython-input-54-9d515b8ab777>:5: SettingWithCopyWarning:\n",
            "\n",
            "\n",
            "A value is trying to be set on a copy of a slice from a DataFrame.\n",
            "Try using .loc[row_indexer,col_indexer] = value instead\n",
            "\n",
            "See the caveats in the documentation: https://pandas.pydata.org/pandas-docs/stable/user_guide/indexing.html#returning-a-view-versus-a-copy\n",
            "\n"
          ]
        }
      ]
    },
    {
      "cell_type": "code",
      "source": [
        "income_child"
      ],
      "metadata": {
        "colab": {
          "base_uri": "https://localhost:8080/",
          "height": 423
        },
        "id": "kThq7DxNPjhS",
        "outputId": "30dfa267-1650-43bb-ce58-ca5cb595aa00"
      },
      "execution_count": null,
      "outputs": [
        {
          "output_type": "execute_result",
          "data": {
            "text/plain": [
              "      Has_child_bool  Income\n",
              "0                  0    0.34\n",
              "1                  1   -0.20\n",
              "2                  0    0.92\n",
              "3                  1   -1.20\n",
              "4                  1    0.35\n",
              "...              ...     ...\n",
              "2234               1    0.48\n",
              "2235               1    0.60\n",
              "2236               0    0.29\n",
              "2237               1    0.82\n",
              "2238               1    0.10\n",
              "\n",
              "[2239 rows x 2 columns]"
            ],
            "text/html": [
              "\n",
              "  <div id=\"df-6006433a-6d9c-4896-adb3-ea2963502fa6\" class=\"colab-df-container\">\n",
              "    <div>\n",
              "<style scoped>\n",
              "    .dataframe tbody tr th:only-of-type {\n",
              "        vertical-align: middle;\n",
              "    }\n",
              "\n",
              "    .dataframe tbody tr th {\n",
              "        vertical-align: top;\n",
              "    }\n",
              "\n",
              "    .dataframe thead th {\n",
              "        text-align: right;\n",
              "    }\n",
              "</style>\n",
              "<table border=\"1\" class=\"dataframe\">\n",
              "  <thead>\n",
              "    <tr style=\"text-align: right;\">\n",
              "      <th></th>\n",
              "      <th>Has_child_bool</th>\n",
              "      <th>Income</th>\n",
              "    </tr>\n",
              "  </thead>\n",
              "  <tbody>\n",
              "    <tr>\n",
              "      <th>0</th>\n",
              "      <td>0</td>\n",
              "      <td>0.34</td>\n",
              "    </tr>\n",
              "    <tr>\n",
              "      <th>1</th>\n",
              "      <td>1</td>\n",
              "      <td>-0.20</td>\n",
              "    </tr>\n",
              "    <tr>\n",
              "      <th>2</th>\n",
              "      <td>0</td>\n",
              "      <td>0.92</td>\n",
              "    </tr>\n",
              "    <tr>\n",
              "      <th>3</th>\n",
              "      <td>1</td>\n",
              "      <td>-1.20</td>\n",
              "    </tr>\n",
              "    <tr>\n",
              "      <th>4</th>\n",
              "      <td>1</td>\n",
              "      <td>0.35</td>\n",
              "    </tr>\n",
              "    <tr>\n",
              "      <th>...</th>\n",
              "      <td>...</td>\n",
              "      <td>...</td>\n",
              "    </tr>\n",
              "    <tr>\n",
              "      <th>2234</th>\n",
              "      <td>1</td>\n",
              "      <td>0.48</td>\n",
              "    </tr>\n",
              "    <tr>\n",
              "      <th>2235</th>\n",
              "      <td>1</td>\n",
              "      <td>0.60</td>\n",
              "    </tr>\n",
              "    <tr>\n",
              "      <th>2236</th>\n",
              "      <td>0</td>\n",
              "      <td>0.29</td>\n",
              "    </tr>\n",
              "    <tr>\n",
              "      <th>2237</th>\n",
              "      <td>1</td>\n",
              "      <td>0.82</td>\n",
              "    </tr>\n",
              "    <tr>\n",
              "      <th>2238</th>\n",
              "      <td>1</td>\n",
              "      <td>0.10</td>\n",
              "    </tr>\n",
              "  </tbody>\n",
              "</table>\n",
              "<p>2239 rows × 2 columns</p>\n",
              "</div>\n",
              "    <div class=\"colab-df-buttons\">\n",
              "\n",
              "  <div class=\"colab-df-container\">\n",
              "    <button class=\"colab-df-convert\" onclick=\"convertToInteractive('df-6006433a-6d9c-4896-adb3-ea2963502fa6')\"\n",
              "            title=\"Convert this dataframe to an interactive table.\"\n",
              "            style=\"display:none;\">\n",
              "\n",
              "  <svg xmlns=\"http://www.w3.org/2000/svg\" height=\"24px\" viewBox=\"0 -960 960 960\">\n",
              "    <path d=\"M120-120v-720h720v720H120Zm60-500h600v-160H180v160Zm220 220h160v-160H400v160Zm0 220h160v-160H400v160ZM180-400h160v-160H180v160Zm440 0h160v-160H620v160ZM180-180h160v-160H180v160Zm440 0h160v-160H620v160Z\"/>\n",
              "  </svg>\n",
              "    </button>\n",
              "\n",
              "  <style>\n",
              "    .colab-df-container {\n",
              "      display:flex;\n",
              "      gap: 12px;\n",
              "    }\n",
              "\n",
              "    .colab-df-convert {\n",
              "      background-color: #E8F0FE;\n",
              "      border: none;\n",
              "      border-radius: 50%;\n",
              "      cursor: pointer;\n",
              "      display: none;\n",
              "      fill: #1967D2;\n",
              "      height: 32px;\n",
              "      padding: 0 0 0 0;\n",
              "      width: 32px;\n",
              "    }\n",
              "\n",
              "    .colab-df-convert:hover {\n",
              "      background-color: #E2EBFA;\n",
              "      box-shadow: 0px 1px 2px rgba(60, 64, 67, 0.3), 0px 1px 3px 1px rgba(60, 64, 67, 0.15);\n",
              "      fill: #174EA6;\n",
              "    }\n",
              "\n",
              "    .colab-df-buttons div {\n",
              "      margin-bottom: 4px;\n",
              "    }\n",
              "\n",
              "    [theme=dark] .colab-df-convert {\n",
              "      background-color: #3B4455;\n",
              "      fill: #D2E3FC;\n",
              "    }\n",
              "\n",
              "    [theme=dark] .colab-df-convert:hover {\n",
              "      background-color: #434B5C;\n",
              "      box-shadow: 0px 1px 3px 1px rgba(0, 0, 0, 0.15);\n",
              "      filter: drop-shadow(0px 1px 2px rgba(0, 0, 0, 0.3));\n",
              "      fill: #FFFFFF;\n",
              "    }\n",
              "  </style>\n",
              "\n",
              "    <script>\n",
              "      const buttonEl =\n",
              "        document.querySelector('#df-6006433a-6d9c-4896-adb3-ea2963502fa6 button.colab-df-convert');\n",
              "      buttonEl.style.display =\n",
              "        google.colab.kernel.accessAllowed ? 'block' : 'none';\n",
              "\n",
              "      async function convertToInteractive(key) {\n",
              "        const element = document.querySelector('#df-6006433a-6d9c-4896-adb3-ea2963502fa6');\n",
              "        const dataTable =\n",
              "          await google.colab.kernel.invokeFunction('convertToInteractive',\n",
              "                                                    [key], {});\n",
              "        if (!dataTable) return;\n",
              "\n",
              "        const docLinkHtml = 'Like what you see? Visit the ' +\n",
              "          '<a target=\"_blank\" href=https://colab.research.google.com/notebooks/data_table.ipynb>data table notebook</a>'\n",
              "          + ' to learn more about interactive tables.';\n",
              "        element.innerHTML = '';\n",
              "        dataTable['output_type'] = 'display_data';\n",
              "        await google.colab.output.renderOutput(dataTable, element);\n",
              "        const docLink = document.createElement('div');\n",
              "        docLink.innerHTML = docLinkHtml;\n",
              "        element.appendChild(docLink);\n",
              "      }\n",
              "    </script>\n",
              "  </div>\n",
              "\n",
              "\n",
              "<div id=\"df-c5674f91-bff7-438d-b33a-779d788f3d96\">\n",
              "  <button class=\"colab-df-quickchart\" onclick=\"quickchart('df-c5674f91-bff7-438d-b33a-779d788f3d96')\"\n",
              "            title=\"Suggest charts\"\n",
              "            style=\"display:none;\">\n",
              "\n",
              "<svg xmlns=\"http://www.w3.org/2000/svg\" height=\"24px\"viewBox=\"0 0 24 24\"\n",
              "     width=\"24px\">\n",
              "    <g>\n",
              "        <path d=\"M19 3H5c-1.1 0-2 .9-2 2v14c0 1.1.9 2 2 2h14c1.1 0 2-.9 2-2V5c0-1.1-.9-2-2-2zM9 17H7v-7h2v7zm4 0h-2V7h2v10zm4 0h-2v-4h2v4z\"/>\n",
              "    </g>\n",
              "</svg>\n",
              "  </button>\n",
              "\n",
              "<style>\n",
              "  .colab-df-quickchart {\n",
              "      --bg-color: #E8F0FE;\n",
              "      --fill-color: #1967D2;\n",
              "      --hover-bg-color: #E2EBFA;\n",
              "      --hover-fill-color: #174EA6;\n",
              "      --disabled-fill-color: #AAA;\n",
              "      --disabled-bg-color: #DDD;\n",
              "  }\n",
              "\n",
              "  [theme=dark] .colab-df-quickchart {\n",
              "      --bg-color: #3B4455;\n",
              "      --fill-color: #D2E3FC;\n",
              "      --hover-bg-color: #434B5C;\n",
              "      --hover-fill-color: #FFFFFF;\n",
              "      --disabled-bg-color: #3B4455;\n",
              "      --disabled-fill-color: #666;\n",
              "  }\n",
              "\n",
              "  .colab-df-quickchart {\n",
              "    background-color: var(--bg-color);\n",
              "    border: none;\n",
              "    border-radius: 50%;\n",
              "    cursor: pointer;\n",
              "    display: none;\n",
              "    fill: var(--fill-color);\n",
              "    height: 32px;\n",
              "    padding: 0;\n",
              "    width: 32px;\n",
              "  }\n",
              "\n",
              "  .colab-df-quickchart:hover {\n",
              "    background-color: var(--hover-bg-color);\n",
              "    box-shadow: 0 1px 2px rgba(60, 64, 67, 0.3), 0 1px 3px 1px rgba(60, 64, 67, 0.15);\n",
              "    fill: var(--button-hover-fill-color);\n",
              "  }\n",
              "\n",
              "  .colab-df-quickchart-complete:disabled,\n",
              "  .colab-df-quickchart-complete:disabled:hover {\n",
              "    background-color: var(--disabled-bg-color);\n",
              "    fill: var(--disabled-fill-color);\n",
              "    box-shadow: none;\n",
              "  }\n",
              "\n",
              "  .colab-df-spinner {\n",
              "    border: 2px solid var(--fill-color);\n",
              "    border-color: transparent;\n",
              "    border-bottom-color: var(--fill-color);\n",
              "    animation:\n",
              "      spin 1s steps(1) infinite;\n",
              "  }\n",
              "\n",
              "  @keyframes spin {\n",
              "    0% {\n",
              "      border-color: transparent;\n",
              "      border-bottom-color: var(--fill-color);\n",
              "      border-left-color: var(--fill-color);\n",
              "    }\n",
              "    20% {\n",
              "      border-color: transparent;\n",
              "      border-left-color: var(--fill-color);\n",
              "      border-top-color: var(--fill-color);\n",
              "    }\n",
              "    30% {\n",
              "      border-color: transparent;\n",
              "      border-left-color: var(--fill-color);\n",
              "      border-top-color: var(--fill-color);\n",
              "      border-right-color: var(--fill-color);\n",
              "    }\n",
              "    40% {\n",
              "      border-color: transparent;\n",
              "      border-right-color: var(--fill-color);\n",
              "      border-top-color: var(--fill-color);\n",
              "    }\n",
              "    60% {\n",
              "      border-color: transparent;\n",
              "      border-right-color: var(--fill-color);\n",
              "    }\n",
              "    80% {\n",
              "      border-color: transparent;\n",
              "      border-right-color: var(--fill-color);\n",
              "      border-bottom-color: var(--fill-color);\n",
              "    }\n",
              "    90% {\n",
              "      border-color: transparent;\n",
              "      border-bottom-color: var(--fill-color);\n",
              "    }\n",
              "  }\n",
              "</style>\n",
              "\n",
              "  <script>\n",
              "    async function quickchart(key) {\n",
              "      const quickchartButtonEl =\n",
              "        document.querySelector('#' + key + ' button');\n",
              "      quickchartButtonEl.disabled = true;  // To prevent multiple clicks.\n",
              "      quickchartButtonEl.classList.add('colab-df-spinner');\n",
              "      try {\n",
              "        const charts = await google.colab.kernel.invokeFunction(\n",
              "            'suggestCharts', [key], {});\n",
              "      } catch (error) {\n",
              "        console.error('Error during call to suggestCharts:', error);\n",
              "      }\n",
              "      quickchartButtonEl.classList.remove('colab-df-spinner');\n",
              "      quickchartButtonEl.classList.add('colab-df-quickchart-complete');\n",
              "    }\n",
              "    (() => {\n",
              "      let quickchartButtonEl =\n",
              "        document.querySelector('#df-c5674f91-bff7-438d-b33a-779d788f3d96 button');\n",
              "      quickchartButtonEl.style.display =\n",
              "        google.colab.kernel.accessAllowed ? 'block' : 'none';\n",
              "    })();\n",
              "  </script>\n",
              "</div>\n",
              "\n",
              "  <div id=\"id_6eb8a14b-299b-475a-a63c-045acb812ba0\">\n",
              "    <style>\n",
              "      .colab-df-generate {\n",
              "        background-color: #E8F0FE;\n",
              "        border: none;\n",
              "        border-radius: 50%;\n",
              "        cursor: pointer;\n",
              "        display: none;\n",
              "        fill: #1967D2;\n",
              "        height: 32px;\n",
              "        padding: 0 0 0 0;\n",
              "        width: 32px;\n",
              "      }\n",
              "\n",
              "      .colab-df-generate:hover {\n",
              "        background-color: #E2EBFA;\n",
              "        box-shadow: 0px 1px 2px rgba(60, 64, 67, 0.3), 0px 1px 3px 1px rgba(60, 64, 67, 0.15);\n",
              "        fill: #174EA6;\n",
              "      }\n",
              "\n",
              "      [theme=dark] .colab-df-generate {\n",
              "        background-color: #3B4455;\n",
              "        fill: #D2E3FC;\n",
              "      }\n",
              "\n",
              "      [theme=dark] .colab-df-generate:hover {\n",
              "        background-color: #434B5C;\n",
              "        box-shadow: 0px 1px 3px 1px rgba(0, 0, 0, 0.15);\n",
              "        filter: drop-shadow(0px 1px 2px rgba(0, 0, 0, 0.3));\n",
              "        fill: #FFFFFF;\n",
              "      }\n",
              "    </style>\n",
              "    <button class=\"colab-df-generate\" onclick=\"generateWithVariable('income_child')\"\n",
              "            title=\"Generate code using this dataframe.\"\n",
              "            style=\"display:none;\">\n",
              "\n",
              "  <svg xmlns=\"http://www.w3.org/2000/svg\" height=\"24px\"viewBox=\"0 0 24 24\"\n",
              "       width=\"24px\">\n",
              "    <path d=\"M7,19H8.4L18.45,9,17,7.55,7,17.6ZM5,21V16.75L18.45,3.32a2,2,0,0,1,2.83,0l1.4,1.43a1.91,1.91,0,0,1,.58,1.4,1.91,1.91,0,0,1-.58,1.4L9.25,21ZM18.45,9,17,7.55Zm-12,3A5.31,5.31,0,0,0,4.9,8.1,5.31,5.31,0,0,0,1,6.5,5.31,5.31,0,0,0,4.9,4.9,5.31,5.31,0,0,0,6.5,1,5.31,5.31,0,0,0,8.1,4.9,5.31,5.31,0,0,0,12,6.5,5.46,5.46,0,0,0,6.5,12Z\"/>\n",
              "  </svg>\n",
              "    </button>\n",
              "    <script>\n",
              "      (() => {\n",
              "      const buttonEl =\n",
              "        document.querySelector('#id_6eb8a14b-299b-475a-a63c-045acb812ba0 button.colab-df-generate');\n",
              "      buttonEl.style.display =\n",
              "        google.colab.kernel.accessAllowed ? 'block' : 'none';\n",
              "\n",
              "      buttonEl.onclick = () => {\n",
              "        google.colab.notebook.generateWithVariable('income_child');\n",
              "      }\n",
              "      })();\n",
              "    </script>\n",
              "  </div>\n",
              "\n",
              "    </div>\n",
              "  </div>\n"
            ],
            "application/vnd.google.colaboratory.intrinsic+json": {
              "type": "dataframe",
              "variable_name": "income_child",
              "summary": "{\n  \"name\": \"income_child\",\n  \"rows\": 2239,\n  \"fields\": [\n    {\n      \"column\": \"Has_child_bool\",\n      \"properties\": {\n        \"dtype\": \"number\",\n        \"std\": 0,\n        \"min\": 0,\n        \"max\": 1,\n        \"num_unique_values\": 2,\n        \"samples\": [\n          1,\n          0\n        ],\n        \"semantic_type\": \"\",\n        \"description\": \"\"\n      }\n    },\n    {\n      \"column\": \"Income\",\n      \"properties\": {\n        \"dtype\": \"number\",\n        \"std\": 1.0002233888110073,\n        \"min\": -2.96191151297774,\n        \"max\": 4.271858324335095,\n        \"num_unique_values\": 1997,\n        \"samples\": [\n          -0.6209058895378974,\n          -1.104149640148876\n        ],\n        \"semantic_type\": \"\",\n        \"description\": \"\"\n      }\n    }\n  ]\n}"
            }
          },
          "metadata": {},
          "execution_count": 58
        }
      ]
    },
    {
      "cell_type": "code",
      "source": [
        "nd = pd.melt(income_child, value_vars =income_child[['Income']] )\n",
        "n1 = sns.FacetGrid (nd, col='variable')\n",
        "n1 = n1.map(sns.distplot, 'value')\n",
        "n1"
      ],
      "metadata": {
        "colab": {
          "base_uri": "https://localhost:8080/",
          "height": 550
        },
        "id": "wjoS7Vy5LyLM",
        "outputId": "933927c1-e1c7-4b7c-9451-960f70091370"
      },
      "execution_count": null,
      "outputs": [
        {
          "output_type": "stream",
          "name": "stderr",
          "text": [
            "/usr/local/lib/python3.10/dist-packages/seaborn/axisgrid.py:854: UserWarning:\n",
            "\n",
            "\n",
            "\n",
            "`distplot` is a deprecated function and will be removed in seaborn v0.14.0.\n",
            "\n",
            "Please adapt your code to use either `displot` (a figure-level function with\n",
            "similar flexibility) or `histplot` (an axes-level function for histograms).\n",
            "\n",
            "For a guide to updating your code to use the new functions, please see\n",
            "https://gist.github.com/mwaskom/de44147ed2974457ad6372750bbe5751\n",
            "\n",
            "\n"
          ]
        },
        {
          "output_type": "execute_result",
          "data": {
            "text/plain": [
              "<seaborn.axisgrid.FacetGrid at 0x7c05b53c4700>"
            ]
          },
          "metadata": {},
          "execution_count": 57
        },
        {
          "output_type": "display_data",
          "data": {
            "text/plain": [
              "<Figure size 300x300 with 1 Axes>"
            ],
            "image/png": "[encoded data removed]"
          },
          "metadata": {}
        }
      ]
    },
    {
      "cell_type": "code",
      "source": [
        "from scipy.stats import normaltest\n",
        "stat, p = normaltest(income_child[['Income']])\n",
        "print('Statistics=%.3f, p=%.3f' % (stat,p))\n",
        "\n",
        "alpha = 0.05\n",
        "if p > alpha:\n",
        "  print('Sample looks like gaussian (Fail to reject H0)')\n",
        "else:\n",
        "  print('Sample does not looks like Gaussian (Reject H0)')"
      ],
      "metadata": {
        "colab": {
          "base_uri": "https://localhost:8080/"
        },
        "id": "7wKJ3dmcPnXr",
        "outputId": "e9dc1698-ccef-49ae-82fa-c1cfac4ef708"
      },
      "execution_count": null,
      "outputs": [
        {
          "output_type": "stream",
          "name": "stdout",
          "text": [
            "Statistics=0.485, p=0.785\n",
            "Sample looks like gaussian (Fail to reject H0)\n"
          ]
        },
        {
          "output_type": "stream",
          "name": "stderr",
          "text": [
            "<ipython-input-60-01d48bde4276>:3: DeprecationWarning:\n",
            "\n",
            "Conversion of an array with ndim > 0 to a scalar is deprecated, and will error in future. Ensure you extract a single element from your array before performing this operation. (Deprecated NumPy 1.25.)\n",
            "\n"
          ]
        }
      ]
    },
    {
      "cell_type": "code",
      "source": [
        "income_child['Income'].describe()"
      ],
      "metadata": {
        "colab": {
          "base_uri": "https://localhost:8080/",
          "height": 334
        },
        "id": "F0TOtNU4REqH",
        "outputId": "1718c3f3-859d-45b8-c2b5-763038bd259b"
      },
      "execution_count": null,
      "outputs": [
        {
          "output_type": "execute_result",
          "data": {
            "text/plain": [
              "count   2239.00\n",
              "mean      -0.00\n",
              "std        1.00\n",
              "min       -2.96\n",
              "25%       -0.74\n",
              "50%        0.03\n",
              "75%        0.78\n",
              "max        4.27\n",
              "Name: Income, dtype: float64"
            ],
            "text/html": [
              "<div>\n",
              "<style scoped>\n",
              "    .dataframe tbody tr th:only-of-type {\n",
              "        vertical-align: middle;\n",
              "    }\n",
              "\n",
              "    .dataframe tbody tr th {\n",
              "        vertical-align: top;\n",
              "    }\n",
              "\n",
              "    .dataframe thead th {\n",
              "        text-align: right;\n",
              "    }\n",
              "</style>\n",
              "<table border=\"1\" class=\"dataframe\">\n",
              "  <thead>\n",
              "    <tr style=\"text-align: right;\">\n",
              "      <th></th>\n",
              "      <th>Income</th>\n",
              "    </tr>\n",
              "  </thead>\n",
              "  <tbody>\n",
              "    <tr>\n",
              "      <th>count</th>\n",
              "      <td>2239.00</td>\n",
              "    </tr>\n",
              "    <tr>\n",
              "      <th>mean</th>\n",
              "      <td>-0.00</td>\n",
              "    </tr>\n",
              "    <tr>\n",
              "      <th>std</th>\n",
              "      <td>1.00</td>\n",
              "    </tr>\n",
              "    <tr>\n",
              "      <th>min</th>\n",
              "      <td>-2.96</td>\n",
              "    </tr>\n",
              "    <tr>\n",
              "      <th>25%</th>\n",
              "      <td>-0.74</td>\n",
              "    </tr>\n",
              "    <tr>\n",
              "      <th>50%</th>\n",
              "      <td>0.03</td>\n",
              "    </tr>\n",
              "    <tr>\n",
              "      <th>75%</th>\n",
              "      <td>0.78</td>\n",
              "    </tr>\n",
              "    <tr>\n",
              "      <th>max</th>\n",
              "      <td>4.27</td>\n",
              "    </tr>\n",
              "  </tbody>\n",
              "</table>\n",
              "</div><br><label><b>dtype:</b> float64</label>"
            ]
          },
          "metadata": {},
          "execution_count": 61
        }
      ]
    },
    {
      "cell_type": "markdown",
      "source": [
        "Both the normalized distribution plot and the results of the D'Agostino and Pearson's test confirm that our Income variable follows a Gaussian (normal) distribution. The variable has a mean of 0 and a standard deviation of 1. With this confirmation, we can proceed to run the Point-Biserial Correlation test."
      ],
      "metadata": {
        "id": "vIZN0UlwSIL_"
      }
    },
    {
      "cell_type": "code",
      "source": [
        "print(stats.pointbiserialr, income_child.Has_child_bool,income_child.Income)"
      ],
      "metadata": {
        "colab": {
          "base_uri": "https://localhost:8080/"
        },
        "id": "is3Ezc6EnQFL",
        "outputId": "0f03a372-8ac4-4aa4-ce0e-32c49f3a3f51"
      },
      "execution_count": null,
      "outputs": [
        {
          "output_type": "stream",
          "name": "stdout",
          "text": [
            "<function pointbiserialr at 0x7c05bc095900> 0       0\n",
            "1       1\n",
            "2       0\n",
            "3       1\n",
            "4       1\n",
            "       ..\n",
            "2234    1\n",
            "2235    1\n",
            "2236    0\n",
            "2237    1\n",
            "2238    1\n",
            "Name: Has_child_bool, Length: 2239, dtype: int64 0       0.34\n",
            "1      -0.20\n",
            "2       0.92\n",
            "3      -1.20\n",
            "4       0.35\n",
            "        ... \n",
            "2234    0.48\n",
            "2235    0.60\n",
            "2236    0.29\n",
            "2237    0.82\n",
            "2238    0.10\n",
            "Name: Income, Length: 2239, dtype: float64\n"
          ]
        }
      ]
    },
    {
      "cell_type": "markdown",
      "source": [
        "#### 4. Interpret the results\n",
        "\n",
        "The p-value close to 0 confirms that we can reject the null hypothesis that the two variables, income and the binary variable Has_child, are uncorrelated. This indicates that the correlation between income and whether or not an individual has at least one child is statistically significant at a 95% confidence level. The negative correlation coefficient further suggests that there is a moderate negative relationship between income and having at least one child, aligning with our initial expectations."
      ],
      "metadata": {
        "id": "Hplwq7tsn1ed"
      }
    }
  ]
}